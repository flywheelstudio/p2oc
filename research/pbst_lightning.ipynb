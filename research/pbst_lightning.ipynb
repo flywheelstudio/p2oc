{
 "cells": [
  {
   "cell_type": "markdown",
   "id": "5c6eaa23",
   "metadata": {},
   "source": [
    "# Fund Lightining channel with PBST"
   ]
  },
  {
   "cell_type": "code",
   "execution_count": null,
   "id": "0ef87a74",
   "metadata": {},
   "outputs": [],
   "source": [
    "%load_ext autoreload\n",
    "%autoreload 2"
   ]
  },
  {
   "cell_type": "markdown",
   "id": "639e1309",
   "metadata": {},
   "source": [
    "## Init Bitcoin RPC client"
   ]
  },
  {
   "cell_type": "code",
   "execution_count": null,
   "id": "7c19d29d",
   "metadata": {},
   "outputs": [],
   "source": [
    "import os\n",
    "import bitcoin\n",
    "from rpc import Proxy, Config"
   ]
  },
  {
   "cell_type": "code",
   "execution_count": null,
   "id": "6981d726",
   "metadata": {},
   "outputs": [],
   "source": [
    "bitcoin.SelectParams('regtest')"
   ]
  },
  {
   "cell_type": "code",
   "execution_count": null,
   "id": "5e26d4c0",
   "metadata": {},
   "outputs": [],
   "source": [
    "rpc = Proxy(config=Config(\n",
    "    rpcuser=os.environ['BTCD_RPCUSER'],\n",
    "    rpcpassword=os.environ['BTCD_RPCPASS'],\n",
    "    rpcconnect='bitcoind',\n",
    "    rpcport=18443\n",
    "))"
   ]
  },
  {
   "cell_type": "code",
   "execution_count": null,
   "id": "24680ae0",
   "metadata": {},
   "outputs": [],
   "source": [
    "rpc.getblockcount()"
   ]
  },
  {
   "cell_type": "markdown",
   "id": "338e378a",
   "metadata": {},
   "source": [
    "## Mine coins"
   ]
  },
  {
   "cell_type": "code",
   "execution_count": null,
   "id": "2ade1a5d",
   "metadata": {},
   "outputs": [],
   "source": [
    "import bitcoin.core as bc"
   ]
  },
  {
   "cell_type": "code",
   "execution_count": null,
   "id": "7915e2c1",
   "metadata": {},
   "outputs": [],
   "source": [
    "rpc.createwallet('miner')\n",
    "# rpc.loadwallet('miner')"
   ]
  },
  {
   "cell_type": "code",
   "execution_count": null,
   "id": "13223f3f",
   "metadata": {},
   "outputs": [],
   "source": [
    "rpc.getbalance()"
   ]
  },
  {
   "cell_type": "code",
   "execution_count": null,
   "id": "8f9d3756",
   "metadata": {},
   "outputs": [],
   "source": [
    "minerAddr = rpc.getnewaddress(\"coinbase\")\n",
    "minerAddr"
   ]
  },
  {
   "cell_type": "code",
   "execution_count": null,
   "id": "6e5672cf",
   "metadata": {},
   "outputs": [],
   "source": [
    "# coinbase transactions are locked for 100 blocks\n",
    "# need to mine more than x to make sure lnd is synced with the chain\n",
    "_ = list(rpc.generatetoaddress(400, minerAddr))"
   ]
  },
  {
   "cell_type": "code",
   "execution_count": null,
   "id": "00008dfe",
   "metadata": {},
   "outputs": [],
   "source": [
    "rpc.getbalance()"
   ]
  },
  {
   "cell_type": "code",
   "execution_count": null,
   "id": "d2bc44c6",
   "metadata": {},
   "outputs": [],
   "source": [
    "rpc.unloadwallet('miner')"
   ]
  },
  {
   "cell_type": "markdown",
   "id": "0a5444bd",
   "metadata": {},
   "source": [
    "## Generate addresses for Ali and Bob"
   ]
  },
  {
   "cell_type": "markdown",
   "id": "0027e5c7",
   "metadata": {},
   "source": [
    "### Ali"
   ]
  },
  {
   "cell_type": "code",
   "execution_count": null,
   "id": "f4f01b25",
   "metadata": {},
   "outputs": [],
   "source": [
    "rpc.createwallet('ali')"
   ]
  },
  {
   "cell_type": "code",
   "execution_count": null,
   "id": "46b9358b",
   "metadata": {},
   "outputs": [],
   "source": [
    "aliFundAddr = rpc.getnewaddress('ali fund')\n",
    "aliFundAddr"
   ]
  },
  {
   "cell_type": "code",
   "execution_count": null,
   "id": "44330bda",
   "metadata": {},
   "outputs": [],
   "source": [
    "aliPremiumAddr = rpc.getnewaddress('ali premium')\n",
    "aliPremiumAddr"
   ]
  },
  {
   "cell_type": "code",
   "execution_count": null,
   "id": "f6a93025",
   "metadata": {},
   "outputs": [],
   "source": [
    "rpc.unloadwallet('ali')"
   ]
  },
  {
   "cell_type": "markdown",
   "id": "7e2162ca",
   "metadata": {},
   "source": [
    "### Bob"
   ]
  },
  {
   "cell_type": "code",
   "execution_count": null,
   "id": "790e3622",
   "metadata": {},
   "outputs": [],
   "source": [
    "rpc.createwallet('bob')"
   ]
  },
  {
   "cell_type": "code",
   "execution_count": null,
   "id": "b142fd47",
   "metadata": {},
   "outputs": [],
   "source": [
    "bobFundAddr = rpc.getnewaddress(\"bob fund\")\n",
    "bobFundAddr"
   ]
  },
  {
   "cell_type": "code",
   "execution_count": null,
   "id": "4321a4d1",
   "metadata": {},
   "outputs": [],
   "source": [
    "rpc.unloadwallet('bob')"
   ]
  },
  {
   "cell_type": "markdown",
   "id": "da8676a7",
   "metadata": {},
   "source": [
    "## Fund Ali and Bob"
   ]
  },
  {
   "cell_type": "code",
   "execution_count": null,
   "id": "0b6e8df3",
   "metadata": {},
   "outputs": [],
   "source": [
    "rpc.loadwallet('miner')"
   ]
  },
  {
   "cell_type": "code",
   "execution_count": null,
   "id": "8a18dc2c",
   "metadata": {},
   "outputs": [],
   "source": [
    "fundTxId = rpc.sendmany(\"\",\n",
    "                        {aliFundAddr: 10*bc.COIN, bobFundAddr: 11*bc.COIN},\n",
    "                        comment=\"Funding Ali and Bob\")"
   ]
  },
  {
   "cell_type": "code",
   "execution_count": null,
   "id": "f5107227",
   "metadata": {},
   "outputs": [],
   "source": [
    "# confirm transactions\n",
    "_ = list(rpc.generatetoaddress(6, minerAddr))"
   ]
  },
  {
   "cell_type": "code",
   "execution_count": null,
   "id": "d595fb24",
   "metadata": {},
   "outputs": [],
   "source": [
    "rpc.unloadwallet('miner')"
   ]
  },
  {
   "cell_type": "markdown",
   "id": "a6109faa",
   "metadata": {},
   "source": [
    "### Check funds"
   ]
  },
  {
   "cell_type": "code",
   "execution_count": null,
   "id": "b91402be",
   "metadata": {},
   "outputs": [],
   "source": [
    "rpc.loadwallet('ali')\n",
    "aliUnspent = rpc.listunspent(addrs=[aliFundAddr])\n",
    "rpc.unloadwallet('ali')\n",
    "aliUnspent[0]['amount'] / bc.COIN"
   ]
  },
  {
   "cell_type": "code",
   "execution_count": null,
   "id": "dbf4af1e",
   "metadata": {},
   "outputs": [],
   "source": [
    "rpc.loadwallet('bob')\n",
    "bobUnspent = rpc.listunspent(addrs=[bobFundAddr])\n",
    "rpc.unloadwallet('bob')\n",
    "bobUnspent[0]['amount'] / bc.COIN"
   ]
  },
  {
   "cell_type": "markdown",
   "id": "27fc1a56",
   "metadata": {},
   "source": [
    "## Connect Ali and Bob"
   ]
  },
  {
   "cell_type": "markdown",
   "id": "95fb5425",
   "metadata": {},
   "source": [
    "```\n",
    "# on Bob's node\n",
    "lncli --network=regtest getinfo\n",
    "# 02a2c3ea47fb6fa83dacdadff57cd769c22ecc7c785b9b28e2f36834f82172946e\n",
    "```"
   ]
  },
  {
   "cell_type": "code",
   "execution_count": null,
   "id": "ddce91a2",
   "metadata": {},
   "outputs": [],
   "source": [
    "bobLNPubKey = '02a2c3ea47fb6fa83dacdadff57cd769c22ecc7c785b9b28e2f36834f82172946e'"
   ]
  },
  {
   "cell_type": "markdown",
   "id": "2e68dc79",
   "metadata": {},
   "source": [
    "```\n",
    "# on Ali's node\n",
    "lncli --network=regtest connect 02a2c3ea47fb6fa83dacdadff57cd769c22ecc7c785b9b28e2f36834f82172946e@bob-lnd\n",
    "\n",
    "lncli --network=regtest listpeers\n",
    "```"
   ]
  },
  {
   "cell_type": "markdown",
   "id": "a76c1c6b",
   "metadata": {},
   "source": [
    "## Create funding PSBT"
   ]
  },
  {
   "cell_type": "code",
   "execution_count": null,
   "id": "8f95ae23",
   "metadata": {},
   "outputs": [],
   "source": [
    "import bitcoin.core.script as bs\n",
    "import bitcoin.wallet as bw"
   ]
  },
  {
   "cell_type": "markdown",
   "id": "cf0d0be4",
   "metadata": {},
   "source": [
    "### Start opening channel with pbst"
   ]
  },
  {
   "cell_type": "code",
   "execution_count": null,
   "id": "9f126547",
   "metadata": {},
   "outputs": [],
   "source": [
    "fundAmount = int(0.15 * bc.COIN) # by default should be less than 0.16777215"
   ]
  },
  {
   "cell_type": "code",
   "execution_count": null,
   "id": "809e6991",
   "metadata": {},
   "outputs": [],
   "source": [
    "# on Ali's node\n",
    "f\"lncli --network=regtest openchannel --node_key='{bobLNPubKey}' --local_amt={int(fundAmount)} --psbt\""
   ]
  },
  {
   "cell_type": "code",
   "execution_count": null,
   "id": "ed9bd32d",
   "metadata": {},
   "outputs": [],
   "source": [
    "# taken from the output of the last command\n",
    "lnChanAddr = bw.P2WSHBitcoinAddress('bcrt1qhr9rz7pvdaa6rhak266e8lvgkn46xxm6v0ya64s6083cnrcz480qms8vdg')\n",
    "lnChanAddr"
   ]
  },
  {
   "cell_type": "markdown",
   "id": "176a65e0",
   "metadata": {},
   "source": [
    "### Get Inputs"
   ]
  },
  {
   "cell_type": "code",
   "execution_count": null,
   "id": "489fbb5b",
   "metadata": {},
   "outputs": [],
   "source": [
    "aliTxin = bc.CTxIn(aliUnspent[0]['outpoint'])\n",
    "aliTxin"
   ]
  },
  {
   "cell_type": "code",
   "execution_count": null,
   "id": "3483b280",
   "metadata": {},
   "outputs": [],
   "source": [
    "bobTxin = bc.CTxIn(bobUnspent[0]['outpoint'])\n",
    "bobTxin"
   ]
  },
  {
   "cell_type": "code",
   "execution_count": null,
   "id": "8b33f5c8",
   "metadata": {},
   "outputs": [],
   "source": [
    "aliUnspent[0]['amount']"
   ]
  },
  {
   "cell_type": "code",
   "execution_count": null,
   "id": "2cc5d48d",
   "metadata": {},
   "outputs": [],
   "source": [
    "bobUnspent[0]['amount']"
   ]
  },
  {
   "cell_type": "code",
   "execution_count": null,
   "id": "f68b4215",
   "metadata": {},
   "outputs": [],
   "source": [
    "txFee = int(0.01 * bc.COIN)\n",
    "aliPremium = int(1.0 * bc.COIN)\n",
    "changeAmount = aliUnspent[0]['amount'] + bobUnspent[0]['amount'] - fundAmount - txFee - aliPremium\n",
    "f'fundAmount = {fundAmount / bc.COIN}  changeAmount = {changeAmount / bc.COIN}', "
   ]
  },
  {
   "cell_type": "markdown",
   "id": "9e6c1fb5",
   "metadata": {},
   "source": [
    "### Create outputs"
   ]
  },
  {
   "cell_type": "code",
   "execution_count": null,
   "id": "90952134",
   "metadata": {},
   "outputs": [],
   "source": [
    "premiumTxout = bc.CTxOut(aliPremium, aliPremiumAddr.to_scriptPubKey())\n",
    "premiumTxout"
   ]
  },
  {
   "cell_type": "code",
   "execution_count": null,
   "id": "3c37e74a",
   "metadata": {},
   "outputs": [],
   "source": [
    "# for simplicity send full change to ali's fund address\n",
    "# in reality we would have 2 change addresses for each party\n",
    "changeTxout = bc.CTxOut(changeAmount, aliFundAddr.to_scriptPubKey())\n",
    "changeTxout"
   ]
  },
  {
   "cell_type": "code",
   "execution_count": null,
   "id": "9f93e1f3",
   "metadata": {},
   "outputs": [],
   "source": [
    "lnChanTxOut = bc.CTxOut(fundAmount, lnChanAddr.to_scriptPubKey())\n",
    "lnChanTxOut"
   ]
  },
  {
   "cell_type": "markdown",
   "id": "1bc1bb42",
   "metadata": {},
   "source": [
    "### Create transaction"
   ]
  },
  {
   "cell_type": "code",
   "execution_count": null,
   "id": "452002fb",
   "metadata": {},
   "outputs": [],
   "source": [
    "fundTx = bc.CMutableTransaction([aliTxin, bobTxin], [premiumTxout, changeTxout, lnChanTxOut])\n",
    "fundTx"
   ]
  },
  {
   "cell_type": "markdown",
   "id": "39ea5c32",
   "metadata": {},
   "source": [
    "### Convert to PBST"
   ]
  },
  {
   "cell_type": "code",
   "execution_count": null,
   "id": "8e94a345",
   "metadata": {},
   "outputs": [],
   "source": [
    "from bitcoin.rpc import hexlify, unhexlify"
   ]
  },
  {
   "cell_type": "code",
   "execution_count": null,
   "id": "e5e1b665",
   "metadata": {},
   "outputs": [],
   "source": [
    "pbst = rpc._proxy._call('converttopsbt', hexlify(fundTx.serialize()))\n",
    "pbst"
   ]
  },
  {
   "cell_type": "markdown",
   "id": "cda7887f",
   "metadata": {},
   "source": [
    "### Ali signs funding tx"
   ]
  },
  {
   "cell_type": "code",
   "execution_count": null,
   "id": "e46217dd",
   "metadata": {},
   "outputs": [],
   "source": [
    "rpc.loadwallet('ali')"
   ]
  },
  {
   "cell_type": "code",
   "execution_count": null,
   "id": "39fa1bd9",
   "metadata": {},
   "outputs": [],
   "source": [
    "res = rpc._proxy._call('walletprocesspsbt', pbst)\n",
    "aliPsbt = res['psbt']\n",
    "res"
   ]
  },
  {
   "cell_type": "code",
   "execution_count": null,
   "id": "656a994d",
   "metadata": {},
   "outputs": [],
   "source": [
    "rpc.unloadwallet('ali')"
   ]
  },
  {
   "cell_type": "markdown",
   "id": "9cf1a9e2",
   "metadata": {},
   "source": [
    "### Bob signs funding tx"
   ]
  },
  {
   "cell_type": "code",
   "execution_count": null,
   "id": "2e7ee3d9",
   "metadata": {},
   "outputs": [],
   "source": [
    "rpc.loadwallet('bob')"
   ]
  },
  {
   "cell_type": "code",
   "execution_count": null,
   "id": "4de82cfe",
   "metadata": {},
   "outputs": [],
   "source": [
    "res = rpc._proxy._call('walletprocesspsbt', aliPsbt)\n",
    "bobPsbt = res['psbt']\n",
    "res"
   ]
  },
  {
   "cell_type": "code",
   "execution_count": null,
   "id": "aa203296",
   "metadata": {},
   "outputs": [],
   "source": [
    "rpc.unloadwallet('bob')"
   ]
  },
  {
   "cell_type": "code",
   "execution_count": null,
   "id": "13b1500f",
   "metadata": {},
   "outputs": [],
   "source": [
    "# paste psbt (base64) back into ali's lnd session"
   ]
  },
  {
   "cell_type": "markdown",
   "id": "8bc7e420",
   "metadata": {},
   "source": [
    "### Finalize PBST"
   ]
  },
  {
   "cell_type": "code",
   "execution_count": null,
   "id": "fa19b486",
   "metadata": {},
   "outputs": [],
   "source": [
    "res = rpc._proxy._call('finalizepsbt', bobPsbt)\n",
    "res"
   ]
  },
  {
   "cell_type": "code",
   "execution_count": null,
   "id": "e1a710cb",
   "metadata": {},
   "outputs": [],
   "source": [
    "# paste psbt (hex) back into ali's lnd session"
   ]
  },
  {
   "cell_type": "code",
   "execution_count": null,
   "id": "9bfe06e7",
   "metadata": {},
   "outputs": [],
   "source": [
    "# confirm transactions\n",
    "_ = list(rpc.generatetoaddress(6, minerAddr))"
   ]
  },
  {
   "cell_type": "markdown",
   "id": "8c52d714",
   "metadata": {},
   "source": [
    "### Check LN channel"
   ]
  },
  {
   "cell_type": "markdown",
   "id": "f2c6bea8",
   "metadata": {},
   "source": [
    "on ali's or bob's nodes\n",
    "```\n",
    "lncli --network=regtest listchannels\n",
    "```"
   ]
  },
  {
   "cell_type": "markdown",
   "id": "459d12cd",
   "metadata": {},
   "source": [
    "send payment\n",
    "\n",
    "```\n",
    "# on bob's node\n",
    "lncli --network=regtest addinvoice --amt=10000\n",
    "```\n",
    "\n",
    "```\n",
    "# on ali's node\n",
    "lncli --network=regtest sendpayment --pay_req=lnbcrt100u1ps8ugyapp5xcxrv2469eskszs9eueksxv0jrdcgrvfrl6v50g5k23gj39af9asdqqcqzpgsp5f4sa0ma7lkdgu04zmaqr45889eu6cn0jl72p55usx772lk6tu5vq9qyyssqfnlvntn0wp2qzf8rejjugjtcxy79zu94mqxu433ck0m0axd5l9x3vsrf03et2engau3lgmeuj37vkvl8xvv5rgqxhkscy2lcxkk0pqcps3nlgd\n",
    "```\n",
    "\n",
    "```\n",
    "on bob's node\n",
    "lncli --network=regtest channelbalance\n",
    "```"
   ]
  }
 ],
 "metadata": {
  "kernelspec": {
   "display_name": "Python 3",
   "language": "python",
   "name": "python3"
  },
  "language_info": {
   "codemirror_mode": {
    "name": "ipython",
    "version": 3
   },
   "file_extension": ".py",
   "mimetype": "text/x-python",
   "name": "python",
   "nbconvert_exporter": "python",
   "pygments_lexer": "ipython3",
   "version": "3.8.8"
  }
 },
 "nbformat": 4,
 "nbformat_minor": 5
}
