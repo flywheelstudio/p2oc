{
 "cells": [
  {
   "cell_type": "markdown",
   "id": "b761c482",
   "metadata": {},
   "source": [
    "# Open double-funded channel without intermediary"
   ]
  },
  {
   "cell_type": "code",
   "execution_count": null,
   "id": "b502b82b",
   "metadata": {},
   "outputs": [],
   "source": [
    "%load_ext autoreload\n",
    "%autoreload 2"
   ]
  },
  {
   "cell_type": "markdown",
   "id": "0287ee1d",
   "metadata": {},
   "source": [
    "## Setup LND clients for Ali and Bob"
   ]
  },
  {
   "cell_type": "code",
   "execution_count": null,
   "id": "ef0712d7",
   "metadata": {},
   "outputs": [],
   "source": [
    "%%sh\n",
    "sudo cp /ali-lnd/data/chain/bitcoin/regtest/admin.macaroon /tmp/ali.macaroon\n",
    "sudo chmod +r /tmp/ali.macaroon\n",
    "\n",
    "sudo cp /bob-lnd/data/chain/bitcoin/regtest/admin.macaroon /tmp/bob.macaroon\n",
    "sudo chmod +r /tmp/bob.macaroon"
   ]
  },
  {
   "cell_type": "code",
   "execution_count": null,
   "id": "f4a4d351",
   "metadata": {},
   "outputs": [],
   "source": [
    "from p2oc.lnd_rpc import LndRpc, lnmsg"
   ]
  },
  {
   "cell_type": "code",
   "execution_count": null,
   "id": "5b444c5b",
   "metadata": {},
   "outputs": [],
   "source": [
    "ali = LndRpc(\n",
    "    host=\"ali-lnd:10009\",\n",
    "    tlscertpath=\"/ali-lnd/tls.cert\",\n",
    "    adminmacaroonpath=\"/tmp/ali.macaroon\",\n",
    ")\n",
    "\n",
    "bob = LndRpc(\n",
    "    host=\"bob-lnd:10009\",\n",
    "    tlscertpath=\"/bob-lnd/tls.cert\",\n",
    "    adminmacaroonpath=\"/tmp/bob.macaroon\",\n",
    ")"
   ]
  },
  {
   "cell_type": "markdown",
   "id": "11ad5f6d",
   "metadata": {},
   "source": [
    "## Fund Ali and Bob"
   ]
  },
  {
   "cell_type": "code",
   "execution_count": null,
   "id": "ed345e66",
   "metadata": {},
   "outputs": [],
   "source": [
    "import os\n",
    "import time\n",
    "\n",
    "import bitcoin\n",
    "from p2oc.btc_rpc import Proxy, Config"
   ]
  },
  {
   "cell_type": "code",
   "execution_count": null,
   "id": "37f464d0",
   "metadata": {},
   "outputs": [],
   "source": [
    "bitcoin.SelectParams('regtest')\n",
    "\n",
    "# Only used to mine initial coins for Ali and Bob\n",
    "brpc = Proxy(config=Config(\n",
    "    rpcuser=os.environ['BTCD_RPCUSER'],\n",
    "    rpcpassword=os.environ['BTCD_RPCPASS'],\n",
    "    rpcconnect='bitcoind',\n",
    "    rpcport=18443\n",
    "))\n",
    "\n",
    "brpc.getblockcount()"
   ]
  },
  {
   "cell_type": "code",
   "execution_count": null,
   "id": "ebf90969",
   "metadata": {},
   "outputs": [],
   "source": [
    "# Fund ali and bob\n",
    "ali_addr = ali.lnd.NewAddress(lnmsg.NewAddressRequest(type=lnmsg.AddressType.WITNESS_PUBKEY_HASH))\n",
    "_ = list(brpc.generatetoaddress(2, ali_addr.address))\n",
    "\n",
    "bob_addr = bob.lnd.NewAddress(lnmsg.NewAddressRequest(type=lnmsg.AddressType.WITNESS_PUBKEY_HASH))\n",
    "_ = list(brpc.generatetoaddress(2, bob_addr.address))\n",
    "\n",
    "try:\n",
    "    brpc.createwallet('miner')\n",
    "except:\n",
    "    brpc.loadwallet('miner')\n",
    "\n",
    "miner_addr = brpc.getnewaddress(\"coinbase\")\n",
    "brpc.unloadwallet('miner')\n",
    "\n",
    "# Unlock mined coins\n",
    "_ = list(brpc.generatetoaddress(110, miner_addr))"
   ]
  },
  {
   "cell_type": "code",
   "execution_count": null,
   "id": "d49a5cc9",
   "metadata": {},
   "outputs": [],
   "source": [
    "ali.lnd.WalletBalance(lnmsg.WalletBalanceRequest())"
   ]
  },
  {
   "cell_type": "code",
   "execution_count": null,
   "id": "6050d435",
   "metadata": {},
   "outputs": [],
   "source": [
    "bob.lnd.WalletBalance(lnmsg.WalletBalanceRequest())"
   ]
  },
  {
   "cell_type": "code",
   "execution_count": null,
   "id": "aa48c9a5",
   "metadata": {},
   "outputs": [],
   "source": [
    "# Give bitcoind a chance to catch up\n",
    "time.sleep(2)"
   ]
  },
  {
   "cell_type": "markdown",
   "id": "dbaf1f5b",
   "metadata": {},
   "source": [
    "## Perform double-funded channel creation"
   ]
  },
  {
   "cell_type": "code",
   "execution_count": null,
   "id": "ba35b07f",
   "metadata": {},
   "outputs": [],
   "source": [
    "import bitcointx.core as bc\n",
    "\n",
    "import p2oc\n",
    "from p2oc.psbt import deserialize_psbt"
   ]
  },
  {
   "cell_type": "code",
   "execution_count": null,
   "id": "1a2aa30b",
   "metadata": {},
   "outputs": [],
   "source": [
    "# Premium Ali (Taker) is willing to pay\n",
    "premium_amount = int(0.001 * bc.CoreCoinParams.COIN)\n",
    "\n",
    "# The requested inbound capacity (from Bob the Maker)\n",
    "fund_amount = int(0.16 * bc.CoreCoinParams.COIN)"
   ]
  },
  {
   "cell_type": "code",
   "execution_count": null,
   "id": "21847106",
   "metadata": {},
   "outputs": [],
   "source": [
    "# Ali (Taker) creates offer (to request inbound liquidity in exchange for a fee [the premium])\n",
    "offer_psbt = p2oc.create_offer(premium_amount, fund_amount, ali)"
   ]
  },
  {
   "cell_type": "code",
   "execution_count": null,
   "id": "3ffcb28b",
   "metadata": {},
   "outputs": [],
   "source": [
    "# Bob (Maker) accepts offer and sends reply\n",
    "unsigned_psbt = p2oc.accept_offer(offer_psbt, bob)"
   ]
  },
  {
   "cell_type": "code",
   "execution_count": null,
   "id": "1a820911",
   "metadata": {},
   "outputs": [],
   "source": [
    "# Ali checks offer reply and opens pending channel\n",
    "half_signed_psbt = p2oc.open_channel(unsigned_psbt, ali)"
   ]
  },
  {
   "cell_type": "code",
   "execution_count": null,
   "id": "c3625127",
   "metadata": {},
   "outputs": [],
   "source": [
    "# Bob checks pending channel reply, signs and commits funding tx\n",
    "p2oc.finalize_offer(half_signed_psbt, bob)"
   ]
  },
  {
   "cell_type": "markdown",
   "id": "72b666bd",
   "metadata": {},
   "source": [
    "## Confirm channel creation"
   ]
  },
  {
   "cell_type": "code",
   "execution_count": null,
   "id": "295def40",
   "metadata": {},
   "outputs": [],
   "source": [
    "_ = list(brpc.generatetoaddress(6, miner_addr))\n",
    "\n",
    "# Give daemons a chance to catch up\n",
    "time.sleep(2)"
   ]
  },
  {
   "cell_type": "code",
   "execution_count": null,
   "id": "0fac5027",
   "metadata": {},
   "outputs": [],
   "source": [
    "# Should be no pending channels\n",
    "bob.lnd.PendingChannels(lnmsg.PendingChannelsRequest())"
   ]
  },
  {
   "cell_type": "code",
   "execution_count": null,
   "id": "76b3d01b",
   "metadata": {},
   "outputs": [],
   "source": [
    "bob.lnd.ListChannels(lnmsg.ListChannelsRequest())"
   ]
  }
 ],
 "metadata": {
  "kernelspec": {
   "display_name": "Python 3",
   "language": "python",
   "name": "python3"
  },
  "language_info": {
   "codemirror_mode": {
    "name": "ipython",
    "version": 3
   },
   "file_extension": ".py",
   "mimetype": "text/x-python",
   "name": "python",
   "nbconvert_exporter": "python",
   "pygments_lexer": "ipython3",
   "version": "3.8.8"
  }
 },
 "nbformat": 4,
 "nbformat_minor": 5
}
