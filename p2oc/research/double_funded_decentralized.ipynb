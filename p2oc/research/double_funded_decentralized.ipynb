{
 "cells": [
  {
   "cell_type": "markdown",
   "id": "b761c482",
   "metadata": {},
   "source": [
    "# Open double-funded channel without intermediary"
   ]
  },
  {
   "cell_type": "code",
   "execution_count": 1,
   "id": "b502b82b",
   "metadata": {},
   "outputs": [],
   "source": [
    "%load_ext autoreload\n",
    "%autoreload 2"
   ]
  },
  {
   "cell_type": "markdown",
   "id": "0287ee1d",
   "metadata": {},
   "source": [
    "## Setup LND clients for Ali and Bob"
   ]
  },
  {
   "cell_type": "code",
   "execution_count": 2,
   "id": "a073556e",
   "metadata": {},
   "outputs": [],
   "source": [
    "import sys"
   ]
  },
  {
   "cell_type": "code",
   "execution_count": 3,
   "id": "848eb085",
   "metadata": {},
   "outputs": [],
   "source": [
    "# LND GRPC bindings should be in '/home/jovyan/lnrpc'\n",
    "sys.path.append('/home/jovyan/lnrpc')"
   ]
  },
  {
   "cell_type": "code",
   "execution_count": 4,
   "id": "ef0712d7",
   "metadata": {},
   "outputs": [],
   "source": [
    "%%sh\n",
    "sudo cp /ali-lnd/data/chain/bitcoin/regtest/admin.macaroon /tmp/ali.macaroon\n",
    "sudo chmod +r /tmp/ali.macaroon\n",
    "\n",
    "sudo cp /bob-lnd/data/chain/bitcoin/regtest/admin.macaroon /tmp/bob.macaroon\n",
    "sudo chmod +r /tmp/bob.macaroon"
   ]
  },
  {
   "cell_type": "code",
   "execution_count": 5,
   "id": "f4a4d351",
   "metadata": {},
   "outputs": [],
   "source": [
    "from p2oc.lnd_rpc import LndRpc, lnmsg, walletmsg, signrpc, signmsg, routermsg"
   ]
  },
  {
   "cell_type": "code",
   "execution_count": 6,
   "id": "5b444c5b",
   "metadata": {},
   "outputs": [],
   "source": [
    "ali = LndRpc(host='ali-lnd:10009',\n",
    "             cert_path='/ali-lnd/tls.cert',\n",
    "             macaroon_path='/tmp/ali.macaroon')"
   ]
  },
  {
   "cell_type": "code",
   "execution_count": 7,
   "id": "471961c4",
   "metadata": {},
   "outputs": [],
   "source": [
    "bob = LndRpc(host='bob-lnd:10009',\n",
    "             cert_path='/bob-lnd/tls.cert',\n",
    "             macaroon_path='/tmp/bob.macaroon')"
   ]
  },
  {
   "cell_type": "code",
   "execution_count": 8,
   "id": "6d55f7ce",
   "metadata": {},
   "outputs": [
    {
     "data": {
      "text/plain": [
       "'0304503caa78643f20487cb225a2379d6222f279666f58e0fa50c81bf8e01122e1'"
      ]
     },
     "execution_count": 8,
     "metadata": {},
     "output_type": "execute_result"
    }
   ],
   "source": [
    "aliNodePubKey = ali.lnd.GetInfo(lnmsg.GetInfoRequest()).identity_pubkey\n",
    "aliNodePubKey"
   ]
  },
  {
   "cell_type": "code",
   "execution_count": 9,
   "id": "b83505ed",
   "metadata": {},
   "outputs": [
    {
     "data": {
      "text/plain": [
       "'029e06e3586e8de2e970c16d389b22c9a2d1beacdb2cd2d900472334c4a9cd8908'"
      ]
     },
     "execution_count": 9,
     "metadata": {},
     "output_type": "execute_result"
    }
   ],
   "source": [
    "bobNodePubKey = bob.lnd.GetInfo(lnmsg.GetInfoRequest()).identity_pubkey\n",
    "bobNodePubKey"
   ]
  },
  {
   "cell_type": "markdown",
   "id": "11ad5f6d",
   "metadata": {},
   "source": [
    "## Fund Ali and Bob"
   ]
  },
  {
   "cell_type": "code",
   "execution_count": 15,
   "id": "ed345e66",
   "metadata": {},
   "outputs": [],
   "source": [
    "import os\n",
    "import bitcoin\n",
    "from p2oc.btc_rpc import Proxy, Config"
   ]
  },
  {
   "cell_type": "code",
   "execution_count": 16,
   "id": "7fe8b26f",
   "metadata": {},
   "outputs": [],
   "source": [
    "bitcoin.SelectParams('regtest')"
   ]
  },
  {
   "cell_type": "code",
   "execution_count": 17,
   "id": "37f464d0",
   "metadata": {},
   "outputs": [],
   "source": [
    "brpc = Proxy(config=Config(\n",
    "    rpcuser=os.environ['BTCD_RPCUSER'],\n",
    "    rpcpassword=os.environ['BTCD_RPCPASS'],\n",
    "    rpcconnect='bitcoind',\n",
    "    rpcport=18443\n",
    "))"
   ]
  },
  {
   "cell_type": "code",
   "execution_count": 18,
   "id": "e39c0bf0",
   "metadata": {},
   "outputs": [
    {
     "data": {
      "text/plain": [
       "0"
      ]
     },
     "execution_count": 18,
     "metadata": {},
     "output_type": "execute_result"
    }
   ],
   "source": [
    "brpc.getblockcount()"
   ]
  },
  {
   "cell_type": "code",
   "execution_count": 19,
   "id": "de478699",
   "metadata": {},
   "outputs": [
    {
     "data": {
      "text/plain": [
       "address: \"bcrt1q923ygfsttuyqmze53qranv0zs4j7z00ulatthe\""
      ]
     },
     "execution_count": 19,
     "metadata": {},
     "output_type": "execute_result"
    }
   ],
   "source": [
    "aliAddr = ali.lnd.NewAddress(lnmsg.NewAddressRequest(type=0)) # p2wkh\n",
    "aliAddr"
   ]
  },
  {
   "cell_type": "code",
   "execution_count": 20,
   "id": "a4ff8e8a",
   "metadata": {},
   "outputs": [
    {
     "data": {
      "text/plain": [
       "address: \"bcrt1q2rvvl76fs3t5kav75cvssn7lq0lf9jz4pla2eq\""
      ]
     },
     "execution_count": 20,
     "metadata": {},
     "output_type": "execute_result"
    }
   ],
   "source": [
    "bobAddr = bob.lnd.NewAddress(lnmsg.NewAddressRequest(type=0)) # p2wkh\n",
    "bobAddr"
   ]
  },
  {
   "cell_type": "code",
   "execution_count": 21,
   "id": "98adbc57",
   "metadata": {},
   "outputs": [],
   "source": [
    "# fund ali\n",
    "_ = list(brpc.generatetoaddress(1, aliAddr.address))"
   ]
  },
  {
   "cell_type": "code",
   "execution_count": 22,
   "id": "545bd43c",
   "metadata": {},
   "outputs": [],
   "source": [
    "# fund bob\n",
    "_ = list(brpc.generatetoaddress(1, bobAddr.address))"
   ]
  },
  {
   "cell_type": "code",
   "execution_count": 23,
   "id": "ebf90969",
   "metadata": {},
   "outputs": [
    {
     "data": {
      "text/plain": [
       "{'warning': ''}"
      ]
     },
     "execution_count": 23,
     "metadata": {},
     "output_type": "execute_result"
    }
   ],
   "source": [
    "brpc.createwallet('miner')\n",
    "minerAddr = brpc.getnewaddress(\"coinbase\")\n",
    "brpc.unloadwallet('miner')"
   ]
  },
  {
   "cell_type": "code",
   "execution_count": 24,
   "id": "c07b4145",
   "metadata": {},
   "outputs": [],
   "source": [
    "# unlock mined coins\n",
    "_ = list(brpc.generatetoaddress(110, minerAddr))"
   ]
  },
  {
   "cell_type": "code",
   "execution_count": 25,
   "id": "d49a5cc9",
   "metadata": {},
   "outputs": [
    {
     "data": {
      "text/plain": [
       "total_balance: 5000000000\n",
       "confirmed_balance: 5000000000\n",
       "account_balance {\n",
       "  key: \"default\"\n",
       "  value {\n",
       "    confirmed_balance: 5000000000\n",
       "  }\n",
       "}"
      ]
     },
     "execution_count": 25,
     "metadata": {},
     "output_type": "execute_result"
    }
   ],
   "source": [
    "ali.lnd.WalletBalance(lnmsg.WalletBalanceRequest())"
   ]
  },
  {
   "cell_type": "code",
   "execution_count": 26,
   "id": "6050d435",
   "metadata": {},
   "outputs": [
    {
     "data": {
      "text/plain": [
       "total_balance: 5000000000\n",
       "confirmed_balance: 5000000000\n",
       "account_balance {\n",
       "  key: \"default\"\n",
       "  value {\n",
       "    confirmed_balance: 5000000000\n",
       "  }\n",
       "}"
      ]
     },
     "execution_count": 26,
     "metadata": {},
     "output_type": "execute_result"
    }
   ],
   "source": [
    "bob.lnd.WalletBalance(lnmsg.WalletBalanceRequest())"
   ]
  },
  {
   "cell_type": "markdown",
   "id": "0d0207e6",
   "metadata": {},
   "source": [
    "## Ali creates public offer to request inbound liquidity in exchange for a fee"
   ]
  },
  {
   "cell_type": "code",
   "execution_count": 27,
   "id": "1f173ee0",
   "metadata": {},
   "outputs": [],
   "source": [
    "import hashlib\n",
    "import time\n",
    "import base64\n",
    "\n",
    "import bitcoin.core as bc\n",
    "import bitcoin.core.script as bs\n",
    "import bitcoin.wallet as bw\n",
    "from bitcoin.rpc import hexlify, unhexlify"
   ]
  },
  {
   "cell_type": "code",
   "execution_count": 28,
   "id": "21847106",
   "metadata": {},
   "outputs": [],
   "source": [
    "# taker needs to pay premium to open channel\n",
    "premiumAmount = int(0.001 * bc.COIN) # premium Ali is willing to pay\n",
    "fundAmount = int(0.16 * bc.COIN) # requested inbound capacity"
   ]
  },
  {
   "cell_type": "code",
   "execution_count": 29,
   "id": "3033d2a9",
   "metadata": {},
   "outputs": [],
   "source": [
    "# create dummy psbt to extract 'funding' UTXO and change addresses\n",
    "# user minerAddr as a dummy address to create psbt\n",
    "tx_template = walletmsg.TxTemplate(outputs={str(minerAddr): premiumAmount})\n",
    "\n",
    "psbtRequest = walletmsg.FundPsbtRequest(raw=tx_template, target_conf=6)"
   ]
  },
  {
   "cell_type": "code",
   "execution_count": 30,
   "id": "45308436",
   "metadata": {},
   "outputs": [],
   "source": [
    "aliDummyPsbt = ali.wallet.FundPsbt(request=psbtRequest)"
   ]
  },
  {
   "cell_type": "code",
   "execution_count": 31,
   "id": "527428c1",
   "metadata": {},
   "outputs": [],
   "source": [
    "psbtBase64 = base64.b64encode(aliDummyPsbt.funded_psbt).decode()"
   ]
  },
  {
   "cell_type": "code",
   "execution_count": 32,
   "id": "daf1ab87",
   "metadata": {},
   "outputs": [
    {
     "data": {
      "text/plain": [
       "{'tx': {'txid': '130fc0f350bcdfb46e944158a7f3514bbfc73e4cff8fa9cf153a2801c2c70937',\n",
       "  'hash': '130fc0f350bcdfb46e944158a7f3514bbfc73e4cff8fa9cf153a2801c2c70937',\n",
       "  'version': 2,\n",
       "  'size': 113,\n",
       "  'vsize': 113,\n",
       "  'weight': 452,\n",
       "  'locktime': 0,\n",
       "  'vin': [{'txid': '0c29d7d862b3b670f79d7f57eda0a512332f96e68a377535e70c14b82582001d',\n",
       "    'vout': 0,\n",
       "    'scriptSig': {'asm': '', 'hex': ''},\n",
       "    'sequence': 4294967295}],\n",
       "  'vout': [{'value': Decimal('0.00100000'),\n",
       "    'n': 0,\n",
       "    'scriptPubKey': {'asm': '0 eac1ce29853c2ec4a95c8ed3cf36743bdc659353',\n",
       "     'hex': '0014eac1ce29853c2ec4a95c8ed3cf36743bdc659353',\n",
       "     'reqSigs': 1,\n",
       "     'type': 'witness_v0_keyhash',\n",
       "     'addresses': ['bcrt1qatquu2v98shvf22u3mfu7dn580wxty6nwjq305']}},\n",
       "   {'value': Decimal('49.99892950'),\n",
       "    'n': 1,\n",
       "    'scriptPubKey': {'asm': '0 c8b6f8f6278d569194004ba1def4717803d753be',\n",
       "     'hex': '0014c8b6f8f6278d569194004ba1def4717803d753be',\n",
       "     'reqSigs': 1,\n",
       "     'type': 'witness_v0_keyhash',\n",
       "     'addresses': ['bcrt1qezm03a3834tfr9qqfwsaaar30qpaw5a7zyq2jz']}}]},\n",
       " 'unknown': {},\n",
       " 'inputs': [{'witness_utxo': {'amount': Decimal('50.00000000'),\n",
       "    'scriptPubKey': {'asm': '0 2aa244260b5f080d8b348807d9b1e28565e13dfc',\n",
       "     'hex': '00142aa244260b5f080d8b348807d9b1e28565e13dfc',\n",
       "     'type': 'witness_v0_keyhash',\n",
       "     'address': 'bcrt1q923ygfsttuyqmze53qranv0zs4j7z00ulatthe'}},\n",
       "   'non_witness_utxo': {'txid': '0c29d7d862b3b670f79d7f57eda0a512332f96e68a377535e70c14b82582001d',\n",
       "    'hash': 'a0501b8219736c83b78e84b84bc9130ede6a0cb523df30f23ec9f30066b524ad',\n",
       "    'version': 2,\n",
       "    'size': 168,\n",
       "    'vsize': 141,\n",
       "    'weight': 564,\n",
       "    'locktime': 0,\n",
       "    'vin': [{'coinbase': '510101',\n",
       "      'txinwitness': ['0000000000000000000000000000000000000000000000000000000000000000'],\n",
       "      'sequence': 4294967295}],\n",
       "    'vout': [{'value': Decimal('50.00000000'),\n",
       "      'n': 0,\n",
       "      'scriptPubKey': {'asm': '0 2aa244260b5f080d8b348807d9b1e28565e13dfc',\n",
       "       'hex': '00142aa244260b5f080d8b348807d9b1e28565e13dfc',\n",
       "       'reqSigs': 1,\n",
       "       'type': 'witness_v0_keyhash',\n",
       "       'addresses': ['bcrt1q923ygfsttuyqmze53qranv0zs4j7z00ulatthe']}},\n",
       "     {'value': Decimal('0E-8'),\n",
       "      'n': 1,\n",
       "      'scriptPubKey': {'asm': 'OP_RETURN aa21a9ede2f61c3f71d1defd3fa999dfa36953755c690689799962b48bebd836974e8cf9',\n",
       "       'hex': '6a24aa21a9ede2f61c3f71d1defd3fa999dfa36953755c690689799962b48bebd836974e8cf9',\n",
       "       'type': 'nulldata'}}]},\n",
       "   'sighash': 'ALL',\n",
       "   'bip32_derivs': [{'pubkey': '0204582d85eafdbe58180f979d39c7f762e5f1b337c3bc889ec937f6201dfadb13',\n",
       "     'master_fingerprint': '00000000',\n",
       "     'path': \"m/84'/0'/0'/0/1\"}]}],\n",
       " 'outputs': [{}, {}],\n",
       " 'fee': Decimal('0.00007050')}"
      ]
     },
     "execution_count": 32,
     "metadata": {},
     "output_type": "execute_result"
    }
   ],
   "source": [
    "aliDummyPsbtDecoded = brpc._proxy._call('decodepsbt', psbtBase64)\n",
    "aliDummyPsbtDecoded"
   ]
  },
  {
   "cell_type": "code",
   "execution_count": 33,
   "id": "e84317f8",
   "metadata": {},
   "outputs": [
    {
     "data": {
      "text/plain": [
       "[CTxIn(COutPoint(lx('0c29d7d862b3b670f79d7f57eda0a512332f96e68a377535e70c14b82582001d'), 0), CScript([]), 0xffffffff)]"
      ]
     },
     "execution_count": 33,
     "metadata": {},
     "output_type": "execute_result"
    }
   ],
   "source": [
    "aliInputs = []\n",
    "for vin in aliDummyPsbtDecoded['tx']['vin']:\n",
    "    txin = bc.CTxIn(bc.COutPoint(bc.lx(vin['txid']), vin['vout']))\n",
    "    aliInputs.append(txin)\n",
    "aliInputs"
   ]
  },
  {
   "cell_type": "code",
   "execution_count": 34,
   "id": "42d8431b",
   "metadata": {},
   "outputs": [],
   "source": [
    "# assume there are only 2 outputs: change and channel funding\n",
    "assert len(aliDummyPsbtDecoded['tx']['vout']) == 2"
   ]
  },
  {
   "cell_type": "code",
   "execution_count": 35,
   "id": "1b8080c2",
   "metadata": {},
   "outputs": [
    {
     "data": {
      "text/plain": [
       "CTxOut(49.9989295*COIN, CScript([0, x('c8b6f8f6278d569194004ba1def4717803d753be')]))"
      ]
     },
     "execution_count": 35,
     "metadata": {},
     "output_type": "execute_result"
    }
   ],
   "source": [
    "aliChangeOutput = aliDummyPsbtDecoded['tx']['vout'][aliDummyPsbt.change_output_index]\n",
    "aliChangeOutput = bc.CTxOut(int(aliChangeOutput['value'] * bc.COIN),\n",
    "                            bc.CScript(unhexlify(aliChangeOutput['scriptPubKey']['hex'])))\n",
    "\n",
    "aliChangeOutput"
   ]
  },
  {
   "cell_type": "code",
   "execution_count": 36,
   "id": "dc46e24d",
   "metadata": {},
   "outputs": [
    {
     "data": {
      "text/plain": [
       "raw_key_bytes: \"\\002\\023\\261\\340j\\177QC/\\236\\363o\\337\\253\\216\\365\\370\\306\\203\\202\\361\\004\\362\\225zP\\272\\371\\260\\353\\366\\273\\346\"\n",
       "key_loc {\n",
       "  key_index: 1\n",
       "}"
      ]
     },
     "execution_count": 36,
     "metadata": {},
     "output_type": "execute_result"
    }
   ],
   "source": [
    "# Generate pubkey for channel funding\n",
    "key_family = 0 # multisig?\n",
    "keyReq = walletmsg.KeyReq(key_family=key_family)\n",
    "aliKeyDesc = ali.wallet.DeriveNextKey(keyReq)\n",
    "aliKeyDesc = ali.wallet.DeriveNextKey(keyReq) # need to call twice?\n",
    "aliKeyDesc"
   ]
  },
  {
   "cell_type": "code",
   "execution_count": 37,
   "id": "f3abbd38",
   "metadata": {},
   "outputs": [
    {
     "data": {
      "text/plain": [
       "{'id': 'c0bdd96e3bbd2e4b4575bf465fbd975e3753dbd4cd4923870828689e171a3868',\n",
       " 'type': 'INBOUND_LIQUIDITY_REQUEST',\n",
       " 'nodeAddr': 'ali-lnd',\n",
       " 'nodePubKey': '0304503caa78643f20487cb225a2379d6222f279666f58e0fa50c81bf8e01122e1',\n",
       " 'premiumAmount': 100000,\n",
       " 'fundAmount': 16000000,\n",
       " 'inputs': [CTxIn(COutPoint(lx('0c29d7d862b3b670f79d7f57eda0a512332f96e68a377535e70c14b82582001d'), 0), CScript([]), 0xffffffff)],\n",
       " 'change': CTxOut(49.9989295*COIN, CScript([0, x('c8b6f8f6278d569194004ba1def4717803d753be')])),\n",
       " 'chanPubKey1': b'\\x02\\x13\\xb1\\xe0j\\x7fQC/\\x9e\\xf3o\\xdf\\xab\\x8e\\xf5\\xf8\\xc6\\x83\\x82\\xf1\\x04\\xf2\\x95zP\\xba\\xf9\\xb0\\xeb\\xf6\\xbb\\xe6'}"
      ]
     },
     "execution_count": 37,
     "metadata": {},
     "output_type": "execute_result"
    }
   ],
   "source": [
    "offer = {\n",
    "    'id': hashlib.sha256(str(time.time()).encode()).hexdigest(), # some random id to match offers and replies\n",
    "    'type': 'INBOUND_LIQUIDITY_REQUEST',\n",
    "    'nodeAddr': 'ali-lnd',\n",
    "    'nodePubKey': aliNodePubKey,\n",
    "    'premiumAmount': premiumAmount,\n",
    "    'fundAmount': fundAmount,\n",
    "    'inputs': aliInputs,\n",
    "    'change': aliChangeOutput,\n",
    "    'chanPubKey1': aliKeyDesc.raw_key_bytes\n",
    "}\n",
    "offer"
   ]
  },
  {
   "cell_type": "markdown",
   "id": "6cc1a85c",
   "metadata": {},
   "source": [
    "## Bob accepts offer and sends reply"
   ]
  },
  {
   "cell_type": "markdown",
   "id": "8db6200e",
   "metadata": {},
   "source": [
    "### Check the the offer is still valid"
   ]
  },
  {
   "cell_type": "code",
   "execution_count": 38,
   "id": "ce523b78",
   "metadata": {},
   "outputs": [
    {
     "data": {
      "text/plain": [
       "{'bestblock': b' \\x1c\\xf6I<\\x01\\x18\\x83\\xd7\"\\xe6 \\x0b\\xb1G\\xf6\\rr#5\\xd4{\\x02|y>\\xd7\\x87\\xe4\\xffx\\x06',\n",
       " 'confirmations': 112,\n",
       " 'coinbase': True,\n",
       " 'txout': CTxOut(50.0*COIN, CScript([0, x('2aa244260b5f080d8b348807d9b1e28565e13dfc')]))}"
      ]
     },
     "execution_count": 38,
     "metadata": {},
     "output_type": "execute_result"
    }
   ],
   "source": [
    "# for simplicity assume single input\n",
    "# check that utxo has not been spent\n",
    "utxo = brpc.gettxout(offer['inputs'][0].prevout)\n",
    "assert utxo is not None\n",
    "utxo"
   ]
  },
  {
   "cell_type": "code",
   "execution_count": 39,
   "id": "4e19e405",
   "metadata": {},
   "outputs": [
    {
     "data": {
      "text/plain": [
       "7050"
      ]
     },
     "execution_count": 39,
     "metadata": {},
     "output_type": "execute_result"
    }
   ],
   "source": [
    "# check that there is enough premium\n",
    "inValue = utxo['txout'].nValue\n",
    "changeValue = offer['change'].nValue\n",
    "\n",
    "# fees can be split between maker and taker\n",
    "fees = inValue - offer['premiumAmount'] - changeValue\n",
    "assert fees > 0\n",
    "fees"
   ]
  },
  {
   "cell_type": "markdown",
   "id": "dfb82ccc",
   "metadata": {},
   "source": [
    "### Allocate funds"
   ]
  },
  {
   "cell_type": "code",
   "execution_count": 40,
   "id": "a65c6a8f",
   "metadata": {},
   "outputs": [],
   "source": [
    "# for simplicity Bob is maker but it can take \"taker\" role as well\n",
    "assert offer['type'] == 'INBOUND_LIQUIDITY_REQUEST'"
   ]
  },
  {
   "cell_type": "code",
   "execution_count": 41,
   "id": "8b43fe40",
   "metadata": {},
   "outputs": [],
   "source": [
    "premiumAmount = offer['premiumAmount'] # Ali's premium to Bob\n",
    "fundAmount = offer['fundAmount'] # Bob funds this amount"
   ]
  },
  {
   "cell_type": "code",
   "execution_count": 42,
   "id": "378dc5d1",
   "metadata": {},
   "outputs": [
    {
     "data": {
      "text/plain": [
       "raw {\n",
       "  outputs {\n",
       "    key: \"bcrt1qatquu2v98shvf22u3mfu7dn580wxty6nwjq305\"\n",
       "    value: 16000000\n",
       "  }\n",
       "}\n",
       "target_conf: 6"
      ]
     },
     "execution_count": 42,
     "metadata": {},
     "output_type": "execute_result"
    }
   ],
   "source": [
    "# create dummy psbt to extract 'funding' UTXO and change addresses\n",
    "# user minerAddr as a dummy address to create psbt\n",
    "tx_template = walletmsg.TxTemplate(outputs={str(minerAddr): fundAmount})\n",
    "\n",
    "psbtRequest = walletmsg.FundPsbtRequest(raw=tx_template, target_conf=6)\n",
    "psbtRequest"
   ]
  },
  {
   "cell_type": "code",
   "execution_count": 43,
   "id": "b5d6771d",
   "metadata": {},
   "outputs": [],
   "source": [
    "bobDummyPsbt = bob.wallet.FundPsbt(request=psbtRequest)"
   ]
  },
  {
   "cell_type": "code",
   "execution_count": 44,
   "id": "30ebd2f5",
   "metadata": {},
   "outputs": [],
   "source": [
    "psbtBase64 = base64.b64encode(bobDummyPsbt.funded_psbt).decode()"
   ]
  },
  {
   "cell_type": "code",
   "execution_count": 45,
   "id": "5f9c6cd0",
   "metadata": {},
   "outputs": [
    {
     "data": {
      "text/plain": [
       "{'tx': {'txid': '95b071af89073df40e7278e042ad6eceb7dd432a867cb5948e3565b5dd3eeeea',\n",
       "  'hash': '95b071af89073df40e7278e042ad6eceb7dd432a867cb5948e3565b5dd3eeeea',\n",
       "  'version': 2,\n",
       "  'size': 113,\n",
       "  'vsize': 113,\n",
       "  'weight': 452,\n",
       "  'locktime': 0,\n",
       "  'vin': [{'txid': '18312e0b38fc404be7ac9c23303d05b4a4c303d8e19e6d9d665cdef5a162a340',\n",
       "    'vout': 0,\n",
       "    'scriptSig': {'asm': '', 'hex': ''},\n",
       "    'sequence': 4294967295}],\n",
       "  'vout': [{'value': Decimal('0.16000000'),\n",
       "    'n': 0,\n",
       "    'scriptPubKey': {'asm': '0 eac1ce29853c2ec4a95c8ed3cf36743bdc659353',\n",
       "     'hex': '0014eac1ce29853c2ec4a95c8ed3cf36743bdc659353',\n",
       "     'reqSigs': 1,\n",
       "     'type': 'witness_v0_keyhash',\n",
       "     'addresses': ['bcrt1qatquu2v98shvf22u3mfu7dn580wxty6nwjq305']}},\n",
       "   {'value': Decimal('49.83992950'),\n",
       "    'n': 1,\n",
       "    'scriptPubKey': {'asm': '0 34086da2b8920974cdd10f4ab371da0457e12678',\n",
       "     'hex': '001434086da2b8920974cdd10f4ab371da0457e12678',\n",
       "     'reqSigs': 1,\n",
       "     'type': 'witness_v0_keyhash',\n",
       "     'addresses': ['bcrt1qxsyxmg4cjgyhfnw3pa9txuw6q3t7zfncfldxam']}}]},\n",
       " 'unknown': {},\n",
       " 'inputs': [{'witness_utxo': {'amount': Decimal('50.00000000'),\n",
       "    'scriptPubKey': {'asm': '0 50d8cffb4984574b759ea619084fdf03fe92c855',\n",
       "     'hex': '001450d8cffb4984574b759ea619084fdf03fe92c855',\n",
       "     'type': 'witness_v0_keyhash',\n",
       "     'address': 'bcrt1q2rvvl76fs3t5kav75cvssn7lq0lf9jz4pla2eq'}},\n",
       "   'non_witness_utxo': {'txid': '18312e0b38fc404be7ac9c23303d05b4a4c303d8e19e6d9d665cdef5a162a340',\n",
       "    'hash': '0052ab4d20b74f7bb13827ffa777f0043245aa889b21eee499e922e2dfeb47d9',\n",
       "    'version': 2,\n",
       "    'size': 168,\n",
       "    'vsize': 141,\n",
       "    'weight': 564,\n",
       "    'locktime': 0,\n",
       "    'vin': [{'coinbase': '520101',\n",
       "      'txinwitness': ['0000000000000000000000000000000000000000000000000000000000000000'],\n",
       "      'sequence': 4294967295}],\n",
       "    'vout': [{'value': Decimal('50.00000000'),\n",
       "      'n': 0,\n",
       "      'scriptPubKey': {'asm': '0 50d8cffb4984574b759ea619084fdf03fe92c855',\n",
       "       'hex': '001450d8cffb4984574b759ea619084fdf03fe92c855',\n",
       "       'reqSigs': 1,\n",
       "       'type': 'witness_v0_keyhash',\n",
       "       'addresses': ['bcrt1q2rvvl76fs3t5kav75cvssn7lq0lf9jz4pla2eq']}},\n",
       "     {'value': Decimal('0E-8'),\n",
       "      'n': 1,\n",
       "      'scriptPubKey': {'asm': 'OP_RETURN aa21a9ede2f61c3f71d1defd3fa999dfa36953755c690689799962b48bebd836974e8cf9',\n",
       "       'hex': '6a24aa21a9ede2f61c3f71d1defd3fa999dfa36953755c690689799962b48bebd836974e8cf9',\n",
       "       'type': 'nulldata'}}]},\n",
       "   'sighash': 'ALL',\n",
       "   'bip32_derivs': [{'pubkey': '03ddefeb041853a73fe4d78e18e28b0f8f2fd833a2de86f176f773417cfd59b3d5',\n",
       "     'master_fingerprint': '00000000',\n",
       "     'path': \"m/84'/0'/0'/0/0\"}]}],\n",
       " 'outputs': [{}, {}],\n",
       " 'fee': Decimal('0.00007050')}"
      ]
     },
     "execution_count": 45,
     "metadata": {},
     "output_type": "execute_result"
    }
   ],
   "source": [
    "bobDummyPsbtDecoded = brpc._proxy._call('decodepsbt', psbtBase64)\n",
    "bobDummyPsbtDecoded"
   ]
  },
  {
   "cell_type": "code",
   "execution_count": 46,
   "id": "399c0ff0",
   "metadata": {},
   "outputs": [
    {
     "data": {
      "text/plain": [
       "[CTxIn(COutPoint(lx('18312e0b38fc404be7ac9c23303d05b4a4c303d8e19e6d9d665cdef5a162a340'), 0), CScript([]), 0xffffffff)]"
      ]
     },
     "execution_count": 46,
     "metadata": {},
     "output_type": "execute_result"
    }
   ],
   "source": [
    "bobInputs = []\n",
    "for vin in bobDummyPsbtDecoded['tx']['vin']:\n",
    "    txin = bc.CTxIn(bc.COutPoint(bc.lx(vin['txid']), vin['vout']))\n",
    "    bobInputs.append(txin)\n",
    "bobInputs"
   ]
  },
  {
   "cell_type": "code",
   "execution_count": 47,
   "id": "cea5f5bf",
   "metadata": {},
   "outputs": [],
   "source": [
    "# assume there are only 2 outputs: change and channel funding\n",
    "assert len(bobDummyPsbtDecoded['tx']['vout']) == 2"
   ]
  },
  {
   "cell_type": "code",
   "execution_count": 48,
   "id": "1fd02587",
   "metadata": {},
   "outputs": [
    {
     "data": {
      "text/plain": [
       "CTxOut(49.8399295*COIN, CScript([0, x('34086da2b8920974cdd10f4ab371da0457e12678')]))"
      ]
     },
     "execution_count": 48,
     "metadata": {},
     "output_type": "execute_result"
    }
   ],
   "source": [
    "# NOTE: bob pays funding tx fee but he does not have to\n",
    "bobChangeOutput = bobDummyPsbtDecoded['tx']['vout'][bobDummyPsbt.change_output_index]\n",
    "bobChangeOutput = bc.CTxOut(int(bobChangeOutput['value'] * bc.COIN),\n",
    "                            bc.CScript(unhexlify(bobChangeOutput['scriptPubKey']['hex'])))\n",
    "\n",
    "bobChangeOutput"
   ]
  },
  {
   "cell_type": "markdown",
   "id": "ae0d1ee4",
   "metadata": {},
   "source": [
    "### Create funding transaction"
   ]
  },
  {
   "cell_type": "code",
   "execution_count": 49,
   "id": "0a08222c",
   "metadata": {},
   "outputs": [
    {
     "data": {
      "text/plain": [
       "raw_key_bytes: \"\\002\\262\\236\\351\\345\\355\\334\\240\\36344\\317dT\\333\\342\\276\\313\\342\\206\\2713?\\372\\233\\200\\037\\022\\266\\337\\357)\\227\"\n",
       "key_loc {\n",
       "  key_index: 1\n",
       "}"
      ]
     },
     "execution_count": 49,
     "metadata": {},
     "output_type": "execute_result"
    }
   ],
   "source": [
    "key_family = 0 # multisig?\n",
    "keyReq = walletmsg.KeyReq(key_family=key_family)\n",
    "bobKeyDesc = bob.wallet.DeriveNextKey(keyReq)\n",
    "bobKeyDesc = bob.wallet.DeriveNextKey(keyReq) # need to call twice?\n",
    "bobKeyDesc"
   ]
  },
  {
   "cell_type": "code",
   "execution_count": 50,
   "id": "b6400660",
   "metadata": {},
   "outputs": [],
   "source": [
    "takerPubKey = offer['chanPubKey1']\n",
    "makerPubKey = bobKeyDesc.raw_key_bytes"
   ]
  },
  {
   "cell_type": "code",
   "execution_count": 51,
   "id": "1bac2bcb",
   "metadata": {},
   "outputs": [],
   "source": [
    "# https://github.com/lightningnetwork/lightning-rfc/blob/master/03-transactions.md#funding-transaction-output\n",
    "# https://github.com/bitcoin/bips/blob/master/bip-0069.mediawiki\n",
    "# if makerPubKey > takerPubKey:\n",
    "if list(makerPubKey) > list(takerPubKey):\n",
    "    pk1, pk2 = takerPubKey, makerPubKey\n",
    "else:\n",
    "    pk1, pk2 = makerPubKey, takerPubKey"
   ]
  },
  {
   "cell_type": "code",
   "execution_count": 52,
   "id": "d2a0f670",
   "metadata": {},
   "outputs": [],
   "source": [
    "msigScript = bs.CScript([\n",
    "        bs.OP_2,\n",
    "        pk1,\n",
    "        pk2,\n",
    "        bs.OP_2,\n",
    "        bs.OP_CHECKMULTISIG\n",
    "    ])"
   ]
  },
  {
   "cell_type": "code",
   "execution_count": 53,
   "id": "6a32c68b",
   "metadata": {},
   "outputs": [
    {
     "data": {
      "text/plain": [
       "CScript([0, x('eebd4b5e50d80a16388c9d1ec0db26047afba0f724c1283f17068ec9f265afab')])"
      ]
     },
     "execution_count": 53,
     "metadata": {},
     "output_type": "execute_result"
    }
   ],
   "source": [
    "# convert to P2WSH\n",
    "scriptPubKey = bc.CScript([bs.OP_0, hashlib.sha256(msigScript).digest()])\n",
    "scriptPubKey"
   ]
  },
  {
   "cell_type": "code",
   "execution_count": 54,
   "id": "7861f33b",
   "metadata": {},
   "outputs": [],
   "source": [
    "assert scriptPubKey.is_witness_v0_scripthash()"
   ]
  },
  {
   "cell_type": "code",
   "execution_count": 55,
   "id": "3ed2fc05",
   "metadata": {},
   "outputs": [
    {
     "data": {
      "text/plain": [
       "CTxOut(0.161*COIN, CScript([0, x('eebd4b5e50d80a16388c9d1ec0db26047afba0f724c1283f17068ec9f265afab')]))"
      ]
     },
     "execution_count": 55,
     "metadata": {},
     "output_type": "execute_result"
    }
   ],
   "source": [
    "fundingOutput = bc.CTxOut(premiumAmount + fundAmount,\n",
    "                          scriptPubKey)\n",
    "fundingOutput"
   ]
  },
  {
   "cell_type": "code",
   "execution_count": 56,
   "id": "1283ed71",
   "metadata": {},
   "outputs": [],
   "source": [
    "# for simplicity Bob's input is at position 0\n",
    "fundingTxInputs = bobInputs + offer['inputs']\n",
    "fundingTxOutputs = [fundingOutput, bobChangeOutput, offer['change']]\n",
    "fundingOutputIdx = 0"
   ]
  },
  {
   "cell_type": "code",
   "execution_count": 57,
   "id": "a079748e",
   "metadata": {},
   "outputs": [
    {
     "data": {
      "text/plain": [
       "CTransaction((CTxIn(COutPoint(lx('18312e0b38fc404be7ac9c23303d05b4a4c303d8e19e6d9d665cdef5a162a340'), 0), CScript([]), 0xffffffff), CTxIn(COutPoint(lx('0c29d7d862b3b670f79d7f57eda0a512332f96e68a377535e70c14b82582001d'), 0), CScript([]), 0xffffffff)), (CTxOut(0.161*COIN, CScript([0, x('eebd4b5e50d80a16388c9d1ec0db26047afba0f724c1283f17068ec9f265afab')])), CTxOut(49.8399295*COIN, CScript([0, x('34086da2b8920974cdd10f4ab371da0457e12678')])), CTxOut(49.9989295*COIN, CScript([0, x('c8b6f8f6278d569194004ba1def4717803d753be')]))), 0, 1, CTxWitness())"
      ]
     },
     "execution_count": 57,
     "metadata": {},
     "output_type": "execute_result"
    }
   ],
   "source": [
    "fundingTx = bc.CTransaction(fundingTxInputs, fundingTxOutputs)\n",
    "fundingTx"
   ]
  },
  {
   "cell_type": "code",
   "execution_count": 58,
   "id": "c8863243",
   "metadata": {},
   "outputs": [
    {
     "data": {
      "text/plain": [
       "b'\\xb3\\xb3\\xff\\xdaH\\x17Yl\\x1dg\\xd0{^z8\\xd8\\x96\\xa7\\xd9\\xfa\\xe9\\x8bDC\\x15kDx=\\xb0\\xea\\xb8'"
      ]
     },
     "execution_count": 58,
     "metadata": {},
     "output_type": "execute_result"
    }
   ],
   "source": [
    "fundingTxId = fundingTx.GetTxid()\n",
    "fundingTxId"
   ]
  },
  {
   "cell_type": "markdown",
   "id": "154d9b31",
   "metadata": {},
   "source": [
    "### connect to taker (Ali)"
   ]
  },
  {
   "cell_type": "code",
   "execution_count": 59,
   "id": "685ff414",
   "metadata": {},
   "outputs": [],
   "source": [
    "# assumer whoever creates offer is accessible\n",
    "connect_peer_req = lnmsg.ConnectPeerRequest(\n",
    "    addr=lnmsg.LightningAddress(\n",
    "        pubkey=offer['nodePubKey'],\n",
    "        host=offer['nodeAddr']\n",
    "))"
   ]
  },
  {
   "cell_type": "code",
   "execution_count": 60,
   "id": "097c9717",
   "metadata": {},
   "outputs": [
    {
     "data": {
      "text/plain": []
     },
     "execution_count": 60,
     "metadata": {},
     "output_type": "execute_result"
    }
   ],
   "source": [
    "bob.lnd.ConnectPeer(connect_peer_req)"
   ]
  },
  {
   "cell_type": "code",
   "execution_count": 61,
   "id": "d889943d",
   "metadata": {},
   "outputs": [
    {
     "data": {
      "text/plain": [
       "peers {\n",
       "  pub_key: \"0304503caa78643f20487cb225a2379d6222f279666f58e0fa50c81bf8e01122e1\"\n",
       "  address: \"172.19.0.3:9735\"\n",
       "  bytes_sent: 142\n",
       "  bytes_recv: 142\n",
       "  sync_type: ACTIVE_SYNC\n",
       "  features {\n",
       "    key: 0\n",
       "    value {\n",
       "      name: \"data-loss-protect\"\n",
       "      is_required: true\n",
       "      is_known: true\n",
       "    }\n",
       "  }\n",
       "  features {\n",
       "    key: 5\n",
       "    value {\n",
       "      name: \"upfront-shutdown-script\"\n",
       "      is_known: true\n",
       "    }\n",
       "  }\n",
       "  features {\n",
       "    key: 7\n",
       "    value {\n",
       "      name: \"gossip-queries\"\n",
       "      is_known: true\n",
       "    }\n",
       "  }\n",
       "  features {\n",
       "    key: 9\n",
       "    value {\n",
       "      name: \"tlv-onion\"\n",
       "      is_known: true\n",
       "    }\n",
       "  }\n",
       "  features {\n",
       "    key: 12\n",
       "    value {\n",
       "      name: \"static-remote-key\"\n",
       "      is_required: true\n",
       "      is_known: true\n",
       "    }\n",
       "  }\n",
       "  features {\n",
       "    key: 14\n",
       "    value {\n",
       "      name: \"payment-addr\"\n",
       "      is_required: true\n",
       "      is_known: true\n",
       "    }\n",
       "  }\n",
       "  features {\n",
       "    key: 17\n",
       "    value {\n",
       "      name: \"multi-path-payments\"\n",
       "      is_known: true\n",
       "    }\n",
       "  }\n",
       "  features {\n",
       "    key: 31\n",
       "    value {\n",
       "      name: \"amp\"\n",
       "      is_known: true\n",
       "    }\n",
       "  }\n",
       "  flap_count: 1\n",
       "  last_flap_ns: 1620234844383531800\n",
       "}"
      ]
     },
     "execution_count": 61,
     "metadata": {},
     "output_type": "execute_result"
    }
   ],
   "source": [
    "# check that we are connected\n",
    "bob.lnd.ListPeers(lnmsg.ListPeersRequest())"
   ]
  },
  {
   "cell_type": "markdown",
   "id": "fff15cec",
   "metadata": {},
   "source": [
    "### Register shim to prepare for channel opening"
   ]
  },
  {
   "cell_type": "code",
   "execution_count": 62,
   "id": "96dd5bd7",
   "metadata": {},
   "outputs": [
    {
     "data": {
      "text/plain": [
       "'687cea81ef36ce5d2deda090171bda2e733e31568fd04e2cf74d54bfe0753036'"
      ]
     },
     "execution_count": 62,
     "metadata": {},
     "output_type": "execute_result"
    }
   ],
   "source": [
    "# something that is unique to the corresponding matched taker and maker\n",
    "channelId = hashlib.sha256((bobNodePubKey + offer['nodePubKey'] + str(time.time())).encode()).hexdigest()\n",
    "channelId"
   ]
  },
  {
   "cell_type": "code",
   "execution_count": 63,
   "id": "f55e58ce",
   "metadata": {},
   "outputs": [],
   "source": [
    "chan_point = lnmsg.ChannelPoint(funding_txid_bytes=fundingTxId,\n",
    "                                output_index=fundingOutputIdx)"
   ]
  },
  {
   "cell_type": "code",
   "execution_count": 64,
   "id": "37b75ca1",
   "metadata": {},
   "outputs": [],
   "source": [
    "# define our key for funding output\n",
    "local_key = lnmsg.KeyDescriptor(\n",
    "    raw_key_bytes=bobKeyDesc.raw_key_bytes,\n",
    "    key_loc=lnmsg.KeyLocator(\n",
    "        key_family=bobKeyDesc.key_loc.key_family,\n",
    "        key_index=bobKeyDesc.key_loc.key_index))"
   ]
  },
  {
   "cell_type": "code",
   "execution_count": 65,
   "id": "76bfef84",
   "metadata": {},
   "outputs": [],
   "source": [
    "chan_point_shim = lnmsg.ChanPointShim(\n",
    "    amt=fundAmount + premiumAmount,\n",
    "    chan_point=chan_point,\n",
    "    local_key=local_key,\n",
    "    remote_key=offer['chanPubKey1'],\n",
    "    pending_chan_id=unhexlify(channelId),\n",
    "    thaw_height=0 # set 0 for simplicity\n",
    ")"
   ]
  },
  {
   "cell_type": "code",
   "execution_count": 66,
   "id": "54ae72be",
   "metadata": {},
   "outputs": [],
   "source": [
    "ftm = lnmsg.FundingTransitionMsg(\n",
    "    shim_register=lnmsg.FundingShim(chan_point_shim=chan_point_shim))"
   ]
  },
  {
   "cell_type": "code",
   "execution_count": 67,
   "id": "7b1ed8b7",
   "metadata": {},
   "outputs": [
    {
     "data": {
      "text/plain": []
     },
     "execution_count": 67,
     "metadata": {},
     "output_type": "execute_result"
    }
   ],
   "source": [
    "# empty response\n",
    "bob.lnd.FundingStateStep(ftm)"
   ]
  },
  {
   "cell_type": "markdown",
   "id": "a6e375b8",
   "metadata": {},
   "source": [
    "### Sign transaction"
   ]
  },
  {
   "cell_type": "code",
   "execution_count": 68,
   "id": "b07d8523",
   "metadata": {},
   "outputs": [],
   "source": [
    "# At this point things look good and we can sign the transaction"
   ]
  },
  {
   "cell_type": "code",
   "execution_count": 69,
   "id": "eb457e06",
   "metadata": {},
   "outputs": [],
   "source": [
    "# assume single input for simplicity\n",
    "assert len(bobDummyPsbtDecoded['inputs']) == 1"
   ]
  },
  {
   "cell_type": "code",
   "execution_count": 70,
   "id": "c1bdd315",
   "metadata": {},
   "outputs": [
    {
     "data": {
      "text/plain": [
       "{'witness_utxo': {'amount': Decimal('50.00000000'),\n",
       "  'scriptPubKey': {'asm': '0 50d8cffb4984574b759ea619084fdf03fe92c855',\n",
       "   'hex': '001450d8cffb4984574b759ea619084fdf03fe92c855',\n",
       "   'type': 'witness_v0_keyhash',\n",
       "   'address': 'bcrt1q2rvvl76fs3t5kav75cvssn7lq0lf9jz4pla2eq'}},\n",
       " 'non_witness_utxo': {'txid': '18312e0b38fc404be7ac9c23303d05b4a4c303d8e19e6d9d665cdef5a162a340',\n",
       "  'hash': '0052ab4d20b74f7bb13827ffa777f0043245aa889b21eee499e922e2dfeb47d9',\n",
       "  'version': 2,\n",
       "  'size': 168,\n",
       "  'vsize': 141,\n",
       "  'weight': 564,\n",
       "  'locktime': 0,\n",
       "  'vin': [{'coinbase': '520101',\n",
       "    'txinwitness': ['0000000000000000000000000000000000000000000000000000000000000000'],\n",
       "    'sequence': 4294967295}],\n",
       "  'vout': [{'value': Decimal('50.00000000'),\n",
       "    'n': 0,\n",
       "    'scriptPubKey': {'asm': '0 50d8cffb4984574b759ea619084fdf03fe92c855',\n",
       "     'hex': '001450d8cffb4984574b759ea619084fdf03fe92c855',\n",
       "     'reqSigs': 1,\n",
       "     'type': 'witness_v0_keyhash',\n",
       "     'addresses': ['bcrt1q2rvvl76fs3t5kav75cvssn7lq0lf9jz4pla2eq']}},\n",
       "   {'value': Decimal('0E-8'),\n",
       "    'n': 1,\n",
       "    'scriptPubKey': {'asm': 'OP_RETURN aa21a9ede2f61c3f71d1defd3fa999dfa36953755c690689799962b48bebd836974e8cf9',\n",
       "     'hex': '6a24aa21a9ede2f61c3f71d1defd3fa999dfa36953755c690689799962b48bebd836974e8cf9',\n",
       "     'type': 'nulldata'}}]},\n",
       " 'sighash': 'ALL',\n",
       " 'bip32_derivs': [{'pubkey': '03ddefeb041853a73fe4d78e18e28b0f8f2fd833a2de86f176f773417cfd59b3d5',\n",
       "   'master_fingerprint': '00000000',\n",
       "   'path': \"m/84'/0'/0'/0/0\"}]}"
      ]
     },
     "execution_count": 70,
     "metadata": {},
     "output_type": "execute_result"
    }
   ],
   "source": [
    "input_ = bobDummyPsbtDecoded['inputs'][0]\n",
    "input_"
   ]
  },
  {
   "cell_type": "code",
   "execution_count": 71,
   "id": "d34a7c61",
   "metadata": {},
   "outputs": [
    {
     "data": {
      "text/plain": [
       "b'\\x03\\xdd\\xef\\xeb\\x04\\x18S\\xa7?\\xe4\\xd7\\x8e\\x18\\xe2\\x8b\\x0f\\x8f/\\xd83\\xa2\\xde\\x86\\xf1v\\xf7sA|\\xfdY\\xb3\\xd5'"
      ]
     },
     "execution_count": 71,
     "metadata": {},
     "output_type": "execute_result"
    }
   ],
   "source": [
    "# our UTXO pubkey\n",
    "assert len(input_['bip32_derivs']) == 1\n",
    "pubkey = input_['bip32_derivs'][0]['pubkey']\n",
    "pubkey = unhexlify(pubkey)\n",
    "pubkey"
   ]
  },
  {
   "cell_type": "code",
   "execution_count": 72,
   "id": "517f8db5",
   "metadata": {},
   "outputs": [
    {
     "data": {
      "text/plain": [
       "P2WPKHBitcoinAddress('bcrt1q2rvvl76fs3t5kav75cvssn7lq0lf9jz4pla2eq')"
      ]
     },
     "execution_count": 72,
     "metadata": {},
     "output_type": "execute_result"
    }
   ],
   "source": [
    "scriptPubKey = input_['witness_utxo']['scriptPubKey']['hex']\n",
    "scriptPubKey = bs.CScript(unhexlify(scriptPubKey))\n",
    "\n",
    "utxoAddr = bw.CBitcoinAddress.from_scriptPubKey(scriptPubKey)\n",
    "utxoAddr"
   ]
  },
  {
   "cell_type": "code",
   "execution_count": 73,
   "id": "787f9682",
   "metadata": {},
   "outputs": [],
   "source": [
    "sign_desc = signmsg.SignDescriptor(\n",
    "    key_desc=signmsg.KeyDescriptor(\n",
    "        raw_key_bytes=pubkey\n",
    "    ),\n",
    "    witness_script=utxoAddr.to_redeemScript(),\n",
    "    output=signmsg.TxOut(\n",
    "        value=int(input_['witness_utxo']['amount'] * bc.COIN),\n",
    "        pk_script=utxoAddr.to_scriptPubKey()\n",
    "    ),\n",
    "    sighash=bs.SIGHASH_ALL, # so that transaction cannot be altered\n",
    "    input_index=0 # for simplicity Bob's input is 0\n",
    ")"
   ]
  },
  {
   "cell_type": "code",
   "execution_count": 74,
   "id": "ca04cf7c",
   "metadata": {},
   "outputs": [],
   "source": [
    "signReq = signmsg.SignReq(\n",
    "    raw_tx_bytes=fundingTx.serialize(),\n",
    "    sign_descs=[sign_desc]\n",
    ")"
   ]
  },
  {
   "cell_type": "code",
   "execution_count": 75,
   "id": "09458155",
   "metadata": {},
   "outputs": [
    {
     "data": {
      "text/plain": [
       "raw_sigs: \"0D\\002 (N\\321nB\\361\\303\\317Lo\\367\\246\\247`\\343\\000s\\306\\3442w\\307\\360\\255S\\317l\\010:_J\\273\\002 \\024\\236+\\332\\244\\304\\300.\\317\\223\\256\\334\\224\\0024\\014\\204\\030\\037\\023,\\334p\\203a\\004\\n_\\322eR\\343\""
      ]
     },
     "execution_count": 75,
     "metadata": {},
     "output_type": "execute_result"
    }
   ],
   "source": [
    "bobSignResp = bob.signer.SignOutputRaw(signReq)\n",
    "bobSignResp"
   ]
  },
  {
   "cell_type": "code",
   "execution_count": 76,
   "id": "3da922f3",
   "metadata": {},
   "outputs": [],
   "source": [
    "signature = bobSignResp.raw_sigs[0] + bytes([bs.SIGHASH_ALL])"
   ]
  },
  {
   "cell_type": "code",
   "execution_count": 77,
   "id": "fcabcb98",
   "metadata": {},
   "outputs": [
    {
     "data": {
      "text/plain": [
       "CScriptWitness(x('30440220284ed16e42f1c3cf4c6ff7a6a760e30073c6e43277c7f0ad53cf6c083a5f4abb0220149e2bdaa4c4c02ecf93aedc9402340c84181f132cdc708361040a5fd26552e301'),x('03ddefeb041853a73fe4d78e18e28b0f8f2fd833a2de86f176f773417cfd59b3d5'))"
      ]
     },
     "execution_count": 77,
     "metadata": {},
     "output_type": "execute_result"
    }
   ],
   "source": [
    "witness = [signature, pubkey]\n",
    "bs.CScriptWitness(witness)"
   ]
  },
  {
   "cell_type": "code",
   "execution_count": 78,
   "id": "775d6fbc",
   "metadata": {},
   "outputs": [],
   "source": [
    "bobSignedFundingTx = bc.CTransaction(\n",
    "    vin=fundingTx.vin,\n",
    "    vout=fundingTx.vout,\n",
    "    witness=bc.CTxWitness([bc.CTxInWitness(bs.CScriptWitness(witness))]))"
   ]
  },
  {
   "cell_type": "markdown",
   "id": "a8dc9c2d",
   "metadata": {},
   "source": [
    "### Send offer reply"
   ]
  },
  {
   "cell_type": "code",
   "execution_count": 79,
   "id": "da9c85cf",
   "metadata": {},
   "outputs": [
    {
     "data": {
      "text/plain": [
       "{'id': 'c0bdd96e3bbd2e4b4575bf465fbd975e3753dbd4cd4923870828689e171a3868',\n",
       " 'nodeAddr': 'bob-lnd',\n",
       " 'nodePubKey': '029e06e3586e8de2e970c16d389b22c9a2d1beacdb2cd2d900472334c4a9cd8908',\n",
       " 'channelId': '687cea81ef36ce5d2deda090171bda2e733e31568fd04e2cf74d54bfe0753036',\n",
       " 'chanPubKey2': b'\\x02\\xb2\\x9e\\xe9\\xe5\\xed\\xdc\\xa0\\xf344\\xcfdT\\xdb\\xe2\\xbe\\xcb\\xe2\\x86\\xb93?\\xfa\\x9b\\x80\\x1f\\x12\\xb6\\xdf\\xef)\\x97',\n",
       " 'fundingOutputIdx': 0,\n",
       " 'fundingTx': CTransaction((CTxIn(COutPoint(lx('18312e0b38fc404be7ac9c23303d05b4a4c303d8e19e6d9d665cdef5a162a340'), 0), CScript([]), 0xffffffff), CTxIn(COutPoint(lx('0c29d7d862b3b670f79d7f57eda0a512332f96e68a377535e70c14b82582001d'), 0), CScript([]), 0xffffffff)), (CTxOut(0.161*COIN, CScript([0, x('eebd4b5e50d80a16388c9d1ec0db26047afba0f724c1283f17068ec9f265afab')])), CTxOut(49.8399295*COIN, CScript([0, x('34086da2b8920974cdd10f4ab371da0457e12678')])), CTxOut(49.9989295*COIN, CScript([0, x('c8b6f8f6278d569194004ba1def4717803d753be')]))), 0, 1, CTxWitness(CTxInWitness(CScriptWitness(x('30440220284ed16e42f1c3cf4c6ff7a6a760e30073c6e43277c7f0ad53cf6c083a5f4abb0220149e2bdaa4c4c02ecf93aedc9402340c84181f132cdc708361040a5fd26552e301'),x('03ddefeb041853a73fe4d78e18e28b0f8f2fd833a2de86f176f773417cfd59b3d5')))))}"
      ]
     },
     "execution_count": 79,
     "metadata": {},
     "output_type": "execute_result"
    }
   ],
   "source": [
    "offerReply = {\n",
    "    'id': offer['id'],\n",
    "    'nodeAddr': 'bob-lnd', # sending for extra check\n",
    "    'nodePubKey': bobNodePubKey,\n",
    "    'channelId': channelId,\n",
    "    'chanPubKey2': bobKeyDesc.raw_key_bytes,\n",
    "    'fundingOutputIdx': fundingOutputIdx,\n",
    "    'fundingTx': bobSignedFundingTx\n",
    "}\n",
    "offerReply"
   ]
  },
  {
   "cell_type": "markdown",
   "id": "5adcc469",
   "metadata": {},
   "source": [
    "## Ali checks offer reply and commits funding tx"
   ]
  },
  {
   "cell_type": "markdown",
   "id": "48ef0f2a",
   "metadata": {},
   "source": [
    "### Check offer reply message"
   ]
  },
  {
   "cell_type": "code",
   "execution_count": 80,
   "id": "547cf876",
   "metadata": {},
   "outputs": [],
   "source": [
    "# check id\n",
    "assert offer['id'] == offerReply['id']"
   ]
  },
  {
   "cell_type": "code",
   "execution_count": 81,
   "id": "d0dc9b37",
   "metadata": {},
   "outputs": [],
   "source": [
    "# check connection\n",
    "peers = ali.lnd.ListPeers(lnmsg.ListPeersRequest())\n",
    "assert peers.peers[0].pub_key == offerReply['nodePubKey']\n",
    "# we can also check `nodeAddr`"
   ]
  },
  {
   "cell_type": "markdown",
   "id": "106751db",
   "metadata": {},
   "source": [
    "### Check transaction"
   ]
  },
  {
   "cell_type": "code",
   "execution_count": 82,
   "id": "71396ff3",
   "metadata": {},
   "outputs": [],
   "source": [
    "tx = offerReply['fundingTx']\n",
    "\n",
    "# check that our input was included. For simplicity assume we are the last\n",
    "assert tx.vin[-1] == offer['inputs'][0]\n",
    "\n",
    "# check that our change output was included\n",
    "assert tx.vout[-1] == offer['change']\n",
    "\n",
    "# check that signature is valid. For simplicity just check that it's present\n",
    "assert tx.wit is not None"
   ]
  },
  {
   "cell_type": "markdown",
   "id": "90b9694a",
   "metadata": {},
   "source": [
    "### Check funding output"
   ]
  },
  {
   "cell_type": "code",
   "execution_count": 83,
   "id": "f6112b40",
   "metadata": {},
   "outputs": [],
   "source": [
    "premiumAmount = offer['premiumAmount']\n",
    "fundAmount = offer['fundAmount']"
   ]
  },
  {
   "cell_type": "code",
   "execution_count": 84,
   "id": "e0c3fd24",
   "metadata": {},
   "outputs": [],
   "source": [
    "takerPubKey = offer['chanPubKey1'] # ali\n",
    "makerPubKey = offerReply['chanPubKey2'] # bob"
   ]
  },
  {
   "cell_type": "code",
   "execution_count": 85,
   "id": "f9f5190c",
   "metadata": {},
   "outputs": [],
   "source": [
    "# https://github.com/lightningnetwork/lightning-rfc/blob/master/03-transactions.md#funding-transaction-output\n",
    "# https://github.com/bitcoin/bips/blob/master/bip-0069.mediawiki\n",
    "if list(makerPubKey) > list(takerPubKey):\n",
    "    pk1, pk2 = takerPubKey, makerPubKey\n",
    "else:\n",
    "    pk1, pk2 = makerPubKey, takerPubKey"
   ]
  },
  {
   "cell_type": "code",
   "execution_count": 86,
   "id": "e71a6cfd",
   "metadata": {},
   "outputs": [],
   "source": [
    "msigScript = bs.CScript([\n",
    "        bs.OP_2,\n",
    "        pk1,\n",
    "        pk2,\n",
    "        bs.OP_2,\n",
    "        bs.OP_CHECKMULTISIG\n",
    "    ])"
   ]
  },
  {
   "cell_type": "code",
   "execution_count": 87,
   "id": "1903c805",
   "metadata": {},
   "outputs": [],
   "source": [
    "# convert to P2WSH\n",
    "scriptPubKey = bc.CScript([bs.OP_0, hashlib.sha256(msigScript).digest()])\n",
    "assert scriptPubKey.is_witness_v0_scripthash()"
   ]
  },
  {
   "cell_type": "code",
   "execution_count": 88,
   "id": "1cb9b003",
   "metadata": {},
   "outputs": [],
   "source": [
    "fundingOutput = bc.CTxOut(premiumAmount + fundAmount,\n",
    "                          scriptPubKey)\n",
    "assert fundingOutput == tx.vout[0]"
   ]
  },
  {
   "cell_type": "markdown",
   "id": "5d896c1f",
   "metadata": {},
   "source": [
    "### Open pending channel"
   ]
  },
  {
   "cell_type": "code",
   "execution_count": 89,
   "id": "945f5a37",
   "metadata": {},
   "outputs": [
    {
     "data": {
      "text/plain": [
       "CTransaction((CTxIn(COutPoint(lx('18312e0b38fc404be7ac9c23303d05b4a4c303d8e19e6d9d665cdef5a162a340'), 0), CScript([]), 0xffffffff), CTxIn(COutPoint(lx('0c29d7d862b3b670f79d7f57eda0a512332f96e68a377535e70c14b82582001d'), 0), CScript([]), 0xffffffff)), (CTxOut(0.161*COIN, CScript([0, x('eebd4b5e50d80a16388c9d1ec0db26047afba0f724c1283f17068ec9f265afab')])), CTxOut(49.8399295*COIN, CScript([0, x('34086da2b8920974cdd10f4ab371da0457e12678')])), CTxOut(49.9989295*COIN, CScript([0, x('c8b6f8f6278d569194004ba1def4717803d753be')]))), 0, 1, CTxWitness(CTxInWitness(CScriptWitness(x('30440220284ed16e42f1c3cf4c6ff7a6a760e30073c6e43277c7f0ad53cf6c083a5f4abb0220149e2bdaa4c4c02ecf93aedc9402340c84181f132cdc708361040a5fd26552e301'),x('03ddefeb041853a73fe4d78e18e28b0f8f2fd833a2de86f176f773417cfd59b3d5')))))"
      ]
     },
     "execution_count": 89,
     "metadata": {},
     "output_type": "execute_result"
    }
   ],
   "source": [
    "offerReply['fundingTx']"
   ]
  },
  {
   "cell_type": "code",
   "execution_count": 90,
   "id": "cf5f9018",
   "metadata": {},
   "outputs": [],
   "source": [
    "chan_point = lnmsg.ChannelPoint(funding_txid_bytes=offerReply['fundingTx'].GetTxid(),\n",
    "                                output_index=offerReply['fundingOutputIdx'])"
   ]
  },
  {
   "cell_type": "code",
   "execution_count": 91,
   "id": "72aa7431",
   "metadata": {},
   "outputs": [],
   "source": [
    "# our funding key\n",
    "local_key = lnmsg.KeyDescriptor(\n",
    "    raw_key_bytes=aliKeyDesc.raw_key_bytes,\n",
    "    key_loc=lnmsg.KeyLocator(\n",
    "        key_family=aliKeyDesc.key_loc.key_family,\n",
    "        key_index=aliKeyDesc.key_loc.key_index\n",
    "    )\n",
    ")"
   ]
  },
  {
   "cell_type": "code",
   "execution_count": 92,
   "id": "816f2cfe",
   "metadata": {},
   "outputs": [],
   "source": [
    "premiumAmount = offer['premiumAmount']\n",
    "fundAmount = offer['fundAmount']"
   ]
  },
  {
   "cell_type": "code",
   "execution_count": 93,
   "id": "799f5b3d",
   "metadata": {},
   "outputs": [],
   "source": [
    "chan_point_shim = lnmsg.ChanPointShim(\n",
    "    amt=offer['fundAmount'] + offer['premiumAmount'],\n",
    "    chan_point=chan_point,\n",
    "    local_key=local_key,\n",
    "    remote_key=offerReply['chanPubKey2'],\n",
    "    pending_chan_id=unhexlify(offerReply['channelId']),\n",
    "    thaw_height=0 # for simplicity\n",
    ")"
   ]
  },
  {
   "cell_type": "code",
   "execution_count": 94,
   "id": "bbf23d09",
   "metadata": {},
   "outputs": [],
   "source": [
    "funding_shim = lnmsg.FundingShim(chan_point_shim=chan_point_shim)"
   ]
  },
  {
   "cell_type": "code",
   "execution_count": 95,
   "id": "49758d2f",
   "metadata": {},
   "outputs": [],
   "source": [
    "open_chan_req = lnmsg.OpenChannelRequest(\n",
    "    node_pubkey=unhexlify(offerReply['nodePubKey']),\n",
    "    local_funding_amount=offer['fundAmount'] + offer['premiumAmount'],\n",
    "    push_sat=offer['fundAmount'], # fund amount is pushed to the remote end (Bob)\n",
    "    funding_shim=funding_shim\n",
    ")"
   ]
  },
  {
   "cell_type": "code",
   "execution_count": 96,
   "id": "a5a6bcf8",
   "metadata": {},
   "outputs": [],
   "source": [
    "chanEventStream = ali.lnd.OpenChannel(open_chan_req)"
   ]
  },
  {
   "cell_type": "code",
   "execution_count": 97,
   "id": "e13c8e64",
   "metadata": {},
   "outputs": [
    {
     "data": {
      "text/plain": [
       "chan_pending {\n",
       "  txid: \"\\263\\263\\377\\332H\\027Yl\\035g\\320{^z8\\330\\226\\247\\331\\372\\351\\213DC\\025kDx=\\260\\352\\270\"\n",
       "}\n",
       "pending_chan_id: \"h|\\352\\201\\3576\\316]-\\355\\240\\220\\027\\033\\332.s>1V\\217\\320N,\\367MT\\277\\340u06\""
      ]
     },
     "execution_count": 97,
     "metadata": {},
     "output_type": "execute_result"
    }
   ],
   "source": [
    "next(chanEventStream)"
   ]
  },
  {
   "cell_type": "code",
   "execution_count": 98,
   "id": "30d9c609",
   "metadata": {},
   "outputs": [
    {
     "data": {
      "text/plain": [
       "pending_open_channels {\n",
       "  channel {\n",
       "    remote_node_pub: \"029e06e3586e8de2e970c16d389b22c9a2d1beacdb2cd2d900472334c4a9cd8908\"\n",
       "    channel_point: \"b8eab03d78446b1543448be9fad9a796d8387a5e7bd0671d6c591748daffb3b3:0\"\n",
       "    capacity: 16100000\n",
       "    local_balance: 90950\n",
       "    remote_balance: 16000000\n",
       "    local_chan_reserve_sat: 161000\n",
       "    remote_chan_reserve_sat: 161000\n",
       "    initiator: INITIATOR_LOCAL\n",
       "    commitment_type: STATIC_REMOTE_KEY\n",
       "  }\n",
       "  commit_fee: 9050\n",
       "  commit_weight: 724\n",
       "  fee_per_kw: 12500\n",
       "}"
      ]
     },
     "execution_count": 98,
     "metadata": {},
     "output_type": "execute_result"
    }
   ],
   "source": [
    "# check that the channel is pending\n",
    "ali.lnd.PendingChannels(lnmsg.PendingChannelsRequest())"
   ]
  },
  {
   "cell_type": "markdown",
   "id": "9259ea65",
   "metadata": {},
   "source": [
    "### Sign funding tx"
   ]
  },
  {
   "cell_type": "code",
   "execution_count": 99,
   "id": "78ac3949",
   "metadata": {},
   "outputs": [],
   "source": [
    "# for simplicity assume single input\n",
    "assert len(aliDummyPsbtDecoded['inputs']) == 1"
   ]
  },
  {
   "cell_type": "code",
   "execution_count": 100,
   "id": "a8e3bdc9",
   "metadata": {},
   "outputs": [],
   "source": [
    "# for simplicity assume single signing key\n",
    "assert len(aliDummyPsbtDecoded['inputs'][0]['bip32_derivs']) == 1"
   ]
  },
  {
   "cell_type": "code",
   "execution_count": 101,
   "id": "4161a3a6",
   "metadata": {},
   "outputs": [
    {
     "data": {
      "text/plain": [
       "{'witness_utxo': {'amount': Decimal('50.00000000'),\n",
       "  'scriptPubKey': {'asm': '0 2aa244260b5f080d8b348807d9b1e28565e13dfc',\n",
       "   'hex': '00142aa244260b5f080d8b348807d9b1e28565e13dfc',\n",
       "   'type': 'witness_v0_keyhash',\n",
       "   'address': 'bcrt1q923ygfsttuyqmze53qranv0zs4j7z00ulatthe'}},\n",
       " 'non_witness_utxo': {'txid': '0c29d7d862b3b670f79d7f57eda0a512332f96e68a377535e70c14b82582001d',\n",
       "  'hash': 'a0501b8219736c83b78e84b84bc9130ede6a0cb523df30f23ec9f30066b524ad',\n",
       "  'version': 2,\n",
       "  'size': 168,\n",
       "  'vsize': 141,\n",
       "  'weight': 564,\n",
       "  'locktime': 0,\n",
       "  'vin': [{'coinbase': '510101',\n",
       "    'txinwitness': ['0000000000000000000000000000000000000000000000000000000000000000'],\n",
       "    'sequence': 4294967295}],\n",
       "  'vout': [{'value': Decimal('50.00000000'),\n",
       "    'n': 0,\n",
       "    'scriptPubKey': {'asm': '0 2aa244260b5f080d8b348807d9b1e28565e13dfc',\n",
       "     'hex': '00142aa244260b5f080d8b348807d9b1e28565e13dfc',\n",
       "     'reqSigs': 1,\n",
       "     'type': 'witness_v0_keyhash',\n",
       "     'addresses': ['bcrt1q923ygfsttuyqmze53qranv0zs4j7z00ulatthe']}},\n",
       "   {'value': Decimal('0E-8'),\n",
       "    'n': 1,\n",
       "    'scriptPubKey': {'asm': 'OP_RETURN aa21a9ede2f61c3f71d1defd3fa999dfa36953755c690689799962b48bebd836974e8cf9',\n",
       "     'hex': '6a24aa21a9ede2f61c3f71d1defd3fa999dfa36953755c690689799962b48bebd836974e8cf9',\n",
       "     'type': 'nulldata'}}]},\n",
       " 'sighash': 'ALL',\n",
       " 'bip32_derivs': [{'pubkey': '0204582d85eafdbe58180f979d39c7f762e5f1b337c3bc889ec937f6201dfadb13',\n",
       "   'master_fingerprint': '00000000',\n",
       "   'path': \"m/84'/0'/0'/0/1\"}]}"
      ]
     },
     "execution_count": 101,
     "metadata": {},
     "output_type": "execute_result"
    }
   ],
   "source": [
    "input_ = aliDummyPsbtDecoded['inputs'][0]\n",
    "input_"
   ]
  },
  {
   "cell_type": "code",
   "execution_count": 102,
   "id": "36454e5f",
   "metadata": {},
   "outputs": [
    {
     "data": {
      "text/plain": [
       "P2WPKHBitcoinAddress('bcrt1q923ygfsttuyqmze53qranv0zs4j7z00ulatthe')"
      ]
     },
     "execution_count": 102,
     "metadata": {},
     "output_type": "execute_result"
    }
   ],
   "source": [
    "scriptPubKey = input_['witness_utxo']['scriptPubKey']['hex']\n",
    "scriptPubKey = bs.CScript(unhexlify(scriptPubKey))\n",
    "\n",
    "utxoAddr = bw.CBitcoinAddress.from_scriptPubKey(scriptPubKey)\n",
    "utxoAddr"
   ]
  },
  {
   "cell_type": "code",
   "execution_count": 103,
   "id": "026c08bf",
   "metadata": {},
   "outputs": [
    {
     "data": {
      "text/plain": [
       "b'\\x02\\x04X-\\x85\\xea\\xfd\\xbeX\\x18\\x0f\\x97\\x9d9\\xc7\\xf7b\\xe5\\xf1\\xb37\\xc3\\xbc\\x88\\x9e\\xc97\\xf6 \\x1d\\xfa\\xdb\\x13'"
      ]
     },
     "execution_count": 103,
     "metadata": {},
     "output_type": "execute_result"
    }
   ],
   "source": [
    "# our UTXO pubkey\n",
    "assert len(input_['bip32_derivs']) == 1\n",
    "pubkey = input_['bip32_derivs'][0]['pubkey']\n",
    "pubkey = unhexlify(pubkey)\n",
    "pubkey"
   ]
  },
  {
   "cell_type": "code",
   "execution_count": 104,
   "id": "04fba9c5",
   "metadata": {},
   "outputs": [],
   "source": [
    "# create copy of other party's signed transaction\n",
    "finalFundingTx = bc.CMutableTransaction(\n",
    "    vin=offerReply['fundingTx'].vin,\n",
    "    vout=offerReply['fundingTx'].vout\n",
    ")"
   ]
  },
  {
   "cell_type": "code",
   "execution_count": 105,
   "id": "d56ae515",
   "metadata": {},
   "outputs": [],
   "source": [
    "sign_desc = signmsg.SignDescriptor(\n",
    "    key_desc=signmsg.KeyDescriptor(\n",
    "        raw_key_bytes=pubkey\n",
    "    ),\n",
    "    witness_script=utxoAddr.to_redeemScript(),\n",
    "    output=signmsg.TxOut(\n",
    "        value=int(input_['witness_utxo']['amount'] * bc.COIN),\n",
    "        pk_script=utxoAddr.to_scriptPubKey()\n",
    "    ),\n",
    "    sighash=bs.SIGHASH_ALL, # so that transaction cannot be altered\n",
    "    input_index=len(fundingTx.vin) - 1 # assume we are the last one\n",
    ")"
   ]
  },
  {
   "cell_type": "code",
   "execution_count": 106,
   "id": "c04cbe0b",
   "metadata": {},
   "outputs": [],
   "source": [
    "signReq = signmsg.SignReq(\n",
    "    raw_tx_bytes=finalFundingTx.serialize(),\n",
    "    sign_descs=[sign_desc]\n",
    ")"
   ]
  },
  {
   "cell_type": "code",
   "execution_count": 107,
   "id": "24bce974",
   "metadata": {},
   "outputs": [
    {
     "data": {
      "text/plain": [
       "raw_sigs: \"0E\\002!\\000\\340\\260\\271\\374\\035SQ$p\\303\\367\\035\\357u\\233\\315r\\tg\\316*t\\271m\\273t\\254dg\\0223`\\002 hW\\030\\020\\013\\340z\\357\\221P\\214V\\363\\006 \\252\\361\\014d\\301\\345+\\313%\\224\\316ce\\341\\001^\\212\""
      ]
     },
     "execution_count": 107,
     "metadata": {},
     "output_type": "execute_result"
    }
   ],
   "source": [
    "aliSignResp = ali.signer.SignOutputRaw(signReq)\n",
    "aliSignResp"
   ]
  },
  {
   "cell_type": "code",
   "execution_count": 108,
   "id": "8bc2b6ec",
   "metadata": {},
   "outputs": [],
   "source": [
    "signature = aliSignResp.raw_sigs[0] + bytes([bs.SIGHASH_ALL])"
   ]
  },
  {
   "cell_type": "code",
   "execution_count": 109,
   "id": "9d0dd108",
   "metadata": {},
   "outputs": [
    {
     "data": {
      "text/plain": [
       "CTxInWitness(CScriptWitness(x('3045022100e0b0b9fc1d53512470c3f71def759bcd720967ce2a74b96dbb74ac64671233600220685718100be07aef91508c56f30620aaf10c64c1e52bcb2594ce6365e1015e8a01'),x('0204582d85eafdbe58180f979d39c7f762e5f1b337c3bc889ec937f6201dfadb13')))"
      ]
     },
     "execution_count": 109,
     "metadata": {},
     "output_type": "execute_result"
    }
   ],
   "source": [
    "witness = [signature, pubkey]\n",
    "witness = bc.CTxInWitness(bs.CScriptWitness(witness))\n",
    "witness"
   ]
  },
  {
   "cell_type": "code",
   "execution_count": 110,
   "id": "4bccea86",
   "metadata": {},
   "outputs": [],
   "source": [
    "# combine signatures\n",
    "finalFundingTx.wit = bc.CTxWitness([offerReply['fundingTx'].wit.vtxinwit[0], witness])"
   ]
  },
  {
   "cell_type": "markdown",
   "id": "7c9c4723",
   "metadata": {},
   "source": [
    "### Submit funding transaction"
   ]
  },
  {
   "cell_type": "code",
   "execution_count": 111,
   "id": "5e8dd64b",
   "metadata": {},
   "outputs": [
    {
     "data": {
      "text/plain": [
       "b'\\xb3\\xb3\\xff\\xdaH\\x17Yl\\x1dg\\xd0{^z8\\xd8\\x96\\xa7\\xd9\\xfa\\xe9\\x8bDC\\x15kDx=\\xb0\\xea\\xb8'"
      ]
     },
     "execution_count": 111,
     "metadata": {},
     "output_type": "execute_result"
    }
   ],
   "source": [
    "fundingTxId2 = brpc.sendrawtransaction(finalFundingTx)\n",
    "fundingTxId2"
   ]
  },
  {
   "cell_type": "code",
   "execution_count": 112,
   "id": "27f2a794",
   "metadata": {},
   "outputs": [],
   "source": [
    "assert fundingTxId2 == fundingTxId"
   ]
  },
  {
   "cell_type": "code",
   "execution_count": 113,
   "id": "cabf2d9b",
   "metadata": {},
   "outputs": [],
   "source": [
    "_ = list(brpc.generatetoaddress(6, minerAddr))"
   ]
  },
  {
   "cell_type": "markdown",
   "id": "66b191ae",
   "metadata": {},
   "source": [
    "### Check that the channel has been opened"
   ]
  },
  {
   "cell_type": "code",
   "execution_count": 114,
   "id": "470726e2",
   "metadata": {},
   "outputs": [
    {
     "data": {
      "text/plain": []
     },
     "execution_count": 114,
     "metadata": {},
     "output_type": "execute_result"
    }
   ],
   "source": [
    "# should be no pending channels\n",
    "ali.lnd.PendingChannels(lnmsg.PendingChannelsRequest())"
   ]
  },
  {
   "cell_type": "code",
   "execution_count": 115,
   "id": "7678494a",
   "metadata": {},
   "outputs": [
    {
     "data": {
      "text/plain": [
       "channels {\n",
       "  active: true\n",
       "  remote_pubkey: \"029e06e3586e8de2e970c16d389b22c9a2d1beacdb2cd2d900472334c4a9cd8908\"\n",
       "  channel_point: \"b8eab03d78446b1543448be9fad9a796d8387a5e7bd0671d6c591748daffb3b3:0\"\n",
       "  chan_id: 124244814004224\n",
       "  capacity: 16100000\n",
       "  local_balance: 90950\n",
       "  remote_balance: 16000000\n",
       "  commit_fee: 9050\n",
       "  commit_weight: 724\n",
       "  fee_per_kw: 12500\n",
       "  csv_delay: 1934\n",
       "  initiator: true\n",
       "  chan_status_flags: \"ChanStatusDefault\"\n",
       "  local_chan_reserve_sat: 161000\n",
       "  remote_chan_reserve_sat: 161000\n",
       "  static_remote_key: true\n",
       "  lifetime: 27\n",
       "  uptime: 27\n",
       "  commitment_type: STATIC_REMOTE_KEY\n",
       "  push_amount_sat: 16000000\n",
       "  local_constraints {\n",
       "    csv_delay: 1934\n",
       "    chan_reserve_sat: 161000\n",
       "    dust_limit_sat: 573\n",
       "    max_pending_amt_msat: 15939000000\n",
       "    min_htlc_msat: 1\n",
       "    max_accepted_htlcs: 483\n",
       "  }\n",
       "  remote_constraints {\n",
       "    csv_delay: 1934\n",
       "    chan_reserve_sat: 161000\n",
       "    dust_limit_sat: 573\n",
       "    max_pending_amt_msat: 15939000000\n",
       "    min_htlc_msat: 1\n",
       "    max_accepted_htlcs: 483\n",
       "  }\n",
       "}"
      ]
     },
     "execution_count": 115,
     "metadata": {},
     "output_type": "execute_result"
    }
   ],
   "source": [
    "ali.lnd.ListChannels(lnmsg.ListChannelsRequest())"
   ]
  },
  {
   "cell_type": "code",
   "execution_count": null,
   "id": "7a56111e",
   "metadata": {},
   "outputs": [],
   "source": []
  }
 ],
 "metadata": {
  "kernelspec": {
   "display_name": "Python 3",
   "language": "python",
   "name": "python3"
  },
  "language_info": {
   "codemirror_mode": {
    "name": "ipython",
    "version": 3
   },
   "file_extension": ".py",
   "mimetype": "text/x-python",
   "name": "python",
   "nbconvert_exporter": "python",
   "pygments_lexer": "ipython3",
   "version": "3.8.8"
  }
 },
 "nbformat": 4,
 "nbformat_minor": 5
}
