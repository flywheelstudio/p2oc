{
 "cells": [
  {
   "cell_type": "markdown",
   "id": "b761c482",
   "metadata": {},
   "source": [
    "# Open double-funded channel without intermediary"
   ]
  },
  {
   "cell_type": "code",
   "execution_count": null,
   "id": "b502b82b",
   "metadata": {},
   "outputs": [],
   "source": [
    "%load_ext autoreload\n",
    "%autoreload 2"
   ]
  },
  {
   "cell_type": "markdown",
   "id": "0287ee1d",
   "metadata": {},
   "source": [
    "## Setup LND clients for Ali and Bob"
   ]
  },
  {
   "cell_type": "code",
   "execution_count": null,
   "id": "a073556e",
   "metadata": {},
   "outputs": [],
   "source": [
    "import sys"
   ]
  },
  {
   "cell_type": "code",
   "execution_count": null,
   "id": "848eb085",
   "metadata": {},
   "outputs": [],
   "source": [
    "# LND GRPC bindings should be in '/home/jovyan/lnrpc'\n",
    "sys.path.append('/home/jovyan/lnrpc')"
   ]
  },
  {
   "cell_type": "code",
   "execution_count": null,
   "id": "ef0712d7",
   "metadata": {},
   "outputs": [],
   "source": [
    "%%sh\n",
    "sudo cp /ali-lnd/data/chain/bitcoin/regtest/admin.macaroon /tmp/ali.macaroon\n",
    "sudo chmod +r /tmp/ali.macaroon\n",
    "\n",
    "sudo cp /bob-lnd/data/chain/bitcoin/regtest/admin.macaroon /tmp/bob.macaroon\n",
    "sudo chmod +r /tmp/bob.macaroon"
   ]
  },
  {
   "cell_type": "code",
   "execution_count": null,
   "id": "f4a4d351",
   "metadata": {},
   "outputs": [],
   "source": [
    "from p2oc.lnd_rpc import LndRpc, lnmsg, walletmsg, signrpc, signmsg, routermsg"
   ]
  },
  {
   "cell_type": "code",
   "execution_count": null,
   "id": "5b444c5b",
   "metadata": {},
   "outputs": [],
   "source": [
    "ali = LndRpc(host='ali-lnd:10009',\n",
    "             cert_path='/ali-lnd/tls.cert',\n",
    "             macaroon_path='/tmp/ali.macaroon')"
   ]
  },
  {
   "cell_type": "code",
   "execution_count": null,
   "id": "471961c4",
   "metadata": {},
   "outputs": [],
   "source": [
    "bob = LndRpc(host='bob-lnd:10009',\n",
    "             cert_path='/bob-lnd/tls.cert',\n",
    "             macaroon_path='/tmp/bob.macaroon')"
   ]
  },
  {
   "cell_type": "code",
   "execution_count": null,
   "id": "6d55f7ce",
   "metadata": {},
   "outputs": [],
   "source": [
    "aliNodePubKey = ali.lnd.GetInfo(lnmsg.GetInfoRequest()).identity_pubkey\n",
    "aliNodePubKey"
   ]
  },
  {
   "cell_type": "code",
   "execution_count": null,
   "id": "b83505ed",
   "metadata": {},
   "outputs": [],
   "source": [
    "bobNodePubKey = bob.lnd.GetInfo(lnmsg.GetInfoRequest()).identity_pubkey\n",
    "bobNodePubKey"
   ]
  },
  {
   "cell_type": "markdown",
   "id": "11ad5f6d",
   "metadata": {},
   "source": [
    "## Fund Ali and Bob"
   ]
  },
  {
   "cell_type": "code",
   "execution_count": null,
   "id": "ed345e66",
   "metadata": {},
   "outputs": [],
   "source": [
    "import os\n",
    "import bitcoin\n",
    "from p2oc.btc_rpc import Proxy, Config"
   ]
  },
  {
   "cell_type": "code",
   "execution_count": null,
   "id": "7fe8b26f",
   "metadata": {},
   "outputs": [],
   "source": [
    "bitcoin.SelectParams('regtest')"
   ]
  },
  {
   "cell_type": "code",
   "execution_count": null,
   "id": "37f464d0",
   "metadata": {},
   "outputs": [],
   "source": [
    "# only used to mine initial coins for Ali and Bob\n",
    "brpc = Proxy(config=Config(\n",
    "    rpcuser=os.environ['BTCD_RPCUSER'],\n",
    "    rpcpassword=os.environ['BTCD_RPCPASS'],\n",
    "    rpcconnect='bitcoind',\n",
    "    rpcport=18443\n",
    "))"
   ]
  },
  {
   "cell_type": "code",
   "execution_count": null,
   "id": "e39c0bf0",
   "metadata": {},
   "outputs": [],
   "source": [
    "brpc.getblockcount()"
   ]
  },
  {
   "cell_type": "code",
   "execution_count": null,
   "id": "de478699",
   "metadata": {},
   "outputs": [],
   "source": [
    "aliAddr = ali.lnd.NewAddress(lnmsg.NewAddressRequest(type=0)) # p2wkh\n",
    "aliAddr"
   ]
  },
  {
   "cell_type": "code",
   "execution_count": null,
   "id": "a4ff8e8a",
   "metadata": {},
   "outputs": [],
   "source": [
    "bobAddr = bob.lnd.NewAddress(lnmsg.NewAddressRequest(type=0)) # p2wkh\n",
    "bobAddr"
   ]
  },
  {
   "cell_type": "code",
   "execution_count": null,
   "id": "98adbc57",
   "metadata": {},
   "outputs": [],
   "source": [
    "# fund ali\n",
    "_ = list(brpc.generatetoaddress(1, aliAddr.address))"
   ]
  },
  {
   "cell_type": "code",
   "execution_count": null,
   "id": "545bd43c",
   "metadata": {},
   "outputs": [],
   "source": [
    "# fund bob\n",
    "_ = list(brpc.generatetoaddress(1, bobAddr.address))"
   ]
  },
  {
   "cell_type": "code",
   "execution_count": null,
   "id": "ebf90969",
   "metadata": {},
   "outputs": [],
   "source": [
    "brpc.createwallet('miner')\n",
    "minerAddr = brpc.getnewaddress(\"coinbase\")\n",
    "brpc.unloadwallet('miner')"
   ]
  },
  {
   "cell_type": "code",
   "execution_count": null,
   "id": "c07b4145",
   "metadata": {},
   "outputs": [],
   "source": [
    "# unlock mined coins\n",
    "_ = list(brpc.generatetoaddress(110, minerAddr))"
   ]
  },
  {
   "cell_type": "code",
   "execution_count": null,
   "id": "d49a5cc9",
   "metadata": {},
   "outputs": [],
   "source": [
    "ali.lnd.WalletBalance(lnmsg.WalletBalanceRequest())"
   ]
  },
  {
   "cell_type": "code",
   "execution_count": null,
   "id": "6050d435",
   "metadata": {},
   "outputs": [],
   "source": [
    "bob.lnd.WalletBalance(lnmsg.WalletBalanceRequest())"
   ]
  },
  {
   "cell_type": "markdown",
   "id": "36f804f1",
   "metadata": {},
   "source": [
    "### Create dummy address"
   ]
  },
  {
   "cell_type": "code",
   "execution_count": null,
   "id": "49410a29",
   "metadata": {},
   "outputs": [],
   "source": [
    "import hashlib\n",
    "import time\n",
    "import base64\n",
    "\n",
    "import bitcoin.core.script as bs\n",
    "import bitcoin.wallet as bw"
   ]
  },
  {
   "cell_type": "code",
   "execution_count": null,
   "id": "6d76ff56",
   "metadata": {},
   "outputs": [],
   "source": [
    "# create dummy P2WPKH address to call FundPsbt api\n",
    "h = hashlib.sha256(b'correct horse battery staple').digest()\n",
    "seckey = bw.CBitcoinSecret.from_secret_bytes(h)\n",
    "\n",
    "# Create an address from that private key.\n",
    "public_key = seckey.pub\n",
    "scriptPubKey = bs.CScript([bs.OP_0, bs.Hash160(public_key)])\n",
    "dummy_address = bw.P2WPKHBitcoinAddress.from_scriptPubKey(scriptPubKey)\n",
    "dummy_address"
   ]
  },
  {
   "cell_type": "markdown",
   "id": "0d0207e6",
   "metadata": {},
   "source": [
    "## Ali creates public offer to request inbound liquidity in exchange for a fee"
   ]
  },
  {
   "cell_type": "code",
   "execution_count": null,
   "id": "ba35b07f",
   "metadata": {},
   "outputs": [],
   "source": [
    "from bitcointx.core.psbt import PartiallySignedTransaction, PSBT_ProprietaryTypeData, PSBT_Output\n",
    "import bitcointx.core as bc\n",
    "import bitcointx.core.script as bs\n",
    "COIN = bc.CoreCoinParams.COIN\n",
    "\n",
    "from bitcoin.rpc import hexlify, unhexlify\n",
    "\n",
    "# NOTE: bitcoin and bitcointx don't play well together"
   ]
  },
  {
   "cell_type": "markdown",
   "id": "90f85af6",
   "metadata": {},
   "source": [
    "### Allocate funds"
   ]
  },
  {
   "cell_type": "code",
   "execution_count": null,
   "id": "21847106",
   "metadata": {},
   "outputs": [],
   "source": [
    "# taker needs to pay premium to open channel\n",
    "premiumAmount = int(0.001 * COIN) # premium Ali is willing to pay\n",
    "fundAmount = int(0.16 * COIN) # requested inbound capacity"
   ]
  },
  {
   "cell_type": "code",
   "execution_count": null,
   "id": "3033d2a9",
   "metadata": {},
   "outputs": [],
   "source": [
    "# create dummy psbt to extract 'funding' UTXO and change addresses\n",
    "tx_template = walletmsg.TxTemplate(outputs={str(dummy_address): premiumAmount})\n",
    "\n",
    "psbtRequest = walletmsg.FundPsbtRequest(raw=tx_template, target_conf=6)"
   ]
  },
  {
   "cell_type": "code",
   "execution_count": null,
   "id": "45308436",
   "metadata": {},
   "outputs": [],
   "source": [
    "psbt = ali.wallet.FundPsbt(request=psbtRequest)\n",
    "psbt"
   ]
  },
  {
   "cell_type": "code",
   "execution_count": null,
   "id": "c5811423",
   "metadata": {},
   "outputs": [],
   "source": [
    "change_output_index = psbt.change_output_index"
   ]
  },
  {
   "cell_type": "code",
   "execution_count": null,
   "id": "8b0a33e9",
   "metadata": {},
   "outputs": [],
   "source": [
    "# convert to python psbt object\n",
    "psbt = PartiallySignedTransaction.from_binary(psbt.funded_psbt)"
   ]
  },
  {
   "cell_type": "code",
   "execution_count": null,
   "id": "d056f1ac",
   "metadata": {},
   "outputs": [],
   "source": [
    "# remove dummy output\n",
    "assert len(psbt.unsigned_tx.vout) == 2, 'expect \"dummy\" and \"change\" outputs'\n",
    "\n",
    "# copy tx object\n",
    "tx = bc.CMutableTransaction.from_instance(psbt.unsigned_tx)\n",
    "# add change output\n",
    "tx.vout = [psbt.unsigned_tx.vout[change_output_index]]\n",
    "\n",
    "original_fee = psbt.get_fee()\n",
    "\n",
    "# update psbt\n",
    "psbt.unsigned_tx = tx\n",
    "psbt.outputs = [psbt.outputs[change_output_index]]\n",
    "psbt.outputs[0].index = 0\n",
    "\n",
    "# check that \"dummy\" output for premium was removed \n",
    "assert psbt.get_fee() == original_fee + premiumAmount"
   ]
  },
  {
   "cell_type": "markdown",
   "id": "d882c678",
   "metadata": {},
   "source": [
    "### Create offer"
   ]
  },
  {
   "cell_type": "code",
   "execution_count": null,
   "id": "63856223",
   "metadata": {},
   "outputs": [],
   "source": [
    "import json"
   ]
  },
  {
   "cell_type": "code",
   "execution_count": null,
   "id": "bba4e8d4",
   "metadata": {},
   "outputs": [],
   "source": [
    "# Generate pubkey for channel funding\n",
    "key_family = 0 # multisig?\n",
    "keyReq = walletmsg.KeyReq(key_family=key_family)\n",
    "aliKeyDesc = ali.wallet.DeriveNextKey(keyReq)\n",
    "# aliKeyDesc = ali.wallet.DeriveNextKey(keyReq) # need to call twice?\n",
    "aliKeyDesc"
   ]
  },
  {
   "cell_type": "code",
   "execution_count": null,
   "id": "3284b80e",
   "metadata": {},
   "outputs": [],
   "source": [
    "offerParams = {\n",
    "    'type': 'INBOUND_LIQUIDITY_REQUEST',\n",
    "    'nodeAddr': 'ali-lnd',\n",
    "    'nodePubKey': aliNodePubKey,\n",
    "    'premiumAmount': premiumAmount,\n",
    "    'fundAmount': fundAmount,\n",
    "    'chanPubKey1': hexlify(aliKeyDesc.raw_key_bytes)\n",
    "}\n",
    "offerParams"
   ]
  },
  {
   "cell_type": "code",
   "execution_count": null,
   "id": "74d5ef7e",
   "metadata": {},
   "outputs": [],
   "source": [
    "psbt.proprietary_fields[b'offer'] = [\n",
    "    PSBT_ProprietaryTypeData(0, b'params', json.dumps(offerParams).encode()),\n",
    "    PSBT_ProprietaryTypeData(0, b'signature', b'TODO ADD SIGNATURE'),\n",
    "]"
   ]
  },
  {
   "cell_type": "code",
   "execution_count": null,
   "id": "5aed292f",
   "metadata": {},
   "outputs": [],
   "source": [
    "offer = psbt.to_base64()\n",
    "del psbt # delete psbt so we don't accidentally leak some state to the other party\n",
    "offer"
   ]
  },
  {
   "cell_type": "markdown",
   "id": "6cc1a85c",
   "metadata": {},
   "source": [
    "## Bob accepts offer and sends reply"
   ]
  },
  {
   "cell_type": "markdown",
   "id": "8db6200e",
   "metadata": {},
   "source": [
    "### Check that the offer is still valid"
   ]
  },
  {
   "cell_type": "code",
   "execution_count": null,
   "id": "ce54d496",
   "metadata": {},
   "outputs": [],
   "source": [
    "psbt1 = PartiallySignedTransaction.from_base64(offer)\n",
    "psbt1"
   ]
  },
  {
   "cell_type": "code",
   "execution_count": null,
   "id": "226f294f",
   "metadata": {},
   "outputs": [],
   "source": [
    "offerParams = psbt1.proprietary_fields[b'offer'][0].value\n",
    "offerParams = json.loads(offerParams)\n",
    "offerParams"
   ]
  },
  {
   "cell_type": "code",
   "execution_count": null,
   "id": "e4e7ba05",
   "metadata": {},
   "outputs": [],
   "source": [
    "# check that funding UTXOs has not been spent\n",
    "# note we can't use `lnd.GetTransactions` since it only knows about our wallet's transactions\n",
    "# it's probably safe to skip this step because blockchain will prevent from double spending\n",
    "for vin in psbt1.unsigned_tx.vin:\n",
    "    utxo = brpc.gettxout(vin.prevout)\n",
    "    assert utxo is not None"
   ]
  },
  {
   "cell_type": "code",
   "execution_count": null,
   "id": "601da29f",
   "metadata": {},
   "outputs": [],
   "source": [
    "# for simplicity Bob is maker but it can take \"taker\" role as well\n",
    "assert offerParams['type'] == 'INBOUND_LIQUIDITY_REQUEST'"
   ]
  },
  {
   "cell_type": "code",
   "execution_count": null,
   "id": "ca89f110",
   "metadata": {},
   "outputs": [],
   "source": [
    "premiumAmount = offerParams['premiumAmount'] # Ali's premium to Bob\n",
    "fundAmount = offerParams['fundAmount'] # Bob funds this amount"
   ]
  },
  {
   "cell_type": "code",
   "execution_count": null,
   "id": "88b41787",
   "metadata": {},
   "outputs": [],
   "source": [
    "feesAmount = psbt1.get_fee() - premiumAmount\n",
    "assert feesAmount > 0\n",
    "feesAmount"
   ]
  },
  {
   "cell_type": "markdown",
   "id": "dfb82ccc",
   "metadata": {},
   "source": [
    "### Allocate funds"
   ]
  },
  {
   "cell_type": "code",
   "execution_count": null,
   "id": "378dc5d1",
   "metadata": {},
   "outputs": [],
   "source": [
    "# create dummy psbt to extract 'funding' UTXO and change addresses\n",
    "# user minerAddr as a dummy address to create psbt\n",
    "tx_template = walletmsg.TxTemplate(outputs={str(dummy_address): fundAmount})\n",
    "\n",
    "psbtRequest = walletmsg.FundPsbtRequest(raw=tx_template, target_conf=6)"
   ]
  },
  {
   "cell_type": "code",
   "execution_count": null,
   "id": "b5d6771d",
   "metadata": {},
   "outputs": [],
   "source": [
    "psbt2 = bob.wallet.FundPsbt(request=psbtRequest)\n",
    "psbt2"
   ]
  },
  {
   "cell_type": "code",
   "execution_count": null,
   "id": "500b9a8f",
   "metadata": {},
   "outputs": [],
   "source": [
    "change_output_index = psbt2.change_output_index"
   ]
  },
  {
   "cell_type": "code",
   "execution_count": null,
   "id": "28c76065",
   "metadata": {},
   "outputs": [],
   "source": [
    "# convert to python psbt object\n",
    "psbt2 = PartiallySignedTransaction.from_binary(psbt2.funded_psbt)"
   ]
  },
  {
   "cell_type": "code",
   "execution_count": null,
   "id": "1b5ec263",
   "metadata": {},
   "outputs": [],
   "source": [
    "# remove dummy output\n",
    "assert len(psbt2.unsigned_tx.vout) == 2, 'expect \"dummy\" and \"change\" outputs'\n",
    "\n",
    "# copy tx object\n",
    "tx = bc.CMutableTransaction.from_instance(psbt2.unsigned_tx)\n",
    "# add change output\n",
    "tx.vout = [psbt2.unsigned_tx.vout[change_output_index]]\n",
    "\n",
    "original_fee = psbt2.get_fee()\n",
    "\n",
    "# update psbt\n",
    "psbt2.unsigned_tx = tx\n",
    "psbt2.outputs = [psbt2.outputs[change_output_index]]\n",
    "psbt2.outputs[0].index = 0\n",
    "\n",
    "# check that \"dummy\" output for fundAmount was removed \n",
    "assert psbt2.get_fee() == original_fee + fundAmount"
   ]
  },
  {
   "cell_type": "markdown",
   "id": "343a179d",
   "metadata": {},
   "source": [
    "### Add our inputs and outputs to the offer psbt"
   ]
  },
  {
   "cell_type": "code",
   "execution_count": null,
   "id": "1b00c9b7",
   "metadata": {},
   "outputs": [],
   "source": [
    "for i, vin in enumerate(psbt2.unsigned_tx.vin):\n",
    "    inp = psbt2.inputs[i]\n",
    "    inp.index = None # reset index\n",
    "    psbt1.add_input(vin, inp)"
   ]
  },
  {
   "cell_type": "code",
   "execution_count": null,
   "id": "15f1a9d6",
   "metadata": {},
   "outputs": [],
   "source": [
    "for i, vout in enumerate(psbt2.unsigned_tx.vout):\n",
    "    out = psbt2.outputs[i]\n",
    "    out.index = None # reset index\n",
    "    psbt1.add_output(vout, out)"
   ]
  },
  {
   "cell_type": "markdown",
   "id": "ae0d1ee4",
   "metadata": {},
   "source": [
    "### Create funding output"
   ]
  },
  {
   "cell_type": "code",
   "execution_count": null,
   "id": "0a08222c",
   "metadata": {},
   "outputs": [],
   "source": [
    "key_family = 0 # multisig?\n",
    "keyReq = walletmsg.KeyReq(key_family=key_family)\n",
    "bobKeyDesc = bob.wallet.DeriveNextKey(keyReq)\n",
    "# bobKeyDesc = bob.wallet.DeriveNextKey(keyReq) # need to call twice?\n",
    "bobKeyDesc"
   ]
  },
  {
   "cell_type": "code",
   "execution_count": null,
   "id": "b6400660",
   "metadata": {},
   "outputs": [],
   "source": [
    "takerPubKey = unhexlify(offerParams['chanPubKey1'])\n",
    "makerPubKey = bobKeyDesc.raw_key_bytes"
   ]
  },
  {
   "cell_type": "code",
   "execution_count": null,
   "id": "1bac2bcb",
   "metadata": {},
   "outputs": [],
   "source": [
    "# https://github.com/lightningnetwork/lightning-rfc/blob/master/03-transactions.md#funding-transaction-output\n",
    "# https://github.com/bitcoin/bips/blob/master/bip-0069.mediawiki\n",
    "# if makerPubKey > takerPubKey:\n",
    "if list(makerPubKey) > list(takerPubKey):\n",
    "    pk1, pk2 = takerPubKey, makerPubKey\n",
    "else:\n",
    "    pk1, pk2 = makerPubKey, takerPubKey"
   ]
  },
  {
   "cell_type": "code",
   "execution_count": null,
   "id": "d2a0f670",
   "metadata": {},
   "outputs": [],
   "source": [
    "msigScript = bs.CScript([\n",
    "        bs.OP_2,\n",
    "        pk1,\n",
    "        pk2,\n",
    "        bs.OP_2,\n",
    "        bs.OP_CHECKMULTISIG\n",
    "    ])"
   ]
  },
  {
   "cell_type": "code",
   "execution_count": null,
   "id": "6a32c68b",
   "metadata": {},
   "outputs": [],
   "source": [
    "# convert to P2WSH\n",
    "scriptPubKey = bs.CScript([bs.OP_0, hashlib.sha256(msigScript).digest()])\n",
    "scriptPubKey"
   ]
  },
  {
   "cell_type": "code",
   "execution_count": null,
   "id": "7861f33b",
   "metadata": {},
   "outputs": [],
   "source": [
    "assert scriptPubKey.is_witness_v0_scripthash()"
   ]
  },
  {
   "cell_type": "code",
   "execution_count": null,
   "id": "3ed2fc05",
   "metadata": {},
   "outputs": [],
   "source": [
    "fundingOutput = bc.CTxOut(premiumAmount + fundAmount,\n",
    "                          scriptPubKey)\n",
    "fundingOutput"
   ]
  },
  {
   "cell_type": "code",
   "execution_count": null,
   "id": "ad87fabd",
   "metadata": {},
   "outputs": [],
   "source": [
    "# add funding output to the original psbt\n",
    "# must be the last one\n",
    "psbt1.add_output(fundingOutput, PSBT_Output())"
   ]
  },
  {
   "cell_type": "code",
   "execution_count": null,
   "id": "9fb438b7",
   "metadata": {},
   "outputs": [],
   "source": [
    "assert psbt1.get_output_amounts()[-1] == fundAmount + premiumAmount"
   ]
  },
  {
   "cell_type": "code",
   "execution_count": null,
   "id": "253271c5",
   "metadata": {},
   "outputs": [],
   "source": [
    "psbt1.get_input_amounts()"
   ]
  },
  {
   "cell_type": "code",
   "execution_count": null,
   "id": "4d698ff3",
   "metadata": {},
   "outputs": [],
   "source": [
    "# TODO: currently both parties pay fees. It probably makes sense that only Ali pays fees\n",
    "psbt1.get_fee()"
   ]
  },
  {
   "cell_type": "markdown",
   "id": "154d9b31",
   "metadata": {},
   "source": [
    "### connect to taker (Ali)"
   ]
  },
  {
   "cell_type": "code",
   "execution_count": null,
   "id": "685ff414",
   "metadata": {},
   "outputs": [],
   "source": [
    "# assumer whoever creates offer is accessible\n",
    "connect_peer_req = lnmsg.ConnectPeerRequest(\n",
    "    addr=lnmsg.LightningAddress(\n",
    "        pubkey=offerParams['nodePubKey'],\n",
    "        host=offerParams['nodeAddr']\n",
    "))"
   ]
  },
  {
   "cell_type": "code",
   "execution_count": null,
   "id": "097c9717",
   "metadata": {},
   "outputs": [],
   "source": [
    "bob.lnd.ConnectPeer(connect_peer_req)"
   ]
  },
  {
   "cell_type": "code",
   "execution_count": null,
   "id": "d889943d",
   "metadata": {},
   "outputs": [],
   "source": [
    "# check that we are connected\n",
    "bob.lnd.ListPeers(lnmsg.ListPeersRequest())"
   ]
  },
  {
   "cell_type": "markdown",
   "id": "dcf4a0f2",
   "metadata": {},
   "source": [
    "### Send Reply"
   ]
  },
  {
   "cell_type": "code",
   "execution_count": null,
   "id": "9040a6bb",
   "metadata": {},
   "outputs": [],
   "source": [
    "replyParams = {\n",
    "    \n",
    "}"
   ]
  },
  {
   "cell_type": "code",
   "execution_count": null,
   "id": "766ef523",
   "metadata": {},
   "outputs": [],
   "source": [
    "psbt.proprietary_fields[b'reply'] = [\n",
    "    PSBT_ProprietaryTypeData(0, b'params', json.dumps(offerParams).encode()),\n",
    "    PSBT_ProprietaryTypeData(0, b'signature', b'TODO ADD SIGNATURE'),\n",
    "]"
   ]
  },
  {
   "cell_type": "markdown",
   "id": "8201c546",
   "metadata": {},
   "source": [
    "## Open pending channel"
   ]
  },
  {
   "cell_type": "code",
   "execution_count": null,
   "id": "4006ffb7",
   "metadata": {},
   "outputs": [],
   "source": [
    "fundingTxId = psbt1.unsigned_tx.GetTxid()\n",
    "fundingOutputIdx = len(psbt1.unsigned_tx.vout) - 1 # last output"
   ]
  },
  {
   "cell_type": "code",
   "execution_count": null,
   "id": "32bf4fe9",
   "metadata": {},
   "outputs": [],
   "source": [
    "bc.b2lx(fundingTxId)"
   ]
  },
  {
   "cell_type": "code",
   "execution_count": null,
   "id": "259d4616",
   "metadata": {},
   "outputs": [],
   "source": [
    "# something that is unique to the corresponding matched taker and maker\n",
    "channelId = hashlib.sha256((bobNodePubKey + offerParams['nodePubKey'] + str(time.time())).encode()).hexdigest()\n",
    "channelId"
   ]
  },
  {
   "cell_type": "code",
   "execution_count": null,
   "id": "0115468d",
   "metadata": {},
   "outputs": [],
   "source": [
    "chan_point = lnmsg.ChannelPoint(funding_txid_bytes=fundingTxId,\n",
    "                                output_index=fundingOutputIdx)"
   ]
  },
  {
   "cell_type": "code",
   "execution_count": null,
   "id": "935858b4",
   "metadata": {},
   "outputs": [],
   "source": [
    "# our funding output key\n",
    "local_key = lnmsg.KeyDescriptor(\n",
    "    raw_key_bytes=bobKeyDesc.raw_key_bytes,\n",
    "    key_loc=lnmsg.KeyLocator(\n",
    "        key_family=bobKeyDesc.key_loc.key_family,\n",
    "        key_index=bobKeyDesc.key_loc.key_index\n",
    "    )\n",
    ")"
   ]
  },
  {
   "cell_type": "code",
   "execution_count": null,
   "id": "461c5232",
   "metadata": {},
   "outputs": [],
   "source": [
    "chan_point_shim = lnmsg.ChanPointShim(\n",
    "    amt=fundAmount + premiumAmount,\n",
    "    chan_point=chan_point,\n",
    "    local_key=local_key,\n",
    "    remote_key=unhexlify(offerParams['chanPubKey1']),\n",
    "    pending_chan_id=unhexlify(channelId),\n",
    "    thaw_height=0 # for simplicity\n",
    ")"
   ]
  },
  {
   "cell_type": "code",
   "execution_count": null,
   "id": "51a07873",
   "metadata": {},
   "outputs": [],
   "source": [
    "open_chan_req = lnmsg.OpenChannelRequest(\n",
    "    node_pubkey=unhexlify(offerParams['nodePubKey']),\n",
    "    local_funding_amount=fundAmount + premiumAmount,\n",
    "    push_sat=premiumAmount, # premiumAmount is pushed to the remote end (Ali)\n",
    "    target_conf=6,\n",
    "    funding_shim=lnmsg.FundingShim(chan_point_shim=chan_point_shim)\n",
    ")"
   ]
  },
  {
   "cell_type": "code",
   "execution_count": null,
   "id": "b1108ae3",
   "metadata": {},
   "outputs": [],
   "source": [
    "chanEventStream = bob.lnd.OpenChannel(open_chan_req)"
   ]
  },
  {
   "cell_type": "code",
   "execution_count": null,
   "id": "32e8b255",
   "metadata": {},
   "outputs": [],
   "source": [
    "next(chanEventStream)"
   ]
  },
  {
   "cell_type": "code",
   "execution_count": null,
   "id": "ae99eeff",
   "metadata": {},
   "outputs": [],
   "source": [
    "# check that the channel is pending\n",
    "bob.lnd.PendingChannels(lnmsg.PendingChannelsRequest())"
   ]
  },
  {
   "cell_type": "code",
   "execution_count": null,
   "id": "ef5e0111",
   "metadata": {},
   "outputs": [],
   "source": [
    "ali.lnd.PendingChannels(lnmsg.PendingChannelsRequest())"
   ]
  },
  {
   "cell_type": "markdown",
   "id": "fff15cec",
   "metadata": {},
   "source": [
    "### Register shim to prepare for channel opening"
   ]
  },
  {
   "cell_type": "code",
   "execution_count": null,
   "id": "96dd5bd7",
   "metadata": {},
   "outputs": [],
   "source": [
    "# something that is unique to the corresponding matched taker and maker\n",
    "channelId = hashlib.sha256((bobNodePubKey + offer['nodePubKey'] + str(time.time())).encode()).hexdigest()\n",
    "channelId"
   ]
  },
  {
   "cell_type": "code",
   "execution_count": null,
   "id": "f55e58ce",
   "metadata": {},
   "outputs": [],
   "source": [
    "chan_point = lnmsg.ChannelPoint(funding_txid_bytes=fundingTxId,\n",
    "                                output_index=fundingOutputIdx)"
   ]
  },
  {
   "cell_type": "code",
   "execution_count": null,
   "id": "37b75ca1",
   "metadata": {},
   "outputs": [],
   "source": [
    "# define our key for funding output\n",
    "local_key = lnmsg.KeyDescriptor(\n",
    "    raw_key_bytes=bobKeyDesc.raw_key_bytes,\n",
    "    key_loc=lnmsg.KeyLocator(\n",
    "        key_family=bobKeyDesc.key_loc.key_family,\n",
    "        key_index=bobKeyDesc.key_loc.key_index))"
   ]
  },
  {
   "cell_type": "code",
   "execution_count": null,
   "id": "76bfef84",
   "metadata": {},
   "outputs": [],
   "source": [
    "chan_point_shim = lnmsg.ChanPointShim(\n",
    "    amt=fundAmount + premiumAmount,\n",
    "    chan_point=chan_point,\n",
    "    local_key=local_key,\n",
    "    remote_key=offer['chanPubKey1'],\n",
    "    pending_chan_id=unhexlify(channelId),\n",
    "    thaw_height=0 # set 0 for simplicity\n",
    ")"
   ]
  },
  {
   "cell_type": "code",
   "execution_count": null,
   "id": "54ae72be",
   "metadata": {},
   "outputs": [],
   "source": [
    "ftm = lnmsg.FundingTransitionMsg(\n",
    "    shim_register=lnmsg.FundingShim(chan_point_shim=chan_point_shim))"
   ]
  },
  {
   "cell_type": "code",
   "execution_count": null,
   "id": "7b1ed8b7",
   "metadata": {},
   "outputs": [],
   "source": [
    "# empty response\n",
    "bob.lnd.FundingStateStep(ftm)"
   ]
  },
  {
   "cell_type": "markdown",
   "id": "a6e375b8",
   "metadata": {},
   "source": [
    "### Sign transaction"
   ]
  },
  {
   "cell_type": "code",
   "execution_count": null,
   "id": "b07d8523",
   "metadata": {},
   "outputs": [],
   "source": [
    "# At this point things look good and we can sign the transaction"
   ]
  },
  {
   "cell_type": "code",
   "execution_count": null,
   "id": "eb457e06",
   "metadata": {},
   "outputs": [],
   "source": [
    "# assume single input for simplicity\n",
    "assert len(bobDummyPsbtDecoded['inputs']) == 1"
   ]
  },
  {
   "cell_type": "code",
   "execution_count": null,
   "id": "c1bdd315",
   "metadata": {},
   "outputs": [],
   "source": [
    "input_ = bobDummyPsbtDecoded['inputs'][0]\n",
    "input_"
   ]
  },
  {
   "cell_type": "code",
   "execution_count": null,
   "id": "d34a7c61",
   "metadata": {},
   "outputs": [],
   "source": [
    "# our UTXO pubkey\n",
    "assert len(input_['bip32_derivs']) == 1\n",
    "pubkey = input_['bip32_derivs'][0]['pubkey']\n",
    "pubkey = unhexlify(pubkey)\n",
    "pubkey"
   ]
  },
  {
   "cell_type": "code",
   "execution_count": null,
   "id": "517f8db5",
   "metadata": {},
   "outputs": [],
   "source": [
    "scriptPubKey = input_['witness_utxo']['scriptPubKey']['hex']\n",
    "scriptPubKey = bs.CScript(unhexlify(scriptPubKey))\n",
    "\n",
    "utxoAddr = bw.CBitcoinAddress.from_scriptPubKey(scriptPubKey)\n",
    "utxoAddr"
   ]
  },
  {
   "cell_type": "code",
   "execution_count": null,
   "id": "787f9682",
   "metadata": {},
   "outputs": [],
   "source": [
    "sign_desc = signmsg.SignDescriptor(\n",
    "    key_desc=signmsg.KeyDescriptor(\n",
    "        raw_key_bytes=pubkey\n",
    "    ),\n",
    "    witness_script=utxoAddr.to_redeemScript(),\n",
    "    output=signmsg.TxOut(\n",
    "        value=int(input_['witness_utxo']['amount'] * bc.COIN),\n",
    "        pk_script=utxoAddr.to_scriptPubKey()\n",
    "    ),\n",
    "    sighash=bs.SIGHASH_ALL, # so that transaction cannot be altered\n",
    "    input_index=0 # for simplicity Bob's input is 0\n",
    ")"
   ]
  },
  {
   "cell_type": "code",
   "execution_count": null,
   "id": "ca04cf7c",
   "metadata": {},
   "outputs": [],
   "source": [
    "signReq = signmsg.SignReq(\n",
    "    raw_tx_bytes=fundingTx.serialize(),\n",
    "    sign_descs=[sign_desc]\n",
    ")"
   ]
  },
  {
   "cell_type": "code",
   "execution_count": null,
   "id": "09458155",
   "metadata": {},
   "outputs": [],
   "source": [
    "bobSignResp = bob.signer.SignOutputRaw(signReq)\n",
    "bobSignResp"
   ]
  },
  {
   "cell_type": "code",
   "execution_count": null,
   "id": "3da922f3",
   "metadata": {},
   "outputs": [],
   "source": [
    "signature = bobSignResp.raw_sigs[0] + bytes([bs.SIGHASH_ALL])"
   ]
  },
  {
   "cell_type": "code",
   "execution_count": null,
   "id": "fcabcb98",
   "metadata": {},
   "outputs": [],
   "source": [
    "witness = [signature, pubkey]\n",
    "bs.CScriptWitness(witness)"
   ]
  },
  {
   "cell_type": "code",
   "execution_count": null,
   "id": "775d6fbc",
   "metadata": {},
   "outputs": [],
   "source": [
    "bobSignedFundingTx = bc.CTransaction(\n",
    "    vin=fundingTx.vin,\n",
    "    vout=fundingTx.vout,\n",
    "    witness=bc.CTxWitness([bc.CTxInWitness(bs.CScriptWitness(witness))]))"
   ]
  },
  {
   "cell_type": "markdown",
   "id": "a8dc9c2d",
   "metadata": {},
   "source": [
    "### Send offer reply"
   ]
  },
  {
   "cell_type": "code",
   "execution_count": null,
   "id": "da9c85cf",
   "metadata": {},
   "outputs": [],
   "source": [
    "offerReply = {\n",
    "    'id': offer['id'],\n",
    "    'nodeAddr': 'bob-lnd', # sending for extra check\n",
    "    'nodePubKey': bobNodePubKey,\n",
    "    'channelId': channelId,\n",
    "    'chanPubKey2': bobKeyDesc.raw_key_bytes,\n",
    "    'fundingOutputIdx': fundingOutputIdx,\n",
    "    'fundingTx': bobSignedFundingTx\n",
    "}\n",
    "offerReply"
   ]
  },
  {
   "cell_type": "markdown",
   "id": "5adcc469",
   "metadata": {},
   "source": [
    "## Ali checks offer reply and commits funding tx"
   ]
  },
  {
   "cell_type": "markdown",
   "id": "48ef0f2a",
   "metadata": {},
   "source": [
    "### Check offer reply message"
   ]
  },
  {
   "cell_type": "code",
   "execution_count": null,
   "id": "547cf876",
   "metadata": {},
   "outputs": [],
   "source": [
    "# check id\n",
    "assert offer['id'] == offerReply['id']"
   ]
  },
  {
   "cell_type": "code",
   "execution_count": null,
   "id": "d0dc9b37",
   "metadata": {},
   "outputs": [],
   "source": [
    "# check connection\n",
    "peers = ali.lnd.ListPeers(lnmsg.ListPeersRequest())\n",
    "assert peers.peers[0].pub_key == offerReply['nodePubKey']\n",
    "# we can also check `nodeAddr`"
   ]
  },
  {
   "cell_type": "markdown",
   "id": "106751db",
   "metadata": {},
   "source": [
    "### Check transaction"
   ]
  },
  {
   "cell_type": "code",
   "execution_count": null,
   "id": "71396ff3",
   "metadata": {},
   "outputs": [],
   "source": [
    "tx = offerReply['fundingTx']\n",
    "\n",
    "# check that our input was included. For simplicity assume we are the last\n",
    "assert tx.vin[-1] == offer['inputs'][0]\n",
    "\n",
    "# check that our change output was included\n",
    "assert tx.vout[-1] == offer['change']\n",
    "\n",
    "# check that signature is valid. For simplicity just check that it's present\n",
    "assert tx.wit is not None"
   ]
  },
  {
   "cell_type": "markdown",
   "id": "90b9694a",
   "metadata": {},
   "source": [
    "### Check funding output"
   ]
  },
  {
   "cell_type": "code",
   "execution_count": null,
   "id": "f6112b40",
   "metadata": {},
   "outputs": [],
   "source": [
    "premiumAmount = offer['premiumAmount']\n",
    "fundAmount = offer['fundAmount']"
   ]
  },
  {
   "cell_type": "code",
   "execution_count": null,
   "id": "e0c3fd24",
   "metadata": {},
   "outputs": [],
   "source": [
    "takerPubKey = offer['chanPubKey1'] # ali\n",
    "makerPubKey = offerReply['chanPubKey2'] # bob"
   ]
  },
  {
   "cell_type": "code",
   "execution_count": null,
   "id": "f9f5190c",
   "metadata": {},
   "outputs": [],
   "source": [
    "# https://github.com/lightningnetwork/lightning-rfc/blob/master/03-transactions.md#funding-transaction-output\n",
    "# https://github.com/bitcoin/bips/blob/master/bip-0069.mediawiki\n",
    "if list(makerPubKey) > list(takerPubKey):\n",
    "    pk1, pk2 = takerPubKey, makerPubKey\n",
    "else:\n",
    "    pk1, pk2 = makerPubKey, takerPubKey"
   ]
  },
  {
   "cell_type": "code",
   "execution_count": null,
   "id": "e71a6cfd",
   "metadata": {},
   "outputs": [],
   "source": [
    "msigScript = bs.CScript([\n",
    "        bs.OP_2,\n",
    "        pk1,\n",
    "        pk2,\n",
    "        bs.OP_2,\n",
    "        bs.OP_CHECKMULTISIG\n",
    "    ])"
   ]
  },
  {
   "cell_type": "code",
   "execution_count": null,
   "id": "1903c805",
   "metadata": {},
   "outputs": [],
   "source": [
    "# convert to P2WSH\n",
    "scriptPubKey = bc.CScript([bs.OP_0, hashlib.sha256(msigScript).digest()])\n",
    "assert scriptPubKey.is_witness_v0_scripthash()"
   ]
  },
  {
   "cell_type": "code",
   "execution_count": null,
   "id": "1cb9b003",
   "metadata": {},
   "outputs": [],
   "source": [
    "fundingOutput = bc.CTxOut(premiumAmount + fundAmount,\n",
    "                          scriptPubKey)\n",
    "assert fundingOutput == tx.vout[0]"
   ]
  },
  {
   "cell_type": "markdown",
   "id": "5d896c1f",
   "metadata": {},
   "source": [
    "### Open pending channel"
   ]
  },
  {
   "cell_type": "code",
   "execution_count": null,
   "id": "945f5a37",
   "metadata": {},
   "outputs": [],
   "source": [
    "offerReply['fundingTx']"
   ]
  },
  {
   "cell_type": "code",
   "execution_count": null,
   "id": "cf5f9018",
   "metadata": {},
   "outputs": [],
   "source": [
    "chan_point = lnmsg.ChannelPoint(funding_txid_bytes=offerReply['fundingTx'].GetTxid(),\n",
    "                                output_index=offerReply['fundingOutputIdx'])"
   ]
  },
  {
   "cell_type": "code",
   "execution_count": null,
   "id": "72aa7431",
   "metadata": {},
   "outputs": [],
   "source": [
    "# our funding key\n",
    "local_key = lnmsg.KeyDescriptor(\n",
    "    raw_key_bytes=aliKeyDesc.raw_key_bytes,\n",
    "    key_loc=lnmsg.KeyLocator(\n",
    "        key_family=aliKeyDesc.key_loc.key_family,\n",
    "        key_index=aliKeyDesc.key_loc.key_index\n",
    "    )\n",
    ")"
   ]
  },
  {
   "cell_type": "code",
   "execution_count": null,
   "id": "816f2cfe",
   "metadata": {},
   "outputs": [],
   "source": [
    "premiumAmount = offer['premiumAmount']\n",
    "fundAmount = offer['fundAmount']"
   ]
  },
  {
   "cell_type": "code",
   "execution_count": null,
   "id": "799f5b3d",
   "metadata": {},
   "outputs": [],
   "source": [
    "chan_point_shim = lnmsg.ChanPointShim(\n",
    "    amt=offer['fundAmount'] + offer['premiumAmount'],\n",
    "    chan_point=chan_point,\n",
    "    local_key=local_key,\n",
    "    remote_key=offerReply['chanPubKey2'],\n",
    "    pending_chan_id=unhexlify(offerReply['channelId']),\n",
    "    thaw_height=0 # for simplicity\n",
    ")"
   ]
  },
  {
   "cell_type": "code",
   "execution_count": null,
   "id": "bbf23d09",
   "metadata": {},
   "outputs": [],
   "source": [
    "funding_shim = lnmsg.FundingShim(chan_point_shim=chan_point_shim)"
   ]
  },
  {
   "cell_type": "code",
   "execution_count": null,
   "id": "49758d2f",
   "metadata": {},
   "outputs": [],
   "source": [
    "open_chan_req = lnmsg.OpenChannelRequest(\n",
    "    node_pubkey=unhexlify(offerReply['nodePubKey']),\n",
    "    local_funding_amount=offer['fundAmount'] + offer['premiumAmount'],\n",
    "    push_sat=offer['fundAmount'], # fund amount is pushed to the remote end (Bob)\n",
    "    funding_shim=funding_shim\n",
    ")"
   ]
  },
  {
   "cell_type": "code",
   "execution_count": null,
   "id": "a5a6bcf8",
   "metadata": {},
   "outputs": [],
   "source": [
    "chanEventStream = ali.lnd.OpenChannel(open_chan_req)"
   ]
  },
  {
   "cell_type": "code",
   "execution_count": null,
   "id": "e13c8e64",
   "metadata": {},
   "outputs": [],
   "source": [
    "next(chanEventStream)"
   ]
  },
  {
   "cell_type": "code",
   "execution_count": null,
   "id": "30d9c609",
   "metadata": {},
   "outputs": [],
   "source": [
    "# check that the channel is pending\n",
    "ali.lnd.PendingChannels(lnmsg.PendingChannelsRequest())"
   ]
  },
  {
   "cell_type": "markdown",
   "id": "9259ea65",
   "metadata": {},
   "source": [
    "### Sign funding tx"
   ]
  },
  {
   "cell_type": "code",
   "execution_count": null,
   "id": "78ac3949",
   "metadata": {},
   "outputs": [],
   "source": [
    "# for simplicity assume single input\n",
    "assert len(aliDummyPsbtDecoded['inputs']) == 1"
   ]
  },
  {
   "cell_type": "code",
   "execution_count": null,
   "id": "a8e3bdc9",
   "metadata": {},
   "outputs": [],
   "source": [
    "# for simplicity assume single signing key\n",
    "assert len(aliDummyPsbtDecoded['inputs'][0]['bip32_derivs']) == 1"
   ]
  },
  {
   "cell_type": "code",
   "execution_count": null,
   "id": "4161a3a6",
   "metadata": {},
   "outputs": [],
   "source": [
    "input_ = aliDummyPsbtDecoded['inputs'][0]\n",
    "input_"
   ]
  },
  {
   "cell_type": "code",
   "execution_count": null,
   "id": "36454e5f",
   "metadata": {},
   "outputs": [],
   "source": [
    "scriptPubKey = input_['witness_utxo']['scriptPubKey']['hex']\n",
    "scriptPubKey = bs.CScript(unhexlify(scriptPubKey))\n",
    "\n",
    "utxoAddr = bw.CBitcoinAddress.from_scriptPubKey(scriptPubKey)\n",
    "utxoAddr"
   ]
  },
  {
   "cell_type": "code",
   "execution_count": null,
   "id": "026c08bf",
   "metadata": {},
   "outputs": [],
   "source": [
    "# our UTXO pubkey\n",
    "assert len(input_['bip32_derivs']) == 1\n",
    "pubkey = input_['bip32_derivs'][0]['pubkey']\n",
    "pubkey = unhexlify(pubkey)\n",
    "pubkey"
   ]
  },
  {
   "cell_type": "code",
   "execution_count": null,
   "id": "04fba9c5",
   "metadata": {},
   "outputs": [],
   "source": [
    "# create copy of other party's signed transaction\n",
    "finalFundingTx = bc.CMutableTransaction(\n",
    "    vin=offerReply['fundingTx'].vin,\n",
    "    vout=offerReply['fundingTx'].vout\n",
    ")"
   ]
  },
  {
   "cell_type": "code",
   "execution_count": null,
   "id": "d56ae515",
   "metadata": {},
   "outputs": [],
   "source": [
    "sign_desc = signmsg.SignDescriptor(\n",
    "    key_desc=signmsg.KeyDescriptor(\n",
    "        raw_key_bytes=pubkey\n",
    "    ),\n",
    "    witness_script=utxoAddr.to_redeemScript(),\n",
    "    output=signmsg.TxOut(\n",
    "        value=int(input_['witness_utxo']['amount'] * bc.COIN),\n",
    "        pk_script=utxoAddr.to_scriptPubKey()\n",
    "    ),\n",
    "    sighash=bs.SIGHASH_ALL, # so that transaction cannot be altered\n",
    "    input_index=len(fundingTx.vin) - 1 # assume we are the last one\n",
    ")"
   ]
  },
  {
   "cell_type": "code",
   "execution_count": null,
   "id": "c04cbe0b",
   "metadata": {},
   "outputs": [],
   "source": [
    "signReq = signmsg.SignReq(\n",
    "    raw_tx_bytes=finalFundingTx.serialize(),\n",
    "    sign_descs=[sign_desc]\n",
    ")"
   ]
  },
  {
   "cell_type": "code",
   "execution_count": null,
   "id": "24bce974",
   "metadata": {},
   "outputs": [],
   "source": [
    "aliSignResp = ali.signer.SignOutputRaw(signReq)\n",
    "aliSignResp"
   ]
  },
  {
   "cell_type": "code",
   "execution_count": null,
   "id": "8bc2b6ec",
   "metadata": {},
   "outputs": [],
   "source": [
    "signature = aliSignResp.raw_sigs[0] + bytes([bs.SIGHASH_ALL])"
   ]
  },
  {
   "cell_type": "code",
   "execution_count": null,
   "id": "9d0dd108",
   "metadata": {},
   "outputs": [],
   "source": [
    "witness = [signature, pubkey]\n",
    "witness = bc.CTxInWitness(bs.CScriptWitness(witness))\n",
    "witness"
   ]
  },
  {
   "cell_type": "code",
   "execution_count": null,
   "id": "4bccea86",
   "metadata": {},
   "outputs": [],
   "source": [
    "# combine signatures\n",
    "finalFundingTx.wit = bc.CTxWitness([offerReply['fundingTx'].wit.vtxinwit[0], witness])"
   ]
  },
  {
   "cell_type": "markdown",
   "id": "7c9c4723",
   "metadata": {},
   "source": [
    "### Submit funding transaction"
   ]
  },
  {
   "cell_type": "code",
   "execution_count": null,
   "id": "5e8dd64b",
   "metadata": {},
   "outputs": [],
   "source": [
    "fundingTxId2 = brpc.sendrawtransaction(finalFundingTx)\n",
    "fundingTxId2"
   ]
  },
  {
   "cell_type": "code",
   "execution_count": null,
   "id": "27f2a794",
   "metadata": {},
   "outputs": [],
   "source": [
    "assert fundingTxId2 == fundingTxId"
   ]
  },
  {
   "cell_type": "code",
   "execution_count": null,
   "id": "cabf2d9b",
   "metadata": {},
   "outputs": [],
   "source": [
    "_ = list(brpc.generatetoaddress(6, minerAddr))"
   ]
  },
  {
   "cell_type": "markdown",
   "id": "66b191ae",
   "metadata": {},
   "source": [
    "### Check that the channel has been opened"
   ]
  },
  {
   "cell_type": "code",
   "execution_count": null,
   "id": "470726e2",
   "metadata": {},
   "outputs": [],
   "source": [
    "# should be no pending channels\n",
    "ali.lnd.PendingChannels(lnmsg.PendingChannelsRequest())"
   ]
  },
  {
   "cell_type": "code",
   "execution_count": null,
   "id": "7678494a",
   "metadata": {},
   "outputs": [],
   "source": [
    "ali.lnd.ListChannels(lnmsg.ListChannelsRequest())"
   ]
  },
  {
   "cell_type": "code",
   "execution_count": null,
   "id": "7a56111e",
   "metadata": {},
   "outputs": [],
   "source": []
  }
 ],
 "metadata": {
  "kernelspec": {
   "display_name": "Python 3",
   "language": "python",
   "name": "python3"
  },
  "language_info": {
   "codemirror_mode": {
    "name": "ipython",
    "version": 3
   },
   "file_extension": ".py",
   "mimetype": "text/x-python",
   "name": "python",
   "nbconvert_exporter": "python",
   "pygments_lexer": "ipython3",
   "version": "3.8.8"
  }
 },
 "nbformat": 4,
 "nbformat_minor": 5
}
