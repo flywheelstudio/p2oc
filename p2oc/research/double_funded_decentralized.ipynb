{
 "cells": [
  {
   "cell_type": "markdown",
   "id": "b761c482",
   "metadata": {},
   "source": [
    "# Open double-funded channel without intermediary"
   ]
  },
  {
   "cell_type": "code",
   "execution_count": null,
   "id": "b502b82b",
   "metadata": {},
   "outputs": [],
   "source": [
    "%load_ext autoreload\n",
    "%autoreload 2"
   ]
  },
  {
   "cell_type": "markdown",
   "id": "0287ee1d",
   "metadata": {},
   "source": [
    "## Setup LND clients for Ali and Bob"
   ]
  },
  {
   "cell_type": "code",
   "execution_count": null,
   "id": "a073556e",
   "metadata": {},
   "outputs": [],
   "source": [
    "import sys"
   ]
  },
  {
   "cell_type": "code",
   "execution_count": null,
   "id": "848eb085",
   "metadata": {},
   "outputs": [],
   "source": [
    "# LND GRPC bindings should be in '/home/jovyan/lnrpc'\n",
    "sys.path.append('/home/jovyan/lnrpc')"
   ]
  },
  {
   "cell_type": "code",
   "execution_count": null,
   "id": "ef0712d7",
   "metadata": {},
   "outputs": [],
   "source": [
    "%%sh\n",
    "sudo cp /ali-lnd/data/chain/bitcoin/regtest/admin.macaroon /tmp/ali.macaroon\n",
    "sudo chmod +r /tmp/ali.macaroon\n",
    "\n",
    "sudo cp /bob-lnd/data/chain/bitcoin/regtest/admin.macaroon /tmp/bob.macaroon\n",
    "sudo chmod +r /tmp/bob.macaroon"
   ]
  },
  {
   "cell_type": "code",
   "execution_count": null,
   "id": "f4a4d351",
   "metadata": {},
   "outputs": [],
   "source": [
    "from p2oc.lnd_rpc import LndRpc, lnmsg, walletmsg, signrpc, signmsg, routermsg\n",
    "from p2oc.signing import sign_inputs, create_change_only_psbt"
   ]
  },
  {
   "cell_type": "code",
   "execution_count": null,
   "id": "5b444c5b",
   "metadata": {},
   "outputs": [],
   "source": [
    "ali = LndRpc(host='ali-lnd:10009',\n",
    "             cert_path='/ali-lnd/tls.cert',\n",
    "             macaroon_path='/tmp/ali.macaroon')"
   ]
  },
  {
   "cell_type": "code",
   "execution_count": null,
   "id": "471961c4",
   "metadata": {},
   "outputs": [],
   "source": [
    "bob = LndRpc(host='bob-lnd:10009',\n",
    "             cert_path='/bob-lnd/tls.cert',\n",
    "             macaroon_path='/tmp/bob.macaroon')"
   ]
  },
  {
   "cell_type": "code",
   "execution_count": null,
   "id": "6d55f7ce",
   "metadata": {},
   "outputs": [],
   "source": [
    "aliNodePubKey = ali.lnd.GetInfo(lnmsg.GetInfoRequest()).identity_pubkey\n",
    "aliNodePubKey"
   ]
  },
  {
   "cell_type": "code",
   "execution_count": null,
   "id": "b83505ed",
   "metadata": {},
   "outputs": [],
   "source": [
    "bobNodePubKey = bob.lnd.GetInfo(lnmsg.GetInfoRequest()).identity_pubkey\n",
    "bobNodePubKey"
   ]
  },
  {
   "cell_type": "markdown",
   "id": "11ad5f6d",
   "metadata": {},
   "source": [
    "## Fund Ali and Bob"
   ]
  },
  {
   "cell_type": "code",
   "execution_count": null,
   "id": "ed345e66",
   "metadata": {},
   "outputs": [],
   "source": [
    "import os\n",
    "import hashlib\n",
    "\n",
    "import bitcoin\n",
    "from p2oc.btc_rpc import Proxy, Config"
   ]
  },
  {
   "cell_type": "code",
   "execution_count": null,
   "id": "7fe8b26f",
   "metadata": {},
   "outputs": [],
   "source": [
    "bitcoin.SelectParams('regtest')"
   ]
  },
  {
   "cell_type": "code",
   "execution_count": null,
   "id": "37f464d0",
   "metadata": {},
   "outputs": [],
   "source": [
    "# only used to mine initial coins for Ali and Bob\n",
    "brpc = Proxy(config=Config(\n",
    "    rpcuser=os.environ['BTCD_RPCUSER'],\n",
    "    rpcpassword=os.environ['BTCD_RPCPASS'],\n",
    "    rpcconnect='bitcoind',\n",
    "    rpcport=18443\n",
    "))"
   ]
  },
  {
   "cell_type": "code",
   "execution_count": null,
   "id": "e39c0bf0",
   "metadata": {},
   "outputs": [],
   "source": [
    "brpc.getblockcount()"
   ]
  },
  {
   "cell_type": "code",
   "execution_count": null,
   "id": "de478699",
   "metadata": {},
   "outputs": [],
   "source": [
    "aliAddr = ali.lnd.NewAddress(lnmsg.NewAddressRequest(type=0)) # p2wkh\n",
    "aliAddr"
   ]
  },
  {
   "cell_type": "code",
   "execution_count": null,
   "id": "a4ff8e8a",
   "metadata": {},
   "outputs": [],
   "source": [
    "bobAddr = bob.lnd.NewAddress(lnmsg.NewAddressRequest(type=0)) # p2wkh\n",
    "bobAddr"
   ]
  },
  {
   "cell_type": "code",
   "execution_count": null,
   "id": "98adbc57",
   "metadata": {},
   "outputs": [],
   "source": [
    "# fund ali\n",
    "_ = list(brpc.generatetoaddress(1, aliAddr.address))"
   ]
  },
  {
   "cell_type": "code",
   "execution_count": null,
   "id": "545bd43c",
   "metadata": {},
   "outputs": [],
   "source": [
    "# fund bob\n",
    "_ = list(brpc.generatetoaddress(1, bobAddr.address))"
   ]
  },
  {
   "cell_type": "code",
   "execution_count": null,
   "id": "ebf90969",
   "metadata": {},
   "outputs": [],
   "source": [
    "try:\n",
    "    brpc.createwallet('miner')\n",
    "except:\n",
    "    brpc.loadwallet('miner')\n",
    "\n",
    "minerAddr = brpc.getnewaddress(\"coinbase\")\n",
    "brpc.unloadwallet('miner')"
   ]
  },
  {
   "cell_type": "code",
   "execution_count": null,
   "id": "c07b4145",
   "metadata": {},
   "outputs": [],
   "source": [
    "# unlock mined coins\n",
    "_ = list(brpc.generatetoaddress(110, minerAddr))"
   ]
  },
  {
   "cell_type": "code",
   "execution_count": null,
   "id": "d49a5cc9",
   "metadata": {},
   "outputs": [],
   "source": [
    "ali.lnd.WalletBalance(lnmsg.WalletBalanceRequest())"
   ]
  },
  {
   "cell_type": "code",
   "execution_count": null,
   "id": "6050d435",
   "metadata": {},
   "outputs": [],
   "source": [
    "bob.lnd.WalletBalance(lnmsg.WalletBalanceRequest())"
   ]
  },
  {
   "cell_type": "markdown",
   "id": "0d0207e6",
   "metadata": {},
   "source": [
    "## Ali creates public offer to request inbound liquidity in exchange for a fee"
   ]
  },
  {
   "cell_type": "code",
   "execution_count": null,
   "id": "ba35b07f",
   "metadata": {},
   "outputs": [],
   "source": [
    "import time\n",
    "import base64\n",
    "\n",
    "from bitcointx.core.psbt import PartiallySignedTransaction, PSBT_ProprietaryTypeData, PSBT_Output\n",
    "import bitcointx.core as bc\n",
    "import bitcointx.core.script as bs\n",
    "from bitcoin.rpc import hexlify, unhexlify\n",
    "# XXX: bitcointx and bitcoin don't play nicely together\n",
    "\n",
    "from p2oc.address import create_dummy_p2wpkh_address, next_key_desc\n",
    "from p2oc.offer import Offer, attach_offer_to_psbt\n",
    "from p2oc.funding import create_funding_output\n",
    "from p2oc.channel import (\n",
    "    connect_peer,\n",
    "    generate_channel_id,\n",
    "    create_channel_point_shim,\n",
    "    register_channel_point_shim,\n",
    "    open_channel\n",
    ")"
   ]
  },
  {
   "cell_type": "markdown",
   "id": "90f85af6",
   "metadata": {},
   "source": [
    "### Allocate funds"
   ]
  },
  {
   "cell_type": "code",
   "execution_count": null,
   "id": "21847106",
   "metadata": {},
   "outputs": [],
   "source": [
    "# taker needs to pay premium to open channel\n",
    "premiumAmount = int(0.001 * bc.CoreCoinParams.COIN) # premium Ali is willing to pay\n",
    "fundAmount = int(0.16 * bc.CoreCoinParams.COIN) # requested inbound capacity"
   ]
  },
  {
   "cell_type": "code",
   "execution_count": null,
   "id": "d056f1ac",
   "metadata": {},
   "outputs": [],
   "source": [
    "psbt = create_change_only_psbt(premiumAmount, ali)"
   ]
  },
  {
   "cell_type": "markdown",
   "id": "d882c678",
   "metadata": {},
   "source": [
    "### Create offer"
   ]
  },
  {
   "cell_type": "code",
   "execution_count": null,
   "id": "bba4e8d4",
   "metadata": {},
   "outputs": [],
   "source": [
    "aliKeyDesc = next_key_desc(ali)\n",
    "\n",
    "offer = Offer(\n",
    "    node_host='ali-lnd',\n",
    "    node_pubkey=aliNodePubKey,\n",
    "    premium_amount=premiumAmount,\n",
    "    fund_amount=fundAmount,\n",
    "    channel_pubkey=hexlify(aliKeyDesc.raw_key_bytes),\n",
    "    input_indices=list(range(len(psbt.unsigned_tx.vin))),\n",
    "    output_indices=list(range(len(psbt.unsigned_tx.vout))),\n",
    ")\n",
    "\n",
    "attach_offer_to_psbt(offer, psbt)\n",
    "\n",
    "offer"
   ]
  },
  {
   "cell_type": "code",
   "execution_count": null,
   "id": "5aed292f",
   "metadata": {},
   "outputs": [],
   "source": [
    "offer_psbt = psbt.to_base64()\n",
    "del psbt # delete psbt so we don't accidentally leak state to the other party\n",
    "offer_psbt"
   ]
  },
  {
   "cell_type": "markdown",
   "id": "6cc1a85c",
   "metadata": {},
   "source": [
    "## Bob accepts offer and sends reply"
   ]
  },
  {
   "cell_type": "markdown",
   "id": "8db6200e",
   "metadata": {},
   "source": [
    "### Check that the offer is still valid"
   ]
  },
  {
   "cell_type": "code",
   "execution_count": null,
   "id": "ce54d496",
   "metadata": {},
   "outputs": [],
   "source": [
    "psbt1 = PartiallySignedTransaction.from_base64(offer_psbt)\n",
    "psbt1"
   ]
  },
  {
   "cell_type": "code",
   "execution_count": null,
   "id": "226f294f",
   "metadata": {},
   "outputs": [],
   "source": [
    "offer = psbt1.proprietary_fields[b'offer'][0].value\n",
    "offer = Offer.deserialize(offer)\n",
    "offer"
   ]
  },
  {
   "cell_type": "code",
   "execution_count": null,
   "id": "e4e7ba05",
   "metadata": {},
   "outputs": [],
   "source": [
    "# check that funding UTXOs has not been spent\n",
    "# note we can't use `lnd.GetTransactions` since it only knows about our wallet's transactions\n",
    "# it's probably safe to skip this step because blockchain will prevent from double spending\n",
    "for vin in psbt1.unsigned_tx.vin:\n",
    "    utxo = brpc.gettxout(vin.prevout)\n",
    "    assert utxo is not None"
   ]
  },
  {
   "cell_type": "code",
   "execution_count": null,
   "id": "ca89f110",
   "metadata": {},
   "outputs": [],
   "source": [
    "premiumAmount = offer.premium_amount # Ali's premium to Bob\n",
    "fundAmount = offer.fund_amount # Bob funds this amount"
   ]
  },
  {
   "cell_type": "code",
   "execution_count": null,
   "id": "88b41787",
   "metadata": {},
   "outputs": [],
   "source": [
    "feesAmount = psbt1.get_fee() - premiumAmount\n",
    "assert feesAmount > 0\n",
    "feesAmount"
   ]
  },
  {
   "cell_type": "markdown",
   "id": "dfb82ccc",
   "metadata": {},
   "source": [
    "### Allocate funds"
   ]
  },
  {
   "cell_type": "code",
   "execution_count": null,
   "id": "1b5ec263",
   "metadata": {},
   "outputs": [],
   "source": [
    "psbt2 = create_change_only_psbt(fundAmount, bob)"
   ]
  },
  {
   "cell_type": "markdown",
   "id": "343a179d",
   "metadata": {},
   "source": [
    "### Add our inputs and outputs to the offer psbt"
   ]
  },
  {
   "cell_type": "code",
   "execution_count": null,
   "id": "1b00c9b7",
   "metadata": {},
   "outputs": [],
   "source": [
    "for i, vin in enumerate(psbt2.unsigned_tx.vin):\n",
    "    inp = psbt2.inputs[i]\n",
    "    inp.index = None # reset index\n",
    "    psbt1.add_input(vin, inp)"
   ]
  },
  {
   "cell_type": "code",
   "execution_count": null,
   "id": "15f1a9d6",
   "metadata": {},
   "outputs": [],
   "source": [
    "for i, vout in enumerate(psbt2.unsigned_tx.vout):\n",
    "    out = psbt2.outputs[i]\n",
    "    out.index = None # reset index\n",
    "    psbt1.add_output(vout, out)"
   ]
  },
  {
   "cell_type": "code",
   "execution_count": null,
   "id": "44803790",
   "metadata": {},
   "outputs": [],
   "source": [
    "del psbt2"
   ]
  },
  {
   "cell_type": "markdown",
   "id": "ae0d1ee4",
   "metadata": {},
   "source": [
    "### Create funding output"
   ]
  },
  {
   "cell_type": "code",
   "execution_count": null,
   "id": "0a08222c",
   "metadata": {},
   "outputs": [],
   "source": [
    "bobKeyDesc = next_key_desc(bob)"
   ]
  },
  {
   "cell_type": "code",
   "execution_count": null,
   "id": "3ed2fc05",
   "metadata": {},
   "outputs": [],
   "source": [
    "fundingOutput = create_funding_output(\n",
    "    taker_pubkey=unhexlify(offer.channel_pubkey),\n",
    "    maker_pubkey=bobKeyDesc.raw_key_bytes,\n",
    "    premium_amount=premiumAmount,\n",
    "    fund_amount=fundAmount\n",
    ")\n",
    "\n",
    "# add funding output to the original psbt must be the last one\n",
    "psbt1.add_output(fundingOutput, PSBT_Output())\n",
    "\n",
    "assert psbt1.get_output_amounts()[-1] == fundAmount + premiumAmount"
   ]
  },
  {
   "cell_type": "code",
   "execution_count": null,
   "id": "253271c5",
   "metadata": {},
   "outputs": [],
   "source": [
    "psbt1.get_input_amounts()"
   ]
  },
  {
   "cell_type": "code",
   "execution_count": null,
   "id": "4d698ff3",
   "metadata": {},
   "outputs": [],
   "source": [
    "# TODO: currently both parties pay fees. It probably makes sense that only Ali pays fees\n",
    "psbt1.get_fee()"
   ]
  },
  {
   "cell_type": "markdown",
   "id": "154d9b31",
   "metadata": {},
   "source": [
    "### connect to taker (Ali)"
   ]
  },
  {
   "cell_type": "code",
   "execution_count": null,
   "id": "685ff414",
   "metadata": {},
   "outputs": [],
   "source": [
    "# TODO: Do this as early as possible in the workflow\n",
    "connect_peer(node_pubkey=offer.node_pubkey, node_host=offer.node_host, lnd=bob)"
   ]
  },
  {
   "cell_type": "markdown",
   "id": "fff15cec",
   "metadata": {},
   "source": [
    "### Register shim to prepare for channel opening"
   ]
  },
  {
   "cell_type": "code",
   "execution_count": null,
   "id": "96dd5bd7",
   "metadata": {},
   "outputs": [],
   "source": [
    "channelId = generate_channel_id(unhexlify(offer.channel_pubkey), bobKeyDesc.raw_key_bytes)\n",
    "channelId"
   ]
  },
  {
   "cell_type": "code",
   "execution_count": null,
   "id": "7b1ed8b7",
   "metadata": {},
   "outputs": [],
   "source": [
    "channel_point_shim = create_channel_point_shim(\n",
    "    channel_id=channelId,\n",
    "    psbt=psbt1,\n",
    "    premium_amount=premiumAmount,\n",
    "    fund_amount=fundAmount,\n",
    "    local_key_desc=bobKeyDesc,\n",
    "    remote_pubkey=unhexlify(offer.channel_pubkey)\n",
    ")\n",
    "\n",
    "register_channel_point_shim(channel_point_shim, bob)"
   ]
  },
  {
   "cell_type": "markdown",
   "id": "dcf4a0f2",
   "metadata": {},
   "source": [
    "### Send Reply"
   ]
  },
  {
   "cell_type": "code",
   "execution_count": null,
   "id": "cb85371f",
   "metadata": {},
   "outputs": [],
   "source": [
    "inputIndices = []\n",
    "for i in range(len(psbt1.unsigned_tx.vin)):\n",
    "    if i not in offer.input_indices:\n",
    "        inputIndices.append(i)"
   ]
  },
  {
   "cell_type": "code",
   "execution_count": null,
   "id": "d71c8383",
   "metadata": {},
   "outputs": [],
   "source": [
    "outputIndices = []\n",
    "for i in range(len(psbt1.unsigned_tx.vout) - 1): # '-1' to exclude funding tx\n",
    "    if i not in offer.output_indices:\n",
    "        outputIndices.append(i)"
   ]
  },
  {
   "cell_type": "code",
   "execution_count": null,
   "id": "9040a6bb",
   "metadata": {},
   "outputs": [],
   "source": [
    "replyParams = {\n",
    "    'nodeAddr': 'bob-lnd',\n",
    "    'nodePubKey': bobNodePubKey,\n",
    "    'channelId': channelId,\n",
    "    'chanPubKey2': hexlify(bobKeyDesc.raw_key_bytes),\n",
    "    'inputIndices': inputIndices,\n",
    "    'outputIndices': outputIndices\n",
    "}\n",
    "replyParams"
   ]
  },
  {
   "cell_type": "code",
   "execution_count": null,
   "id": "766ef523",
   "metadata": {},
   "outputs": [],
   "source": [
    "import json\n",
    "\n",
    "psbt1.proprietary_fields[b'reply'] = [\n",
    "    PSBT_ProprietaryTypeData(0, b'params', json.dumps(replyParams).encode()),\n",
    "    PSBT_ProprietaryTypeData(0, b'signature', b'TODO add signature')\n",
    "]"
   ]
  },
  {
   "cell_type": "code",
   "execution_count": null,
   "id": "d6de0efd",
   "metadata": {},
   "outputs": [],
   "source": [
    "# add signature to offer reply\n",
    "offerReply = psbt1.to_base64()\n",
    "del psbt1\n",
    "offerReply"
   ]
  },
  {
   "cell_type": "markdown",
   "id": "60ae453f",
   "metadata": {},
   "source": [
    "## Ali checks offer reply and opens pending channel"
   ]
  },
  {
   "cell_type": "code",
   "execution_count": null,
   "id": "180849a7",
   "metadata": {},
   "outputs": [],
   "source": [
    "psbt = PartiallySignedTransaction.from_base64(offerReply)"
   ]
  },
  {
   "cell_type": "code",
   "execution_count": null,
   "id": "cd1846f2",
   "metadata": {},
   "outputs": [],
   "source": [
    "offer = psbt.proprietary_fields[b'offer'][0].value\n",
    "offer = Offer.deserialize(offer)\n",
    "offer"
   ]
  },
  {
   "cell_type": "code",
   "execution_count": null,
   "id": "20a8a69f",
   "metadata": {},
   "outputs": [],
   "source": [
    "replyParams = psbt.proprietary_fields[b'reply'][0].value\n",
    "replyParams = json.loads(replyParams)\n",
    "replyParams"
   ]
  },
  {
   "cell_type": "markdown",
   "id": "37e2ac4f",
   "metadata": {},
   "source": [
    "### Check offer reply"
   ]
  },
  {
   "cell_type": "code",
   "execution_count": null,
   "id": "6ff07c1f",
   "metadata": {},
   "outputs": [],
   "source": [
    "psbt.get_input_amounts()"
   ]
  },
  {
   "cell_type": "code",
   "execution_count": null,
   "id": "f6163c45",
   "metadata": {},
   "outputs": [],
   "source": [
    "psbt.get_output_amounts()"
   ]
  },
  {
   "cell_type": "code",
   "execution_count": null,
   "id": "52faba49",
   "metadata": {},
   "outputs": [],
   "source": [
    "psbt.get_fee()"
   ]
  },
  {
   "cell_type": "code",
   "execution_count": null,
   "id": "c59f6c6f",
   "metadata": {},
   "outputs": [],
   "source": [
    "premiumAmount = offer.premium_amount\n",
    "fundAmount = offer.fund_amount"
   ]
  },
  {
   "cell_type": "code",
   "execution_count": null,
   "id": "4d501ab3",
   "metadata": {},
   "outputs": [],
   "source": [
    "# fundign output is the last one\n",
    "assert premiumAmount + fundAmount == psbt.get_output_amounts()[-1]"
   ]
  },
  {
   "cell_type": "code",
   "execution_count": null,
   "id": "beb2210f",
   "metadata": {},
   "outputs": [],
   "source": [
    "# TODO: check that our inputs and outputs were included"
   ]
  },
  {
   "cell_type": "markdown",
   "id": "8201c546",
   "metadata": {},
   "source": [
    "### Open pending channel"
   ]
  },
  {
   "cell_type": "code",
   "execution_count": null,
   "id": "0115468d",
   "metadata": {},
   "outputs": [],
   "source": [
    "channel_point_shim = create_channel_point_shim(\n",
    "    channel_id=channelId,\n",
    "    psbt=psbt,\n",
    "    premium_amount=premiumAmount,\n",
    "    fund_amount=fundAmount,\n",
    "    local_key_desc=aliKeyDesc,\n",
    "    remote_pubkey=unhexlify(replyParams['chanPubKey2'])\n",
    ")\n",
    "\n",
    "open_channel(\n",
    "    node_pubkey=unhexlify(replyParams['nodePubKey']),\n",
    "    fund_amount=fundAmount,\n",
    "    premium_amount=premiumAmount,\n",
    "    channel_point_shim=channel_point_shim,\n",
    "    lnd=ali)"
   ]
  },
  {
   "cell_type": "code",
   "execution_count": null,
   "id": "ae99eeff",
   "metadata": {},
   "outputs": [],
   "source": [
    "# check that the channel is pending\n",
    "ali.lnd.PendingChannels(lnmsg.PendingChannelsRequest())"
   ]
  },
  {
   "cell_type": "markdown",
   "id": "a6e375b8",
   "metadata": {},
   "source": [
    "### Sign transaction"
   ]
  },
  {
   "cell_type": "code",
   "execution_count": null,
   "id": "b07d8523",
   "metadata": {},
   "outputs": [],
   "source": [
    "# At this point we should have commitment transactions signed and we can sign the funding transaction\n",
    "# TODO: how can we check with lnd that this is the case?"
   ]
  },
  {
   "cell_type": "code",
   "execution_count": null,
   "id": "c1bdd315",
   "metadata": {},
   "outputs": [],
   "source": [
    "# go through all of our inputs and try to sign them\n",
    "sign_inputs(psbt, offer.input_indices, ali)"
   ]
  },
  {
   "cell_type": "markdown",
   "id": "a8dc9c2d",
   "metadata": {},
   "source": [
    "### Send pending channel reply"
   ]
  },
  {
   "cell_type": "code",
   "execution_count": null,
   "id": "da9c85cf",
   "metadata": {},
   "outputs": [],
   "source": [
    "pendingChannelReply = psbt.to_base64()\n",
    "del psbt"
   ]
  },
  {
   "cell_type": "markdown",
   "id": "5adcc469",
   "metadata": {},
   "source": [
    "## Bob checks pending channel reply, signs and commits funding tx"
   ]
  },
  {
   "cell_type": "code",
   "execution_count": null,
   "id": "1e5518f9",
   "metadata": {},
   "outputs": [],
   "source": [
    "psbt = PartiallySignedTransaction.from_base64(pendingChannelReply)"
   ]
  },
  {
   "cell_type": "code",
   "execution_count": null,
   "id": "9225965c",
   "metadata": {},
   "outputs": [],
   "source": [
    "offer = psbt.proprietary_fields[b'offer'][0].value\n",
    "offer = Offer.deserialize(offer)\n",
    "offer"
   ]
  },
  {
   "cell_type": "code",
   "execution_count": null,
   "id": "d8d5c4bd",
   "metadata": {},
   "outputs": [],
   "source": [
    "fundAmount = offer.fund_amount\n",
    "premiumAmount = offer.premium_amount"
   ]
  },
  {
   "cell_type": "code",
   "execution_count": null,
   "id": "ef2f3b08",
   "metadata": {},
   "outputs": [],
   "source": [
    "replyParams = psbt.proprietary_fields[b'reply'][0].value\n",
    "replyParams = json.loads(replyParams)\n",
    "replyParams"
   ]
  },
  {
   "cell_type": "markdown",
   "id": "f924e3fe",
   "metadata": {},
   "source": [
    "### Check that pending channel matches the offer"
   ]
  },
  {
   "cell_type": "code",
   "execution_count": null,
   "id": "5a85189c",
   "metadata": {},
   "outputs": [],
   "source": [
    "# check that the channel is pending\n",
    "resp = bob.lnd.PendingChannels(lnmsg.PendingChannelsRequest())\n",
    "resp"
   ]
  },
  {
   "cell_type": "code",
   "execution_count": null,
   "id": "ee1ec074",
   "metadata": {},
   "outputs": [],
   "source": [
    "channel_point = f'{bc.b2lx(psbt.unsigned_tx.GetTxid())}:{len(psbt.unsigned_tx.vout)-1}'\n",
    "channel_point"
   ]
  },
  {
   "cell_type": "code",
   "execution_count": null,
   "id": "de69658c",
   "metadata": {},
   "outputs": [],
   "source": [
    "target_channel = None\n",
    "\n",
    "for pending_chan in resp.pending_open_channels:\n",
    "    if pending_chan.channel.channel_point == channel_point:\n",
    "        target_channel = pending_chan.channel\n",
    "        break"
   ]
  },
  {
   "cell_type": "code",
   "execution_count": null,
   "id": "6d905cf1",
   "metadata": {
    "scrolled": true
   },
   "outputs": [],
   "source": [
    "assert target_channel.local_balance == fundAmount\n",
    "# TODO: check why remote_balance was slightly reduced. Looks like fees\n",
    "# assert target_channel.remote_balance == premiumAmount\n",
    "assert target_channel.remote_balance > 0\n",
    "\n",
    "assert target_channel.remote_node_pub == offer.node_pubkey"
   ]
  },
  {
   "cell_type": "markdown",
   "id": "a20ea745",
   "metadata": {},
   "source": [
    "### Sign funding tx"
   ]
  },
  {
   "cell_type": "code",
   "execution_count": null,
   "id": "88cbfff1",
   "metadata": {},
   "outputs": [],
   "source": [
    "sign_inputs(psbt, replyParams['inputIndices'], bob)"
   ]
  },
  {
   "cell_type": "markdown",
   "id": "839c4a4b",
   "metadata": {},
   "source": [
    "### Finalize and publish funding tx"
   ]
  },
  {
   "cell_type": "code",
   "execution_count": null,
   "id": "df9bf19d",
   "metadata": {},
   "outputs": [],
   "source": [
    "tx = bc.CMutableTransaction.from_instance(psbt.unsigned_tx)"
   ]
  },
  {
   "cell_type": "code",
   "execution_count": null,
   "id": "088be4d9",
   "metadata": {},
   "outputs": [],
   "source": [
    "wits = map(lambda inp: inp.final_script_witness, psbt.inputs)\n",
    "wits = list(map(bc.CTxInWitness, wits))\n",
    "\n",
    "tx.wit = bc.CTxWitness(wits)"
   ]
  },
  {
   "cell_type": "code",
   "execution_count": null,
   "id": "88f6c289",
   "metadata": {},
   "outputs": [],
   "source": [
    "bob.wallet.PublishTransaction(\n",
    "    walletmsg.Transaction(tx_hex=tx.serialize()))"
   ]
  },
  {
   "cell_type": "code",
   "execution_count": null,
   "id": "295def40",
   "metadata": {},
   "outputs": [],
   "source": [
    "_ = list(brpc.generatetoaddress(6, minerAddr))"
   ]
  },
  {
   "cell_type": "markdown",
   "id": "c9046ee2",
   "metadata": {},
   "source": [
    "### Check that the channel is active"
   ]
  },
  {
   "cell_type": "code",
   "execution_count": null,
   "id": "0fac5027",
   "metadata": {},
   "outputs": [],
   "source": [
    "# should be no pending channels\n",
    "bob.lnd.PendingChannels(lnmsg.PendingChannelsRequest())"
   ]
  },
  {
   "cell_type": "code",
   "execution_count": null,
   "id": "76b3d01b",
   "metadata": {},
   "outputs": [],
   "source": [
    "bob.lnd.ListChannels(lnmsg.ListChannelsRequest())"
   ]
  }
 ],
 "metadata": {
  "kernelspec": {
   "display_name": "Python 3",
   "language": "python",
   "name": "python3"
  },
  "language_info": {
   "codemirror_mode": {
    "name": "ipython",
    "version": 3
   },
   "file_extension": ".py",
   "mimetype": "text/x-python",
   "name": "python",
   "nbconvert_exporter": "python",
   "pygments_lexer": "ipython3",
   "version": "3.8.8"
  }
 },
 "nbformat": 4,
 "nbformat_minor": 5
}
