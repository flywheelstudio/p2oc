{
 "cells": [
  {
   "cell_type": "markdown",
   "id": "b761c482",
   "metadata": {},
   "source": [
    "# Open double-funded channel without intermediary"
   ]
  },
  {
   "cell_type": "code",
   "execution_count": null,
   "id": "b502b82b",
   "metadata": {},
   "outputs": [],
   "source": [
    "%load_ext autoreload\n",
    "%autoreload 2"
   ]
  },
  {
   "cell_type": "markdown",
   "id": "0287ee1d",
   "metadata": {},
   "source": [
    "## Setup LND clients for Ali and Bob"
   ]
  },
  {
   "cell_type": "code",
   "execution_count": null,
   "id": "a073556e",
   "metadata": {},
   "outputs": [],
   "source": [
    "import sys"
   ]
  },
  {
   "cell_type": "code",
   "execution_count": null,
   "id": "848eb085",
   "metadata": {},
   "outputs": [],
   "source": [
    "# LND GRPC bindings should be in '/home/jovyan/lnrpc'\n",
    "sys.path.append('/home/jovyan/lnrpc')"
   ]
  },
  {
   "cell_type": "code",
   "execution_count": null,
   "id": "ef0712d7",
   "metadata": {},
   "outputs": [],
   "source": [
    "%%sh\n",
    "sudo cp /ali-lnd/data/chain/bitcoin/regtest/admin.macaroon /tmp/ali.macaroon\n",
    "sudo chmod +r /tmp/ali.macaroon\n",
    "\n",
    "sudo cp /bob-lnd/data/chain/bitcoin/regtest/admin.macaroon /tmp/bob.macaroon\n",
    "sudo chmod +r /tmp/bob.macaroon"
   ]
  },
  {
   "cell_type": "code",
   "execution_count": null,
   "id": "f4a4d351",
   "metadata": {},
   "outputs": [],
   "source": [
    "from lnd_rpc import LndRpc, lnmsg, walletmsg, signrpc, signmsg, routermsg"
   ]
  },
  {
   "cell_type": "code",
   "execution_count": null,
   "id": "5b444c5b",
   "metadata": {},
   "outputs": [],
   "source": [
    "ali = LndRpc(host='ali-lnd:10009',\n",
    "             cert_path='/ali-lnd/tls.cert',\n",
    "             macaroon_path='/tmp/ali.macaroon')"
   ]
  },
  {
   "cell_type": "code",
   "execution_count": null,
   "id": "471961c4",
   "metadata": {},
   "outputs": [],
   "source": [
    "bob = LndRpc(host='bob-lnd:10009',\n",
    "             cert_path='/bob-lnd/tls.cert',\n",
    "             macaroon_path='/tmp/bob.macaroon')"
   ]
  },
  {
   "cell_type": "code",
   "execution_count": null,
   "id": "6d55f7ce",
   "metadata": {},
   "outputs": [],
   "source": [
    "aliNodePubKey = ali.lnd.GetInfo(lnmsg.GetInfoRequest()).identity_pubkey\n",
    "aliNodePubKey"
   ]
  },
  {
   "cell_type": "code",
   "execution_count": null,
   "id": "b83505ed",
   "metadata": {},
   "outputs": [],
   "source": [
    "bobNodePubKey = bob.lnd.GetInfo(lnmsg.GetInfoRequest()).identity_pubkey\n",
    "bobNodePubKey"
   ]
  },
  {
   "cell_type": "markdown",
   "id": "11ad5f6d",
   "metadata": {},
   "source": [
    "## Fund Ali and Bob"
   ]
  },
  {
   "cell_type": "code",
   "execution_count": null,
   "id": "ed345e66",
   "metadata": {},
   "outputs": [],
   "source": [
    "import os\n",
    "import bitcoin\n",
    "from rpc import Proxy, Config"
   ]
  },
  {
   "cell_type": "code",
   "execution_count": null,
   "id": "7fe8b26f",
   "metadata": {},
   "outputs": [],
   "source": [
    "bitcoin.SelectParams('regtest')"
   ]
  },
  {
   "cell_type": "code",
   "execution_count": null,
   "id": "37f464d0",
   "metadata": {},
   "outputs": [],
   "source": [
    "brpc = Proxy(config=Config(\n",
    "    rpcuser=os.environ['BTCD_RPCUSER'],\n",
    "    rpcpassword=os.environ['BTCD_RPCPASS'],\n",
    "    rpcconnect='bitcoind',\n",
    "    rpcport=18443\n",
    "))"
   ]
  },
  {
   "cell_type": "code",
   "execution_count": null,
   "id": "e39c0bf0",
   "metadata": {},
   "outputs": [],
   "source": [
    "brpc.getblockcount()"
   ]
  },
  {
   "cell_type": "code",
   "execution_count": null,
   "id": "de478699",
   "metadata": {},
   "outputs": [],
   "source": [
    "aliAddr = ali.lnd.NewAddress(lnmsg.NewAddressRequest(type=0)) # p2wkh\n",
    "aliAddr"
   ]
  },
  {
   "cell_type": "code",
   "execution_count": null,
   "id": "a4ff8e8a",
   "metadata": {},
   "outputs": [],
   "source": [
    "bobAddr = bob.lnd.NewAddress(lnmsg.NewAddressRequest(type=0)) # p2wkh\n",
    "bobAddr"
   ]
  },
  {
   "cell_type": "code",
   "execution_count": null,
   "id": "98adbc57",
   "metadata": {},
   "outputs": [],
   "source": [
    "# fund ali\n",
    "_ = list(brpc.generatetoaddress(1, aliAddr.address))"
   ]
  },
  {
   "cell_type": "code",
   "execution_count": null,
   "id": "545bd43c",
   "metadata": {},
   "outputs": [],
   "source": [
    "# fund bob\n",
    "_ = list(brpc.generatetoaddress(1, bobAddr.address))"
   ]
  },
  {
   "cell_type": "code",
   "execution_count": null,
   "id": "ebf90969",
   "metadata": {},
   "outputs": [],
   "source": [
    "brpc.createwallet('miner')\n",
    "minerAddr = brpc.getnewaddress(\"coinbase\")\n",
    "brpc.unloadwallet('miner')"
   ]
  },
  {
   "cell_type": "code",
   "execution_count": null,
   "id": "c07b4145",
   "metadata": {},
   "outputs": [],
   "source": [
    "# unlock mined coins\n",
    "_ = list(brpc.generatetoaddress(110, minerAddr))"
   ]
  },
  {
   "cell_type": "code",
   "execution_count": null,
   "id": "d49a5cc9",
   "metadata": {},
   "outputs": [],
   "source": [
    "ali.lnd.WalletBalance(lnmsg.WalletBalanceRequest())"
   ]
  },
  {
   "cell_type": "code",
   "execution_count": null,
   "id": "6050d435",
   "metadata": {},
   "outputs": [],
   "source": [
    "bob.lnd.WalletBalance(lnmsg.WalletBalanceRequest())"
   ]
  },
  {
   "cell_type": "markdown",
   "id": "0d0207e6",
   "metadata": {},
   "source": [
    "## Ali creates public offer to request inbound liquidity in exchange for a fee"
   ]
  },
  {
   "cell_type": "code",
   "execution_count": null,
   "id": "1f173ee0",
   "metadata": {},
   "outputs": [],
   "source": [
    "import hashlib\n",
    "import time\n",
    "import base64\n",
    "\n",
    "import bitcoin.core as bc\n",
    "import bitcoin.core.script as bs\n",
    "import bitcoin.wallet as bw\n",
    "from bitcoin.rpc import hexlify, unhexlify"
   ]
  },
  {
   "cell_type": "code",
   "execution_count": null,
   "id": "21847106",
   "metadata": {},
   "outputs": [],
   "source": [
    "# taker needs to pay premium to open channel\n",
    "premiumAmount = int(0.001 * bc.COIN) # premium Ali is willing to pay\n",
    "fundAmount = int(0.16 * bc.COIN) # requested inbound capacity"
   ]
  },
  {
   "cell_type": "code",
   "execution_count": null,
   "id": "3033d2a9",
   "metadata": {},
   "outputs": [],
   "source": [
    "# create dummy psbt to extract 'funding' UTXO and change addresses\n",
    "# user minerAddr as a dummy address to create psbt\n",
    "tx_template = walletmsg.TxTemplate(outputs={str(minerAddr): premiumAmount})\n",
    "\n",
    "psbtRequest = walletmsg.FundPsbtRequest(raw=tx_template, target_conf=6)"
   ]
  },
  {
   "cell_type": "code",
   "execution_count": null,
   "id": "45308436",
   "metadata": {},
   "outputs": [],
   "source": [
    "aliDummyPsbt = ali.wallet.FundPsbt(request=psbtRequest)"
   ]
  },
  {
   "cell_type": "code",
   "execution_count": null,
   "id": "527428c1",
   "metadata": {},
   "outputs": [],
   "source": [
    "psbtBase64 = base64.b64encode(aliDummyPsbt.funded_psbt).decode()"
   ]
  },
  {
   "cell_type": "code",
   "execution_count": null,
   "id": "daf1ab87",
   "metadata": {},
   "outputs": [],
   "source": [
    "aliDummyPsbtDecoded = brpc._proxy._call('decodepsbt', psbtBase64)\n",
    "aliDummyPsbtDecoded"
   ]
  },
  {
   "cell_type": "code",
   "execution_count": null,
   "id": "e84317f8",
   "metadata": {},
   "outputs": [],
   "source": [
    "aliInputs = []\n",
    "for vin in aliDummyPsbtDecoded['tx']['vin']:\n",
    "    txin = bc.CTxIn(bc.COutPoint(bc.lx(vin['txid']), vin['vout']))\n",
    "    aliInputs.append(txin)\n",
    "aliInputs"
   ]
  },
  {
   "cell_type": "code",
   "execution_count": null,
   "id": "42d8431b",
   "metadata": {},
   "outputs": [],
   "source": [
    "# assume there are only 2 outputs: change and channel funding\n",
    "assert len(aliDummyPsbtDecoded['tx']['vout']) == 2"
   ]
  },
  {
   "cell_type": "code",
   "execution_count": null,
   "id": "1b8080c2",
   "metadata": {},
   "outputs": [],
   "source": [
    "aliChangeOutput = aliDummyPsbtDecoded['tx']['vout'][aliDummyPsbt.change_output_index]\n",
    "aliChangeOutput = bc.CTxOut(int(aliChangeOutput['value'] * bc.COIN),\n",
    "                            bc.CScript(unhexlify(aliChangeOutput['scriptPubKey']['hex'])))\n",
    "\n",
    "aliChangeOutput"
   ]
  },
  {
   "cell_type": "code",
   "execution_count": null,
   "id": "dc46e24d",
   "metadata": {},
   "outputs": [],
   "source": [
    "# Generate pubkey for channel funding\n",
    "key_family = 0 # multisig?\n",
    "keyReq = walletmsg.KeyReq(key_family=key_family)\n",
    "aliKeyDesc = ali.wallet.DeriveNextKey(keyReq)\n",
    "aliKeyDesc = ali.wallet.DeriveNextKey(keyReq) # need to call twice?\n",
    "aliKeyDesc"
   ]
  },
  {
   "cell_type": "code",
   "execution_count": null,
   "id": "f3abbd38",
   "metadata": {},
   "outputs": [],
   "source": [
    "offer = {\n",
    "    'id': hashlib.sha256(str(time.time()).encode()).hexdigest(), # some random id to match offers and replies\n",
    "    'type': 'INBOUND_LIQUIDITY_REQUEST',\n",
    "    'nodeAddr': 'ali-lnd',\n",
    "    'nodePubKey': aliNodePubKey,\n",
    "    'premiumAmount': premiumAmount,\n",
    "    'fundAmount': fundAmount,\n",
    "    'inputs': aliInputs,\n",
    "    'change': aliChangeOutput,\n",
    "    'chanPubKey1': aliKeyDesc.raw_key_bytes\n",
    "}\n",
    "offer"
   ]
  },
  {
   "cell_type": "markdown",
   "id": "6cc1a85c",
   "metadata": {},
   "source": [
    "## Bob accepts offer and sends reply"
   ]
  },
  {
   "cell_type": "markdown",
   "id": "8db6200e",
   "metadata": {},
   "source": [
    "### Check the the offer is still valid"
   ]
  },
  {
   "cell_type": "code",
   "execution_count": null,
   "id": "ce523b78",
   "metadata": {},
   "outputs": [],
   "source": [
    "# for simplicity assume single input\n",
    "# check that utxo has not been spent\n",
    "utxo = brpc.gettxout(offer['inputs'][0].prevout)\n",
    "assert utxo is not None\n",
    "utxo"
   ]
  },
  {
   "cell_type": "code",
   "execution_count": null,
   "id": "4e19e405",
   "metadata": {},
   "outputs": [],
   "source": [
    "# check that there is enough premium\n",
    "inValue = utxo['txout'].nValue\n",
    "changeValue = offer['change'].nValue\n",
    "\n",
    "# fees can be split between maker and taker\n",
    "fees = inValue - offer['premiumAmount'] - changeValue\n",
    "assert fees > 0\n",
    "fees"
   ]
  },
  {
   "cell_type": "markdown",
   "id": "dfb82ccc",
   "metadata": {},
   "source": [
    "### Allocate funds"
   ]
  },
  {
   "cell_type": "code",
   "execution_count": null,
   "id": "a65c6a8f",
   "metadata": {},
   "outputs": [],
   "source": [
    "# for simplicity Bob is maker but it can take \"taker\" role as well\n",
    "assert offer['type'] == 'INBOUND_LIQUIDITY_REQUEST'"
   ]
  },
  {
   "cell_type": "code",
   "execution_count": null,
   "id": "8b43fe40",
   "metadata": {},
   "outputs": [],
   "source": [
    "premiumAmount = offer['premiumAmount'] # Ali's premium to Bob\n",
    "fundAmount = offer['fundAmount'] # Bob funds this amount"
   ]
  },
  {
   "cell_type": "code",
   "execution_count": null,
   "id": "378dc5d1",
   "metadata": {},
   "outputs": [],
   "source": [
    "# create dummy psbt to extract 'funding' UTXO and change addresses\n",
    "# user minerAddr as a dummy address to create psbt\n",
    "tx_template = walletmsg.TxTemplate(outputs={str(minerAddr): fundAmount})\n",
    "\n",
    "psbtRequest = walletmsg.FundPsbtRequest(raw=tx_template, target_conf=6)\n",
    "psbtRequest"
   ]
  },
  {
   "cell_type": "code",
   "execution_count": null,
   "id": "b5d6771d",
   "metadata": {},
   "outputs": [],
   "source": [
    "bobDummyPsbt = bob.wallet.FundPsbt(request=psbtRequest)"
   ]
  },
  {
   "cell_type": "code",
   "execution_count": null,
   "id": "30ebd2f5",
   "metadata": {},
   "outputs": [],
   "source": [
    "psbtBase64 = base64.b64encode(bobDummyPsbt.funded_psbt).decode()"
   ]
  },
  {
   "cell_type": "code",
   "execution_count": null,
   "id": "5f9c6cd0",
   "metadata": {},
   "outputs": [],
   "source": [
    "bobDummyPsbtDecoded = brpc._proxy._call('decodepsbt', psbtBase64)\n",
    "bobDummyPsbtDecoded"
   ]
  },
  {
   "cell_type": "code",
   "execution_count": null,
   "id": "399c0ff0",
   "metadata": {},
   "outputs": [],
   "source": [
    "bobInputs = []\n",
    "for vin in bobDummyPsbtDecoded['tx']['vin']:\n",
    "    txin = bc.CTxIn(bc.COutPoint(bc.lx(vin['txid']), vin['vout']))\n",
    "    bobInputs.append(txin)\n",
    "bobInputs"
   ]
  },
  {
   "cell_type": "code",
   "execution_count": null,
   "id": "cea5f5bf",
   "metadata": {},
   "outputs": [],
   "source": [
    "# assume there are only 2 outputs: change and channel funding\n",
    "assert len(bobDummyPsbtDecoded['tx']['vout']) == 2"
   ]
  },
  {
   "cell_type": "code",
   "execution_count": null,
   "id": "1fd02587",
   "metadata": {},
   "outputs": [],
   "source": [
    "# NOTE: bob pays funding tx fee but he does not have to\n",
    "bobChangeOutput = bobDummyPsbtDecoded['tx']['vout'][bobDummyPsbt.change_output_index]\n",
    "bobChangeOutput = bc.CTxOut(int(bobChangeOutput['value'] * bc.COIN),\n",
    "                            bc.CScript(unhexlify(bobChangeOutput['scriptPubKey']['hex'])))\n",
    "\n",
    "bobChangeOutput"
   ]
  },
  {
   "cell_type": "markdown",
   "id": "ae0d1ee4",
   "metadata": {},
   "source": [
    "### Create funding transaction"
   ]
  },
  {
   "cell_type": "code",
   "execution_count": null,
   "id": "0a08222c",
   "metadata": {},
   "outputs": [],
   "source": [
    "key_family = 0 # multisig?\n",
    "keyReq = walletmsg.KeyReq(key_family=key_family)\n",
    "bobKeyDesc = bob.wallet.DeriveNextKey(keyReq)\n",
    "bobKeyDesc = bob.wallet.DeriveNextKey(keyReq) # need to call twice?\n",
    "bobKeyDesc"
   ]
  },
  {
   "cell_type": "code",
   "execution_count": null,
   "id": "b6400660",
   "metadata": {},
   "outputs": [],
   "source": [
    "takerPubKey = offer['chanPubKey1']\n",
    "makerPubKey = bobKeyDesc.raw_key_bytes"
   ]
  },
  {
   "cell_type": "code",
   "execution_count": null,
   "id": "1bac2bcb",
   "metadata": {},
   "outputs": [],
   "source": [
    "# https://github.com/lightningnetwork/lightning-rfc/blob/master/03-transactions.md#funding-transaction-output\n",
    "# https://github.com/bitcoin/bips/blob/master/bip-0069.mediawiki\n",
    "# if makerPubKey > takerPubKey:\n",
    "if list(makerPubKey) > list(takerPubKey):\n",
    "    pk1, pk2 = takerPubKey, makerPubKey\n",
    "else:\n",
    "    pk1, pk2 = makerPubKey, takerPubKey"
   ]
  },
  {
   "cell_type": "code",
   "execution_count": null,
   "id": "d2a0f670",
   "metadata": {},
   "outputs": [],
   "source": [
    "msigScript = bs.CScript([\n",
    "        bs.OP_2,\n",
    "        pk1,\n",
    "        pk2,\n",
    "        bs.OP_2,\n",
    "        bs.OP_CHECKMULTISIG\n",
    "    ])"
   ]
  },
  {
   "cell_type": "code",
   "execution_count": null,
   "id": "6a32c68b",
   "metadata": {},
   "outputs": [],
   "source": [
    "# convert to P2WSH\n",
    "scriptPubKey = bc.CScript([bs.OP_0, hashlib.sha256(msigScript).digest()])\n",
    "scriptPubKey"
   ]
  },
  {
   "cell_type": "code",
   "execution_count": null,
   "id": "7861f33b",
   "metadata": {},
   "outputs": [],
   "source": [
    "assert scriptPubKey.is_witness_v0_scripthash()"
   ]
  },
  {
   "cell_type": "code",
   "execution_count": null,
   "id": "3ed2fc05",
   "metadata": {},
   "outputs": [],
   "source": [
    "fundingOutput = bc.CTxOut(premiumAmount + fundAmount,\n",
    "                          scriptPubKey)\n",
    "fundingOutput"
   ]
  },
  {
   "cell_type": "code",
   "execution_count": null,
   "id": "1283ed71",
   "metadata": {},
   "outputs": [],
   "source": [
    "# for simplicity Bob's input is at position 0\n",
    "fundingTxInputs = bobInputs + offer['inputs']\n",
    "fundingTxOutputs = [fundingOutput, bobChangeOutput, offer['change']]\n",
    "fundingOutputIdx = 0"
   ]
  },
  {
   "cell_type": "code",
   "execution_count": null,
   "id": "a079748e",
   "metadata": {},
   "outputs": [],
   "source": [
    "fundingTx = bc.CTransaction(fundingTxInputs, fundingTxOutputs)\n",
    "fundingTx"
   ]
  },
  {
   "cell_type": "code",
   "execution_count": null,
   "id": "c8863243",
   "metadata": {},
   "outputs": [],
   "source": [
    "fundingTxId = fundingTx.GetTxid()\n",
    "fundingTxId"
   ]
  },
  {
   "cell_type": "markdown",
   "id": "154d9b31",
   "metadata": {},
   "source": [
    "### connect to taker (Ali)"
   ]
  },
  {
   "cell_type": "code",
   "execution_count": null,
   "id": "685ff414",
   "metadata": {},
   "outputs": [],
   "source": [
    "# assumer whoever creates offer is accessible\n",
    "connect_peer_req = lnmsg.ConnectPeerRequest(\n",
    "    addr=lnmsg.LightningAddress(\n",
    "        pubkey=offer['nodePubKey'],\n",
    "        host=offer['nodeAddr']\n",
    "))"
   ]
  },
  {
   "cell_type": "code",
   "execution_count": null,
   "id": "097c9717",
   "metadata": {},
   "outputs": [],
   "source": [
    "bob.lnd.ConnectPeer(connect_peer_req)"
   ]
  },
  {
   "cell_type": "code",
   "execution_count": null,
   "id": "d889943d",
   "metadata": {},
   "outputs": [],
   "source": [
    "# check that we are connected\n",
    "bob.lnd.ListPeers(lnmsg.ListPeersRequest())"
   ]
  },
  {
   "cell_type": "markdown",
   "id": "fff15cec",
   "metadata": {},
   "source": [
    "### Register shim to prepare for channel opening"
   ]
  },
  {
   "cell_type": "code",
   "execution_count": null,
   "id": "96dd5bd7",
   "metadata": {},
   "outputs": [],
   "source": [
    "# something that is unique to the corresponding matched taker and maker\n",
    "channelId = hashlib.sha256((bobNodePubKey + offer['nodePubKey'] + str(time.time())).encode()).hexdigest()\n",
    "channelId"
   ]
  },
  {
   "cell_type": "code",
   "execution_count": null,
   "id": "f55e58ce",
   "metadata": {},
   "outputs": [],
   "source": [
    "chan_point = lnmsg.ChannelPoint(funding_txid_bytes=fundingTxId,\n",
    "                                output_index=fundingOutputIdx)"
   ]
  },
  {
   "cell_type": "code",
   "execution_count": null,
   "id": "37b75ca1",
   "metadata": {},
   "outputs": [],
   "source": [
    "# define our key for funding output\n",
    "local_key = lnmsg.KeyDescriptor(\n",
    "    raw_key_bytes=bobKeyDesc.raw_key_bytes,\n",
    "    key_loc=lnmsg.KeyLocator(\n",
    "        key_family=bobKeyDesc.key_loc.key_family,\n",
    "        key_index=bobKeyDesc.key_loc.key_index))"
   ]
  },
  {
   "cell_type": "code",
   "execution_count": null,
   "id": "76bfef84",
   "metadata": {},
   "outputs": [],
   "source": [
    "chan_point_shim = lnmsg.ChanPointShim(\n",
    "    amt=fundAmount + premiumAmount,\n",
    "    chan_point=chan_point,\n",
    "    local_key=local_key,\n",
    "    remote_key=offer['chanPubKey1'],\n",
    "    pending_chan_id=unhexlify(channelId),\n",
    "    thaw_height=0 # set 0 for simplicity\n",
    ")"
   ]
  },
  {
   "cell_type": "code",
   "execution_count": null,
   "id": "54ae72be",
   "metadata": {},
   "outputs": [],
   "source": [
    "ftm = lnmsg.FundingTransitionMsg(\n",
    "    shim_register=lnmsg.FundingShim(chan_point_shim=chan_point_shim))"
   ]
  },
  {
   "cell_type": "code",
   "execution_count": null,
   "id": "7b1ed8b7",
   "metadata": {},
   "outputs": [],
   "source": [
    "# empty response\n",
    "bob.lnd.FundingStateStep(ftm)"
   ]
  },
  {
   "cell_type": "markdown",
   "id": "a6e375b8",
   "metadata": {},
   "source": [
    "### Sign transaction"
   ]
  },
  {
   "cell_type": "code",
   "execution_count": null,
   "id": "b07d8523",
   "metadata": {},
   "outputs": [],
   "source": [
    "# At this point things look good and we can sign the transaction"
   ]
  },
  {
   "cell_type": "code",
   "execution_count": null,
   "id": "eb457e06",
   "metadata": {},
   "outputs": [],
   "source": [
    "# assume single input for simplicity\n",
    "assert len(bobDummyPsbtDecoded['inputs']) == 1"
   ]
  },
  {
   "cell_type": "code",
   "execution_count": null,
   "id": "c1bdd315",
   "metadata": {},
   "outputs": [],
   "source": [
    "input_ = bobDummyPsbtDecoded['inputs'][0]\n",
    "input_"
   ]
  },
  {
   "cell_type": "code",
   "execution_count": null,
   "id": "d34a7c61",
   "metadata": {},
   "outputs": [],
   "source": [
    "# our UTXO pubkey\n",
    "assert len(input_['bip32_derivs']) == 1\n",
    "pubkey = input_['bip32_derivs'][0]['pubkey']\n",
    "pubkey = unhexlify(pubkey)\n",
    "pubkey"
   ]
  },
  {
   "cell_type": "code",
   "execution_count": null,
   "id": "0d839cb3",
   "metadata": {},
   "outputs": [],
   "source": [
    "# assume witness utxo\n",
    "utxoAddr = input_['witness_utxo']['scriptPubKey']['address']\n",
    "utxoAddr = bw.P2WPKHBitcoinAddress(utxoAddr)\n",
    "utxoAddr"
   ]
  },
  {
   "cell_type": "code",
   "execution_count": null,
   "id": "787f9682",
   "metadata": {},
   "outputs": [],
   "source": [
    "sign_desc = signmsg.SignDescriptor(\n",
    "    key_desc=signmsg.KeyDescriptor(\n",
    "        raw_key_bytes=pubkey\n",
    "    ),\n",
    "    witness_script=utxoAddr.to_redeemScript(),\n",
    "    output=signmsg.TxOut(\n",
    "        value=int(input_['witness_utxo']['amount'] * bc.COIN),\n",
    "        pk_script=utxoAddr.to_scriptPubKey()\n",
    "    ),\n",
    "    sighash=bs.SIGHASH_ALL, # so that transaction cannot be altered\n",
    "    input_index=0 # for simplicity Bob's input is 0\n",
    ")"
   ]
  },
  {
   "cell_type": "code",
   "execution_count": null,
   "id": "ca04cf7c",
   "metadata": {},
   "outputs": [],
   "source": [
    "signReq = signmsg.SignReq(\n",
    "    raw_tx_bytes=fundingTx.serialize(),\n",
    "    sign_descs=[sign_desc]\n",
    ")"
   ]
  },
  {
   "cell_type": "code",
   "execution_count": null,
   "id": "09458155",
   "metadata": {},
   "outputs": [],
   "source": [
    "bobSignResp = bob.signer.SignOutputRaw(signReq)\n",
    "bobSignResp"
   ]
  },
  {
   "cell_type": "code",
   "execution_count": null,
   "id": "3da922f3",
   "metadata": {},
   "outputs": [],
   "source": [
    "signature = bobSignResp.raw_sigs[0] + bytes([bs.SIGHASH_ALL])"
   ]
  },
  {
   "cell_type": "code",
   "execution_count": null,
   "id": "fcabcb98",
   "metadata": {},
   "outputs": [],
   "source": [
    "witness = [signature, pubkey]\n",
    "bs.CScriptWitness(witness)"
   ]
  },
  {
   "cell_type": "code",
   "execution_count": null,
   "id": "775d6fbc",
   "metadata": {},
   "outputs": [],
   "source": [
    "bobSignedFundingTx = bc.CTransaction(\n",
    "    vin=fundingTx.vin,\n",
    "    vout=fundingTx.vout,\n",
    "    witness=bc.CTxWitness([bc.CTxInWitness(bs.CScriptWitness(witness))]))"
   ]
  },
  {
   "cell_type": "markdown",
   "id": "a8dc9c2d",
   "metadata": {},
   "source": [
    "### Send offer reply"
   ]
  },
  {
   "cell_type": "code",
   "execution_count": null,
   "id": "da9c85cf",
   "metadata": {},
   "outputs": [],
   "source": [
    "offerReply = {\n",
    "    'id': offer['id'],\n",
    "    'nodeAddr': 'bob-lnd', # sending for extra check\n",
    "    'nodePubKey': bobNodePubKey,\n",
    "    'channelId': channelId,\n",
    "    'chanPubKey2': bobKeyDesc.raw_key_bytes,\n",
    "    'fundingOutputIdx': fundingOutputIdx,\n",
    "    'fundingTx': bobSignedFundingTx\n",
    "}\n",
    "offerReply"
   ]
  },
  {
   "cell_type": "markdown",
   "id": "5adcc469",
   "metadata": {},
   "source": [
    "## Ali checks offer reply and commits funding tx"
   ]
  },
  {
   "cell_type": "markdown",
   "id": "48ef0f2a",
   "metadata": {},
   "source": [
    "### Check offer reply message"
   ]
  },
  {
   "cell_type": "code",
   "execution_count": null,
   "id": "547cf876",
   "metadata": {},
   "outputs": [],
   "source": [
    "# check id\n",
    "assert offer['id'] == offerReply['id']"
   ]
  },
  {
   "cell_type": "code",
   "execution_count": null,
   "id": "d0dc9b37",
   "metadata": {},
   "outputs": [],
   "source": [
    "# check connection\n",
    "peers = ali.lnd.ListPeers(lnmsg.ListPeersRequest())\n",
    "assert peers.peers[0].pub_key == offerReply['nodePubKey']\n",
    "# we can also check `nodeAddr`"
   ]
  },
  {
   "cell_type": "markdown",
   "id": "106751db",
   "metadata": {},
   "source": [
    "### Check transaction"
   ]
  },
  {
   "cell_type": "code",
   "execution_count": null,
   "id": "71396ff3",
   "metadata": {},
   "outputs": [],
   "source": [
    "tx = offerReply['fundingTx']\n",
    "\n",
    "# check that our input was included. For simplicity assume we are the last\n",
    "assert tx.vin[-1] == offer['inputs'][0]\n",
    "\n",
    "# check that our change output was included\n",
    "assert tx.vout[-1] == offer['change']\n",
    "\n",
    "# check that signature is valid. For simplicity just check that it's present\n",
    "assert tx.wit is not None"
   ]
  },
  {
   "cell_type": "markdown",
   "id": "90b9694a",
   "metadata": {},
   "source": [
    "### Check funding output"
   ]
  },
  {
   "cell_type": "code",
   "execution_count": null,
   "id": "f6112b40",
   "metadata": {},
   "outputs": [],
   "source": [
    "premiumAmount = offer['premiumAmount']\n",
    "fundAmount = offer['fundAmount']"
   ]
  },
  {
   "cell_type": "code",
   "execution_count": null,
   "id": "e0c3fd24",
   "metadata": {},
   "outputs": [],
   "source": [
    "takerPubKey = offer['chanPubKey1'] # ali\n",
    "makerPubKey = offerReply['chanPubKey2'] # bob"
   ]
  },
  {
   "cell_type": "code",
   "execution_count": null,
   "id": "f9f5190c",
   "metadata": {},
   "outputs": [],
   "source": [
    "# https://github.com/lightningnetwork/lightning-rfc/blob/master/03-transactions.md#funding-transaction-output\n",
    "# https://github.com/bitcoin/bips/blob/master/bip-0069.mediawiki\n",
    "if list(makerPubKey) > list(takerPubKey):\n",
    "    pk1, pk2 = takerPubKey, makerPubKey\n",
    "else:\n",
    "    pk1, pk2 = makerPubKey, takerPubKey"
   ]
  },
  {
   "cell_type": "code",
   "execution_count": null,
   "id": "e71a6cfd",
   "metadata": {},
   "outputs": [],
   "source": [
    "msigScript = bs.CScript([\n",
    "        bs.OP_2,\n",
    "        pk1,\n",
    "        pk2,\n",
    "        bs.OP_2,\n",
    "        bs.OP_CHECKMULTISIG\n",
    "    ])"
   ]
  },
  {
   "cell_type": "code",
   "execution_count": null,
   "id": "1903c805",
   "metadata": {},
   "outputs": [],
   "source": [
    "# convert to P2WSH\n",
    "scriptPubKey = bc.CScript([bs.OP_0, hashlib.sha256(msigScript).digest()])\n",
    "assert scriptPubKey.is_witness_v0_scripthash()"
   ]
  },
  {
   "cell_type": "code",
   "execution_count": null,
   "id": "1cb9b003",
   "metadata": {},
   "outputs": [],
   "source": [
    "fundingOutput = bc.CTxOut(premiumAmount + fundAmount,\n",
    "                          scriptPubKey)\n",
    "assert fundingOutput == tx.vout[0]"
   ]
  },
  {
   "cell_type": "markdown",
   "id": "5d896c1f",
   "metadata": {},
   "source": [
    "### Open pending channel"
   ]
  },
  {
   "cell_type": "code",
   "execution_count": null,
   "id": "945f5a37",
   "metadata": {},
   "outputs": [],
   "source": [
    "offerReply['fundingTx']"
   ]
  },
  {
   "cell_type": "code",
   "execution_count": null,
   "id": "cf5f9018",
   "metadata": {},
   "outputs": [],
   "source": [
    "chan_point = lnmsg.ChannelPoint(funding_txid_bytes=offerReply['fundingTx'].GetTxid(),\n",
    "                                output_index=offerReply['fundingOutputIdx'])"
   ]
  },
  {
   "cell_type": "code",
   "execution_count": null,
   "id": "72aa7431",
   "metadata": {},
   "outputs": [],
   "source": [
    "# our funding key\n",
    "local_key = lnmsg.KeyDescriptor(\n",
    "    raw_key_bytes=aliKeyDesc.raw_key_bytes,\n",
    "    key_loc=lnmsg.KeyLocator(\n",
    "        key_family=aliKeyDesc.key_loc.key_family,\n",
    "        key_index=aliKeyDesc.key_loc.key_index\n",
    "    )\n",
    ")"
   ]
  },
  {
   "cell_type": "code",
   "execution_count": null,
   "id": "816f2cfe",
   "metadata": {},
   "outputs": [],
   "source": [
    "premiumAmount = offer['premiumAmount']\n",
    "fundAmount = offer['fundAmount']"
   ]
  },
  {
   "cell_type": "code",
   "execution_count": null,
   "id": "799f5b3d",
   "metadata": {},
   "outputs": [],
   "source": [
    "chan_point_shim = lnmsg.ChanPointShim(\n",
    "    amt=offer['fundAmount'] + offer['premiumAmount'],\n",
    "    chan_point=chan_point,\n",
    "    local_key=local_key,\n",
    "    remote_key=offerReply['chanPubKey2'],\n",
    "    pending_chan_id=unhexlify(offerReply['channelId']),\n",
    "    thaw_height=0 # for simplicity\n",
    ")"
   ]
  },
  {
   "cell_type": "code",
   "execution_count": null,
   "id": "bbf23d09",
   "metadata": {},
   "outputs": [],
   "source": [
    "funding_shim = lnmsg.FundingShim(chan_point_shim=chan_point_shim)"
   ]
  },
  {
   "cell_type": "code",
   "execution_count": null,
   "id": "49758d2f",
   "metadata": {},
   "outputs": [],
   "source": [
    "open_chan_req = lnmsg.OpenChannelRequest(\n",
    "    node_pubkey=unhexlify(offerReply['nodePubKey']),\n",
    "    local_funding_amount=offer['fundAmount'] + offer['premiumAmount'],\n",
    "    push_sat=offer['fundAmount'], # fund amount is pushed to the remote end (Bob)\n",
    "    funding_shim=funding_shim\n",
    ")"
   ]
  },
  {
   "cell_type": "code",
   "execution_count": null,
   "id": "a5a6bcf8",
   "metadata": {},
   "outputs": [],
   "source": [
    "chanEventStream = ali.lnd.OpenChannel(open_chan_req)"
   ]
  },
  {
   "cell_type": "code",
   "execution_count": null,
   "id": "e13c8e64",
   "metadata": {},
   "outputs": [],
   "source": [
    "next(chanEventStream)"
   ]
  },
  {
   "cell_type": "code",
   "execution_count": null,
   "id": "30d9c609",
   "metadata": {},
   "outputs": [],
   "source": [
    "# check that the channel is pending\n",
    "ali.lnd.PendingChannels(lnmsg.PendingChannelsRequest())"
   ]
  },
  {
   "cell_type": "markdown",
   "id": "9259ea65",
   "metadata": {},
   "source": [
    "### Sign funding tx"
   ]
  },
  {
   "cell_type": "code",
   "execution_count": null,
   "id": "78ac3949",
   "metadata": {},
   "outputs": [],
   "source": [
    "# for simplicity assume single input\n",
    "assert len(aliDummyPsbtDecoded['inputs']) == 1"
   ]
  },
  {
   "cell_type": "code",
   "execution_count": null,
   "id": "a8e3bdc9",
   "metadata": {},
   "outputs": [],
   "source": [
    "# for simplicity assume single signing key\n",
    "assert len(aliDummyPsbtDecoded['inputs'][0]['bip32_derivs']) == 1"
   ]
  },
  {
   "cell_type": "code",
   "execution_count": null,
   "id": "4161a3a6",
   "metadata": {},
   "outputs": [],
   "source": [
    "input_ = aliDummyPsbtDecoded['inputs'][0]\n",
    "input_"
   ]
  },
  {
   "cell_type": "code",
   "execution_count": null,
   "id": "105e19ae",
   "metadata": {},
   "outputs": [],
   "source": [
    "# assume witness utxo\n",
    "utxoAddr = input_['witness_utxo']['scriptPubKey']['address']\n",
    "utxoAddr = bw.P2WPKHBitcoinAddress(utxoAddr)\n",
    "utxoAddr"
   ]
  },
  {
   "cell_type": "code",
   "execution_count": null,
   "id": "026c08bf",
   "metadata": {},
   "outputs": [],
   "source": [
    "# our UTXO pubkey\n",
    "assert len(input_['bip32_derivs']) == 1\n",
    "pubkey = input_['bip32_derivs'][0]['pubkey']\n",
    "pubkey = unhexlify(pubkey)\n",
    "pubkey"
   ]
  },
  {
   "cell_type": "code",
   "execution_count": null,
   "id": "04fba9c5",
   "metadata": {},
   "outputs": [],
   "source": [
    "# create copy of other party's signed transaction\n",
    "finalFundingTx = bc.CMutableTransaction(\n",
    "    vin=offerReply['fundingTx'].vin,\n",
    "    vout=offerReply['fundingTx'].vout\n",
    ")"
   ]
  },
  {
   "cell_type": "code",
   "execution_count": null,
   "id": "d56ae515",
   "metadata": {},
   "outputs": [],
   "source": [
    "sign_desc = signmsg.SignDescriptor(\n",
    "    key_desc=signmsg.KeyDescriptor(\n",
    "        raw_key_bytes=pubkey\n",
    "    ),\n",
    "    witness_script=utxoAddr.to_redeemScript(),\n",
    "    output=signmsg.TxOut(\n",
    "        value=int(input_['witness_utxo']['amount'] * bc.COIN),\n",
    "        pk_script=utxoAddr.to_scriptPubKey()\n",
    "    ),\n",
    "    sighash=bs.SIGHASH_ALL, # so that transaction cannot be altered\n",
    "    input_index=len(fundingTx.vin) - 1 # assume we are the last one\n",
    ")"
   ]
  },
  {
   "cell_type": "code",
   "execution_count": null,
   "id": "c04cbe0b",
   "metadata": {},
   "outputs": [],
   "source": [
    "signReq = signmsg.SignReq(\n",
    "    raw_tx_bytes=finalFundingTx.serialize(),\n",
    "    sign_descs=[sign_desc]\n",
    ")"
   ]
  },
  {
   "cell_type": "code",
   "execution_count": null,
   "id": "24bce974",
   "metadata": {},
   "outputs": [],
   "source": [
    "aliSignResp = ali.signer.SignOutputRaw(signReq)\n",
    "aliSignResp"
   ]
  },
  {
   "cell_type": "code",
   "execution_count": null,
   "id": "8bc2b6ec",
   "metadata": {},
   "outputs": [],
   "source": [
    "signature = aliSignResp.raw_sigs[0] + bytes([bs.SIGHASH_ALL])"
   ]
  },
  {
   "cell_type": "code",
   "execution_count": null,
   "id": "9d0dd108",
   "metadata": {},
   "outputs": [],
   "source": [
    "witness = [signature, pubkey]\n",
    "witness = bc.CTxInWitness(bs.CScriptWitness(witness))\n",
    "witness"
   ]
  },
  {
   "cell_type": "code",
   "execution_count": null,
   "id": "4bccea86",
   "metadata": {},
   "outputs": [],
   "source": [
    "# combine signatures\n",
    "finalFundingTx.wit = bc.CTxWitness([offerReply['fundingTx'].wit.vtxinwit[0], witness])"
   ]
  },
  {
   "cell_type": "markdown",
   "id": "7c9c4723",
   "metadata": {},
   "source": [
    "### Submit funding transaction"
   ]
  },
  {
   "cell_type": "code",
   "execution_count": null,
   "id": "5e8dd64b",
   "metadata": {},
   "outputs": [],
   "source": [
    "fundingTxId2 = brpc.sendrawtransaction(finalFundingTx)\n",
    "fundingTxId2"
   ]
  },
  {
   "cell_type": "code",
   "execution_count": null,
   "id": "27f2a794",
   "metadata": {},
   "outputs": [],
   "source": [
    "assert fundingTxId2 == fundingTxId"
   ]
  },
  {
   "cell_type": "code",
   "execution_count": null,
   "id": "cabf2d9b",
   "metadata": {},
   "outputs": [],
   "source": [
    "_ = list(brpc.generatetoaddress(6, minerAddr))"
   ]
  },
  {
   "cell_type": "markdown",
   "id": "66b191ae",
   "metadata": {},
   "source": [
    "### Check that the channel has been opened"
   ]
  },
  {
   "cell_type": "code",
   "execution_count": null,
   "id": "470726e2",
   "metadata": {},
   "outputs": [],
   "source": [
    "# should be no pending channels\n",
    "ali.lnd.PendingChannels(lnmsg.PendingChannelsRequest())"
   ]
  },
  {
   "cell_type": "code",
   "execution_count": null,
   "id": "7678494a",
   "metadata": {},
   "outputs": [],
   "source": [
    "ali.lnd.ListChannels(lnmsg.ListChannelsRequest())"
   ]
  }
 ],
 "metadata": {
  "kernelspec": {
   "display_name": "Python 3",
   "language": "python",
   "name": "python3"
  },
  "language_info": {
   "codemirror_mode": {
    "name": "ipython",
    "version": 3
   },
   "file_extension": ".py",
   "mimetype": "text/x-python",
   "name": "python",
   "nbconvert_exporter": "python",
   "pygments_lexer": "ipython3",
   "version": "3.8.8"
  }
 },
 "nbformat": 4,
 "nbformat_minor": 5
}
