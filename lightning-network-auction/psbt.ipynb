{
 "cells": [
  {
   "cell_type": "markdown",
   "id": "edf586a6",
   "metadata": {},
   "source": [
    "# Partially Signed Bitcoin Transaction"
   ]
  },
  {
   "cell_type": "code",
   "execution_count": 1,
   "id": "021b0b86",
   "metadata": {},
   "outputs": [],
   "source": [
    "%load_ext autoreload\n",
    "%autoreload 2"
   ]
  },
  {
   "cell_type": "markdown",
   "id": "d015015a",
   "metadata": {},
   "source": [
    "## Init Bitcoin RPC client"
   ]
  },
  {
   "cell_type": "code",
   "execution_count": 9,
   "id": "8fcb198d",
   "metadata": {},
   "outputs": [],
   "source": [
    "import os\n",
    "import bitcoin\n",
    "from rpc import Proxy, Config"
   ]
  },
  {
   "cell_type": "code",
   "execution_count": 10,
   "id": "6ee5241b",
   "metadata": {},
   "outputs": [],
   "source": [
    "bitcoin.SelectParams('regtest')"
   ]
  },
  {
   "cell_type": "code",
   "execution_count": 11,
   "id": "ec69a4ee",
   "metadata": {},
   "outputs": [],
   "source": [
    "rpc = Proxy(config=Config(\n",
    "    rpcuser=os.environ['BTCD_RPCUSER'],\n",
    "    rpcpassword=os.environ['BTCD_RPCPASS'],\n",
    "    rpcconnect='bitcoind',\n",
    "    rpcport=18443\n",
    "))"
   ]
  },
  {
   "cell_type": "code",
   "execution_count": null,
   "id": "b11845a7",
   "metadata": {},
   "outputs": [],
   "source": [
    "rpc.getblockcount()"
   ]
  },
  {
   "cell_type": "markdown",
   "id": "c6096be4",
   "metadata": {},
   "source": [
    "## Create/Load wallet"
   ]
  },
  {
   "cell_type": "code",
   "execution_count": 5,
   "id": "0bf1bdb1",
   "metadata": {},
   "outputs": [
    {
     "data": {
      "text/plain": [
       "{'name': 'ali', 'warning': ''}"
      ]
     },
     "execution_count": 5,
     "metadata": {},
     "output_type": "execute_result"
    }
   ],
   "source": [
    "rpc.createwallet('miner')\n",
    "# rpc.loadwallet('miner')"
   ]
  },
  {
   "cell_type": "code",
   "execution_count": 13,
   "id": "c52aa1e6",
   "metadata": {},
   "outputs": [
    {
     "data": {
      "text/plain": [
       "0"
      ]
     },
     "execution_count": 13,
     "metadata": {},
     "output_type": "execute_result"
    }
   ],
   "source": [
    "rpc.getbalance()"
   ]
  },
  {
   "cell_type": "markdown",
   "id": "338e378a",
   "metadata": {},
   "source": [
    "## Mine coins"
   ]
  },
  {
   "cell_type": "code",
   "execution_count": 38,
   "id": "8f9d3756",
   "metadata": {},
   "outputs": [
    {
     "data": {
      "text/plain": [
       "P2WPKHBitcoinAddress('bcrt1q20ch9yqp403d7sjps9rdkpea2uxvy3ftdw7r2p')"
      ]
     },
     "execution_count": 38,
     "metadata": {},
     "output_type": "execute_result"
    }
   ],
   "source": [
    "minerAddr = rpc.getnewaddress(\"coinbase\")\n",
    "minerAddr"
   ]
  },
  {
   "cell_type": "code",
   "execution_count": 19,
   "id": "6e5672cf",
   "metadata": {},
   "outputs": [],
   "source": [
    "_ = list(rpc.generatetoaddress(101, minerAddr))"
   ]
  },
  {
   "cell_type": "code",
   "execution_count": 20,
   "id": "00008dfe",
   "metadata": {},
   "outputs": [
    {
     "data": {
      "text/plain": [
       "505000000000"
      ]
     },
     "execution_count": 20,
     "metadata": {},
     "output_type": "execute_result"
    }
   ],
   "source": [
    "rpc.getbalance()"
   ]
  },
  {
   "cell_type": "code",
   "execution_count": 32,
   "id": "c58f3e2b",
   "metadata": {},
   "outputs": [
    {
     "data": {
      "text/plain": [
       "101"
      ]
     },
     "execution_count": 32,
     "metadata": {},
     "output_type": "execute_result"
    }
   ],
   "source": [
    "# list UTXOs\n",
    "len(rpc.listunspent())"
   ]
  },
  {
   "cell_type": "code",
   "execution_count": 31,
   "id": "62adea72",
   "metadata": {},
   "outputs": [
    {
     "data": {
      "text/plain": [
       "{'address': P2WPKHBitcoinAddress('bcrt1qfpv57fh844xys77vray8vdm0g8xvum65zvxrvt'),\n",
       " 'label': 'mining',\n",
       " 'scriptPubKey': CScript([0, x('48594f26e7ad4c487bcc1f4876376f41ccce6f54')]),\n",
       " 'amount': 5000000000,\n",
       " 'confirmations': 134,\n",
       " 'spendable': True,\n",
       " 'solvable': True,\n",
       " 'desc': \"wpkh([fb97ba69/0'/0'/1']030b6f67690e28f9cad94460f2e0c39f2ff5eaa0e0ffddf90bf11e6dc12ff76528)#vgdgkku4\",\n",
       " 'safe': True,\n",
       " 'outpoint': COutPoint(lx('197ddae99d96f829d1e33a6b017386d74be458a72163ed7f6bf26d24729a0800'), 0)}"
      ]
     },
     "execution_count": 31,
     "metadata": {},
     "output_type": "execute_result"
    }
   ],
   "source": [
    "rpc.listunspent()[0]"
   ]
  },
  {
   "cell_type": "markdown",
   "id": "da8676a7",
   "metadata": {},
   "source": [
    "## Fund Ali and Bob"
   ]
  },
  {
   "cell_type": "code",
   "execution_count": 29,
   "id": "c52142e4",
   "metadata": {},
   "outputs": [],
   "source": [
    "import bitcoin.core as bc"
   ]
  },
  {
   "cell_type": "code",
   "execution_count": 33,
   "id": "70ba4cc8",
   "metadata": {},
   "outputs": [
    {
     "data": {
      "text/plain": [
       "P2WPKHBitcoinAddress('bcrt1qmsvvv6sv4k0kfxuac0vfwnsnnrdyj2uplzvwm4')"
      ]
     },
     "execution_count": 33,
     "metadata": {},
     "output_type": "execute_result"
    }
   ],
   "source": [
    "aliAddr = rpc.getnewaddress(\"ali\")\n",
    "aliAddr"
   ]
  },
  {
   "cell_type": "code",
   "execution_count": 34,
   "id": "170dce1c",
   "metadata": {},
   "outputs": [
    {
     "data": {
      "text/plain": [
       "P2WPKHBitcoinAddress('bcrt1q25crxn8h2vdudqkpe0vy4tejv59jdcde60sv84')"
      ]
     },
     "execution_count": 34,
     "metadata": {},
     "output_type": "execute_result"
    }
   ],
   "source": [
    "bobAddr = rpc.getnewaddress(\"bob\")\n",
    "bobAddr"
   ]
  },
  {
   "cell_type": "code",
   "execution_count": 35,
   "id": "0dbea01e",
   "metadata": {},
   "outputs": [
    {
     "data": {
      "text/plain": [
       "b'\\xad\\x03\\xc3\\xfaB\\xcf.\\x93\\x98\\x03X&\\x9c\\x07\\x7f\\x8b\\xbc\\xe7\\x95\\xc2\\x1fL\\xc6p\\xa7\\x0cu9\\xafg\\xc5\\x97'"
      ]
     },
     "execution_count": 35,
     "metadata": {},
     "output_type": "execute_result"
    }
   ],
   "source": [
    "txid = rpc.sendtoaddress(aliAddr, 10*bc.COIN)\n",
    "bc.b2lx(txid)"
   ]
  },
  {
   "cell_type": "code",
   "execution_count": 36,
   "id": "b1052ea7",
   "metadata": {},
   "outputs": [
    {
     "data": {
      "text/plain": [
       "b'Ho%=\\xe2\\xdb\\x02\\xc9\\xecs\\xd2W\\xf0\\xe4b%3%\\x8e\\xef\\xc7U\\xa6O\\x96q-\\xaeg^`P'"
      ]
     },
     "execution_count": 36,
     "metadata": {},
     "output_type": "execute_result"
    }
   ],
   "source": [
    "txid = rpc.sendtoaddress(bobAddr, 10*bc.COIN)\n",
    "bc.b2lx(txid)"
   ]
  },
  {
   "cell_type": "code",
   "execution_count": 39,
   "id": "f5107227",
   "metadata": {},
   "outputs": [],
   "source": [
    "_ = list(rpc.generatetoaddress(6, minerAddr))"
   ]
  },
  {
   "cell_type": "code",
   "execution_count": 40,
   "id": "b91402be",
   "metadata": {},
   "outputs": [
    {
     "data": {
      "text/plain": [
       "[{'address': P2WPKHBitcoinAddress('bcrt1qmsvvv6sv4k0kfxuac0vfwnsnnrdyj2uplzvwm4'),\n",
       "  'label': 'ali',\n",
       "  'scriptPubKey': CScript([0, x('dc18c66a0cad9f649b9dc3d8974e1398da492b81')]),\n",
       "  'amount': 1000000000,\n",
       "  'confirmations': 6,\n",
       "  'spendable': True,\n",
       "  'solvable': True,\n",
       "  'desc': \"wpkh([fb97ba69/0'/0'/3']038ea3cd9f6a19af3f1b2cea6f719e3f884760523e6e85f72406cd630e09eb0b60)#a7ueje56\",\n",
       "  'safe': True,\n",
       "  'outpoint': COutPoint(lx('97c567af39750ca770c64c1fc295e7bc8b7f079c26580398932ecf42fac303ad'), 0)}]"
      ]
     },
     "execution_count": 40,
     "metadata": {},
     "output_type": "execute_result"
    }
   ],
   "source": [
    "rpc.listunspent(addrs=[aliAddr])"
   ]
  },
  {
   "cell_type": "code",
   "execution_count": 41,
   "id": "dbf4af1e",
   "metadata": {},
   "outputs": [
    {
     "data": {
      "text/plain": [
       "[{'address': P2WPKHBitcoinAddress('bcrt1q25crxn8h2vdudqkpe0vy4tejv59jdcde60sv84'),\n",
       "  'label': 'bob',\n",
       "  'scriptPubKey': CScript([0, x('5530334cf7531bc682c1cbd84aaf32650b26e1b9')]),\n",
       "  'amount': 1000000000,\n",
       "  'confirmations': 6,\n",
       "  'spendable': True,\n",
       "  'solvable': True,\n",
       "  'desc': \"wpkh([fb97ba69/0'/0'/4']0248724f06a854fcbf6be70b63d6ffe5125cbd71cf9e9076f9a9551db684df9446)#60mrpkhf\",\n",
       "  'safe': True,\n",
       "  'outpoint': COutPoint(lx('50605e67ae2d71964fa655c7ef8e25332562e4f057d273ecc902dbe23d256f48'), 1)}]"
      ]
     },
     "execution_count": 41,
     "metadata": {},
     "output_type": "execute_result"
    }
   ],
   "source": [
    "rpc.listunspent(addrs=[bobAddr])"
   ]
  },
  {
   "cell_type": "code",
   "execution_count": null,
   "id": "96320162",
   "metadata": {},
   "outputs": [],
   "source": []
  }
 ],
 "metadata": {
  "kernelspec": {
   "display_name": "Python 3",
   "language": "python",
   "name": "python3"
  },
  "language_info": {
   "codemirror_mode": {
    "name": "ipython",
    "version": 3
   },
   "file_extension": ".py",
   "mimetype": "text/x-python",
   "name": "python",
   "nbconvert_exporter": "python",
   "pygments_lexer": "ipython3",
   "version": "3.8.8"
  }
 },
 "nbformat": 4,
 "nbformat_minor": 5
}
