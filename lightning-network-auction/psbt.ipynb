{
 "cells": [
  {
   "cell_type": "markdown",
   "id": "edf586a6",
   "metadata": {},
   "source": [
    "# Partially Signed Bitcoin Transaction"
   ]
  },
  {
   "cell_type": "code",
   "execution_count": null,
   "id": "021b0b86",
   "metadata": {},
   "outputs": [],
   "source": [
    "%load_ext autoreload\n",
    "%autoreload 2"
   ]
  },
  {
   "cell_type": "markdown",
   "id": "d015015a",
   "metadata": {},
   "source": [
    "## Init Bitcoin RPC client"
   ]
  },
  {
   "cell_type": "code",
   "execution_count": null,
   "id": "8fcb198d",
   "metadata": {},
   "outputs": [],
   "source": [
    "import os\n",
    "import bitcoin\n",
    "from rpc import Proxy, Config"
   ]
  },
  {
   "cell_type": "code",
   "execution_count": null,
   "id": "6ee5241b",
   "metadata": {},
   "outputs": [],
   "source": [
    "bitcoin.SelectParams('regtest')"
   ]
  },
  {
   "cell_type": "code",
   "execution_count": null,
   "id": "ec69a4ee",
   "metadata": {},
   "outputs": [],
   "source": [
    "rpc = Proxy(config=Config(\n",
    "    rpcuser=os.environ['BTCD_RPCUSER'],\n",
    "    rpcpassword=os.environ['BTCD_RPCPASS'],\n",
    "    rpcconnect='bitcoind',\n",
    "    rpcport=18443\n",
    "))"
   ]
  },
  {
   "cell_type": "code",
   "execution_count": null,
   "id": "b11845a7",
   "metadata": {},
   "outputs": [],
   "source": [
    "rpc.getblockcount()"
   ]
  },
  {
   "cell_type": "markdown",
   "id": "338e378a",
   "metadata": {},
   "source": [
    "## Mine coins"
   ]
  },
  {
   "cell_type": "code",
   "execution_count": null,
   "id": "2ade1a5d",
   "metadata": {},
   "outputs": [],
   "source": [
    "import bitcoin.core as bc"
   ]
  },
  {
   "cell_type": "code",
   "execution_count": null,
   "id": "7915e2c1",
   "metadata": {},
   "outputs": [],
   "source": [
    "rpc.createwallet('miner')\n",
    "# rpc.loadwallet('miner')"
   ]
  },
  {
   "cell_type": "code",
   "execution_count": null,
   "id": "13223f3f",
   "metadata": {},
   "outputs": [],
   "source": [
    "rpc.getbalance()"
   ]
  },
  {
   "cell_type": "code",
   "execution_count": null,
   "id": "8f9d3756",
   "metadata": {},
   "outputs": [],
   "source": [
    "minerAddr = rpc.getnewaddress(\"coinbase\")\n",
    "minerAddr"
   ]
  },
  {
   "cell_type": "code",
   "execution_count": null,
   "id": "6e5672cf",
   "metadata": {},
   "outputs": [],
   "source": [
    "# coinbase transactions are locked for 100 blocks\n",
    "_ = list(rpc.generatetoaddress(101, minerAddr))"
   ]
  },
  {
   "cell_type": "code",
   "execution_count": null,
   "id": "00008dfe",
   "metadata": {},
   "outputs": [],
   "source": [
    "rpc.getbalance()"
   ]
  },
  {
   "cell_type": "code",
   "execution_count": null,
   "id": "62adea72",
   "metadata": {},
   "outputs": [],
   "source": [
    "unspent = rpc.listunspent()\n",
    "unspent"
   ]
  },
  {
   "cell_type": "code",
   "execution_count": null,
   "id": "caa18138",
   "metadata": {},
   "outputs": [],
   "source": [
    "# coinbase transaction\n",
    "r = rpc.getrawtransaction(unspent[0]['outpoint'].hash, verbose=True)\n",
    "r"
   ]
  },
  {
   "cell_type": "code",
   "execution_count": null,
   "id": "8d9f2c50",
   "metadata": {},
   "outputs": [],
   "source": [
    "# Coinbase transaction id\n",
    "bc.b2lx(r['tx'].GetTxid())"
   ]
  },
  {
   "cell_type": "code",
   "execution_count": null,
   "id": "7ebc07b2",
   "metadata": {},
   "outputs": [],
   "source": [
    "rpc.unloadwallet('miner')"
   ]
  },
  {
   "cell_type": "markdown",
   "id": "0a5444bd",
   "metadata": {},
   "source": [
    "## Generate addresses for Ali and Bob"
   ]
  },
  {
   "cell_type": "markdown",
   "id": "0027e5c7",
   "metadata": {},
   "source": [
    "### Ali"
   ]
  },
  {
   "cell_type": "code",
   "execution_count": null,
   "id": "f4f01b25",
   "metadata": {},
   "outputs": [],
   "source": [
    "rpc.createwallet('ali')"
   ]
  },
  {
   "cell_type": "code",
   "execution_count": null,
   "id": "46b9358b",
   "metadata": {},
   "outputs": [],
   "source": [
    "aliFundAddr = rpc.getnewaddress('ali fund')\n",
    "aliFundSecret = rpc.dumpprivkey(aliFundAddr)\n",
    "aliFundAddr"
   ]
  },
  {
   "cell_type": "code",
   "execution_count": null,
   "id": "7c083133",
   "metadata": {},
   "outputs": [],
   "source": [
    "# h = hashlib.sha256(b'correct horse battery staple').digest()\n",
    "# seckey = CBitcoinSecret.from_secret_bytes(h)"
   ]
  },
  {
   "cell_type": "code",
   "execution_count": null,
   "id": "4bebe9a2",
   "metadata": {},
   "outputs": [],
   "source": [
    "aliMsigAddr = rpc.getnewaddress('ali multisig key')\n",
    "aliMsigSecret = rpc.dumpprivkey(aliMsigAddr)"
   ]
  },
  {
   "cell_type": "code",
   "execution_count": null,
   "id": "34b3d7fc",
   "metadata": {},
   "outputs": [],
   "source": [
    "aliMsigOutAddr = rpc.getnewaddress(\"ali msig spend\")"
   ]
  },
  {
   "cell_type": "code",
   "execution_count": null,
   "id": "f6a93025",
   "metadata": {},
   "outputs": [],
   "source": [
    "rpc.unloadwallet('ali')"
   ]
  },
  {
   "cell_type": "markdown",
   "id": "7e2162ca",
   "metadata": {},
   "source": [
    "### Bob"
   ]
  },
  {
   "cell_type": "code",
   "execution_count": null,
   "id": "790e3622",
   "metadata": {},
   "outputs": [],
   "source": [
    "rpc.createwallet('bob')"
   ]
  },
  {
   "cell_type": "code",
   "execution_count": null,
   "id": "b142fd47",
   "metadata": {},
   "outputs": [],
   "source": [
    "bobFundAddr = rpc.getnewaddress(\"bob fund\")\n",
    "bobFundSecret = rpc.dumpprivkey(bobFundAddr)\n",
    "bobFundAddr"
   ]
  },
  {
   "cell_type": "code",
   "execution_count": null,
   "id": "b9816d20",
   "metadata": {},
   "outputs": [],
   "source": [
    "bobMsigAddr = rpc.getnewaddress('bob multisig key')\n",
    "bobMsigSecret = rpc.dumpprivkey(bobMsigAddr)"
   ]
  },
  {
   "cell_type": "code",
   "execution_count": null,
   "id": "288f4574",
   "metadata": {},
   "outputs": [],
   "source": [
    "bobMsigOutAddr = rpc.getnewaddress(\"bob msig spend\")"
   ]
  },
  {
   "cell_type": "code",
   "execution_count": null,
   "id": "4321a4d1",
   "metadata": {},
   "outputs": [],
   "source": [
    "rpc.unloadwallet('bob')"
   ]
  },
  {
   "cell_type": "markdown",
   "id": "da8676a7",
   "metadata": {},
   "source": [
    "## Fund Ali and Bob"
   ]
  },
  {
   "cell_type": "code",
   "execution_count": null,
   "id": "0b6e8df3",
   "metadata": {},
   "outputs": [],
   "source": [
    "rpc.loadwallet('miner')"
   ]
  },
  {
   "cell_type": "code",
   "execution_count": null,
   "id": "8a18dc2c",
   "metadata": {},
   "outputs": [],
   "source": [
    "fundTxId = rpc.sendmany(\"\",\n",
    "                        {aliFundAddr: 10*bc.COIN, bobFundAddr: 11*bc.COIN},\n",
    "                        comment=\"Funding Ali and Bob\")"
   ]
  },
  {
   "cell_type": "code",
   "execution_count": null,
   "id": "735e774a",
   "metadata": {},
   "outputs": [],
   "source": [
    "rpc.getrawtransaction(fundTxId, verbose=True)"
   ]
  },
  {
   "cell_type": "code",
   "execution_count": null,
   "id": "f5107227",
   "metadata": {},
   "outputs": [],
   "source": [
    "# confirm transactions\n",
    "_ = list(rpc.generatetoaddress(6, minerAddr))"
   ]
  },
  {
   "cell_type": "code",
   "execution_count": null,
   "id": "d595fb24",
   "metadata": {},
   "outputs": [],
   "source": [
    "rpc.unloadwallet('miner')"
   ]
  },
  {
   "cell_type": "markdown",
   "id": "8396e229",
   "metadata": {},
   "source": [
    "### Check funds"
   ]
  },
  {
   "cell_type": "code",
   "execution_count": null,
   "id": "b91402be",
   "metadata": {},
   "outputs": [],
   "source": [
    "rpc.loadwallet('ali')\n",
    "aliUnspent = rpc.listunspent(addrs=[aliFundAddr])\n",
    "rpc.unloadwallet('ali')\n",
    "aliUnspent"
   ]
  },
  {
   "cell_type": "code",
   "execution_count": null,
   "id": "dbf4af1e",
   "metadata": {},
   "outputs": [],
   "source": [
    "rpc.loadwallet('bob')\n",
    "bobUnspent = rpc.listunspent(addrs=[bobFundAddr])\n",
    "rpc.unloadwallet('bob')\n",
    "bobUnspent"
   ]
  },
  {
   "cell_type": "markdown",
   "id": "5ac083c6",
   "metadata": {},
   "source": [
    "## Create 2-of-2 Multisig"
   ]
  },
  {
   "cell_type": "code",
   "execution_count": null,
   "id": "eb5d2092",
   "metadata": {},
   "outputs": [],
   "source": [
    "import bitcoin.core.script as bs"
   ]
  },
  {
   "cell_type": "markdown",
   "id": "67467940",
   "metadata": {},
   "source": [
    "### Get inputs\n",
    "aka ali's and bob's funding tx outputs"
   ]
  },
  {
   "cell_type": "code",
   "execution_count": null,
   "id": "b9bdbfa8",
   "metadata": {},
   "outputs": [],
   "source": [
    "aliTxin = bc.CTxIn(aliUnspent[0]['outpoint'])\n",
    "aliTxin"
   ]
  },
  {
   "cell_type": "code",
   "execution_count": null,
   "id": "22ebe46e",
   "metadata": {},
   "outputs": [],
   "source": [
    "bobTxin = bc.CTxIn(bobUnspent[0]['outpoint'])\n",
    "bobTxin"
   ]
  },
  {
   "cell_type": "markdown",
   "id": "3f5e240f",
   "metadata": {},
   "source": [
    "### Construct multisig"
   ]
  },
  {
   "cell_type": "code",
   "execution_count": null,
   "id": "797f8f74",
   "metadata": {},
   "outputs": [],
   "source": [
    "# redeem script\n",
    "msigScript = bs.CScript([\n",
    "        bs.OP_2,\n",
    "        aliMsigSecret.pub,\n",
    "        bobMsigSecret.pub,\n",
    "        bs.OP_2,\n",
    "        bs.OP_CHECKMULTISIG\n",
    "    ])\n",
    "\n",
    "# msigScript = bs.CScript([\n",
    "#         aliMsigSecret.pub,\n",
    "#         bs.OP_CHECKSIG\n",
    "#     ])\n",
    "msigScript"
   ]
  },
  {
   "cell_type": "markdown",
   "id": "73c15752",
   "metadata": {},
   "source": [
    "### Create output"
   ]
  },
  {
   "cell_type": "code",
   "execution_count": null,
   "id": "87312170",
   "metadata": {},
   "outputs": [],
   "source": [
    "scriptPubKey = msigScript.to_p2sh_scriptPubKey()\n",
    "scriptPubKey"
   ]
  },
  {
   "cell_type": "code",
   "execution_count": null,
   "id": "dac8881e",
   "metadata": {},
   "outputs": [],
   "source": [
    "fee = 0.001*bc.COIN\n",
    "msigFundAmount = aliUnspent[0]['amount'] + bobUnspent[0]['amount'] - fee\n",
    "msigFundAmount/bc.COIN"
   ]
  },
  {
   "cell_type": "code",
   "execution_count": null,
   "id": "74707990",
   "metadata": {},
   "outputs": [],
   "source": [
    "txout = bc.CTxOut(msigFundAmount, scriptPubKey)\n",
    "txout"
   ]
  },
  {
   "cell_type": "markdown",
   "id": "bae0bbc8",
   "metadata": {},
   "source": [
    "### Create transaction"
   ]
  },
  {
   "cell_type": "code",
   "execution_count": null,
   "id": "e7532d88",
   "metadata": {},
   "outputs": [],
   "source": [
    "tx = bc.CMutableTransaction([aliTxin, bobTxin], [txout])\n",
    "tx"
   ]
  },
  {
   "cell_type": "markdown",
   "id": "31507d4b",
   "metadata": {},
   "source": [
    "### Sign transaction"
   ]
  },
  {
   "cell_type": "code",
   "execution_count": null,
   "id": "50e05480",
   "metadata": {},
   "outputs": [],
   "source": [
    "# sign by Ali\n",
    "sighash = bs.SignatureHash(aliFundAddr.to_redeemScript(),\n",
    "                           tx,\n",
    "                           inIdx=0,\n",
    "                           hashtype=bs.SIGHASH_ALL,\n",
    "                           amount=10*bc.COIN,\n",
    "                           sigversion=bs.SIGVERSION_WITNESS_V0)\n",
    "\n",
    "aliSignature = aliFundSecret.sign(sighash) + bytes([bs.SIGHASH_ALL])\n",
    "aliWitness = [aliSignature, aliFundSecret.pub]\n",
    "aliWitness = bc.CTxInWitness(bs.CScriptWitness(aliWitness))\n",
    "aliWitness"
   ]
  },
  {
   "cell_type": "code",
   "execution_count": null,
   "id": "6f89292c",
   "metadata": {},
   "outputs": [],
   "source": [
    "# sign by Bob\n",
    "sighash = bs.SignatureHash(bobFundAddr.to_redeemScript(),\n",
    "                           tx,\n",
    "                           inIdx=1,\n",
    "                           hashtype=bs.SIGHASH_ALL,\n",
    "                           amount=11*bc.COIN,\n",
    "                           sigversion=bs.SIGVERSION_WITNESS_V0)\n",
    "\n",
    "bobSignature = bobFundSecret.sign(sighash) + bytes([bs.SIGHASH_ALL])\n",
    "\n",
    "bobWitness = [bobSignature, bobFundSecret.pub]\n",
    "bobWitness = bc.CTxInWitness(bs.CScriptWitness(bobWitness))\n",
    "bobWitness"
   ]
  },
  {
   "cell_type": "code",
   "execution_count": null,
   "id": "5b639f22",
   "metadata": {},
   "outputs": [],
   "source": [
    "tx.wit = bc.CTxWitness([aliWitness, bobWitness])\n",
    "tx"
   ]
  },
  {
   "cell_type": "markdown",
   "id": "8b4110e2",
   "metadata": {},
   "source": [
    "### Submit transaction"
   ]
  },
  {
   "cell_type": "code",
   "execution_count": null,
   "id": "c64eb750",
   "metadata": {},
   "outputs": [],
   "source": [
    "msigTxid = rpc.sendrawtransaction(tx)"
   ]
  },
  {
   "cell_type": "code",
   "execution_count": null,
   "id": "9d129242",
   "metadata": {},
   "outputs": [],
   "source": [
    "_ = list(rpc.generatetoaddress(6, minerAddr))"
   ]
  },
  {
   "cell_type": "code",
   "execution_count": null,
   "id": "3dca95fc",
   "metadata": {},
   "outputs": [],
   "source": [
    "msigTx = rpc.getrawtransaction(msigTxid, verbose=True)\n",
    "msigTx"
   ]
  },
  {
   "cell_type": "markdown",
   "id": "a2dce59a",
   "metadata": {},
   "source": [
    "## Spend 2-of-2 multisig"
   ]
  },
  {
   "cell_type": "code",
   "execution_count": null,
   "id": "61413cb7",
   "metadata": {},
   "outputs": [],
   "source": [
    "from bitcoin.core.scripteval import VerifyScript, SCRIPT_VERIFY_P2SH"
   ]
  },
  {
   "cell_type": "markdown",
   "id": "cdaf1909",
   "metadata": {},
   "source": [
    "### Create spend input"
   ]
  },
  {
   "cell_type": "code",
   "execution_count": null,
   "id": "a3bc9f33",
   "metadata": {},
   "outputs": [],
   "source": [
    "msigTx['tx'].vout"
   ]
  },
  {
   "cell_type": "code",
   "execution_count": null,
   "id": "27c0978e",
   "metadata": {},
   "outputs": [],
   "source": [
    "spendTxin = bc.CMutableTxIn(bc.COutPoint(msigTxid, 0))\n",
    "spendTxin"
   ]
  },
  {
   "cell_type": "markdown",
   "id": "d6d4f1dc",
   "metadata": {},
   "source": [
    "### Create spend output"
   ]
  },
  {
   "cell_type": "code",
   "execution_count": null,
   "id": "e90fbce1",
   "metadata": {},
   "outputs": [],
   "source": [
    "msigFundAmount = msigTx['tx'].vout[0].nValue\n",
    "msigFundAmount / bc.COIN"
   ]
  },
  {
   "cell_type": "code",
   "execution_count": null,
   "id": "060a0944",
   "metadata": {},
   "outputs": [],
   "source": [
    "aliAmount = (msigFundAmount - fee) / 2\n",
    "aliAmount / bc.COIN"
   ]
  },
  {
   "cell_type": "code",
   "execution_count": null,
   "id": "9c854cc6",
   "metadata": {},
   "outputs": [],
   "source": [
    "bobAmount = (msigFundAmount - fee) / 2\n",
    "bobAmount / bc.COIN"
   ]
  },
  {
   "cell_type": "code",
   "execution_count": null,
   "id": "2f9e83ef",
   "metadata": {},
   "outputs": [],
   "source": [
    "assert msigFundAmount - aliAmount - bobAmount > 0"
   ]
  },
  {
   "cell_type": "code",
   "execution_count": null,
   "id": "e2eeb8fb",
   "metadata": {},
   "outputs": [],
   "source": [
    "aliTxout = bc.CTxOut(aliAmount, aliMsigOutAddr.to_scriptPubKey())\n",
    "bobTxout = bc.CTxOut(bobAmount, bobMsigOutAddr.to_scriptPubKey())"
   ]
  },
  {
   "cell_type": "markdown",
   "id": "52f48a4e",
   "metadata": {},
   "source": [
    "### Create spend transaction"
   ]
  },
  {
   "cell_type": "code",
   "execution_count": null,
   "id": "fcd73085",
   "metadata": {},
   "outputs": [],
   "source": [
    "spendTx = bc.CMutableTransaction([spendTxin], [aliTxout, bobTxout])\n",
    "spendTx"
   ]
  },
  {
   "cell_type": "markdown",
   "id": "7953f9e6",
   "metadata": {},
   "source": [
    "### Sign spend transaction"
   ]
  },
  {
   "cell_type": "code",
   "execution_count": null,
   "id": "984fb1a7",
   "metadata": {},
   "outputs": [],
   "source": [
    "sighash = bs.SignatureHash(msigScript, spendTx, inIdx=0, hashtype=bs.SIGHASH_ALL)\n",
    "aliSignature = aliMsigSecret.sign(sighash) + bytes([bs.SIGHASH_ALL])\n",
    "bobSignature = bobMsigSecret.sign(sighash) + bytes([bs.SIGHASH_ALL])"
   ]
  },
  {
   "cell_type": "code",
   "execution_count": null,
   "id": "7e0cd950",
   "metadata": {},
   "outputs": [],
   "source": [
    "spendTxin.scriptSig = bs.CScript([bs.OP_0, aliSignature, bobSignature, msigScript])\n",
    "# spendTxin.scriptSig = bs.CScript([aliSignature, msigScript])"
   ]
  },
  {
   "cell_type": "code",
   "execution_count": null,
   "id": "41d3f477",
   "metadata": {},
   "outputs": [],
   "source": [
    "VerifyScript(spendTxin.scriptSig, msigScript.to_p2sh_scriptPubKey(), spendTx, 0, (SCRIPT_VERIFY_P2SH,))"
   ]
  },
  {
   "cell_type": "code",
   "execution_count": null,
   "id": "93a3e1b5",
   "metadata": {},
   "outputs": [],
   "source": [
    "spendTxid = rpc.sendrawtransaction(spendTx)"
   ]
  },
  {
   "cell_type": "code",
   "execution_count": null,
   "id": "ef618727",
   "metadata": {},
   "outputs": [],
   "source": [
    "_ = list(rpc.generatetoaddress(6, minerAddr))"
   ]
  },
  {
   "cell_type": "code",
   "execution_count": null,
   "id": "fdece39a",
   "metadata": {},
   "outputs": [],
   "source": [
    "rpc.getrawtransaction(spendTxid, verbose=True)"
   ]
  },
  {
   "cell_type": "code",
   "execution_count": null,
   "id": "3d8a9a38",
   "metadata": {},
   "outputs": [],
   "source": []
  }
 ],
 "metadata": {
  "kernelspec": {
   "display_name": "Python 3",
   "language": "python",
   "name": "python3"
  },
  "language_info": {
   "codemirror_mode": {
    "name": "ipython",
    "version": 3
   },
   "file_extension": ".py",
   "mimetype": "text/x-python",
   "name": "python",
   "nbconvert_exporter": "python",
   "pygments_lexer": "ipython3",
   "version": "3.8.8"
  }
 },
 "nbformat": 4,
 "nbformat_minor": 5
}
