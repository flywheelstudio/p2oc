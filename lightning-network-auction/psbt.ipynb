{
 "cells": [
  {
   "cell_type": "markdown",
   "id": "edf586a6",
   "metadata": {},
   "source": [
    "# Partially Signed Bitcoin Transaction"
   ]
  },
  {
   "cell_type": "code",
   "execution_count": null,
   "id": "021b0b86",
   "metadata": {},
   "outputs": [],
   "source": [
    "%load_ext autoreload\n",
    "%autoreload 2"
   ]
  },
  {
   "cell_type": "markdown",
   "id": "d015015a",
   "metadata": {},
   "source": [
    "## Init Bitcoin RPC client"
   ]
  },
  {
   "cell_type": "code",
   "execution_count": null,
   "id": "8fcb198d",
   "metadata": {},
   "outputs": [],
   "source": [
    "import os\n",
    "import bitcoin\n",
    "from rpc import Proxy, Config"
   ]
  },
  {
   "cell_type": "code",
   "execution_count": null,
   "id": "6ee5241b",
   "metadata": {},
   "outputs": [],
   "source": [
    "bitcoin.SelectParams('regtest')"
   ]
  },
  {
   "cell_type": "code",
   "execution_count": null,
   "id": "ec69a4ee",
   "metadata": {},
   "outputs": [],
   "source": [
    "rpc = Proxy(config=Config(\n",
    "    rpcuser=os.environ['BTCD_RPCUSER'],\n",
    "    rpcpassword=os.environ['BTCD_RPCPASS'],\n",
    "    rpcconnect='bitcoind',\n",
    "    rpcport=18443\n",
    "))"
   ]
  },
  {
   "cell_type": "code",
   "execution_count": null,
   "id": "b11845a7",
   "metadata": {},
   "outputs": [],
   "source": [
    "rpc.getblockcount()"
   ]
  },
  {
   "cell_type": "markdown",
   "id": "c6096be4",
   "metadata": {},
   "source": [
    "## Create/Load wallet"
   ]
  },
  {
   "cell_type": "code",
   "execution_count": null,
   "id": "0bf1bdb1",
   "metadata": {},
   "outputs": [],
   "source": [
    "rpc.createwallet('miner')\n",
    "# rpc.loadwallet('miner')"
   ]
  },
  {
   "cell_type": "code",
   "execution_count": null,
   "id": "c52aa1e6",
   "metadata": {},
   "outputs": [],
   "source": [
    "rpc.getbalance()"
   ]
  },
  {
   "cell_type": "markdown",
   "id": "338e378a",
   "metadata": {},
   "source": [
    "## Mine coins"
   ]
  },
  {
   "cell_type": "code",
   "execution_count": null,
   "id": "2ade1a5d",
   "metadata": {},
   "outputs": [],
   "source": [
    "import bitcoin.core as bc"
   ]
  },
  {
   "cell_type": "code",
   "execution_count": null,
   "id": "8f9d3756",
   "metadata": {},
   "outputs": [],
   "source": [
    "minerAddr = rpc.getnewaddress(\"coinbase\")\n",
    "minerAddr"
   ]
  },
  {
   "cell_type": "code",
   "execution_count": null,
   "id": "6e5672cf",
   "metadata": {},
   "outputs": [],
   "source": [
    "# coinbase transactions are locked for 100 blocks\n",
    "_ = list(rpc.generatetoaddress(101, minerAddr))"
   ]
  },
  {
   "cell_type": "code",
   "execution_count": null,
   "id": "00008dfe",
   "metadata": {},
   "outputs": [],
   "source": [
    "rpc.getbalance()"
   ]
  },
  {
   "cell_type": "code",
   "execution_count": null,
   "id": "62adea72",
   "metadata": {},
   "outputs": [],
   "source": [
    "unspent = rpc.listunspent()\n",
    "unspent"
   ]
  },
  {
   "cell_type": "code",
   "execution_count": null,
   "id": "caa18138",
   "metadata": {},
   "outputs": [],
   "source": [
    "# coinbase transaction\n",
    "r = rpc.getrawtransaction(unspent[0]['outpoint'].hash, verbose=True)\n",
    "r"
   ]
  },
  {
   "cell_type": "code",
   "execution_count": null,
   "id": "8d9f2c50",
   "metadata": {},
   "outputs": [],
   "source": [
    "# Coinbase transaction id\n",
    "bc.b2lx(r['tx'].GetTxid())"
   ]
  },
  {
   "cell_type": "markdown",
   "id": "da8676a7",
   "metadata": {},
   "source": [
    "## Fund Ali and Bob"
   ]
  },
  {
   "cell_type": "code",
   "execution_count": null,
   "id": "70ba4cc8",
   "metadata": {},
   "outputs": [],
   "source": [
    "aliAddr = rpc.getnewaddress(\"ali\")\n",
    "aliAddr"
   ]
  },
  {
   "cell_type": "code",
   "execution_count": null,
   "id": "170dce1c",
   "metadata": {},
   "outputs": [],
   "source": [
    "bobAddr = rpc.getnewaddress(\"bob\")\n",
    "bobAddr"
   ]
  },
  {
   "cell_type": "code",
   "execution_count": null,
   "id": "8a18dc2c",
   "metadata": {},
   "outputs": [],
   "source": [
    "fundTxId = rpc.sendmany(\"\", {aliAddr: 10*bc.COIN, bobAddr: 11*bc.COIN}, comment=\"Funding Ali and Bob\")"
   ]
  },
  {
   "cell_type": "code",
   "execution_count": null,
   "id": "735e774a",
   "metadata": {},
   "outputs": [],
   "source": [
    "rpc.getrawtransaction(fundTxId, verbose=True)"
   ]
  },
  {
   "cell_type": "code",
   "execution_count": null,
   "id": "f5107227",
   "metadata": {},
   "outputs": [],
   "source": [
    "# confirm transactions\n",
    "_ = list(rpc.generatetoaddress(6, minerAddr))"
   ]
  },
  {
   "cell_type": "code",
   "execution_count": null,
   "id": "b91402be",
   "metadata": {},
   "outputs": [],
   "source": [
    "rpc.listunspent(addrs=[aliAddr])"
   ]
  },
  {
   "cell_type": "code",
   "execution_count": null,
   "id": "dbf4af1e",
   "metadata": {},
   "outputs": [],
   "source": [
    "rpc.listunspent(addrs=[bobAddr])"
   ]
  },
  {
   "cell_type": "markdown",
   "id": "5ac083c6",
   "metadata": {},
   "source": [
    "## Create 2-of-2 Multisig"
   ]
  },
  {
   "cell_type": "code",
   "execution_count": null,
   "id": "eb5d2092",
   "metadata": {},
   "outputs": [],
   "source": [
    "import bitcoin.core.script as bs"
   ]
  },
  {
   "cell_type": "markdown",
   "id": "7a941427",
   "metadata": {},
   "source": [
    "### Generate keys for multisig"
   ]
  },
  {
   "cell_type": "code",
   "execution_count": null,
   "id": "02a2e97f",
   "metadata": {},
   "outputs": [],
   "source": [
    "# h = hashlib.sha256(b'correct horse battery staple').digest()\n",
    "# seckey = CBitcoinSecret.from_secret_bytes(h)"
   ]
  },
  {
   "cell_type": "code",
   "execution_count": null,
   "id": "ab66ca08",
   "metadata": {},
   "outputs": [],
   "source": [
    "aliMsigAddr = rpc.getnewaddress('ali multisig')\n",
    "bobMsigAddr = rpc.getnewaddress('bob multisig')"
   ]
  },
  {
   "cell_type": "code",
   "execution_count": null,
   "id": "0c7248f8",
   "metadata": {},
   "outputs": [],
   "source": [
    "aliMsigSecret = rpc.dumpprivkey(aliMsigAddr)\n",
    "bobMsigSecret = rpc.dumpprivkey(bobMsigAddr)"
   ]
  },
  {
   "cell_type": "markdown",
   "id": "67467940",
   "metadata": {},
   "source": [
    "### Get inputs\n",
    "aka ali's and bob's funding tx outputs"
   ]
  },
  {
   "cell_type": "code",
   "execution_count": null,
   "id": "b9bdbfa8",
   "metadata": {},
   "outputs": [],
   "source": [
    "aliTxin = bc.CTxIn(rpc.listunspent(addrs=[aliAddr])[0]['outpoint'])\n",
    "aliTxin"
   ]
  },
  {
   "cell_type": "code",
   "execution_count": null,
   "id": "22ebe46e",
   "metadata": {},
   "outputs": [],
   "source": [
    "bobTxin = bc.CTxIn(rpc.listunspent(addrs=[bobAddr])[0]['outpoint'])\n",
    "bobTxin"
   ]
  },
  {
   "cell_type": "markdown",
   "id": "3f5e240f",
   "metadata": {},
   "source": [
    "### Construct multisig"
   ]
  },
  {
   "cell_type": "code",
   "execution_count": null,
   "id": "797f8f74",
   "metadata": {},
   "outputs": [],
   "source": [
    "# redeem script\n",
    "msigScript = bs.CScript([\n",
    "        bs.OP_2,\n",
    "        aliMsigSecret.pub,\n",
    "        bobMsigSecret.pub,\n",
    "        bs.OP_2,\n",
    "        bs.OP_CHECKMULTISIG\n",
    "    ])\n",
    "msigScript"
   ]
  },
  {
   "cell_type": "markdown",
   "id": "73c15752",
   "metadata": {},
   "source": [
    "### Create output"
   ]
  },
  {
   "cell_type": "code",
   "execution_count": null,
   "id": "87312170",
   "metadata": {},
   "outputs": [],
   "source": [
    "scriptPubKey = msigScript.to_p2sh_scriptPubKey()\n",
    "scriptPubKey"
   ]
  },
  {
   "cell_type": "code",
   "execution_count": null,
   "id": "74707990",
   "metadata": {},
   "outputs": [],
   "source": [
    "fee = 0.001 \n",
    "txout = bc.CTxOut((10+11-fee)*bc.COIN, scriptPubKey)\n",
    "txout"
   ]
  },
  {
   "cell_type": "markdown",
   "id": "bae0bbc8",
   "metadata": {},
   "source": [
    "### Create transaction"
   ]
  },
  {
   "cell_type": "code",
   "execution_count": null,
   "id": "e7532d88",
   "metadata": {},
   "outputs": [],
   "source": [
    "tx = bc.CMutableTransaction([aliTxin, bobTxin], [txout])\n",
    "tx"
   ]
  },
  {
   "cell_type": "markdown",
   "id": "31507d4b",
   "metadata": {},
   "source": [
    "### Sign transaction"
   ]
  },
  {
   "cell_type": "code",
   "execution_count": null,
   "id": "50e05480",
   "metadata": {},
   "outputs": [],
   "source": [
    "# sign by Ali\n",
    "sighash = bs.SignatureHash(aliAddr.to_redeemScript(),\n",
    "                           tx,\n",
    "                           inIdx=0,\n",
    "                           hashtype=bs.SIGHASH_ALL,\n",
    "                           amount=10*bc.COIN,\n",
    "                           sigversion=bs.SIGVERSION_WITNESS_V0)\n",
    "\n",
    "secret = rpc.dumpprivkey(aliAddr)\n",
    "aliSignature = secret.sign(sighash) + bytes([bs.SIGHASH_ALL])\n",
    "\n",
    "aliWitness = [aliSignature, secret.pub]\n",
    "aliWitness = bc.CTxInWitness(bs.CScriptWitness(aliWitness))\n",
    "aliWitness"
   ]
  },
  {
   "cell_type": "code",
   "execution_count": null,
   "id": "6f89292c",
   "metadata": {},
   "outputs": [],
   "source": [
    "# sign by Bob\n",
    "sighash = bs.SignatureHash(bobAddr.to_redeemScript(),\n",
    "                           tx,\n",
    "                           inIdx=1,\n",
    "                           hashtype=bs.SIGHASH_ALL,\n",
    "                           amount=11*bc.COIN,\n",
    "                           sigversion=bs.SIGVERSION_WITNESS_V0)\n",
    "\n",
    "secret = rpc.dumpprivkey(bobAddr)\n",
    "bobSignature = secret.sign(sighash) + bytes([bs.SIGHASH_ALL])\n",
    "\n",
    "bobWitness = [bobSignature, secret.pub]\n",
    "bobWitness = bc.CTxInWitness(bs.CScriptWitness(bobWitness))\n",
    "bobWitness"
   ]
  },
  {
   "cell_type": "code",
   "execution_count": null,
   "id": "5b639f22",
   "metadata": {},
   "outputs": [],
   "source": [
    "tx.wit = bc.CTxWitness([aliWitness, bobWitness])\n",
    "tx"
   ]
  },
  {
   "cell_type": "markdown",
   "id": "8b4110e2",
   "metadata": {},
   "source": [
    "### Submit transaction"
   ]
  },
  {
   "cell_type": "code",
   "execution_count": null,
   "id": "c64eb750",
   "metadata": {},
   "outputs": [],
   "source": [
    "msigTxid = rpc.sendrawtransaction(tx)"
   ]
  },
  {
   "cell_type": "code",
   "execution_count": null,
   "id": "9d129242",
   "metadata": {},
   "outputs": [],
   "source": [
    "_ = list(rpc.generatetoaddress(6, minerAddr))"
   ]
  },
  {
   "cell_type": "code",
   "execution_count": null,
   "id": "3dca95fc",
   "metadata": {},
   "outputs": [],
   "source": [
    "rpc.getrawtransaction(msigTxid, verbose=True)"
   ]
  },
  {
   "cell_type": "code",
   "execution_count": null,
   "id": "ef9260a5",
   "metadata": {},
   "outputs": [],
   "source": []
  }
 ],
 "metadata": {
  "kernelspec": {
   "display_name": "Python 3",
   "language": "python",
   "name": "python3"
  },
  "language_info": {
   "codemirror_mode": {
    "name": "ipython",
    "version": 3
   },
   "file_extension": ".py",
   "mimetype": "text/x-python",
   "name": "python",
   "nbconvert_exporter": "python",
   "pygments_lexer": "ipython3",
   "version": "3.8.8"
  }
 },
 "nbformat": 4,
 "nbformat_minor": 5
}
