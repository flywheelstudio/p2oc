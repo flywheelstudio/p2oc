{
 "cells": [
  {
   "cell_type": "markdown",
   "id": "5f7ccd0b",
   "metadata": {},
   "source": [
    "# Lightning Channel via Batch Transaction"
   ]
  },
  {
   "cell_type": "code",
   "execution_count": null,
   "id": "86fcf8b8",
   "metadata": {},
   "outputs": [],
   "source": [
    "%load_ext autoreload\n",
    "%autoreload 2"
   ]
  },
  {
   "cell_type": "markdown",
   "id": "e275bea2",
   "metadata": {},
   "source": [
    "## Setup LND GRPC"
   ]
  },
  {
   "cell_type": "code",
   "execution_count": null,
   "id": "a073556e",
   "metadata": {},
   "outputs": [],
   "source": [
    "import sys"
   ]
  },
  {
   "cell_type": "code",
   "execution_count": null,
   "id": "848eb085",
   "metadata": {},
   "outputs": [],
   "source": [
    "# LND GRPC bindings should be in '/home/jovyan/lnrpc'\n",
    "sys.path.append('/home/jovyan/lnrpc')"
   ]
  },
  {
   "cell_type": "code",
   "execution_count": null,
   "id": "ef0712d7",
   "metadata": {},
   "outputs": [],
   "source": [
    "%%sh\n",
    "sudo cp /ali-lnd/data/chain/bitcoin/regtest/admin.macaroon /tmp/ali.macaroon\n",
    "sudo chmod +r /tmp/ali.macaroon\n",
    "\n",
    "sudo cp /bob-lnd/data/chain/bitcoin/regtest/admin.macaroon /tmp/bob.macaroon\n",
    "sudo chmod +r /tmp/bob.macaroon"
   ]
  },
  {
   "cell_type": "code",
   "execution_count": null,
   "id": "f4a4d351",
   "metadata": {},
   "outputs": [],
   "source": [
    "from lnd_rpc import LndRpc, lnmsg, walletmsg"
   ]
  },
  {
   "cell_type": "code",
   "execution_count": null,
   "id": "5b444c5b",
   "metadata": {},
   "outputs": [],
   "source": [
    "ali = LndRpc(host='ali-lnd:10009',\n",
    "             cert_path='/ali-lnd/tls.cert',\n",
    "             macaroon_path='/tmp/ali.macaroon')"
   ]
  },
  {
   "cell_type": "code",
   "execution_count": null,
   "id": "471961c4",
   "metadata": {},
   "outputs": [],
   "source": [
    "bob = LndRpc(host='bob-lnd:10009',\n",
    "             cert_path='/bob-lnd/tls.cert',\n",
    "             macaroon_path='/tmp/bob.macaroon')"
   ]
  },
  {
   "cell_type": "code",
   "execution_count": null,
   "id": "6d55f7ce",
   "metadata": {},
   "outputs": [],
   "source": [
    "aliNodePubKey = ali.lnd.GetInfo(lnmsg.GetInfoRequest()).identity_pubkey\n",
    "aliNodePubKey"
   ]
  },
  {
   "cell_type": "code",
   "execution_count": null,
   "id": "b83505ed",
   "metadata": {},
   "outputs": [],
   "source": [
    "bobNodePubKey = bob.lnd.GetInfo(lnmsg.GetInfoRequest()).identity_pubkey\n",
    "bobNodePubKey"
   ]
  },
  {
   "cell_type": "markdown",
   "id": "dc07a913",
   "metadata": {},
   "source": [
    "## Fund Ali and Bob"
   ]
  },
  {
   "cell_type": "code",
   "execution_count": null,
   "id": "ed345e66",
   "metadata": {},
   "outputs": [],
   "source": [
    "import os\n",
    "import bitcoin\n",
    "from rpc import Proxy, Config"
   ]
  },
  {
   "cell_type": "code",
   "execution_count": null,
   "id": "7fe8b26f",
   "metadata": {},
   "outputs": [],
   "source": [
    "bitcoin.SelectParams('regtest')"
   ]
  },
  {
   "cell_type": "code",
   "execution_count": null,
   "id": "37f464d0",
   "metadata": {},
   "outputs": [],
   "source": [
    "brpc = Proxy(config=Config(\n",
    "    rpcuser=os.environ['BTCD_RPCUSER'],\n",
    "    rpcpassword=os.environ['BTCD_RPCPASS'],\n",
    "    rpcconnect='bitcoind',\n",
    "    rpcport=18443\n",
    "))"
   ]
  },
  {
   "cell_type": "code",
   "execution_count": null,
   "id": "e39c0bf0",
   "metadata": {},
   "outputs": [],
   "source": [
    "brpc.getblockcount()"
   ]
  },
  {
   "cell_type": "code",
   "execution_count": null,
   "id": "de478699",
   "metadata": {},
   "outputs": [],
   "source": [
    "aliAddr = ali.lnd.NewAddress(lnmsg.NewAddressRequest(type=0)) # p2wkh\n",
    "aliAddr"
   ]
  },
  {
   "cell_type": "code",
   "execution_count": null,
   "id": "a4ff8e8a",
   "metadata": {},
   "outputs": [],
   "source": [
    "bobAddr = bob.lnd.NewAddress(lnmsg.NewAddressRequest(type=0)) # p2wkh\n",
    "bobAddr"
   ]
  },
  {
   "cell_type": "code",
   "execution_count": null,
   "id": "98adbc57",
   "metadata": {},
   "outputs": [],
   "source": [
    "# fund ali\n",
    "_ = list(brpc.generatetoaddress(1, aliAddr.address))"
   ]
  },
  {
   "cell_type": "code",
   "execution_count": null,
   "id": "545bd43c",
   "metadata": {},
   "outputs": [],
   "source": [
    "# fund bob\n",
    "_ = list(brpc.generatetoaddress(1, bobAddr.address))"
   ]
  },
  {
   "cell_type": "code",
   "execution_count": null,
   "id": "12ef71fa",
   "metadata": {},
   "outputs": [],
   "source": [
    "brpc.createwallet('miner')\n",
    "minerAddr = brpc.getnewaddress(\"coinbase\")\n",
    "brpc.unloadwallet('miner')"
   ]
  },
  {
   "cell_type": "code",
   "execution_count": null,
   "id": "c07b4145",
   "metadata": {},
   "outputs": [],
   "source": [
    "# unlock mined coins\n",
    "_ = list(brpc.generatetoaddress(110, minerAddr))"
   ]
  },
  {
   "cell_type": "code",
   "execution_count": null,
   "id": "d49a5cc9",
   "metadata": {},
   "outputs": [],
   "source": [
    "ali.lnd.WalletBalance(lnmsg.WalletBalanceRequest())"
   ]
  },
  {
   "cell_type": "code",
   "execution_count": null,
   "id": "6050d435",
   "metadata": {},
   "outputs": [],
   "source": [
    "bob.lnd.WalletBalance(lnmsg.WalletBalanceRequest())"
   ]
  },
  {
   "cell_type": "markdown",
   "id": "5f9ab998",
   "metadata": {},
   "source": [
    "## Create bid and ask"
   ]
  },
  {
   "cell_type": "code",
   "execution_count": null,
   "id": "3689da3a",
   "metadata": {},
   "outputs": [],
   "source": [
    "import base64\n",
    "import bitcoin.core as bc\n",
    "import bitcoin.core.script as bs\n",
    "from bitcoin.rpc import hexlify, unhexlify"
   ]
  },
  {
   "cell_type": "markdown",
   "id": "89eaa500",
   "metadata": {},
   "source": [
    "### Ali taker"
   ]
  },
  {
   "cell_type": "code",
   "execution_count": null,
   "id": "637d2ab8",
   "metadata": {},
   "outputs": [],
   "source": [
    "# taker needs to pay premium to open channel\n",
    "premiumAmount = 1 * bc.COIN # premium Ali is willing to pay\n",
    "fundAmount = 10 * bc.COIN # requested inbound capacity"
   ]
  },
  {
   "cell_type": "code",
   "execution_count": null,
   "id": "2f67a740",
   "metadata": {},
   "outputs": [],
   "source": [
    "# create dummy psbt to extract 'funding' UTXO and change addresses\n",
    "# user minerAddr as a dummy address to create psbt\n",
    "tx_template = walletmsg.TxTemplate(outputs={str(minerAddr): premiumAmount})\n",
    "\n",
    "psbtRequest = walletmsg.FundPsbtRequest(raw=tx_template, target_conf=6)\n",
    "psbtRequest"
   ]
  },
  {
   "cell_type": "code",
   "execution_count": null,
   "id": "ffab11e8",
   "metadata": {},
   "outputs": [],
   "source": [
    "# select funding UTXO and change output\n",
    "# We create dummy p\n",
    "psbt = ali.wallet.FundPsbt(request=psbtRequest)\n",
    "psbt"
   ]
  },
  {
   "cell_type": "code",
   "execution_count": null,
   "id": "9b13183a",
   "metadata": {},
   "outputs": [],
   "source": [
    "psbtBase64 = base64.b64encode(psbt.funded_psbt).decode()"
   ]
  },
  {
   "cell_type": "code",
   "execution_count": null,
   "id": "78fc5d97",
   "metadata": {},
   "outputs": [],
   "source": [
    "brpc._proxy._call('analyzepsbt', psbtBase64)"
   ]
  },
  {
   "cell_type": "code",
   "execution_count": null,
   "id": "34f0b2e0",
   "metadata": {},
   "outputs": [],
   "source": [
    "psbtDecoded = brpc._proxy._call('decodepsbt', psbtBase64)\n",
    "psbtDecoded['tx']"
   ]
  },
  {
   "cell_type": "code",
   "execution_count": null,
   "id": "b78f4d7f",
   "metadata": {},
   "outputs": [],
   "source": [
    "aliInputs = []\n",
    "for vin in psbtDecoded['tx']['vin']:\n",
    "    txin = bc.CTxIn(bc.COutPoint(bc.lx(vin['txid']), vin['vout']))\n",
    "    aliInputs.append(txin)\n",
    "aliInputs"
   ]
  },
  {
   "cell_type": "code",
   "execution_count": null,
   "id": "f76015e5",
   "metadata": {},
   "outputs": [],
   "source": [
    "# assume there are only 2 outputs\n",
    "assert len(psbtDecoded['tx']['vout']) == 2"
   ]
  },
  {
   "cell_type": "code",
   "execution_count": null,
   "id": "e930a50e",
   "metadata": {},
   "outputs": [],
   "source": [
    "aliChangeOutput = psbtDecoded['tx']['vout'][psbt.change_output_index]\n",
    "aliChangeOutput = bc.CTxOut(int(aliChangeOutput['value'] * bc.COIN),\n",
    "                            bc.CScript(unhexlify(aliChangeOutput['scriptPubKey']['hex'])))\n",
    "\n",
    "aliChangeOutput"
   ]
  },
  {
   "cell_type": "code",
   "execution_count": null,
   "id": "157ef405",
   "metadata": {},
   "outputs": [],
   "source": [
    "key_family = 0 # multisig?\n",
    "keyReq = walletmsg.KeyReq(key_family=key_family)\n",
    "aliKeyDesc = ali.wallet.DeriveNextKey(keyReq)\n",
    "aliKeyDesc = ali.wallet.DeriveNextKey(keyReq) # need to call twice?\n",
    "aliKeyDesc"
   ]
  },
  {
   "cell_type": "code",
   "execution_count": null,
   "id": "284ec5e1",
   "metadata": {},
   "outputs": [],
   "source": [
    "takeRequest = {\n",
    "    'nodeAddr': 'ali-lnd',\n",
    "    'nodePubKey': aliNodePubKey,\n",
    "    'premiumAmount': premiumAmount,\n",
    "    'fundAmount': fundAmount,\n",
    "    'inputs': aliInputs,\n",
    "    'change': aliChangeOutput,\n",
    "    'multisigKey': aliKeyDesc\n",
    "}\n",
    "takeRequest"
   ]
  },
  {
   "cell_type": "markdown",
   "id": "e2614f82",
   "metadata": {},
   "source": [
    "### Bob maker"
   ]
  },
  {
   "cell_type": "code",
   "execution_count": null,
   "id": "661e1e5d",
   "metadata": {},
   "outputs": [],
   "source": [
    "premiumAmount = 1 * bc.COIN # premium Bob is willing to accept\n",
    "fundAmount = 10 * bc.COIN # funding amount Bob is willing to provide"
   ]
  },
  {
   "cell_type": "code",
   "execution_count": null,
   "id": "f57fc20e",
   "metadata": {},
   "outputs": [],
   "source": [
    "# create dummy psbt to extract 'funding' UTXO and change addresses\n",
    "# user minerAddr as a dummy address to create psbt\n",
    "tx_template = walletmsg.TxTemplate(outputs={str(minerAddr): fundAmount})\n",
    "\n",
    "psbtRequest = walletmsg.FundPsbtRequest(raw=tx_template, target_conf=6)\n",
    "psbtRequest"
   ]
  },
  {
   "cell_type": "code",
   "execution_count": null,
   "id": "ac8ea167",
   "metadata": {},
   "outputs": [],
   "source": [
    "# select funding UTXO and change output\n",
    "# We create dummy p\n",
    "psbt = bob.wallet.FundPsbt(request=psbtRequest)\n",
    "psbt"
   ]
  },
  {
   "cell_type": "code",
   "execution_count": null,
   "id": "99192dc6",
   "metadata": {},
   "outputs": [],
   "source": [
    "psbtBase64 = base64.b64encode(psbt.funded_psbt).decode()"
   ]
  },
  {
   "cell_type": "code",
   "execution_count": null,
   "id": "b8a60e6f",
   "metadata": {},
   "outputs": [],
   "source": [
    "psbtDecoded = brpc._proxy._call('decodepsbt', psbtBase64)\n",
    "psbtDecoded['tx']"
   ]
  },
  {
   "cell_type": "code",
   "execution_count": null,
   "id": "bbd1c152",
   "metadata": {},
   "outputs": [],
   "source": [
    "bobInputs = []\n",
    "for vin in psbtDecoded['tx']['vin']:\n",
    "    txin = bc.CTxIn(bc.COutPoint(bc.lx(vin['txid']), vin['vout']))\n",
    "    bobInputs.append(txin)\n",
    "bobInputs"
   ]
  },
  {
   "cell_type": "code",
   "execution_count": null,
   "id": "a8151d39",
   "metadata": {},
   "outputs": [],
   "source": [
    "# assume there are only 2 outputs\n",
    "assert len(psbtDecoded['tx']['vout']) == 2"
   ]
  },
  {
   "cell_type": "code",
   "execution_count": null,
   "id": "e4cd06be",
   "metadata": {},
   "outputs": [],
   "source": [
    "bobChangeOutput = psbtDecoded['tx']['vout'][psbt.change_output_index]\n",
    "bobChangeOutput = bc.CTxOut(int(bobChangeOutput['value'] * bc.COIN),\n",
    "                            bc.CScript(unhexlify(bobChangeOutput['scriptPubKey']['hex'])))\n",
    "\n",
    "bobChangeOutput"
   ]
  },
  {
   "cell_type": "code",
   "execution_count": null,
   "id": "61038507",
   "metadata": {},
   "outputs": [],
   "source": [
    "key_family = 0 # multisig?\n",
    "keyReq = walletmsg.KeyReq(key_family=key_family)\n",
    "bobKeyDesc = bob.wallet.DeriveNextKey(keyReq)\n",
    "bobKeyDesc = bob.wallet.DeriveNextKey(keyReq) # need to call twice?\n",
    "bobKeyDesc"
   ]
  },
  {
   "cell_type": "code",
   "execution_count": null,
   "id": "37bd3201",
   "metadata": {},
   "outputs": [],
   "source": [
    "makeRequest = {\n",
    "    'nodeAddr': 'bob-lnd',\n",
    "    'nodePubKey': bobNodePubKey,\n",
    "    'premiumAmount': premiumAmount,\n",
    "    'fundAmount': fundAmount,\n",
    "    'inputs': bobInputs,\n",
    "    'change': bobChangeOutput,\n",
    "    'multisigKey': bobKeyDesc\n",
    "}\n",
    "makeRequest"
   ]
  },
  {
   "cell_type": "markdown",
   "id": "d73ab7d1",
   "metadata": {},
   "source": [
    "## Auctioneer creates batch funding transaction"
   ]
  },
  {
   "cell_type": "code",
   "execution_count": null,
   "id": "4b310974",
   "metadata": {},
   "outputs": [],
   "source": [
    "takerPubKey = takeRequest['multisigKey'].raw_key_bytes\n",
    "makerPubKey = makeRequest['multisigKey'].raw_key_bytes"
   ]
  },
  {
   "cell_type": "code",
   "execution_count": null,
   "id": "d6c62ce4",
   "metadata": {},
   "outputs": [],
   "source": [
    "# https://github.com/lightningnetwork/lightning-rfc/blob/master/03-transactions.md#funding-transaction-output\n",
    "if makerPubKey > takerPubKey:\n",
    "    pk1, pk2 = takerPubKey, makerPubKey\n",
    "else:\n",
    "    pk1, pk2 = makerPubKey, takerPubKey"
   ]
  },
  {
   "cell_type": "code",
   "execution_count": null,
   "id": "867ba134",
   "metadata": {},
   "outputs": [],
   "source": [
    "msigScript = bs.CScript([\n",
    "        bs.OP_2,\n",
    "        pk1,\n",
    "        pk2,\n",
    "        bs.OP_2,\n",
    "        bs.OP_CHECKMULTISIG\n",
    "    ])"
   ]
  },
  {
   "cell_type": "code",
   "execution_count": null,
   "id": "ad1cc088",
   "metadata": {},
   "outputs": [],
   "source": [
    "fundingOutput = bc.CTxOut(takeRequest['premiumAmount'] + makeRequest['fundAmount'],\n",
    "                          msigScript.to_p2sh_scriptPubKey())\n",
    "fundingOutput"
   ]
  },
  {
   "cell_type": "code",
   "execution_count": null,
   "id": "b6016849",
   "metadata": {},
   "outputs": [],
   "source": [
    "batchInputs = takeRequest['inputs'] + makeRequest['inputs']\n",
    "batchOutputs = [takeRequest['change'], makeRequest['change'], fundingOutput]"
   ]
  },
  {
   "cell_type": "code",
   "execution_count": null,
   "id": "725f4b60",
   "metadata": {},
   "outputs": [],
   "source": [
    "batchTx = bc.CTransaction(batchInputs, batchOutputs)\n",
    "batchTx"
   ]
  },
  {
   "cell_type": "code",
   "execution_count": null,
   "id": "e59b7622",
   "metadata": {},
   "outputs": [],
   "source": [
    "batchTx.GetTxid()"
   ]
  },
  {
   "cell_type": "code",
   "execution_count": null,
   "id": "adb18c48",
   "metadata": {},
   "outputs": [],
   "source": []
  }
 ],
 "metadata": {
  "kernelspec": {
   "display_name": "Python 3",
   "language": "python",
   "name": "python3"
  },
  "language_info": {
   "codemirror_mode": {
    "name": "ipython",
    "version": 3
   },
   "file_extension": ".py",
   "mimetype": "text/x-python",
   "name": "python",
   "nbconvert_exporter": "python",
   "pygments_lexer": "ipython3",
   "version": "3.8.8"
  }
 },
 "nbformat": 4,
 "nbformat_minor": 5
}
