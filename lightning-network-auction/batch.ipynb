{
 "cells": [
  {
   "cell_type": "markdown",
   "id": "5f7ccd0b",
   "metadata": {},
   "source": [
    "# Lightning Channel via Batch Transaction"
   ]
  },
  {
   "cell_type": "code",
   "execution_count": null,
   "id": "86fcf8b8",
   "metadata": {},
   "outputs": [],
   "source": [
    "%load_ext autoreload\n",
    "%autoreload 2"
   ]
  },
  {
   "cell_type": "markdown",
   "id": "e275bea2",
   "metadata": {},
   "source": [
    "## Setup LND GRPC"
   ]
  },
  {
   "cell_type": "code",
   "execution_count": null,
   "id": "a073556e",
   "metadata": {},
   "outputs": [],
   "source": [
    "import sys"
   ]
  },
  {
   "cell_type": "code",
   "execution_count": null,
   "id": "848eb085",
   "metadata": {},
   "outputs": [],
   "source": [
    "# LND GRPC bindings should be in '/home/jovyan/lnrpc'\n",
    "sys.path.append('/home/jovyan/lnrpc')"
   ]
  },
  {
   "cell_type": "code",
   "execution_count": null,
   "id": "ef0712d7",
   "metadata": {},
   "outputs": [],
   "source": [
    "%%sh\n",
    "sudo cp /ali-lnd/data/chain/bitcoin/regtest/admin.macaroon /tmp/ali.macaroon\n",
    "sudo chmod +r /tmp/ali.macaroon\n",
    "\n",
    "sudo cp /bob-lnd/data/chain/bitcoin/regtest/admin.macaroon /tmp/bob.macaroon\n",
    "sudo chmod +r /tmp/bob.macaroon"
   ]
  },
  {
   "cell_type": "code",
   "execution_count": null,
   "id": "f4a4d351",
   "metadata": {},
   "outputs": [],
   "source": [
    "from lnd_rpc import LndRpc, lnmsg, walletmsg, signrpc, signmsg"
   ]
  },
  {
   "cell_type": "code",
   "execution_count": null,
   "id": "5b444c5b",
   "metadata": {},
   "outputs": [],
   "source": [
    "ali = LndRpc(host='ali-lnd:10009',\n",
    "             cert_path='/ali-lnd/tls.cert',\n",
    "             macaroon_path='/tmp/ali.macaroon')"
   ]
  },
  {
   "cell_type": "code",
   "execution_count": null,
   "id": "471961c4",
   "metadata": {},
   "outputs": [],
   "source": [
    "bob = LndRpc(host='bob-lnd:10009',\n",
    "             cert_path='/bob-lnd/tls.cert',\n",
    "             macaroon_path='/tmp/bob.macaroon')"
   ]
  },
  {
   "cell_type": "code",
   "execution_count": null,
   "id": "6d55f7ce",
   "metadata": {},
   "outputs": [],
   "source": [
    "aliNodePubKey = ali.lnd.GetInfo(lnmsg.GetInfoRequest()).identity_pubkey\n",
    "aliNodePubKey"
   ]
  },
  {
   "cell_type": "code",
   "execution_count": null,
   "id": "b83505ed",
   "metadata": {},
   "outputs": [],
   "source": [
    "bobNodePubKey = bob.lnd.GetInfo(lnmsg.GetInfoRequest()).identity_pubkey\n",
    "bobNodePubKey"
   ]
  },
  {
   "cell_type": "markdown",
   "id": "dc07a913",
   "metadata": {},
   "source": [
    "## Fund Ali and Bob"
   ]
  },
  {
   "cell_type": "code",
   "execution_count": null,
   "id": "ed345e66",
   "metadata": {},
   "outputs": [],
   "source": [
    "import os\n",
    "import bitcoin\n",
    "from rpc import Proxy, Config"
   ]
  },
  {
   "cell_type": "code",
   "execution_count": null,
   "id": "7fe8b26f",
   "metadata": {},
   "outputs": [],
   "source": [
    "bitcoin.SelectParams('regtest')"
   ]
  },
  {
   "cell_type": "code",
   "execution_count": null,
   "id": "37f464d0",
   "metadata": {},
   "outputs": [],
   "source": [
    "brpc = Proxy(config=Config(\n",
    "    rpcuser=os.environ['BTCD_RPCUSER'],\n",
    "    rpcpassword=os.environ['BTCD_RPCPASS'],\n",
    "    rpcconnect='bitcoind',\n",
    "    rpcport=18443\n",
    "))"
   ]
  },
  {
   "cell_type": "code",
   "execution_count": null,
   "id": "e39c0bf0",
   "metadata": {},
   "outputs": [],
   "source": [
    "brpc.getblockcount()"
   ]
  },
  {
   "cell_type": "code",
   "execution_count": null,
   "id": "de478699",
   "metadata": {},
   "outputs": [],
   "source": [
    "aliAddr = ali.lnd.NewAddress(lnmsg.NewAddressRequest(type=0)) # p2wkh\n",
    "aliAddr"
   ]
  },
  {
   "cell_type": "code",
   "execution_count": null,
   "id": "a4ff8e8a",
   "metadata": {},
   "outputs": [],
   "source": [
    "bobAddr = bob.lnd.NewAddress(lnmsg.NewAddressRequest(type=0)) # p2wkh\n",
    "bobAddr"
   ]
  },
  {
   "cell_type": "code",
   "execution_count": null,
   "id": "98adbc57",
   "metadata": {},
   "outputs": [],
   "source": [
    "# fund ali\n",
    "_ = list(brpc.generatetoaddress(1, aliAddr.address))"
   ]
  },
  {
   "cell_type": "code",
   "execution_count": null,
   "id": "545bd43c",
   "metadata": {},
   "outputs": [],
   "source": [
    "# fund bob\n",
    "_ = list(brpc.generatetoaddress(1, bobAddr.address))"
   ]
  },
  {
   "cell_type": "code",
   "execution_count": null,
   "id": "12ef71fa",
   "metadata": {},
   "outputs": [],
   "source": [
    "brpc.createwallet('miner')\n",
    "minerAddr = brpc.getnewaddress(\"coinbase\")\n",
    "brpc.unloadwallet('miner')"
   ]
  },
  {
   "cell_type": "code",
   "execution_count": null,
   "id": "c07b4145",
   "metadata": {},
   "outputs": [],
   "source": [
    "# unlock mined coins\n",
    "_ = list(brpc.generatetoaddress(110, minerAddr))"
   ]
  },
  {
   "cell_type": "code",
   "execution_count": null,
   "id": "d49a5cc9",
   "metadata": {},
   "outputs": [],
   "source": [
    "ali.lnd.WalletBalance(lnmsg.WalletBalanceRequest())"
   ]
  },
  {
   "cell_type": "code",
   "execution_count": null,
   "id": "6050d435",
   "metadata": {},
   "outputs": [],
   "source": [
    "bob.lnd.WalletBalance(lnmsg.WalletBalanceRequest())"
   ]
  },
  {
   "cell_type": "markdown",
   "id": "5f9ab998",
   "metadata": {},
   "source": [
    "## Create bid and ask"
   ]
  },
  {
   "cell_type": "code",
   "execution_count": null,
   "id": "3689da3a",
   "metadata": {},
   "outputs": [],
   "source": [
    "import base64\n",
    "import bitcoin.core as bc\n",
    "import bitcoin.core.script as bs\n",
    "from bitcoin.rpc import hexlify, unhexlify"
   ]
  },
  {
   "cell_type": "markdown",
   "id": "89eaa500",
   "metadata": {},
   "source": [
    "### Ali taker"
   ]
  },
  {
   "cell_type": "code",
   "execution_count": null,
   "id": "637d2ab8",
   "metadata": {},
   "outputs": [],
   "source": [
    "# taker needs to pay premium to open channel\n",
    "premiumAmount = int(0.001 * bc.COIN) # premium Ali is willing to pay\n",
    "fundAmount = int(0.16 * bc.COIN) # requested inbound capacity"
   ]
  },
  {
   "cell_type": "code",
   "execution_count": null,
   "id": "2f67a740",
   "metadata": {},
   "outputs": [],
   "source": [
    "# create dummy psbt to extract 'funding' UTXO and change addresses\n",
    "# user minerAddr as a dummy address to create psbt\n",
    "tx_template = walletmsg.TxTemplate(outputs={str(minerAddr): premiumAmount})\n",
    "\n",
    "psbtRequest = walletmsg.FundPsbtRequest(raw=tx_template, target_conf=6)"
   ]
  },
  {
   "cell_type": "code",
   "execution_count": null,
   "id": "ffab11e8",
   "metadata": {},
   "outputs": [],
   "source": [
    "psbt = ali.wallet.FundPsbt(request=psbtRequest)\n",
    "psbt"
   ]
  },
  {
   "cell_type": "code",
   "execution_count": null,
   "id": "9b13183a",
   "metadata": {},
   "outputs": [],
   "source": [
    "psbtBase64 = base64.b64encode(psbt.funded_psbt).decode()"
   ]
  },
  {
   "cell_type": "code",
   "execution_count": null,
   "id": "78fc5d97",
   "metadata": {},
   "outputs": [],
   "source": [
    "brpc._proxy._call('analyzepsbt', psbtBase64)"
   ]
  },
  {
   "cell_type": "code",
   "execution_count": null,
   "id": "34f0b2e0",
   "metadata": {},
   "outputs": [],
   "source": [
    "psbtDecoded = brpc._proxy._call('decodepsbt', psbtBase64)\n",
    "psbtDecoded"
   ]
  },
  {
   "cell_type": "code",
   "execution_count": null,
   "id": "b78f4d7f",
   "metadata": {},
   "outputs": [],
   "source": [
    "aliInputs = []\n",
    "for vin in psbtDecoded['tx']['vin']:\n",
    "    txin = bc.CTxIn(bc.COutPoint(bc.lx(vin['txid']), vin['vout']))\n",
    "    aliInputs.append(txin)\n",
    "aliInputs"
   ]
  },
  {
   "cell_type": "code",
   "execution_count": null,
   "id": "f76015e5",
   "metadata": {},
   "outputs": [],
   "source": [
    "# assume there are only 2 outputs\n",
    "assert len(psbtDecoded['tx']['vout']) == 2"
   ]
  },
  {
   "cell_type": "code",
   "execution_count": null,
   "id": "e930a50e",
   "metadata": {},
   "outputs": [],
   "source": [
    "aliChangeOutput = psbtDecoded['tx']['vout'][psbt.change_output_index]\n",
    "aliChangeOutput = bc.CTxOut(int(aliChangeOutput['value'] * bc.COIN),\n",
    "                            bc.CScript(unhexlify(aliChangeOutput['scriptPubKey']['hex'])))\n",
    "\n",
    "aliChangeOutput"
   ]
  },
  {
   "cell_type": "code",
   "execution_count": null,
   "id": "157ef405",
   "metadata": {},
   "outputs": [],
   "source": [
    "# Generate pubkey for channel funding\n",
    "key_family = 0 # multisig?\n",
    "keyReq = walletmsg.KeyReq(key_family=key_family)\n",
    "aliKeyDesc = ali.wallet.DeriveNextKey(keyReq)\n",
    "aliKeyDesc = ali.wallet.DeriveNextKey(keyReq) # need to call twice?\n",
    "aliKeyDesc"
   ]
  },
  {
   "cell_type": "code",
   "execution_count": null,
   "id": "284ec5e1",
   "metadata": {},
   "outputs": [],
   "source": [
    "takeRequest = {\n",
    "    'nodeAddr': 'ali-lnd',\n",
    "    'nodePubKey': aliNodePubKey,\n",
    "    'premiumAmount': premiumAmount,\n",
    "    'fundAmount': fundAmount,\n",
    "    'inputs': aliInputs,\n",
    "    'change': aliChangeOutput,\n",
    "    'multisigKey': aliKeyDesc # only need to send bytes of pub key and not key locator\n",
    "}\n",
    "takeRequest"
   ]
  },
  {
   "cell_type": "markdown",
   "id": "e2614f82",
   "metadata": {},
   "source": [
    "### Bob maker"
   ]
  },
  {
   "cell_type": "code",
   "execution_count": null,
   "id": "661e1e5d",
   "metadata": {},
   "outputs": [],
   "source": [
    "premiumAmount = int(0.001 * bc.COIN) # premium Bob is willing to accept\n",
    "fundAmount = int(0.16 * bc.COIN) # funding amount Bob is willing to provide"
   ]
  },
  {
   "cell_type": "code",
   "execution_count": null,
   "id": "f57fc20e",
   "metadata": {},
   "outputs": [],
   "source": [
    "# create dummy psbt to extract 'funding' UTXO and change addresses\n",
    "# user minerAddr as a dummy address to create psbt\n",
    "tx_template = walletmsg.TxTemplate(outputs={str(minerAddr): fundAmount})\n",
    "\n",
    "psbtRequest = walletmsg.FundPsbtRequest(raw=tx_template, target_conf=6)\n",
    "psbtRequest"
   ]
  },
  {
   "cell_type": "code",
   "execution_count": null,
   "id": "ac8ea167",
   "metadata": {},
   "outputs": [],
   "source": [
    "psbt = bob.wallet.FundPsbt(request=psbtRequest)\n",
    "psbt"
   ]
  },
  {
   "cell_type": "code",
   "execution_count": null,
   "id": "99192dc6",
   "metadata": {},
   "outputs": [],
   "source": [
    "psbtBase64 = base64.b64encode(psbt.funded_psbt).decode()"
   ]
  },
  {
   "cell_type": "code",
   "execution_count": null,
   "id": "b8a60e6f",
   "metadata": {},
   "outputs": [],
   "source": [
    "psbtDecoded = brpc._proxy._call('decodepsbt', psbtBase64)\n",
    "psbtDecoded['tx']"
   ]
  },
  {
   "cell_type": "code",
   "execution_count": null,
   "id": "bbd1c152",
   "metadata": {},
   "outputs": [],
   "source": [
    "bobInputs = []\n",
    "for vin in psbtDecoded['tx']['vin']:\n",
    "    txin = bc.CTxIn(bc.COutPoint(bc.lx(vin['txid']), vin['vout']))\n",
    "    bobInputs.append(txin)\n",
    "bobInputs"
   ]
  },
  {
   "cell_type": "code",
   "execution_count": null,
   "id": "a8151d39",
   "metadata": {},
   "outputs": [],
   "source": [
    "# assume there are only 2 outputs\n",
    "assert len(psbtDecoded['tx']['vout']) == 2"
   ]
  },
  {
   "cell_type": "code",
   "execution_count": null,
   "id": "e4cd06be",
   "metadata": {},
   "outputs": [],
   "source": [
    "bobChangeOutput = psbtDecoded['tx']['vout'][psbt.change_output_index]\n",
    "bobChangeOutput = bc.CTxOut(int(bobChangeOutput['value'] * bc.COIN),\n",
    "                            bc.CScript(unhexlify(bobChangeOutput['scriptPubKey']['hex'])))\n",
    "\n",
    "bobChangeOutput"
   ]
  },
  {
   "cell_type": "code",
   "execution_count": null,
   "id": "61038507",
   "metadata": {},
   "outputs": [],
   "source": [
    "key_family = 0 # multisig?\n",
    "keyReq = walletmsg.KeyReq(key_family=key_family)\n",
    "bobKeyDesc = bob.wallet.DeriveNextKey(keyReq)\n",
    "bobKeyDesc = bob.wallet.DeriveNextKey(keyReq) # need to call twice?\n",
    "bobKeyDesc"
   ]
  },
  {
   "cell_type": "code",
   "execution_count": null,
   "id": "37bd3201",
   "metadata": {},
   "outputs": [],
   "source": [
    "makeRequest = {\n",
    "    'nodeAddr': 'bob-lnd',\n",
    "    'nodePubKey': bobNodePubKey,\n",
    "    'premiumAmount': premiumAmount,\n",
    "    'fundAmount': fundAmount,\n",
    "    'inputs': bobInputs,\n",
    "    'change': bobChangeOutput,\n",
    "    'multisigKey': bobKeyDesc # only need to send bytes of pub key and not key locator\n",
    "}\n",
    "makeRequest"
   ]
  },
  {
   "cell_type": "markdown",
   "id": "d73ab7d1",
   "metadata": {},
   "source": [
    "## Auctioneer"
   ]
  },
  {
   "cell_type": "code",
   "execution_count": null,
   "id": "f2aa6ec1",
   "metadata": {},
   "outputs": [],
   "source": [
    "import hashlib"
   ]
  },
  {
   "cell_type": "markdown",
   "id": "8371850b",
   "metadata": {},
   "source": [
    "### create batch funding transaction"
   ]
  },
  {
   "cell_type": "code",
   "execution_count": null,
   "id": "4b310974",
   "metadata": {},
   "outputs": [],
   "source": [
    "takerPubKey = takeRequest['multisigKey'].raw_key_bytes\n",
    "makerPubKey = makeRequest['multisigKey'].raw_key_bytes"
   ]
  },
  {
   "cell_type": "code",
   "execution_count": null,
   "id": "d6c62ce4",
   "metadata": {},
   "outputs": [],
   "source": [
    "# https://github.com/lightningnetwork/lightning-rfc/blob/master/03-transactions.md#funding-transaction-output\n",
    "# https://github.com/bitcoin/bips/blob/master/bip-0069.mediawiki\n",
    "# if makerPubKey > takerPubKey:\n",
    "if list(makerPubKey) > list(takerPubKey):\n",
    "    pk1, pk2 = takerPubKey, makerPubKey\n",
    "else:\n",
    "    pk1, pk2 = makerPubKey, takerPubKey"
   ]
  },
  {
   "cell_type": "code",
   "execution_count": null,
   "id": "867ba134",
   "metadata": {},
   "outputs": [],
   "source": [
    "msigScript = bs.CScript([\n",
    "        bs.OP_2,\n",
    "        pk1,\n",
    "        pk2,\n",
    "        bs.OP_2,\n",
    "        bs.OP_CHECKMULTISIG\n",
    "    ])"
   ]
  },
  {
   "cell_type": "code",
   "execution_count": null,
   "id": "b1a3733c",
   "metadata": {},
   "outputs": [],
   "source": [
    "# convert to P2WSH\n",
    "scriptPubKey = bc.CScript([bs.OP_0, hashlib.sha256(msigScript).digest()])\n",
    "scriptPubKey"
   ]
  },
  {
   "cell_type": "code",
   "execution_count": null,
   "id": "0d09c0e2",
   "metadata": {},
   "outputs": [],
   "source": [
    "assert scriptPubKey.is_witness_v0_scripthash()"
   ]
  },
  {
   "cell_type": "code",
   "execution_count": null,
   "id": "ad1cc088",
   "metadata": {},
   "outputs": [],
   "source": [
    "fundingOutput = bc.CTxOut(takeRequest['premiumAmount'] + makeRequest['fundAmount'],\n",
    "                          scriptPubKey)\n",
    "fundingOutput"
   ]
  },
  {
   "cell_type": "code",
   "execution_count": null,
   "id": "b6016849",
   "metadata": {},
   "outputs": [],
   "source": [
    "batchInputs = takeRequest['inputs'] + makeRequest['inputs']\n",
    "batchOutputs = [fundingOutput, takeRequest['change'], makeRequest['change']]\n",
    "fundingOutputIdx = 0"
   ]
  },
  {
   "cell_type": "code",
   "execution_count": null,
   "id": "725f4b60",
   "metadata": {},
   "outputs": [],
   "source": [
    "batchTx = bc.CTransaction(batchInputs, batchOutputs)\n",
    "batchTx"
   ]
  },
  {
   "cell_type": "code",
   "execution_count": null,
   "id": "e59b7622",
   "metadata": {},
   "outputs": [],
   "source": [
    "batchTxId = batchTx.GetTxid()\n",
    "batchTxId"
   ]
  },
  {
   "cell_type": "markdown",
   "id": "f26dc0ed",
   "metadata": {},
   "source": [
    "### Response to matched taker and maker"
   ]
  },
  {
   "cell_type": "code",
   "execution_count": null,
   "id": "f8e153fb",
   "metadata": {},
   "outputs": [],
   "source": [
    "# something that is unique to the corresponding matched taker and maker\n",
    "channelId = hashlib.sha256((bobNodePubKey + aliNodePubKey).encode()).hexdigest()"
   ]
  },
  {
   "cell_type": "code",
   "execution_count": null,
   "id": "6d4be0d6",
   "metadata": {},
   "outputs": [],
   "source": [
    "takeResponse = {\n",
    "    'batchTx': batchTx,\n",
    "    'fundingOutputIdx': fundingOutputIdx,\n",
    "    'channelId': channelId,\n",
    "    'maker': {\n",
    "        'nodeAddr': makeRequest['nodeAddr'],\n",
    "        'nodePubKey': makeRequest['nodePubKey'],\n",
    "        'premiumAmount': makeRequest['premiumAmount'],\n",
    "        'fundAmount': makeRequest['fundAmount'],\n",
    "        'remoteKey': makeRequest['multisigKey'].raw_key_bytes\n",
    "    }\n",
    "}"
   ]
  },
  {
   "cell_type": "code",
   "execution_count": null,
   "id": "eab1a860",
   "metadata": {},
   "outputs": [],
   "source": [
    "makeResponse = {\n",
    "    'batchTx': batchTx,\n",
    "    'fundingOutputIdx': fundingOutputIdx,\n",
    "    'channelId': channelId,\n",
    "    'taker': {\n",
    "        'nodeAddr': takeRequest['nodeAddr'],\n",
    "        'nodePubKey': takeRequest['nodePubKey'],\n",
    "        'premiumAmount': takeRequest['premiumAmount'],\n",
    "        'fundAmount': takeRequest['fundAmount'],\n",
    "        'remoteKey': takeRequest['multisigKey'].raw_key_bytes\n",
    "    }\n",
    "}"
   ]
  },
  {
   "cell_type": "markdown",
   "id": "19f4d2ce",
   "metadata": {},
   "source": [
    "## Ali taker"
   ]
  },
  {
   "cell_type": "code",
   "execution_count": null,
   "id": "918a82a5",
   "metadata": {},
   "outputs": [],
   "source": [
    "takeResponse"
   ]
  },
  {
   "cell_type": "markdown",
   "id": "e801ff52",
   "metadata": {},
   "source": [
    "### Register funding shim to get ready for funding\n",
    "this will also prompt taker to connect to maker"
   ]
  },
  {
   "cell_type": "code",
   "execution_count": null,
   "id": "34d7ad85",
   "metadata": {},
   "outputs": [],
   "source": [
    "maker = takeResponse['maker']\n",
    "batchTx = takeResponse['batchTx']"
   ]
  },
  {
   "cell_type": "code",
   "execution_count": null,
   "id": "e982a1e2",
   "metadata": {},
   "outputs": [],
   "source": [
    "chan_point = lnmsg.ChannelPoint(funding_txid_bytes=batchTx.GetTxid(),\n",
    "                                output_index=takeResponse['fundingOutputIdx'])"
   ]
  },
  {
   "cell_type": "code",
   "execution_count": null,
   "id": "43d7d346",
   "metadata": {},
   "outputs": [],
   "source": [
    "local_key = lnmsg.KeyDescriptor(\n",
    "    raw_key_bytes=aliKeyDesc.raw_key_bytes,\n",
    "    key_loc=lnmsg.KeyLocator(\n",
    "        key_family=aliKeyDesc.key_loc.key_family,\n",
    "        key_index=aliKeyDesc.key_loc.key_index))"
   ]
  },
  {
   "cell_type": "code",
   "execution_count": null,
   "id": "09229e6b",
   "metadata": {},
   "outputs": [],
   "source": [
    "chan_point_shim = lnmsg.ChanPointShim(\n",
    "    amt=maker['fundAmount'] + maker['premiumAmount'],\n",
    "    chan_point=chan_point,\n",
    "    local_key=local_key,\n",
    "    remote_key=maker['remoteKey'],\n",
    "    pending_chan_id=unhexlify(takeResponse['channelId']),\n",
    "    thaw_height=0 # set 0 for simplicity\n",
    ")"
   ]
  },
  {
   "cell_type": "code",
   "execution_count": null,
   "id": "03cde78e",
   "metadata": {},
   "outputs": [],
   "source": [
    "shim = lnmsg.FundingShim(chan_point_shim=chan_point_shim)"
   ]
  },
  {
   "cell_type": "code",
   "execution_count": null,
   "id": "daba7495",
   "metadata": {},
   "outputs": [],
   "source": [
    "ftm = lnmsg.FundingTransitionMsg(shim_register=shim)"
   ]
  },
  {
   "cell_type": "code",
   "execution_count": null,
   "id": "6071f86f",
   "metadata": {},
   "outputs": [],
   "source": [
    "# empty response\n",
    "ali.lnd.FundingStateStep(ftm)"
   ]
  },
  {
   "cell_type": "markdown",
   "id": "275ce833",
   "metadata": {},
   "source": [
    "### Connect to maker"
   ]
  },
  {
   "cell_type": "code",
   "execution_count": null,
   "id": "9107dbfb",
   "metadata": {},
   "outputs": [],
   "source": [
    "addr = lnmsg.LightningAddress(\n",
    "    pubkey=maker['nodePubKey'],\n",
    "    host=maker['nodeAddr']\n",
    ")"
   ]
  },
  {
   "cell_type": "code",
   "execution_count": null,
   "id": "12dc0076",
   "metadata": {},
   "outputs": [],
   "source": [
    "connect_peer_req = lnmsg.ConnectPeerRequest(\n",
    "    addr=addr\n",
    ")"
   ]
  },
  {
   "cell_type": "code",
   "execution_count": null,
   "id": "bf1e0ea2",
   "metadata": {},
   "outputs": [],
   "source": [
    "ali.lnd.ConnectPeer(connect_peer_req)"
   ]
  },
  {
   "cell_type": "markdown",
   "id": "8659f53f",
   "metadata": {},
   "source": [
    "## Bob maker"
   ]
  },
  {
   "cell_type": "code",
   "execution_count": null,
   "id": "40b54160",
   "metadata": {},
   "outputs": [],
   "source": [
    "makeResponse"
   ]
  },
  {
   "cell_type": "markdown",
   "id": "ad7ba0a2",
   "metadata": {},
   "source": [
    "### Initiate open channel request"
   ]
  },
  {
   "cell_type": "code",
   "execution_count": null,
   "id": "5180a93a",
   "metadata": {},
   "outputs": [],
   "source": [
    "taker = makeResponse['taker']\n",
    "batchTx = makeResponse['batchTx']"
   ]
  },
  {
   "cell_type": "code",
   "execution_count": null,
   "id": "3e947609",
   "metadata": {},
   "outputs": [],
   "source": [
    "chan_point = lnmsg.ChannelPoint(funding_txid_bytes=batchTx.GetTxid(),\n",
    "                                output_index=takeResponse['fundingOutputIdx'])"
   ]
  },
  {
   "cell_type": "code",
   "execution_count": null,
   "id": "f7be187e",
   "metadata": {},
   "outputs": [],
   "source": [
    "chan_point = lnmsg.ChannelPoint(\n",
    "    funding_txid_bytes=batchTx.GetTxid(),\n",
    "    output_index=makeResponse['fundingOutputIdx']\n",
    ")"
   ]
  },
  {
   "cell_type": "code",
   "execution_count": null,
   "id": "6f880a7e",
   "metadata": {},
   "outputs": [],
   "source": [
    "local_key = lnmsg.KeyDescriptor(\n",
    "    raw_key_bytes=bobKeyDesc.raw_key_bytes,\n",
    "    key_loc=lnmsg.KeyLocator(\n",
    "        key_family=bobKeyDesc.key_loc.key_family,\n",
    "        key_index=bobKeyDesc.key_loc.key_index\n",
    "    )\n",
    ")"
   ]
  },
  {
   "cell_type": "code",
   "execution_count": null,
   "id": "e59b47e3",
   "metadata": {},
   "outputs": [],
   "source": [
    "chan_point_shim = lnmsg.ChanPointShim(\n",
    "    amt=taker['fundAmount'] + taker['premiumAmount'],\n",
    "    chan_point=chan_point,\n",
    "    local_key=local_key,\n",
    "    remote_key=taker['remoteKey'],\n",
    "    pending_chan_id=unhexlify(makeResponse['channelId']),\n",
    "    thaw_height=0 # for simplicity\n",
    ")"
   ]
  },
  {
   "cell_type": "code",
   "execution_count": null,
   "id": "dd049dfe",
   "metadata": {},
   "outputs": [],
   "source": [
    "funding_shim = lnmsg.FundingShim(chan_point_shim=chan_point_shim)"
   ]
  },
  {
   "cell_type": "code",
   "execution_count": null,
   "id": "3ad186a3",
   "metadata": {},
   "outputs": [],
   "source": [
    "open_chan_req = lnmsg.OpenChannelRequest(\n",
    "    node_pubkey=unhexlify(taker['nodePubKey']),\n",
    "    local_funding_amount=taker['fundAmount'] + taker['premiumAmount'],\n",
    "    push_sat=taker['premiumAmount'], # premium is pushed to the remote end\n",
    "    funding_shim=funding_shim\n",
    ")"
   ]
  },
  {
   "cell_type": "code",
   "execution_count": null,
   "id": "cd19c74d",
   "metadata": {},
   "outputs": [],
   "source": [
    "chanEventStream = bob.lnd.OpenChannel(open_chan_req)"
   ]
  },
  {
   "cell_type": "code",
   "execution_count": null,
   "id": "2e67cd18",
   "metadata": {},
   "outputs": [],
   "source": [
    "next(chanEventStream)"
   ]
  },
  {
   "cell_type": "code",
   "execution_count": null,
   "id": "390557f3",
   "metadata": {},
   "outputs": [],
   "source": [
    "# at this point Ali and Bob should have a pending channel\n",
    "bob.lnd.PendingChannels(lnmsg.PendingChannelsRequest())"
   ]
  },
  {
   "cell_type": "code",
   "execution_count": null,
   "id": "cde36414",
   "metadata": {},
   "outputs": [],
   "source": [
    "ali.lnd.PendingChannels(lnmsg.PendingChannelsRequest())"
   ]
  },
  {
   "cell_type": "markdown",
   "id": "79510cb8",
   "metadata": {},
   "source": [
    "## Sign batch transaction"
   ]
  },
  {
   "cell_type": "markdown",
   "id": "04aaaa33",
   "metadata": {},
   "source": [
    "### Ali taker"
   ]
  },
  {
   "cell_type": "code",
   "execution_count": null,
   "id": "b1f595dc",
   "metadata": {},
   "outputs": [],
   "source": [
    "takeResponse['batchTx']"
   ]
  },
  {
   "cell_type": "code",
   "execution_count": null,
   "id": "84f1892d",
   "metadata": {},
   "outputs": [],
   "source": [
    "pbst = brpc._proxy._call('converttopsbt', hexlify(takeResponse['batchTx'].serialize()))\n",
    "pbst"
   ]
  },
  {
   "cell_type": "code",
   "execution_count": null,
   "id": "63604a9d",
   "metadata": {},
   "outputs": [],
   "source": [
    "psbtRequest = walletmsg.SignPsbtRequest(psbt=base64.b64decode(pbst))\n",
    "\n",
    "aliSignedPsbt = ali.wallet.SignPsbt(psbtRequest)\n",
    "aliSignedPsbt"
   ]
  },
  {
   "cell_type": "code",
   "execution_count": null,
   "id": "e80baf2c",
   "metadata": {},
   "outputs": [],
   "source": [
    "psbtDecoded = brpc._proxy._call('decodepsbt', base64.b64encode(aliSignedPsbt.signed_psbt).decode())\n",
    "psbtDecoded"
   ]
  },
  {
   "cell_type": "code",
   "execution_count": null,
   "id": "2727a991",
   "metadata": {},
   "outputs": [],
   "source": [
    "takerUpdate = {\n",
    "    'signed_psbt': base64.b64encode(aliSignedPsbt.signed_psbt).decode()\n",
    "}"
   ]
  },
  {
   "cell_type": "markdown",
   "id": "6b1e80b4",
   "metadata": {},
   "source": [
    "### Bob maker"
   ]
  },
  {
   "cell_type": "code",
   "execution_count": null,
   "id": "f5e40294",
   "metadata": {},
   "outputs": [],
   "source": [
    "makeResponse['batchTx']"
   ]
  },
  {
   "cell_type": "code",
   "execution_count": null,
   "id": "6993bf40",
   "metadata": {},
   "outputs": [],
   "source": [
    "pbst = brpc._proxy._call('converttopsbt', hexlify(makeResponse['batchTx'].serialize()))\n",
    "pbst"
   ]
  },
  {
   "cell_type": "code",
   "execution_count": null,
   "id": "2ecede43",
   "metadata": {},
   "outputs": [],
   "source": [
    "psbtRequest = walletmsg.SignPsbtRequest(psbt=base64.b64decode(pbst))\n",
    "\n",
    "bobSignedPsbt = bob.wallet.SignPsbt(psbtRequest)\n",
    "bobSignedPsbt"
   ]
  },
  {
   "cell_type": "code",
   "execution_count": null,
   "id": "a1106156",
   "metadata": {},
   "outputs": [],
   "source": [
    "psbtDecoded = brpc._proxy._call('decodepsbt', base64.b64encode(bobSignedPsbt.signed_psbt).decode())\n",
    "psbtDecoded"
   ]
  },
  {
   "cell_type": "code",
   "execution_count": null,
   "id": "cfb077b2",
   "metadata": {},
   "outputs": [],
   "source": [
    "makerUpdate = {\n",
    "    'signed_psbt': base64.b64encode(bobSignedPsbt.signed_psbt).decode()\n",
    "}"
   ]
  },
  {
   "cell_type": "markdown",
   "id": "26e55b6d",
   "metadata": {},
   "source": [
    "### Finalize and publish batch transaction"
   ]
  },
  {
   "cell_type": "markdown",
   "id": "513f8d13",
   "metadata": {},
   "source": [
    "### combine"
   ]
  },
  {
   "cell_type": "code",
   "execution_count": null,
   "id": "affcbf05",
   "metadata": {},
   "outputs": [],
   "source": [
    "combinedPsbt = brpc._proxy._call('combinepsbt', [takerUpdate['signed_psbt'], makerUpdate['signed_psbt']])\n",
    "combinedPsbt"
   ]
  },
  {
   "cell_type": "code",
   "execution_count": null,
   "id": "53c8235d",
   "metadata": {},
   "outputs": [],
   "source": [
    "brpc._proxy._call('decodepsbt', combinedPsbt)"
   ]
  },
  {
   "cell_type": "markdown",
   "id": "d11aec20",
   "metadata": {},
   "source": [
    "### finalize"
   ]
  },
  {
   "cell_type": "code",
   "execution_count": null,
   "id": "b16b79fe",
   "metadata": {},
   "outputs": [],
   "source": [
    "res = brpc._proxy._call('finalizepsbt', combinedPsbt)\n",
    "res"
   ]
  },
  {
   "cell_type": "markdown",
   "id": "a0b1e063",
   "metadata": {},
   "source": [
    "### submit"
   ]
  },
  {
   "cell_type": "code",
   "execution_count": null,
   "id": "d8d07f5f",
   "metadata": {},
   "outputs": [],
   "source": [
    "tx = bc.CTransaction.deserialize(unhexlify(res['hex']))\n",
    "tx"
   ]
  },
  {
   "cell_type": "code",
   "execution_count": null,
   "id": "b4c3f82a",
   "metadata": {},
   "outputs": [],
   "source": [
    "batchTxId2 = brpc.sendrawtransaction(tx)\n",
    "batchTxId2"
   ]
  },
  {
   "cell_type": "code",
   "execution_count": null,
   "id": "c67fed85",
   "metadata": {},
   "outputs": [],
   "source": [
    "assert batchTxId == batchTxId2"
   ]
  },
  {
   "cell_type": "code",
   "execution_count": null,
   "id": "790f640a",
   "metadata": {},
   "outputs": [],
   "source": [
    "_ = list(brpc.generatetoaddress(6, minerAddr))"
   ]
  },
  {
   "cell_type": "code",
   "execution_count": null,
   "id": "90515aec",
   "metadata": {},
   "outputs": [],
   "source": [
    "brpc.getrawtransaction(batchTxId2, verbose=True)"
   ]
  },
  {
   "cell_type": "markdown",
   "id": "3054a631",
   "metadata": {},
   "source": [
    "## Check channel"
   ]
  },
  {
   "cell_type": "code",
   "execution_count": null,
   "id": "a993f12d",
   "metadata": {},
   "outputs": [],
   "source": [
    "# should match the channel point\n",
    "bc.b2lx(batchTxId2)"
   ]
  },
  {
   "cell_type": "code",
   "execution_count": null,
   "id": "1e2b0d59",
   "metadata": {},
   "outputs": [],
   "source": [
    "ali.lnd.PendingChannels(lnmsg.PendingChannelsRequest())"
   ]
  },
  {
   "cell_type": "code",
   "execution_count": null,
   "id": "021270b5",
   "metadata": {},
   "outputs": [],
   "source": [
    "ali.lnd.ListChannels(lnmsg.ListChannelsRequest())"
   ]
  }
 ],
 "metadata": {
  "kernelspec": {
   "display_name": "Python 3",
   "language": "python",
   "name": "python3"
  },
  "language_info": {
   "codemirror_mode": {
    "name": "ipython",
    "version": 3
   },
   "file_extension": ".py",
   "mimetype": "text/x-python",
   "name": "python",
   "nbconvert_exporter": "python",
   "pygments_lexer": "ipython3",
   "version": "3.8.8"
  }
 },
 "nbformat": 4,
 "nbformat_minor": 5
}
