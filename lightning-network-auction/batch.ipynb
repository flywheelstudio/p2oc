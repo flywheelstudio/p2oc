{
 "cells": [
  {
   "cell_type": "markdown",
   "id": "5f7ccd0b",
   "metadata": {},
   "source": [
    "# Lightning Channel via Batch Transaction"
   ]
  },
  {
   "cell_type": "code",
   "execution_count": null,
   "id": "a073556e",
   "metadata": {},
   "outputs": [],
   "source": [
    "import sys\n",
    "import os"
   ]
  },
  {
   "cell_type": "code",
   "execution_count": null,
   "id": "848eb085",
   "metadata": {},
   "outputs": [],
   "source": [
    "# LND GRPC bindings should be in '/home/jovyan/lnrpc'\n",
    "sys.path.append('/home/jovyan/lnrpc')"
   ]
  },
  {
   "cell_type": "code",
   "execution_count": null,
   "id": "f4a4d351",
   "metadata": {},
   "outputs": [],
   "source": [
    "import rpc_pb2 as ln\n",
    "import rpc_pb2_grpc as lnrpc\n",
    "import grpc\n",
    "import codecs"
   ]
  },
  {
   "cell_type": "code",
   "execution_count": null,
   "id": "5b444c5b",
   "metadata": {},
   "outputs": [],
   "source": [
    "os.environ[\"GRPC_SSL_CIPHER_SUITES\"] = 'HIGH+ECDSA'"
   ]
  },
  {
   "cell_type": "code",
   "execution_count": null,
   "id": "22f0917a",
   "metadata": {},
   "outputs": [],
   "source": [
    "!sudo cp /ali-lnd/admin.macaroon /tmp/ali.macaroon"
   ]
  },
  {
   "cell_type": "code",
   "execution_count": null,
   "id": "6e16b72f",
   "metadata": {},
   "outputs": [],
   "source": [
    "!sudo chmod +r /tmp/ali.macaroon"
   ]
  },
  {
   "cell_type": "code",
   "execution_count": null,
   "id": "6c469080",
   "metadata": {},
   "outputs": [],
   "source": [
    "cert = open('/ali-lnd/tls.cert', 'rb').read()\n",
    "creds = grpc.ssl_channel_credentials(cert)\n",
    "channel = grpc.secure_channel('ali-lnd:10009', creds)\n",
    "stub = lnrpc.LightningStub(channel)"
   ]
  },
  {
   "cell_type": "code",
   "execution_count": null,
   "id": "179f287c",
   "metadata": {},
   "outputs": [],
   "source": [
    "with open(os.path.expanduser('/tmp/ali.macaroon'), 'rb') as f:\n",
    "    macaroon_bytes = f.read()\n",
    "    macaroon = codecs.encode(macaroon_bytes, 'hex')"
   ]
  },
  {
   "cell_type": "code",
   "execution_count": null,
   "id": "d49a5cc9",
   "metadata": {},
   "outputs": [],
   "source": [
    "stub.GetInfo(ln.GetInfoRequest(), metadata=[('macaroon', macaroon)])"
   ]
  },
  {
   "cell_type": "code",
   "execution_count": null,
   "id": "6050d435",
   "metadata": {},
   "outputs": [],
   "source": []
  }
 ],
 "metadata": {
  "kernelspec": {
   "display_name": "Python 3",
   "language": "python",
   "name": "python3"
  },
  "language_info": {
   "codemirror_mode": {
    "name": "ipython",
    "version": 3
   },
   "file_extension": ".py",
   "mimetype": "text/x-python",
   "name": "python",
   "nbconvert_exporter": "python",
   "pygments_lexer": "ipython3",
   "version": "3.8.8"
  }
 },
 "nbformat": 4,
 "nbformat_minor": 5
}
