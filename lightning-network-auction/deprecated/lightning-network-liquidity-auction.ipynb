{
 "cells": [
  {
   "cell_type": "markdown",
   "metadata": {},
   "source": [
    "# Lightning Network Liquidity Auction"
   ]
  },
  {
   "cell_type": "code",
   "execution_count": null,
   "metadata": {},
   "outputs": [],
   "source": [
    "%load_ext autoreload\n",
    "%autoreload 2"
   ]
  },
  {
   "cell_type": "markdown",
   "metadata": {},
   "source": [
    "## Partially Signed Bitcoin Transaction Example (PSBT)\n",
    "\n",
    "House will facilitate a multi-sig transaction between Alice and Bob that has Alice send her funds to Bob.\n",
    "\n",
    "**If you need to increase your wallet balance**\n",
    "\n",
    "Run `rpc.getnewaddress()` then set `\"--miningaddr=...\"` in `btcd` docker-compose `command: ...`. Then generate some blocks to stack sats: `next(rpc.generate(400))`\n",
    "\n",
    "### Create & Fund a Multisig"
   ]
  },
  {
   "cell_type": "code",
   "execution_count": null,
   "metadata": {},
   "outputs": [],
   "source": [
    "FUND_WALLETS = False"
   ]
  },
  {
   "cell_type": "code",
   "execution_count": null,
   "metadata": {},
   "outputs": [],
   "source": [
    "import os\n",
    "import binascii\n",
    "import bitcoin\n",
    "import bitcoin.wallet as bw\n",
    "import bitcoin.core as bc\n",
    "import bitcoin.core.script as bs\n",
    "from rpc import Proxy, Config\n",
    "\n",
    "bitcoin.SelectParams('regtest')\n",
    "\n",
    "# API: https://developer.bitcoin.org/reference/rpc/\n",
    "config = Config(\n",
    "    rpcuser=os.environ['BTCD_RPCUSER'],\n",
    "    rpcpassword=os.environ['BTCD_RPCPASS'],\n",
    "    rpcconnect='bitcoind',\n",
    "    rpcport=18443\n",
    ")\n",
    "rpc_house = Proxy(config._replace(rpcconnect='bitcoind-house'))\n",
    "rpc_alice = Proxy(config._replace(rpcconnect='bitcoind-alice'))\n",
    "rpc_bob = Proxy(config._replace(rpcconnect='bitcoind-bob'))\n",
    "\n",
    "def print_balances():\n",
    "    print(f\"Wallet Balance (House): {rpc_house.getbalance() / bc.COIN:.2f} BTC\")\n",
    "    print(f\"Wallet Balance (Alice): {rpc_alice.getbalance() / bc.COIN:.2f} BTC\")\n",
    "    print(f\"Wallet Balance (Bob): {rpc_bob.getbalance() / bc.COIN:.2f} BTC\")"
   ]
  },
  {
   "cell_type": "code",
   "execution_count": null,
   "metadata": {},
   "outputs": [],
   "source": [
    "junk_address = bw.CBitcoinAddress(\"2MyJKxYR2zNZZsZ39SgkCXWCfQtXKhnWSWq\")\n",
    "\n",
    "house = rpc_house.getnewaddress()\n",
    "alice = rpc_alice.getnewaddress()\n",
    "bob = rpc_bob.getnewaddress()\n",
    "\n",
    "if FUND_WALLETS:\n",
    "    _ = rpc_house.generatetoaddress(400, junk_address)\n",
    "    _ = rpc_house.generatetoaddress(10, alice)\n",
    "\n",
    "# Coinbase maturity period requires 100 confirmations\n",
    "# (https://bitcoin.stackexchange.com/a/100980/59383)\n",
    "# _ = rpc_house.generatetoaddress(200, junk_address)\n",
    "print_balances()"
   ]
  },
  {
   "cell_type": "markdown",
   "metadata": {},
   "source": [
    "Create multi-sig and send BTC to it."
   ]
  },
  {
   "cell_type": "code",
   "execution_count": null,
   "metadata": {},
   "outputs": [],
   "source": [
    "pubHouse = rpc_house.getaddressinfo(house)[\"pubkey\"]\n",
    "pubAlice = rpc_alice.getaddressinfo(alice)[\"pubkey\"]\n",
    "pubBob = rpc_bob.getaddressinfo(bob)[\"pubkey\"]\n",
    "\n",
    "# XXX: It seems as though the creator of the PSBT needs to be one of\n",
    "#      the signers; that is why the house is here as part of a 3x3.\n",
    "multi = rpc_house.addmultisigaddress(3, [pubHouse, pubAlice, pubBob], \"\", \"bech32\")\n",
    "\n",
    "# Make wallets treat payments to multisig as contributing to the\n",
    "# watch-only balance.\n",
    "rpc_alice.importaddress(multi[\"address\"])\n",
    "rpc_bob.importaddress(multi[\"address\"])\n",
    "\n",
    "# Give money to the multisig output address\n",
    "_ = rpc_alice.sendtoaddress(multi[\"address\"], 2 * bc.COIN, subtractfeefromamount=True)\n",
    "_ = rpc_house.generatetoaddress(100, junk_address)\n",
    "print_balances()"
   ]
  },
  {
   "cell_type": "markdown",
   "metadata": {},
   "source": [
    "### Spend Multisig via a PSBT\n",
    "\n",
    "Create PSBT to send BTC from multi-sig, have all parties sign it."
   ]
  },
  {
   "cell_type": "code",
   "execution_count": null,
   "metadata": {},
   "outputs": [],
   "source": [
    "options = {\n",
    "    \"feeRate\": 10_000 / bc.COIN,\n",
    "    \"subtractFeeFromOutputs\": [0],\n",
    "    \"includeWatching\": True\n",
    "}\n",
    "\n",
    "psbt = rpc_house._call(\n",
    "    \"walletcreatefundedpsbt\",\n",
    "    [],\n",
    "    [{str(bob): 2}],  # 2 BTC\n",
    "    0,\n",
    "    options,\n",
    "    None\n",
    ")\n",
    "\n",
    "# TODO: Before signing, Alice and Bob should inspect the psbt (by decoding)\n",
    "#       to see if it has the appropriate input/output/amount/fee.\n",
    "psbt_house = rpc_house._call(\"walletprocesspsbt\", psbt[\"psbt\"], True, \"ALL\", None)\n",
    "psbt_alice = rpc_alice._call(\"walletprocesspsbt\", psbt[\"psbt\"], True, \"ALL\", None)\n",
    "psbt_bob = rpc_bob._call(\"walletprocesspsbt\", psbt[\"psbt\"], True, \"ALL\", None)\n",
    "\n",
    "psbt = rpc_house.combinepsbt(\n",
    "    [psbt_house[\"psbt\"], psbt_alice[\"psbt\"], psbt_bob[\"psbt\"]]\n",
    ")\n",
    "psbt = rpc_house._call(\"finalizepsbt\", psbt, True)\n",
    "\n",
    "assert psbt[\"complete\"]"
   ]
  },
  {
   "cell_type": "markdown",
   "metadata": {},
   "source": [
    "Publish spend from multisig transaction"
   ]
  },
  {
   "cell_type": "code",
   "execution_count": null,
   "metadata": {},
   "outputs": [],
   "source": [
    "unhexlify = lambda h: binascii.unhexlify(h.encode(\"utf8\"))\n",
    "fund_tx = bc.CTransaction.deserialize(unhexlify(psbt[\"hex\"]))\n",
    "\n",
    "_ = rpc_house.sendrawtransaction(fund_tx)\n",
    "rpc_house.generatetoaddress(6, junk_address)\n",
    "print_balances()"
   ]
  },
  {
   "cell_type": "markdown",
   "metadata": {},
   "source": [
    "## Use House to Coordinate LND Channel Creation"
   ]
  },
  {
   "cell_type": "code",
   "execution_count": null,
   "metadata": {},
   "outputs": [],
   "source": [
    "# ..."
   ]
  },
  {
   "cell_type": "markdown",
   "metadata": {},
   "source": [
    "## Use CLOB to Coordinate Orders"
   ]
  },
  {
   "cell_type": "code",
   "execution_count": null,
   "metadata": {},
   "outputs": [],
   "source": [
    "from order_book import (\n",
    "    Conversions,\n",
    "    OrderEngine,\n",
    "    Order,\n",
    "    OrderSide as Side,\n",
    "    OrderAccount as Account,\n",
    ")\n",
    "\n",
    "order_engine = OrderEngine()\n",
    "\n",
    "alice = Account(\n",
    "    # lncli --network=simnet newaddress np2wkh\n",
    "    pubkey=\"rYjScWYTmZQqbhR7v2AKw6JY8QfYFkxe11\",\n",
    "    # lncli --network=simnet getinfo | grep identity_pubkey\n",
    "    node_endpoint=\"03a1293196bc7b42669514a65956030d00a8422a0b962d36dc89c91e0a94561af3@localhost:19735\"\n",
    ")\n",
    "bob = Account(\n",
    "    pubkey=\"rbx1izzXVfY9WY6zBnD2Cg7MqfVzD3rQts\",\n",
    "    node_endpoint=\"02e8ba8c0fbd0b924992466df843364efc28db0f3592e9bd180d7c31aada073084@localhost:29735\"\n",
    ")\n",
    "buy_order = Order(\n",
    "    side=Side.BID,\n",
    "    quantity=Conversions.btc_to_order_quantity(0.001),\n",
    "    per_unit_fees=80,\n",
    "    by=bob\n",
    ")\n",
    "sell_order = Order(\n",
    "    side=Side.ASK,\n",
    "    quantity=Conversions.btc_to_order_quantity(0.001),\n",
    "    per_unit_fees=80,\n",
    "    by=alice\n",
    ")\n",
    "\n",
    "bid_order_id = order_engine.limit(buy_order)\n",
    "print(f\"bid made; (bid) {bid_order_id} filled={not order_engine.book.has(bid_order_id)}\")\n",
    "\n",
    "ask_order_id = order_engine.limit(sell_order)\n",
    "print(f\"ask made; (ask) {ask_order_id} filled={not order_engine.book.has(ask_order_id)}\")\n",
    "\n",
    "print(f\"(bid) {bid_order_id} filled={not order_engine.book.has(bid_order_id)}\")\n",
    "print(f\"(ask) {ask_order_id} filled={not order_engine.book.has(ask_order_id)}\")"
   ]
  }
 ],
 "metadata": {
  "kernelspec": {
   "display_name": "Python 3",
   "language": "python",
   "name": "python3"
  },
  "language_info": {
   "codemirror_mode": {
    "name": "ipython",
    "version": 3
   },
   "file_extension": ".py",
   "mimetype": "text/x-python",
   "name": "python",
   "nbconvert_exporter": "python",
   "pygments_lexer": "ipython3",
   "version": "3.8.8"
  },
  "metadata": {
   "interpreter": {
    "hash": "aee8b7b246df8f9039afb4144a1f6fd8d2ca17a180786b69acc140d282b71a49"
   }
  }
 },
 "nbformat": 4,
 "nbformat_minor": 2
}
