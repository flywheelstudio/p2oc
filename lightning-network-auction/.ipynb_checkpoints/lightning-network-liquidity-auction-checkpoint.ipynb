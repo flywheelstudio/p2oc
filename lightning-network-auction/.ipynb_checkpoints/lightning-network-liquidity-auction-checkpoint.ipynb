{
 "cells": [
  {
   "cell_type": "markdown",
   "metadata": {},
   "source": [
    "# Lightning Network Liquidity Auction"
   ]
  },
  {
   "cell_type": "code",
   "execution_count": 1,
   "metadata": {},
   "outputs": [],
   "source": [
    "%load_ext autoreload\n",
    "%autoreload 2"
   ]
  },
  {
   "cell_type": "code",
   "execution_count": 2,
   "metadata": {},
   "outputs": [
    {
     "name": "stdout",
     "output_type": "stream",
     "text": [
      "bid made; (bid) 9338460472800973291 filled=False\n",
      "ask made; (ask) 9338521504286249451 filled=True\n",
      "(bid) 9338460472800973291 filled=True\n",
      "(ask) 9338521504286249451 filled=True\n"
     ]
    }
   ],
   "source": [
    "from order_book import (\n",
    "    Conversions,\n",
    "    OrderEngine,\n",
    "    Order,\n",
    "    OrderSide as Side,\n",
    "    OrderAccount as Account,\n",
    ")\n",
    "\n",
    "order_engine = OrderEngine()\n",
    "\n",
    "alice = Account(\n",
    "    # lncli --network=simnet newaddress np2wkh\n",
    "    pubkey=\"rYjScWYTmZQqbhR7v2AKw6JY8QfYFkxe11\",\n",
    "    # lncli --network=simnet getinfo | grep identity_pubkey\n",
    "    node_endpoint=\"03a1293196bc7b42669514a65956030d00a8422a0b962d36dc89c91e0a94561af3@localhost:19735\"\n",
    ")\n",
    "bob = Account(\n",
    "    pubkey=\"rbx1izzXVfY9WY6zBnD2Cg7MqfVzD3rQts\",\n",
    "    node_endpoint=\"02e8ba8c0fbd0b924992466df843364efc28db0f3592e9bd180d7c31aada073084@localhost:29735\"\n",
    ")\n",
    "buy_order = Order(\n",
    "    side=Side.BID,\n",
    "    quantity=Conversions.btc_to_order_quantity(0.001),\n",
    "    per_unit_fees=80,\n",
    "    by=bob\n",
    ")\n",
    "sell_order = Order(\n",
    "    side=Side.ASK,\n",
    "    quantity=Conversions.btc_to_order_quantity(0.001),\n",
    "    per_unit_fees=80,\n",
    "    by=alice\n",
    ")\n",
    "\n",
    "bid_order_id = order_engine.limit(buy_order)\n",
    "print(f\"bid made; (bid) {bid_order_id} filled={not order_engine.book.has(bid_order_id)}\")\n",
    "\n",
    "ask_order_id = order_engine.limit(sell_order)\n",
    "print(f\"ask made; (ask) {ask_order_id} filled={not order_engine.book.has(ask_order_id)}\")\n",
    "\n",
    "print(f\"(bid) {bid_order_id} filled={not order_engine.book.has(bid_order_id)}\")\n",
    "print(f\"(ask) {ask_order_id} filled={not order_engine.book.has(ask_order_id)}\")"
   ]
  },
  {
   "cell_type": "markdown",
   "metadata": {},
   "source": [
    "## Init blockchain"
   ]
  },
  {
   "cell_type": "code",
   "execution_count": 3,
   "metadata": {},
   "outputs": [],
   "source": [
    "import os\n",
    "from rpc import Proxy, Config\n",
    "import bitcoin"
   ]
  },
  {
   "cell_type": "code",
   "execution_count": 4,
   "metadata": {},
   "outputs": [],
   "source": [
    "bitcoin.SelectParams('simnet')"
   ]
  },
  {
   "cell_type": "code",
   "execution_count": 5,
   "metadata": {
    "scrolled": true
   },
   "outputs": [
    {
     "name": "stdout",
     "output_type": "stream",
     "text": [
      "\n",
      "rpcuser=satoshin\n",
      "rpcpassword=nomoney\n",
      "rpcport=28334\n",
      "rpcconnect=btcwallet-proxy\n",
      "\n"
     ]
    }
   ],
   "source": [
    "# ./ngrok tcp 18556\n",
    "rpc = Proxy(config=Config(\n",
    "    rpcuser=os.environ['BTCD_RPCUSER'],\n",
    "    rpcpassword=os.environ['BTCD_RPCPASS'],\n",
    "    rpcconnect='btcwallet-proxy',\n",
    "    rpcport=28334\n",
    "))"
   ]
  },
  {
   "cell_type": "code",
   "execution_count": 7,
   "metadata": {},
   "outputs": [],
   "source": [
    "bitcoin.SimNetParams.BECH32_HRP = 'bc1'"
   ]
  },
  {
   "cell_type": "code",
   "execution_count": 8,
   "metadata": {},
   "outputs": [
    {
     "data": {
      "text/plain": [
       "P2PKHBitcoinAddress('Sa9AG5v1KGZcpUEqUGrWJ65AvzjBMXNAc6')"
      ]
     },
     "execution_count": 8,
     "metadata": {},
     "output_type": "execute_result"
    }
   ],
   "source": [
    "rpc.getnewaddress()\n",
    "# next(rpc.generate(1))"
   ]
  },
  {
   "cell_type": "markdown",
   "metadata": {},
   "source": [
    "## Init Alice and Bob"
   ]
  },
  {
   "cell_type": "code",
   "execution_count": 9,
   "metadata": {},
   "outputs": [
    {
     "ename": "JSONRPCError",
     "evalue": "{'code': -13, 'message': 'Enter the wallet passphrase with walletpassphrase first'}",
     "output_type": "error",
     "traceback": [
      "\u001b[0;31m---------------------------------------------------------------------------\u001b[0m",
      "\u001b[0;31mJSONRPCError\u001b[0m                              Traceback (most recent call last)",
      "\u001b[0;32m<ipython-input-9-340d58a3e864>\u001b[0m in \u001b[0;36m<module>\u001b[0;34m\u001b[0m\n\u001b[1;32m      6\u001b[0m \u001b[0mbob\u001b[0m \u001b[0;34m=\u001b[0m \u001b[0mUser\u001b[0m\u001b[0;34m(\u001b[0m\u001b[0mrpc\u001b[0m\u001b[0;34m)\u001b[0m\u001b[0;34m\u001b[0m\u001b[0;34m\u001b[0m\u001b[0m\n\u001b[1;32m      7\u001b[0m \u001b[0;34m\u001b[0m\u001b[0m\n\u001b[0;32m----> 8\u001b[0;31m \u001b[0mali\u001b[0m\u001b[0;34m.\u001b[0m\u001b[0mgenerate_addresses\u001b[0m\u001b[0;34m(\u001b[0m\u001b[0;36m6\u001b[0m\u001b[0;34m)\u001b[0m\u001b[0;34m\u001b[0m\u001b[0;34m\u001b[0m\u001b[0m\n\u001b[0m\u001b[1;32m      9\u001b[0m \u001b[0mbob\u001b[0m\u001b[0;34m.\u001b[0m\u001b[0mgenerate_addresses\u001b[0m\u001b[0;34m(\u001b[0m\u001b[0;36m6\u001b[0m\u001b[0;34m)\u001b[0m\u001b[0;34m\u001b[0m\u001b[0;34m\u001b[0m\u001b[0m\n",
      "\u001b[0;32m/notebooks/user.py\u001b[0m in \u001b[0;36mgenerate_addresses\u001b[0;34m(self, n)\u001b[0m\n\u001b[1;32m     13\u001b[0m         \u001b[0;32mfor\u001b[0m \u001b[0m_\u001b[0m \u001b[0;32min\u001b[0m \u001b[0mrange\u001b[0m\u001b[0;34m(\u001b[0m\u001b[0mn\u001b[0m\u001b[0;34m)\u001b[0m\u001b[0;34m:\u001b[0m\u001b[0;34m\u001b[0m\u001b[0;34m\u001b[0m\u001b[0m\n\u001b[1;32m     14\u001b[0m             \u001b[0maddr\u001b[0m \u001b[0;34m=\u001b[0m \u001b[0mself\u001b[0m\u001b[0;34m.\u001b[0m\u001b[0mrpc\u001b[0m\u001b[0;34m.\u001b[0m\u001b[0mgetnewaddress\u001b[0m\u001b[0;34m(\u001b[0m\u001b[0;34m)\u001b[0m\u001b[0;34m\u001b[0m\u001b[0;34m\u001b[0m\u001b[0m\n\u001b[0;32m---> 15\u001b[0;31m             \u001b[0msecr\u001b[0m \u001b[0;34m=\u001b[0m \u001b[0mself\u001b[0m\u001b[0;34m.\u001b[0m\u001b[0mrpc\u001b[0m\u001b[0;34m.\u001b[0m\u001b[0mdumpprivkey\u001b[0m\u001b[0;34m(\u001b[0m\u001b[0maddr\u001b[0m\u001b[0;34m)\u001b[0m\u001b[0;34m\u001b[0m\u001b[0;34m\u001b[0m\u001b[0m\n\u001b[0m\u001b[1;32m     16\u001b[0m             \u001b[0mself\u001b[0m\u001b[0;34m.\u001b[0m\u001b[0maddresses\u001b[0m\u001b[0;34m.\u001b[0m\u001b[0mappend\u001b[0m\u001b[0;34m(\u001b[0m\u001b[0maddr\u001b[0m\u001b[0;34m)\u001b[0m\u001b[0;34m\u001b[0m\u001b[0;34m\u001b[0m\u001b[0m\n\u001b[1;32m     17\u001b[0m             \u001b[0mself\u001b[0m\u001b[0;34m.\u001b[0m\u001b[0m_secrets\u001b[0m\u001b[0;34m.\u001b[0m\u001b[0mappend\u001b[0m\u001b[0;34m(\u001b[0m\u001b[0msecr\u001b[0m\u001b[0;34m)\u001b[0m\u001b[0;34m\u001b[0m\u001b[0;34m\u001b[0m\u001b[0m\n",
      "\u001b[0;32m/opt/conda/lib/python3.8/site-packages/bitcoin/rpc.py\u001b[0m in \u001b[0;36mdumpprivkey\u001b[0;34m(self, addr)\u001b[0m\n\u001b[1;32m    364\u001b[0m         \"\"\"Return the private key matching an address\n\u001b[1;32m    365\u001b[0m         \"\"\"\n\u001b[0;32m--> 366\u001b[0;31m         \u001b[0mr\u001b[0m \u001b[0;34m=\u001b[0m \u001b[0mself\u001b[0m\u001b[0;34m.\u001b[0m\u001b[0m_call\u001b[0m\u001b[0;34m(\u001b[0m\u001b[0;34m'dumpprivkey'\u001b[0m\u001b[0;34m,\u001b[0m \u001b[0mstr\u001b[0m\u001b[0;34m(\u001b[0m\u001b[0maddr\u001b[0m\u001b[0;34m)\u001b[0m\u001b[0;34m)\u001b[0m\u001b[0;34m\u001b[0m\u001b[0;34m\u001b[0m\u001b[0m\n\u001b[0m\u001b[1;32m    367\u001b[0m \u001b[0;34m\u001b[0m\u001b[0m\n\u001b[1;32m    368\u001b[0m         \u001b[0;32mreturn\u001b[0m \u001b[0mCBitcoinSecret\u001b[0m\u001b[0;34m(\u001b[0m\u001b[0mr\u001b[0m\u001b[0;34m)\u001b[0m\u001b[0;34m\u001b[0m\u001b[0;34m\u001b[0m\u001b[0m\n",
      "\u001b[0;32m/opt/conda/lib/python3.8/site-packages/bitcoin/rpc.py\u001b[0m in \u001b[0;36m_call\u001b[0;34m(self, service_name, *args)\u001b[0m\n\u001b[1;32m    235\u001b[0m         \u001b[0;32mif\u001b[0m \u001b[0merr\u001b[0m \u001b[0;32mis\u001b[0m \u001b[0;32mnot\u001b[0m \u001b[0;32mNone\u001b[0m\u001b[0;34m:\u001b[0m\u001b[0;34m\u001b[0m\u001b[0;34m\u001b[0m\u001b[0m\n\u001b[1;32m    236\u001b[0m             \u001b[0;32mif\u001b[0m \u001b[0misinstance\u001b[0m\u001b[0;34m(\u001b[0m\u001b[0merr\u001b[0m\u001b[0;34m,\u001b[0m \u001b[0mdict\u001b[0m\u001b[0;34m)\u001b[0m\u001b[0;34m:\u001b[0m\u001b[0;34m\u001b[0m\u001b[0;34m\u001b[0m\u001b[0m\n\u001b[0;32m--> 237\u001b[0;31m                 raise JSONRPCError(\n\u001b[0m\u001b[1;32m    238\u001b[0m                     {'code': err.get('code', -345),\n\u001b[1;32m    239\u001b[0m                      'message': err.get('message', 'error message not specified')})\n",
      "\u001b[0;31mJSONRPCError\u001b[0m: {'code': -13, 'message': 'Enter the wallet passphrase with walletpassphrase first'}"
     ]
    }
   ],
   "source": [
    "import bitcoin.core as bc\n",
    "import bitcoin.core.script as bs\n",
    "from user import User\n",
    "\n",
    "ali = User(rpc)\n",
    "bob = User(rpc)\n",
    "\n",
    "ali.generate_addresses(6)\n",
    "bob.generate_addresses(6)"
   ]
  },
  {
   "cell_type": "code",
   "execution_count": null,
   "metadata": {},
   "outputs": [],
   "source": [
    "SWAP_AMOUT = 10 * bc.COIN\n",
    "CANCEL_AMOUNT = 2"
   ]
  },
  {
   "cell_type": "code",
   "execution_count": null,
   "metadata": {},
   "outputs": [],
   "source": [
    "_ = rpc.sendtoaddress(ali.addresses[0], SWAP_AMOUT)\n",
    "_ = rpc.sendtoaddress(bob.addresses[0], SWAP_AMOUT)"
   ]
  },
  {
   "cell_type": "code",
   "execution_count": null,
   "metadata": {},
   "outputs": [],
   "source": [
    "_ = rpc.generate(1)"
   ]
  },
  {
   "cell_type": "markdown",
   "metadata": {},
   "source": [
    "## Create 'timers'"
   ]
  },
  {
   "cell_type": "code",
   "execution_count": null,
   "metadata": {},
   "outputs": [],
   "source": [
    "curr_block = rpc.getinfo()['blocks']\n",
    "curr_block"
   ]
  },
  {
   "cell_type": "code",
   "execution_count": null,
   "metadata": {},
   "outputs": [],
   "source": [
    "from collections import namedtuple\n",
    "\n",
    "Timers = namedtuple('SwapTimers', ['cancel', 'fork', 'bob', 'ali'])\n",
    "\n",
    "timers = Timers(cancel=curr_block + 4,\n",
    "                fork=curr_block + 6,\n",
    "                bob=curr_block + 8,\n",
    "                ali=curr_block + 10)\n",
    "timers"
   ]
  },
  {
   "cell_type": "markdown",
   "metadata": {},
   "source": [
    "## Define basic scripts"
   ]
  },
  {
   "cell_type": "code",
   "execution_count": null,
   "metadata": {},
   "outputs": [],
   "source": [
    "def get_refund_script(pk, delta):\n",
    "    assert isinstance(pk, bc.key.CPubKey)\n",
    "    assert isinstance(delta, int)\n",
    "    assert delta > 0\n",
    "\n",
    "    script = bs.CScript([\n",
    "        delta,\n",
    "        bs.OP_CHECKLOCKTIMEVERIFY,\n",
    "        bs.OP_DROP,\n",
    "        pk,\n",
    "        bs.OP_CHECKSIG\n",
    "    ])\n",
    "    return script\n",
    "\n",
    "def get_transfer_script(pk1, pk2, h):\n",
    "    assert isinstance(pk1, bc.key.CPubKey)\n",
    "    assert isinstance(pk2, bc.key.CPubKey)\n",
    "    assert isinstance(h, bytes)\n",
    "\n",
    "    script = bs.CScript([\n",
    "        bs.OP_2,\n",
    "        pk1,\n",
    "        pk2,\n",
    "        bs.OP_2,\n",
    "        bs.OP_CHECKMULTISIGVERIFY,\n",
    "        bs.OP_HASH160,\n",
    "        h,\n",
    "        bs.OP_EQUAL\n",
    "    ])\n",
    "\n",
    "    return script\n",
    "\n",
    "def get_cancel_script(pk1, pk2):\n",
    "    assert isinstance(pk1, bc.key.CPubKey)\n",
    "    assert isinstance(pk2, bc.key.CPubKey)\n",
    "\n",
    "    script = bs.CScript([\n",
    "        bs.OP_2,\n",
    "        pk1,\n",
    "        pk2,\n",
    "        bs.OP_2,\n",
    "        bs.OP_CHECKMULTISIG\n",
    "    ])\n",
    "\n",
    "    return script"
   ]
  },
  {
   "cell_type": "code",
   "execution_count": null,
   "metadata": {},
   "outputs": [],
   "source": [
    "def get_ali_deposit_script(ali, bob, timers):\n",
    "    # TODO: implement forfeit condition\n",
    "    refund_script = get_refund_script(ali.pub_key(1), timers.ali)\n",
    "    cancel_script = get_cancel_script(ali.pub_key(3), bob.pub_key(3))\n",
    "\n",
    "    h = ali.hashed_password()\n",
    "    transfer_script = get_transfer_script(ali.pub_key(2), bob.pub_key(2), h)\n",
    "\n",
    "    deposit = bs.CScript([\n",
    "        bs.OP_IF,\n",
    "            bs.OP_IF,\n",
    "                *list(refund_script),\n",
    "            bs.OP_ELSE,\n",
    "                *list(transfer_script),\n",
    "            bs.OP_ENDIF,\n",
    "        bs.OP_ELSE,\n",
    "            *list(cancel_script),\n",
    "        bs.OP_ENDIF])\n",
    "    return deposit\n",
    "\n",
    "def get_bob_deposit_script(ali, bob, timers):\n",
    "    # TODO: implement forfeit condition\n",
    "    refund_script = get_refund_script(bob.pub_key(1), timers.bob)\n",
    "    cancel_script = get_cancel_script(ali.pub_key(3), bob.pub_key(3))\n",
    "\n",
    "    h = ali.hashed_password()\n",
    "    transfer_script = get_transfer_script(ali.pub_key(2), bob.pub_key(2), h)\n",
    "\n",
    "    deposit = bs.CScript([\n",
    "        bs.OP_IF,\n",
    "            bs.OP_IF,\n",
    "                *list(refund_script),\n",
    "            bs.OP_ELSE,\n",
    "                *list(transfer_script),\n",
    "            bs.OP_ENDIF,\n",
    "        bs.OP_ELSE,\n",
    "            *list(cancel_script),\n",
    "        bs.OP_ENDIF])\n",
    "    return deposit"
   ]
  },
  {
   "cell_type": "markdown",
   "metadata": {},
   "source": [
    "## Define transactions"
   ]
  },
  {
   "cell_type": "code",
   "execution_count": null,
   "metadata": {},
   "outputs": [],
   "source": [
    "def get_fund_tx(ali,\n",
    "                bob,\n",
    "                ali_utxo,\n",
    "                bob_utxo,\n",
    "                timers,\n",
    "                cancel_amount=CANCEL_AMOUNT,\n",
    "                fee=0):\n",
    "    assert cancel_amount > 0\n",
    "    assert fee >= 0\n",
    "\n",
    "    ali_txin = bc.CMutableTxIn(ali_utxo['outpoint'], nSequence=0)\n",
    "    bob_txin = bc.CMutableTxIn(bob_utxo['outpoint'], nSequence=0)\n",
    "\n",
    "    ali_deposit = get_ali_deposit_script(ali, bob, timers)\n",
    "    bob_deposit = get_bob_deposit_script(ali, bob, timers)\n",
    "\n",
    "    ali_deposit_txout = bc.CMutableTxOut(\n",
    "        ali_utxo['amount'] - cancel_amount/2 - fee/2,\n",
    "        ali_deposit)\n",
    "    bob_deposit_txout = bc.CMutableTxOut(\n",
    "        bob_utxo['amount'] - cancel_amount/2 - fee/2,\n",
    "        bob_deposit)\n",
    "\n",
    "    # TODO: implement commit condition\n",
    "    cancel_script = get_cancel_script(ali.pub_key(2), bob.pub_key(2))\n",
    "    cancel_txout = bc.CMutableTxOut(cancel_amount, cancel_script)\n",
    "\n",
    "    vins = [ali_txin, bob_txin]\n",
    "    vouts = [ali_deposit_txout,\n",
    "             bob_deposit_txout, \n",
    "             cancel_txout]\n",
    "    fund_tx = bc.CMutableTransaction(vins, vouts)\n",
    "\n",
    "    fund_tx = ali.sign_utxo(ali_utxo, fund_tx, 0)\n",
    "    fund_tx = bob.sign_utxo(bob_utxo, fund_tx, 1)\n",
    "\n",
    "    return fund_tx"
   ]
  },
  {
   "cell_type": "code",
   "execution_count": null,
   "metadata": {},
   "outputs": [],
   "source": [
    "def get_cancel_tx(fund_tx, ali, bob, fee=0):\n",
    "    fund_tx_id = fund_tx.GetTxid()\n",
    "    ali_cancel_txin = bc.CMutableTxIn(bc.COutPoint(fund_tx_id, 0),\n",
    "                                      nSequence=0)\n",
    "    bob_cancel_txin = bc.CMutableTxIn(bc.COutPoint(fund_tx_id, 1),\n",
    "                                      nSequence=0)\n",
    "    can_cancel_txin = bc.CMutableTxIn(bc.COutPoint(fund_tx_id, 2),\n",
    "                                      nSequence=0)\n",
    "\n",
    "    cancel_amount = fund_tx.vout[2].nValue\n",
    "    assert CANCEL_AMOUNT == cancel_amount\n",
    "\n",
    "    ali_cancel_txout = bc.CMutableTxOut(\n",
    "        fund_tx.vout[0].nValue + cancel_amount/2 - fee/2,\n",
    "        ali.addresses[5].to_scriptPubKey())\n",
    "    bob_cancel_txout = bc.CMutableTxOut(\n",
    "        fund_tx.vout[1].nValue + cancel_amount/2 - fee/2,\n",
    "        bob.addresses[5].to_scriptPubKey())\n",
    "\n",
    "    vins = [ali_cancel_txin, bob_cancel_txin, can_cancel_txin]\n",
    "    vouts = [ali_cancel_txout, bob_cancel_txout]\n",
    "    cancel_tx = bc.CMutableTransaction(vins, vouts)\n",
    "\n",
    "    ali_cancel_sighash = bs.SignatureHash(\n",
    "        fund_tx.vout[0].scriptPubKey,\n",
    "        cancel_tx,\n",
    "        0,\n",
    "        bs.SIGHASH_ALL)\n",
    "\n",
    "    bob_cancel_sighash = bs.SignatureHash(\n",
    "        fund_tx.vout[1].scriptPubKey,\n",
    "        cancel_tx,\n",
    "        1,\n",
    "        bs.SIGHASH_ALL)\n",
    "\n",
    "    can_cancel_sighash = bs.SignatureHash(\n",
    "        fund_tx.vout[2].scriptPubKey,\n",
    "        cancel_tx,\n",
    "        2,\n",
    "        bs.SIGHASH_ALL)\n",
    "\n",
    "    ali_cancel_ali_sig = ali.sign_hash(3, ali_cancel_sighash)\n",
    "    ali_cancel_bob_sig = bob.sign_hash(3, ali_cancel_sighash)\n",
    "\n",
    "    bob_cancel_ali_sig = ali.sign_hash(3, bob_cancel_sighash)\n",
    "    bob_cancel_bob_sig = bob.sign_hash(3, bob_cancel_sighash)\n",
    "\n",
    "    can_cancel_ali_sig = ali.sign_hash(2, can_cancel_sighash)\n",
    "    can_cancel_bob_sig = bob.sign_hash(2, can_cancel_sighash)\n",
    "\n",
    "    ali_cancel_txin.scriptSig = bs.CScript(\n",
    "        [bs.OP_0, ali_cancel_ali_sig, ali_cancel_bob_sig, bs.OP_0])\n",
    "\n",
    "    bob_cancel_txin.scriptSig = bs.CScript(\n",
    "        [bs.OP_0, bob_cancel_ali_sig, bob_cancel_bob_sig, bs.OP_0])\n",
    "\n",
    "    can_cancel_txin.scriptSig = bs.CScript(\n",
    "        [bs.OP_0, can_cancel_ali_sig, can_cancel_bob_sig])\n",
    "\n",
    "    return cancel_tx"
   ]
  },
  {
   "cell_type": "code",
   "execution_count": null,
   "metadata": {},
   "outputs": [],
   "source": [
    "def get_ali_transfer_tx(fund_tx, ali, bob, fee=0):\n",
    "    fund_tx_id = fund_tx.GetTxid()\n",
    "    ali_txin = bc.CMutableTxIn(bc.COutPoint(fund_tx_id, 0),\n",
    "                               nSequence=0)\n",
    "    bob_txin = bc.CMutableTxIn(bc.COutPoint(fund_tx_id, 1),\n",
    "                               nSequence=0)\n",
    "\n",
    "    amount = fund_tx.vout[0].nValue + fund_tx.vout[1].nValue\n",
    "\n",
    "    ali_txout = bc.CMutableTxOut(\n",
    "        amount - fee,\n",
    "        ali.addresses[5].to_scriptPubKey())\n",
    "\n",
    "    vins = [ali_txin, bob_txin]\n",
    "    vouts = [ali_txout]\n",
    "    ali_tx = bc.CMutableTransaction(vins, vouts)\n",
    "\n",
    "    ali_deposit_sighash = bs.SignatureHash(\n",
    "        fund_tx.vout[0].scriptPubKey,\n",
    "        ali_tx,\n",
    "        0,\n",
    "        bs.SIGHASH_ALL)\n",
    "\n",
    "    bob_deposit_sighash = bs.SignatureHash(\n",
    "        fund_tx.vout[1].scriptPubKey,\n",
    "        ali_tx,\n",
    "        1,\n",
    "        bs.SIGHASH_ALL)\n",
    "\n",
    "    ali_deposit_ali_sig = ali.sign_hash(2, ali_deposit_sighash)\n",
    "    ali_deposit_bob_sig = bob.sign_hash(2, ali_deposit_sighash)\n",
    "\n",
    "    bob_deposit_ali_sig = ali.sign_hash(2, bob_deposit_sighash)\n",
    "    bob_deposit_bob_sig = bob.sign_hash(2, bob_deposit_sighash)\n",
    "\n",
    "    ali_txin.scriptSig = bs.CScript(\n",
    "        [bs.OP_0, ali_deposit_ali_sig, ali_deposit_bob_sig, bs.OP_0, bs.OP_1])\n",
    "\n",
    "    bob_txin.scriptSig = bs.CScript(\n",
    "        [bs.OP_0, bob_deposit_ali_sig, bob_deposit_bob_sig, bs.OP_0, bs.OP_1])\n",
    "\n",
    "    return ali_tx\n",
    "\n",
    "# TODO: implement ali -> bob transfer tx"
   ]
  },
  {
   "cell_type": "markdown",
   "metadata": {},
   "source": [
    "## Create $T^{Fund}$ transaction"
   ]
  },
  {
   "cell_type": "code",
   "execution_count": null,
   "metadata": {},
   "outputs": [],
   "source": [
    "ali_utxo = ali.utxo(SWAP_AMOUT)\n",
    "bob_utxo = bob.utxo(SWAP_AMOUT)"
   ]
  },
  {
   "cell_type": "code",
   "execution_count": null,
   "metadata": {},
   "outputs": [],
   "source": [
    "fund_tx = get_fund_tx(ali, bob, ali_utxo, bob_utxo, timers)"
   ]
  },
  {
   "cell_type": "code",
   "execution_count": null,
   "metadata": {},
   "outputs": [],
   "source": [
    "# https://github.com/petertodd/python-bitcoinlib/blob/5e150ac4a50791e6293752ceef8647b9bb3273c0/examples/timestamp-op-ret.py#L66\n",
    "FEE_PER_BYTE = 0.00025 * bc.COIN/1000"
   ]
  },
  {
   "cell_type": "code",
   "execution_count": null,
   "metadata": {},
   "outputs": [],
   "source": [
    "n_bytes = len(fund_tx.serialize())\n",
    "fee = n_bytes * FEE_PER_BYTE\n",
    "n_bytes, fee"
   ]
  },
  {
   "cell_type": "code",
   "execution_count": null,
   "metadata": {},
   "outputs": [],
   "source": [
    "fund_tx = get_fund_tx(ali, bob, ali_utxo, bob_utxo, timers, fee=fee)"
   ]
  },
  {
   "cell_type": "code",
   "execution_count": null,
   "metadata": {},
   "outputs": [],
   "source": [
    "fund_tx_id = rpc.sendrawtransaction(fund_tx)"
   ]
  },
  {
   "cell_type": "code",
   "execution_count": null,
   "metadata": {},
   "outputs": [],
   "source": [
    "_ = rpc.generate(1)"
   ]
  },
  {
   "cell_type": "code",
   "execution_count": null,
   "metadata": {},
   "outputs": [],
   "source": [
    "assert rpc.gettransaction(fund_tx_id)['confirmations'] == 1"
   ]
  },
  {
   "cell_type": "markdown",
   "metadata": {},
   "source": [
    "## Create $T^{cancel}$"
   ]
  },
  {
   "cell_type": "code",
   "execution_count": null,
   "metadata": {},
   "outputs": [],
   "source": [
    "fund_tx = rpc.getrawtransaction(fund_tx_id)"
   ]
  },
  {
   "cell_type": "code",
   "execution_count": null,
   "metadata": {},
   "outputs": [],
   "source": [
    "cancel_tx = get_cancel_tx(fund_tx, ali, bob)"
   ]
  },
  {
   "cell_type": "code",
   "execution_count": null,
   "metadata": {},
   "outputs": [],
   "source": [
    "n_bytes = len(cancel_tx.serialize())\n",
    "fee = n_bytes * FEE_PER_BYTE\n",
    "n_bytes, fee"
   ]
  },
  {
   "cell_type": "code",
   "execution_count": null,
   "metadata": {},
   "outputs": [],
   "source": [
    "cancel_tx = get_cancel_tx(fund_tx, ali, bob, fee=fee)"
   ]
  },
  {
   "cell_type": "code",
   "execution_count": null,
   "metadata": {},
   "outputs": [],
   "source": [
    "# spend T_cancel\n",
    "# cancel_tx_id = rpc.sendrawtransaction(cancel_tx)\n",
    "# _ = rpc.generate(1)\n",
    "# assert rpc.gettransaction(cancel_tx_id)['confirmations'] == 1"
   ]
  },
  {
   "cell_type": "markdown",
   "metadata": {},
   "source": [
    "## Create $T^{transfer}$"
   ]
  },
  {
   "cell_type": "code",
   "execution_count": null,
   "metadata": {},
   "outputs": [],
   "source": [
    "fund_tx = rpc.getrawtransaction(fund_tx_id)"
   ]
  },
  {
   "cell_type": "code",
   "execution_count": null,
   "metadata": {},
   "outputs": [],
   "source": [
    "transfer_tx = get_ali_transfer_tx(fund_tx, ali, bob)\n",
    "\n",
    "# Reveal Ali's password\n",
    "transfer_tx.vin[0].scriptSig = bc.CScript([ali.reveal_password()] + list(transfer_tx.vin[0].scriptSig))\n",
    "transfer_tx.vin[1].scriptSig = bc.CScript([ali.reveal_password()] + list(transfer_tx.vin[1].scriptSig))"
   ]
  },
  {
   "cell_type": "code",
   "execution_count": null,
   "metadata": {},
   "outputs": [],
   "source": [
    "n_bytes = len(transfer_tx.serialize())\n",
    "fee = n_bytes * FEE_PER_BYTE\n",
    "n_bytes, fee"
   ]
  },
  {
   "cell_type": "code",
   "execution_count": null,
   "metadata": {},
   "outputs": [],
   "source": [
    "transfer_tx = get_ali_transfer_tx(fund_tx, ali, bob, fee=fee)\n",
    "\n",
    "# Reveal Ali's password\n",
    "transfer_tx.vin[0].scriptSig = bc.CScript([ali.reveal_password()] + list(transfer_tx.vin[0].scriptSig))\n",
    "transfer_tx.vin[1].scriptSig = bc.CScript([ali.reveal_password()] + list(transfer_tx.vin[1].scriptSig))"
   ]
  },
  {
   "cell_type": "code",
   "execution_count": null,
   "metadata": {},
   "outputs": [],
   "source": [
    "transfer_tx_id = rpc.sendrawtransaction(transfer_tx)\n",
    "_ = rpc.generate(1)\n",
    "assert rpc.gettransaction(transfer_tx_id)['confirmations'] == 1"
   ]
  },
  {
   "cell_type": "markdown",
   "metadata": {},
   "source": [
    "## Create $T^{commit}$"
   ]
  },
  {
   "cell_type": "code",
   "execution_count": null,
   "metadata": {},
   "outputs": [],
   "source": [
    "# TODO: Implement commit tx"
   ]
  },
  {
   "cell_type": "code",
   "execution_count": null,
   "metadata": {},
   "outputs": [],
   "source": []
  }
 ],
 "metadata": {
  "kernelspec": {
   "display_name": "Python 3",
   "language": "python",
   "name": "python3"
  },
  "language_info": {
   "codemirror_mode": {
    "name": "ipython",
    "version": 3
   },
   "file_extension": ".py",
   "mimetype": "text/x-python",
   "name": "python",
   "nbconvert_exporter": "python",
   "pygments_lexer": "ipython3",
   "version": "3.8.8"
  },
  "metadata": {
   "interpreter": {
    "hash": "aee8b7b246df8f9039afb4144a1f6fd8d2ca17a180786b69acc140d282b71a49"
   }
  }
 },
 "nbformat": 4,
 "nbformat_minor": 2
}
