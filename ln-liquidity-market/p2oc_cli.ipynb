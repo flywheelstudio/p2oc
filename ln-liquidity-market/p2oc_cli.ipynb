{
 "cells": [
  {
   "cell_type": "markdown",
   "id": "b761c482",
   "metadata": {},
   "source": [
    "# `p2oc` CLI Demo\n",
    "\n",
    "Open a double-funded channel without the aid of an intermediary being present."
   ]
  },
  {
   "cell_type": "code",
   "execution_count": 1,
   "id": "b502b82b",
   "metadata": {},
   "outputs": [],
   "source": [
    "%load_ext autoreload\n",
    "%autoreload 2"
   ]
  },
  {
   "cell_type": "markdown",
   "id": "11ad5f6d",
   "metadata": {},
   "source": [
    "## Fund Ali and Bob"
   ]
  },
  {
   "cell_type": "code",
   "execution_count": 2,
   "id": "a073556e",
   "metadata": {},
   "outputs": [],
   "source": [
    "import sys\n",
    "sys.path.append('/home/jovyan/lnrpc')\n",
    "sys.path.append('/notebooks/p2oc/p2oc')\n",
    "\n",
    "import os\n",
    "import time\n",
    "import bitcoin\n",
    "from btc_rpc import Proxy, Config\n",
    "from lnd_rpc import LndRpc, lnmsg"
   ]
  },
  {
   "cell_type": "code",
   "execution_count": 3,
   "id": "ef0712d7",
   "metadata": {},
   "outputs": [],
   "source": [
    "%%sh\n",
    "sudo cp /ali-lnd/data/chain/bitcoin/regtest/admin.macaroon /tmp/ali.macaroon\n",
    "sudo chmod +r /tmp/ali.macaroon\n",
    "\n",
    "sudo cp /bob-lnd/data/chain/bitcoin/regtest/admin.macaroon /tmp/bob.macaroon\n",
    "sudo chmod +r /tmp/bob.macaroon"
   ]
  },
  {
   "cell_type": "code",
   "execution_count": 4,
   "id": "37f464d0",
   "metadata": {},
   "outputs": [],
   "source": [
    "ali = LndRpc(host='ali-lnd:10009', cert_path='/ali-lnd/tls.cert', macaroon_path='/tmp/ali.macaroon')\n",
    "bob = LndRpc(host='bob-lnd:10009', cert_path='/bob-lnd/tls.cert', macaroon_path='/tmp/bob.macaroon')\n",
    "\n",
    "bitcoin.SelectParams('regtest')\n",
    "\n",
    "brpc = Proxy(config=Config(\n",
    "    rpcuser=os.environ['BTCD_RPCUSER'],\n",
    "    rpcpassword=os.environ['BTCD_RPCPASS'],\n",
    "    rpcconnect=os.environ['BTCD_RPCHOST'],\n",
    "    rpcport=os.environ['BTCD_RPCPORT']\n",
    "))"
   ]
  },
  {
   "cell_type": "code",
   "execution_count": 5,
   "id": "ebf90969",
   "metadata": {},
   "outputs": [
    {
     "data": {
      "text/plain": [
       "{'warning': ''}"
      ]
     },
     "execution_count": 5,
     "metadata": {},
     "output_type": "execute_result"
    }
   ],
   "source": [
    "ali_address = ali.lnd.NewAddress(lnmsg.NewAddressRequest(type=lnmsg.AddressType.WITNESS_PUBKEY_HASH))\n",
    "bob_address = bob.lnd.NewAddress(lnmsg.NewAddressRequest(type=lnmsg.AddressType.WITNESS_PUBKEY_HASH))\n",
    "\n",
    "try:\n",
    "    brpc.loadwallet('miner')\n",
    "except:\n",
    "    brpc.createwallet('miner')\n",
    "    \n",
    "miner_address = brpc.getnewaddress(\"coinbase\")\n",
    "brpc.unloadwallet('miner')"
   ]
  },
  {
   "cell_type": "code",
   "execution_count": 6,
   "id": "c07b4145",
   "metadata": {},
   "outputs": [],
   "source": [
    "_ = list(brpc.generatetoaddress(400, miner_address))\n",
    "_ = list(brpc.generatetoaddress(10, ali_address.address))\n",
    "_ = list(brpc.generatetoaddress(10, bob_address.address))\n",
    "_ = list(brpc.generatetoaddress(120, miner_address))\n",
    "\n",
    "# Give LNDs time to catch up\n",
    "time.sleep(5)"
   ]
  },
  {
   "cell_type": "code",
   "execution_count": 7,
   "id": "d49a5cc9",
   "metadata": {},
   "outputs": [
    {
     "name": "stdout",
     "output_type": "stream",
     "text": [
      "alice balance=total_balance: 12500000000\n",
      "confirmed_balance: 12500000000\n",
      "account_balance {\n",
      "  key: \"default\"\n",
      "  value {\n",
      "    confirmed_balance: 12500000000\n",
      "  }\n",
      "}\n",
      "\n",
      "bob balance=total_balance: 12500000000\n",
      "confirmed_balance: 12500000000\n",
      "account_balance {\n",
      "  key: \"default\"\n",
      "  value {\n",
      "    confirmed_balance: 12500000000\n",
      "  }\n",
      "}\n",
      "\n"
     ]
    }
   ],
   "source": [
    "print(f\"\"\"alice balance={ali.lnd.WalletBalance(lnmsg.WalletBalanceRequest())}\n",
    "bob balance={bob.lnd.WalletBalance(lnmsg.WalletBalanceRequest())}\"\"\")"
   ]
  },
  {
   "cell_type": "markdown",
   "id": "7108c160",
   "metadata": {},
   "source": [
    "## Create Double-Funded Channel"
   ]
  },
  {
   "cell_type": "code",
   "execution_count": 8,
   "id": "35b8232a",
   "metadata": {},
   "outputs": [
    {
     "name": "stdout",
     "output_type": "stream",
     "text": [
      "Obtaining file:///notebooks/p2oc\n",
      "Collecting python-bitcoinlib@ git+https://github.com/flywheelstudio/python-bitcoinlib@0.19.0.1-support#egg=python-bitcoinlib\n",
      "  Cloning https://github.com/flywheelstudio/python-bitcoinlib (to revision 0.19.0.1-support) to /tmp/pip-install-7u2mbd5o/python-bitcoinlib_bf1e605874964b07a6aae434bdcfdfaf\n",
      "  Running command git clone -q https://github.com/flywheelstudio/python-bitcoinlib /tmp/pip-install-7u2mbd5o/python-bitcoinlib_bf1e605874964b07a6aae434bdcfdfaf\n",
      "  Running command git checkout -b 0.19.0.1-support --track origin/0.19.0.1-support\n",
      "  Switched to a new branch '0.19.0.1-support'\n",
      "  Branch '0.19.0.1-support' set up to track remote branch '0.19.0.1-support' from 'origin'.\n",
      "Requirement already satisfied: grpcio in /opt/conda/lib/python3.8/site-packages (from p2oc==0.1) (1.37.1)\n",
      "Collecting click\n",
      "  Downloading click-7.1.2-py2.py3-none-any.whl (82 kB)\n",
      "\u001b[K     |████████████████████████████████| 82 kB 1.1 MB/s eta 0:00:01\n",
      "\u001b[?25hRequirement already satisfied: six>=1.5.2 in /opt/conda/lib/python3.8/site-packages (from grpcio->p2oc==0.1) (1.15.0)\n",
      "Installing collected packages: click, p2oc\n",
      "  Running setup.py develop for p2oc\n",
      "Successfully installed click-7.1.2 p2oc\n",
      "Usage: p2oc [OPTIONS] COMMAND [ARGS]...\n",
      "\n",
      "Options:\n",
      "  --help  Show this message and exit.\n",
      "\n",
      "Commands:\n",
      "  createchannelfromoffer  The offer we'll use to create a channel from.\n",
      "  createoffer\n"
     ]
    }
   ],
   "source": [
    "!pip install -e ./p2oc\n",
    "!p2oc --help"
   ]
  },
  {
   "cell_type": "markdown",
   "id": "0d0207e6",
   "metadata": {},
   "source": [
    "### Alice (Taker)\n",
    "\n",
    "Creates public offer to request inbound liquidity in exchange for a fee.\n",
    "\n",
    "```bash\n",
    "# from host\n",
    "docker exec -it jupyter bash\n",
    "\n",
    "LND_ENDPOINT=\"ali-lnd:10009\" \\\n",
    "LND_CERTPATH=\"/ali-lnd/tls.cert\" \\\n",
    "LND_MRNPATH=\"/tmp/ali.macaroon\" \\\n",
    "    p2oc createoffer --request_fund_amount=16000000 --premium_amount=100000\n",
    "```\n",
    "\n",
    "### Bob (Maker)\n",
    "\n",
    "Accepts offer and sends funding transaction response.\n",
    "\n",
    "```bash\n",
    "# from host\n",
    "docker exec -it jupyter bash\n",
    "\n",
    "LND_ENDPOINT=\"bob-lnd:10009\" \\\n",
    "LND_CERTPATH=\"/bob-lnd/tls.cert\" \\\n",
    "LND_MRNPATH=\"/tmp/bob.macaroon\" \\\n",
    "    p2oc createchannelfromoffer <offer>\n",
    "```"
   ]
  },
  {
   "cell_type": "markdown",
   "id": "66b191ae",
   "metadata": {},
   "source": [
    "## Confirm Channel Opening"
   ]
  },
  {
   "cell_type": "code",
   "execution_count": 9,
   "id": "7c0ccb8f",
   "metadata": {},
   "outputs": [],
   "source": [
    "_ = list(brpc.generatetoaddress(6, miner_address))"
   ]
  },
  {
   "cell_type": "code",
   "execution_count": 10,
   "id": "7678494a",
   "metadata": {},
   "outputs": [
    {
     "data": {
      "text/plain": [
       "channels {\n",
       "  active: true\n",
       "  remote_pubkey: \"023f5bf72cdfe3176b9bebcd8ea652eac6975b90e6822b7c9f50e94cd504a99a16\"\n",
       "  channel_point: \"6d0fae46470c0b924cca0faeeb98382f2489fde2037f8b4fbb49306b87f9d63d:0\"\n",
       "  chan_id: 594835790692352\n",
       "  capacity: 16100000\n",
       "  local_balance: 90950\n",
       "  remote_balance: 16000000\n",
       "  commit_fee: 9050\n",
       "  commit_weight: 724\n",
       "  fee_per_kw: 12500\n",
       "  csv_delay: 1934\n",
       "  initiator: true\n",
       "  chan_status_flags: \"ChanStatusDefault\"\n",
       "  local_chan_reserve_sat: 161000\n",
       "  remote_chan_reserve_sat: 161000\n",
       "  static_remote_key: true\n",
       "  lifetime: 1\n",
       "  uptime: 1\n",
       "  commitment_type: STATIC_REMOTE_KEY\n",
       "  push_amount_sat: 16000000\n",
       "  local_constraints {\n",
       "    csv_delay: 1934\n",
       "    chan_reserve_sat: 161000\n",
       "    dust_limit_sat: 573\n",
       "    max_pending_amt_msat: 15939000000\n",
       "    min_htlc_msat: 1\n",
       "    max_accepted_htlcs: 483\n",
       "  }\n",
       "  remote_constraints {\n",
       "    csv_delay: 1934\n",
       "    chan_reserve_sat: 161000\n",
       "    dust_limit_sat: 573\n",
       "    max_pending_amt_msat: 15939000000\n",
       "    min_htlc_msat: 1\n",
       "    max_accepted_htlcs: 483\n",
       "  }\n",
       "}"
      ]
     },
     "execution_count": 10,
     "metadata": {},
     "output_type": "execute_result"
    }
   ],
   "source": [
    "# should be no pending channels\n",
    "assert len(ali.lnd.PendingChannels(lnmsg.PendingChannelsRequest()).pending_open_channels) == 0\n",
    "\n",
    "ali.lnd.ListChannels(lnmsg.ListChannelsRequest())"
   ]
  },
  {
   "cell_type": "code",
   "execution_count": null,
   "id": "a90a1a8b",
   "metadata": {},
   "outputs": [],
   "source": []
  }
 ],
 "metadata": {
  "kernelspec": {
   "display_name": "Python 3",
   "language": "python",
   "name": "python3"
  },
  "language_info": {
   "codemirror_mode": {
    "name": "ipython",
    "version": 3
   },
   "file_extension": ".py",
   "mimetype": "text/x-python",
   "name": "python",
   "nbconvert_exporter": "python",
   "pygments_lexer": "ipython3",
   "version": "3.8.8"
  }
 },
 "nbformat": 4,
 "nbformat_minor": 5
}
