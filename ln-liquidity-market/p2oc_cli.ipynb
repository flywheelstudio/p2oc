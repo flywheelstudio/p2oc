{
 "cells": [
  {
   "cell_type": "markdown",
   "id": "b761c482",
   "metadata": {},
   "source": [
    "# `p2oc` CLI Demo\n",
    "\n",
    "Open a double-funded channel without the aid of an intermediary being present."
   ]
  },
  {
   "cell_type": "code",
   "execution_count": null,
   "id": "b502b82b",
   "metadata": {},
   "outputs": [],
   "source": [
    "%load_ext autoreload\n",
    "%autoreload 2"
   ]
  },
  {
   "cell_type": "markdown",
   "id": "11ad5f6d",
   "metadata": {},
   "source": [
    "## Fund Ali and Bob"
   ]
  },
  {
   "cell_type": "code",
   "execution_count": null,
   "id": "a073556e",
   "metadata": {},
   "outputs": [],
   "source": [
    "import sys\n",
    "sys.path.append('/home/jovyan/lnrpc')\n",
    "sys.path.append('/notebooks/p2oc/p2oc')\n",
    "\n",
    "import os\n",
    "import time\n",
    "import bitcoin\n",
    "from btc_rpc import Proxy, Config\n",
    "from lnd_rpc import LndRpc, lnmsg"
   ]
  },
  {
   "cell_type": "code",
   "execution_count": null,
   "id": "ef0712d7",
   "metadata": {},
   "outputs": [],
   "source": [
    "%%sh\n",
    "sudo cp /ali-lnd/data/chain/bitcoin/regtest/admin.macaroon /tmp/ali.macaroon\n",
    "sudo chmod +r /tmp/ali.macaroon\n",
    "\n",
    "sudo cp /bob-lnd/data/chain/bitcoin/regtest/admin.macaroon /tmp/bob.macaroon\n",
    "sudo chmod +r /tmp/bob.macaroon"
   ]
  },
  {
   "cell_type": "code",
   "execution_count": null,
   "id": "37f464d0",
   "metadata": {},
   "outputs": [],
   "source": [
    "ali = LndRpc(host='ali-lnd:10009', cert_path='/ali-lnd/tls.cert', macaroon_path='/tmp/ali.macaroon')\n",
    "bob = LndRpc(host='bob-lnd:10009', cert_path='/bob-lnd/tls.cert', macaroon_path='/tmp/bob.macaroon')\n",
    "\n",
    "bitcoin.SelectParams('regtest')\n",
    "\n",
    "brpc = Proxy(config=Config(\n",
    "    rpcuser=os.environ['BTCD_RPCUSER'],\n",
    "    rpcpassword=os.environ['BTCD_RPCPASS'],\n",
    "    rpcconnect=os.environ['BTCD_RPCHOST'],\n",
    "    rpcport=os.environ['BTCD_RPCPORT']\n",
    "))"
   ]
  },
  {
   "cell_type": "code",
   "execution_count": null,
   "id": "ebf90969",
   "metadata": {},
   "outputs": [],
   "source": [
    "ali_address = ali.lnd.NewAddress(lnmsg.NewAddressRequest(type=lnmsg.AddressType.WITNESS_PUBKEY_HASH))\n",
    "bob_address = bob.lnd.NewAddress(lnmsg.NewAddressRequest(type=lnmsg.AddressType.WITNESS_PUBKEY_HASH))\n",
    "\n",
    "try:\n",
    "    brpc.loadwallet('miner')\n",
    "except:\n",
    "    brpc.createwallet('miner')\n",
    "    \n",
    "miner_address = brpc.getnewaddress(\"coinbase\")\n",
    "brpc.unloadwallet('miner')"
   ]
  },
  {
   "cell_type": "code",
   "execution_count": null,
   "id": "c07b4145",
   "metadata": {},
   "outputs": [],
   "source": [
    "_ = list(brpc.generatetoaddress(400, miner_address))\n",
    "_ = list(brpc.generatetoaddress(10, ali_address.address))\n",
    "_ = list(brpc.generatetoaddress(10, bob_address.address))\n",
    "_ = list(brpc.generatetoaddress(120, miner_address))\n",
    "\n",
    "# Give LNDs time to catch up\n",
    "time.sleep(5)"
   ]
  },
  {
   "cell_type": "code",
   "execution_count": null,
   "id": "d49a5cc9",
   "metadata": {},
   "outputs": [],
   "source": [
    "print(f\"\"\"alice balance={ali.lnd.WalletBalance(lnmsg.WalletBalanceRequest())}\n",
    "bob balance={bob.lnd.WalletBalance(lnmsg.WalletBalanceRequest())}\"\"\")"
   ]
  },
  {
   "cell_type": "markdown",
   "id": "7108c160",
   "metadata": {},
   "source": [
    "## Create Double-Funded Channel"
   ]
  },
  {
   "cell_type": "code",
   "execution_count": null,
   "id": "35b8232a",
   "metadata": {},
   "outputs": [],
   "source": [
    "!pip install -e ./p2oc\n",
    "!p2oc --help"
   ]
  },
  {
   "cell_type": "markdown",
   "id": "0d0207e6",
   "metadata": {},
   "source": [
    "### Alice (Taker)\n",
    "\n",
    "Creates public offer to request inbound liquidity in exchange for a fee.\n",
    "\n",
    "```bash\n",
    "# from host\n",
    "docker exec -it jupyter bash\n",
    "\n",
    "LND_ENDPOINT=\"ali-lnd:10009\" \\\n",
    "LND_CERTPATH=\"/ali-lnd/tls.cert\" \\\n",
    "LND_MRNPATH=\"/tmp/ali.macaroon\" \\\n",
    "    p2oc createoffer --request_fund_amount=16000000 --premium_amount=100000\n",
    "```\n",
    "\n",
    "### Bob (Maker)\n",
    "\n",
    "Accepts offer and sends funding transaction response.\n",
    "\n",
    "```bash\n",
    "# from host\n",
    "docker exec -it jupyter bash\n",
    "\n",
    "LND_ENDPOINT=\"bob-lnd:10009\" \\\n",
    "LND_CERTPATH=\"/bob-lnd/tls.cert\" \\\n",
    "LND_MRNPATH=\"/tmp/bob.macaroon\" \\\n",
    "    p2oc createchannelfromoffer <offer>\n",
    "```"
   ]
  },
  {
   "cell_type": "markdown",
   "id": "66b191ae",
   "metadata": {},
   "source": [
    "## Confirm Channel Opening"
   ]
  },
  {
   "cell_type": "code",
   "execution_count": null,
   "id": "7c0ccb8f",
   "metadata": {},
   "outputs": [],
   "source": [
    "_ = list(brpc.generatetoaddress(6, miner_address))"
   ]
  },
  {
   "cell_type": "code",
   "execution_count": null,
   "id": "7678494a",
   "metadata": {},
   "outputs": [],
   "source": [
    "# should be no pending channels\n",
    "assert len(ali.lnd.PendingChannels(lnmsg.PendingChannelsRequest()).pending_open_channels) == 0\n",
    "\n",
    "ali.lnd.ListChannels(lnmsg.ListChannelsRequest())"
   ]
  }
 ],
 "metadata": {
  "kernelspec": {
   "display_name": "Python 3",
   "language": "python",
   "name": "python3"
  },
  "language_info": {
   "codemirror_mode": {
    "name": "ipython",
    "version": 3
   },
   "file_extension": ".py",
   "mimetype": "text/x-python",
   "name": "python",
   "nbconvert_exporter": "python",
   "pygments_lexer": "ipython3",
   "version": "3.8.8"
  }
 },
 "nbformat": 4,
 "nbformat_minor": 5
}
