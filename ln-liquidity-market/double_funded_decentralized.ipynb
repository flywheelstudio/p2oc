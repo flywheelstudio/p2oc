{
 "cells": [
  {
   "cell_type": "markdown",
   "id": "b761c482",
   "metadata": {},
   "source": [
    "# Double Funded Decentralized\n",
    "\n",
    "Open a double-funded channel without the aid of an intermediary being present."
   ]
  },
  {
   "cell_type": "code",
   "execution_count": null,
   "id": "b502b82b",
   "metadata": {},
   "outputs": [],
   "source": [
    "%load_ext autoreload\n",
    "%autoreload 2"
   ]
  },
  {
   "cell_type": "markdown",
   "id": "0287ee1d",
   "metadata": {},
   "source": [
    "## Setup LND clients for Ali and Bob"
   ]
  },
  {
   "cell_type": "code",
   "execution_count": null,
   "id": "a073556e",
   "metadata": {},
   "outputs": [],
   "source": [
    "import sys\n",
    "\n",
    "# LND GRPC bindings should be in '/home/jovyan/lnrpc'\n",
    "sys.path.append('/home/jovyan/lnrpc')\n",
    "sys.path.append('/notebooks/p2oc/p2oc')"
   ]
  },
  {
   "cell_type": "code",
   "execution_count": null,
   "id": "ef0712d7",
   "metadata": {},
   "outputs": [],
   "source": [
    "%%sh\n",
    "sudo cp /ali-lnd/data/chain/bitcoin/regtest/admin.macaroon /tmp/ali.macaroon\n",
    "sudo chmod +r /tmp/ali.macaroon\n",
    "\n",
    "sudo cp /bob-lnd/data/chain/bitcoin/regtest/admin.macaroon /tmp/bob.macaroon\n",
    "sudo chmod +r /tmp/bob.macaroon"
   ]
  },
  {
   "cell_type": "code",
   "execution_count": null,
   "id": "f4a4d351",
   "metadata": {},
   "outputs": [],
   "source": [
    "from lnd_rpc import LndRpc, lnmsg, walletmsg, signrpc, signmsg, routermsg"
   ]
  },
  {
   "cell_type": "code",
   "execution_count": null,
   "id": "5b444c5b",
   "metadata": {},
   "outputs": [],
   "source": [
    "ali = LndRpc(host='ali-lnd:10009', cert_path='/ali-lnd/tls.cert', macaroon_path='/tmp/ali.macaroon')\n",
    "bob = LndRpc(host='bob-lnd:10009', cert_path='/bob-lnd/tls.cert', macaroon_path='/tmp/bob.macaroon')"
   ]
  },
  {
   "cell_type": "markdown",
   "id": "11ad5f6d",
   "metadata": {},
   "source": [
    "## Fund Ali and Bob"
   ]
  },
  {
   "cell_type": "code",
   "execution_count": null,
   "id": "ed345e66",
   "metadata": {},
   "outputs": [],
   "source": [
    "import os\n",
    "import time\n",
    "import bitcoin\n",
    "from btc_rpc import Proxy, Config"
   ]
  },
  {
   "cell_type": "code",
   "execution_count": null,
   "id": "37f464d0",
   "metadata": {},
   "outputs": [],
   "source": [
    "bitcoin.SelectParams('regtest')\n",
    "\n",
    "brpc = Proxy(config=Config(\n",
    "    rpcuser=os.environ['BTCD_RPCUSER'],\n",
    "    rpcpassword=os.environ['BTCD_RPCPASS'],\n",
    "    rpcconnect='bitcoind',\n",
    "    rpcport=18443\n",
    "))"
   ]
  },
  {
   "cell_type": "code",
   "execution_count": null,
   "id": "e39c0bf0",
   "metadata": {},
   "outputs": [],
   "source": [
    "brpc.getblockcount()"
   ]
  },
  {
   "cell_type": "code",
   "execution_count": null,
   "id": "ebf90969",
   "metadata": {},
   "outputs": [],
   "source": [
    "ali_address = ali.lnd.NewAddress(lnmsg.NewAddressRequest(type=lnmsg.AddressType.WITNESS_PUBKEY_HASH))\n",
    "bob_address = bob.lnd.NewAddress(lnmsg.NewAddressRequest(type=lnmsg.AddressType.WITNESS_PUBKEY_HASH))\n",
    "\n",
    "try:\n",
    "    brpc.loadwallet('miner')\n",
    "except:\n",
    "    brpc.createwallet('miner')\n",
    "    \n",
    "miner_address = brpc.getnewaddress(\"coinbase\")\n",
    "brpc.unloadwallet('miner')"
   ]
  },
  {
   "cell_type": "code",
   "execution_count": null,
   "id": "c07b4145",
   "metadata": {},
   "outputs": [],
   "source": [
    "_ = list(brpc.generatetoaddress(400, miner_address))\n",
    "_ = list(brpc.generatetoaddress(10, ali_address.address))\n",
    "_ = list(brpc.generatetoaddress(10, bob_address.address))\n",
    "_ = list(brpc.generatetoaddress(120, miner_address))\n",
    "\n",
    "# Give LNDs time to catch up\n",
    "time.sleep(5)"
   ]
  },
  {
   "cell_type": "code",
   "execution_count": null,
   "id": "d49a5cc9",
   "metadata": {},
   "outputs": [],
   "source": [
    "print(f\"\"\"alice balance={ali.lnd.WalletBalance(lnmsg.WalletBalanceRequest())}\n",
    "bob balance={bob.lnd.WalletBalance(lnmsg.WalletBalanceRequest())}\"\"\")"
   ]
  },
  {
   "cell_type": "markdown",
   "id": "0d0207e6",
   "metadata": {},
   "source": [
    "## Alice (Taker)\n",
    "Creates public offer to request inbound liquidity in exchange for a fee."
   ]
  },
  {
   "cell_type": "code",
   "execution_count": null,
   "id": "21847106",
   "metadata": {},
   "outputs": [],
   "source": [
    "import bitcoin.core as bc\n",
    "\n",
    "# Taker needs to pay premium to open channel\n",
    "premium_amount = int(0.001 * bc.COIN) # premium Ali is willing to pay\n",
    "fund_amount = int(0.16 * bc.COIN) # requested inbound capacity"
   ]
  },
  {
   "cell_type": "code",
   "execution_count": null,
   "id": "9b7b4589",
   "metadata": {},
   "outputs": [],
   "source": [
    "from offer import OfferCreator"
   ]
  },
  {
   "cell_type": "code",
   "execution_count": null,
   "id": "3d600fd8",
   "metadata": {},
   "outputs": [],
   "source": [
    "ali_offer_creator = OfferCreator(lnd_rpc=ali, btc_rpc=brpc)\n",
    "ali_offer, ali_inputs, ali_key_desc = ali_offer_creator.create(\n",
    "    premium_amount=premium_amount,\n",
    "    fund_amount=fund_amount\n",
    ")\n",
    "ali_offer = ali_offer.serialize()\n",
    "ali_offer"
   ]
  },
  {
   "cell_type": "markdown",
   "id": "6cc1a85c",
   "metadata": {},
   "source": [
    "## Bob (Maker)\n",
    "\n",
    "Accepts offer and sends funding transaction response."
   ]
  },
  {
   "cell_type": "code",
   "execution_count": null,
   "id": "4e19e405",
   "metadata": {},
   "outputs": [],
   "source": [
    "from offer import OfferValidator, OfferResponse, Offer, FundingTx, ChannelManager, genpubkey\n",
    "\n",
    "ali_offer = Offer.deserialize(ali_offer)\n",
    "offer_validator = OfferValidator(lnd_rpc=ali, btc_rpc=brpc)\n",
    "assert offer_validator.validate(ali_offer)"
   ]
  },
  {
   "cell_type": "markdown",
   "id": "dfb82ccc",
   "metadata": {},
   "source": [
    "Allocate funds"
   ]
  },
  {
   "cell_type": "code",
   "execution_count": null,
   "id": "1fd02587",
   "metadata": {},
   "outputs": [],
   "source": [
    "# XXX: Bob pays funding tx fee but he does not have to\n",
    "bob_offer_creator = OfferCreator(lnd_rpc=bob, btc_rpc=brpc)\n",
    "bob_offer, bob_inputs, bob_key_desc = bob_offer_creator.create(\n",
    "    premium_amount=ali_offer.premium_amount,\n",
    "    fund_amount=ali_offer.fund_amount,\n",
    "    fund=True\n",
    ")"
   ]
  },
  {
   "cell_type": "markdown",
   "id": "ae0d1ee4",
   "metadata": {},
   "source": [
    "Create funding transaction"
   ]
  },
  {
   "cell_type": "code",
   "execution_count": null,
   "id": "a079748e",
   "metadata": {},
   "outputs": [],
   "source": [
    "funding_tx_creator = FundingTx()\n",
    "funding_tx, funding_output_idx = funding_tx_creator.create(\n",
    "    maker_pubkey=bob_offer.chan_pubkey,\n",
    "    taker_pubkey=ali_offer.chan_pubkey,\n",
    "    premium_amount=ali_offer.premium_amount,\n",
    "    fund_amount=ali_offer.fund_amount,\n",
    "    maker_inputs=bob_offer.inputs,\n",
    "    taker_inputs=ali_offer.inputs,\n",
    "    maker_change_output=bob_offer.change_output,\n",
    "    taker_change_output=ali_offer.change_output,\n",
    ")\n",
    "\n",
    "funding_tx"
   ]
  },
  {
   "cell_type": "markdown",
   "id": "154d9b31",
   "metadata": {},
   "source": [
    "Connect to taker (Ali)"
   ]
  },
  {
   "cell_type": "code",
   "execution_count": null,
   "id": "685ff414",
   "metadata": {},
   "outputs": [],
   "source": [
    "# TODO: Assumes whoever creates offer is accessible\n",
    "connect_peer_req = lnmsg.ConnectPeerRequest(\n",
    "    addr=lnmsg.LightningAddress(\n",
    "        pubkey=ali_offer.node_pubkey,\n",
    "        # TODO: Why can't we include the port?\n",
    "        host=ali_offer.node_host.split(\":\")[0]\n",
    "))\n",
    "\n",
    "try:\n",
    "    bob.lnd.ConnectPeer(connect_peer_req)\n",
    "except:\n",
    "    pass\n",
    "\n",
    "# Confirm that we are connected\n",
    "peers = bob.lnd.ListPeers(lnmsg.ListPeersRequest())\n",
    "assert len(peers.peers) == 1 and peers.peers[0].pub_key == ali_offer.node_pubkey"
   ]
  },
  {
   "cell_type": "markdown",
   "id": "fff15cec",
   "metadata": {},
   "source": [
    "Register shim to prepare for channel opening"
   ]
  },
  {
   "cell_type": "code",
   "execution_count": null,
   "id": "96dd5bd7",
   "metadata": {},
   "outputs": [],
   "source": [
    "channel_id = ChannelManager.register_shim(\n",
    "    lnd_rpc=bob,\n",
    "    fund_amount=ali_offer.fund_amount,\n",
    "    premium_amount=ali_offer.premium_amount,\n",
    "    local_key_desc=bob_key_desc,\n",
    "    remote_pubkey=ali_offer.chan_pubkey,\n",
    "    funding_txid=funding_tx.GetTxid(),\n",
    "    funding_output_idx=funding_output_idx,\n",
    ")"
   ]
  },
  {
   "cell_type": "markdown",
   "id": "a6e375b8",
   "metadata": {},
   "source": [
    "Sign transaction"
   ]
  },
  {
   "cell_type": "code",
   "execution_count": null,
   "id": "b07d8523",
   "metadata": {},
   "outputs": [],
   "source": [
    "bob_signed_witness = FundingTx.signed_witness(\n",
    "    funding_inputs=bob_inputs,\n",
    "    funding_tx=funding_tx,\n",
    "    # for simplicity Bob's input is 0\n",
    "    input_idx=0,\n",
    "    lnd_rpc=bob\n",
    ")"
   ]
  },
  {
   "cell_type": "markdown",
   "id": "a8dc9c2d",
   "metadata": {},
   "source": [
    "Send offer response"
   ]
  },
  {
   "cell_type": "code",
   "execution_count": null,
   "id": "da9c85cf",
   "metadata": {},
   "outputs": [],
   "source": [
    "offer_response = OfferResponse(\n",
    "    offer_id=ali_offer.offer_id,\n",
    "    node_host=bob_offer.node_host,\n",
    "    node_pubkey=bob_offer.node_pubkey,\n",
    "    channel_id=channel_id,\n",
    "    chan_pubkey=bob_key_desc.raw_key_bytes,\n",
    "    funding_output_idx=funding_output_idx,\n",
    "    funding_tx=funding_tx,\n",
    "    signed_witness=bob_signed_witness\n",
    ")\n",
    "\n",
    "offer_response = offer_response.serialize()\n",
    "offer_response"
   ]
  },
  {
   "cell_type": "markdown",
   "id": "5adcc469",
   "metadata": {},
   "source": [
    "## Ali (Taker)\n",
    "\n",
    "Checks offer reply and commits funding TX."
   ]
  },
  {
   "cell_type": "code",
   "execution_count": null,
   "id": "c12d651d",
   "metadata": {},
   "outputs": [],
   "source": [
    "offer_response = OfferResponse.deserialize(offer_response)"
   ]
  },
  {
   "cell_type": "markdown",
   "id": "90b9694a",
   "metadata": {},
   "source": [
    "Check transaction and funding output"
   ]
  },
  {
   "cell_type": "code",
   "execution_count": null,
   "id": "1cb9b003",
   "metadata": {},
   "outputs": [],
   "source": [
    "validator = OfferValidator(lnd_rpc=ali, btc_rpc=brpc)\n",
    "validator.validate_offer_response(ali_offer, offer_response)"
   ]
  },
  {
   "cell_type": "markdown",
   "id": "5d896c1f",
   "metadata": {},
   "source": [
    "Open pending channel"
   ]
  },
  {
   "cell_type": "code",
   "execution_count": null,
   "id": "cf5f9018",
   "metadata": {},
   "outputs": [],
   "source": [
    "ChannelManager.open_pending_channel(\n",
    "    lnd_rpc=ali,\n",
    "    key_desc=ali_key_desc,\n",
    "    offer_response=offer_response,\n",
    "    premium_amount=ali_offer.premium_amount,\n",
    "    fund_amount=ali_offer.fund_amount\n",
    ")"
   ]
  },
  {
   "cell_type": "markdown",
   "id": "9259ea65",
   "metadata": {},
   "source": [
    "Sign funding tx"
   ]
  },
  {
   "cell_type": "code",
   "execution_count": null,
   "id": "4bccea86",
   "metadata": {},
   "outputs": [],
   "source": [
    "from offer import FundingTx\n",
    "\n",
    "# Combine signatures\n",
    "ali_signed_witness = FundingTx.signed_witness(\n",
    "    funding_inputs=ali_inputs,\n",
    "    funding_tx=offer_response.funding_tx,\n",
    "    # Assume we are the last one\n",
    "    input_idx=len(offer_response.funding_tx.vin) - 1,\n",
    "    lnd_rpc=ali\n",
    ")\n",
    "\n",
    "final_funding_tx = FundingTx.create_signed_funding_tx(offer_response.funding_tx, [\n",
    "    offer_response.signed_witness,\n",
    "    ali_signed_witness\n",
    "])\n",
    "final_funding_tx"
   ]
  },
  {
   "cell_type": "markdown",
   "id": "7c9c4723",
   "metadata": {},
   "source": [
    "Submit funding transaction"
   ]
  },
  {
   "cell_type": "code",
   "execution_count": null,
   "id": "5e8dd64b",
   "metadata": {},
   "outputs": [],
   "source": [
    "final_funding_tx_id = brpc.sendrawtransaction(final_funding_tx)\n",
    "final_funding_tx_id"
   ]
  },
  {
   "cell_type": "code",
   "execution_count": null,
   "id": "27f2a794",
   "metadata": {},
   "outputs": [],
   "source": [
    "assert final_funding_tx_id == offer_response.funding_tx.GetTxid()"
   ]
  },
  {
   "cell_type": "code",
   "execution_count": null,
   "id": "cabf2d9b",
   "metadata": {},
   "outputs": [],
   "source": [
    "_ = list(brpc.generatetoaddress(6, miner_address))"
   ]
  },
  {
   "cell_type": "markdown",
   "id": "66b191ae",
   "metadata": {},
   "source": [
    "## Check that the channel has been opened"
   ]
  },
  {
   "cell_type": "code",
   "execution_count": null,
   "id": "7678494a",
   "metadata": {},
   "outputs": [],
   "source": [
    "# should be no pending channels\n",
    "assert len(ali.lnd.PendingChannels(lnmsg.PendingChannelsRequest()).pending_open_channels) == 0\n",
    "\n",
    "ali.lnd.ListChannels(lnmsg.ListChannelsRequest())"
   ]
  }
 ],
 "metadata": {
  "kernelspec": {
   "display_name": "Python 3",
   "language": "python",
   "name": "python3"
  },
  "language_info": {
   "codemirror_mode": {
    "name": "ipython",
    "version": 3
   },
   "file_extension": ".py",
   "mimetype": "text/x-python",
   "name": "python",
   "nbconvert_exporter": "python",
   "pygments_lexer": "ipython3",
   "version": "3.8.8"
  }
 },
 "nbformat": 4,
 "nbformat_minor": 5
}
